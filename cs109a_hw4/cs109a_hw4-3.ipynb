{
 "cells": [
  {
   "cell_type": "code",
   "execution_count": 99,
   "id": "59e89263",
   "metadata": {
    "deletable": false,
    "editable": false
   },
   "outputs": [],
   "source": [
    "# Initialize Otter\n",
    "import otter\n",
    "grader = otter.Notebook(\"cs109a_hw4.ipynb\")"
   ]
  },
  {
   "cell_type": "markdown",
   "id": "33881cf8",
   "metadata": {
    "tags": []
   },
   "source": [
    "# <img style=\"float: left; padding-right: 10px; width: 45px\" src=\"https://raw.githubusercontent.com/Harvard-IACS/2018-CS109A/master/content/styles/iacs.png\"> CS109A Introduction to Data Science\n",
    "\n",
    "## Homework 4: Missing Data & PCA\n",
    "\n",
    "\n",
    "**Harvard University**<br/>\n",
    "**Fall 2022**<br/>\n",
    "**Instructors**: Pavlos Protopapas, Natesh Pillai\n",
    "\n",
    "---"
   ]
  },
  {
   "cell_type": "code",
   "execution_count": 100,
   "id": "031c42e6",
   "metadata": {},
   "outputs": [
    {
     "data": {
      "text/html": [
       "<style>\n",
       "blockquote { background: #AEDE94; }\n",
       "h1 {\n",
       "    padding-top: 25px;\n",
       "    padding-bottom: 25px;\n",
       "    text-align: left;\n",
       "    padding-left: 10px;\n",
       "    background-color: #63ACBE;\n",
       "    color: black;\n",
       "}\n",
       "h2 {\n",
       "    padding-top: 10px;\n",
       "    padding-bottom: 10px;\n",
       "    text-align: left;\n",
       "    padding-left: 5px;\n",
       "    background-color: #EEEEEE;\n",
       "    color: black;\n",
       "}\n",
       "\n",
       "div.exercise {\n",
       "\tbackground-color: #f8b4ab;\n",
       "\tborder-color: #E9967A;\n",
       "\tborder-left: 5px solid #601A4A;\n",
       "\tpadding: 0.5em;\n",
       "}\n",
       "\n",
       "div.exercise-r {\n",
       "\tbackground-color: #ffd0d0;\n",
       "\tborder-color: #E9967A;\n",
       "\tborder-left: 5px solid #601A4A;\n",
       "\tpadding: 0.5em;\n",
       "}\n",
       "\n",
       "\n",
       "span.sub-q {\n",
       "\tfont-weight: bold;\n",
       "}\n",
       "div.theme {\n",
       "\tbackground-color: #63ACBE;\n",
       "\tborder-color: #E9967A;\n",
       "\tborder-left: 5px solid #601A4A;\n",
       "\tpadding: 0.5em;\n",
       "\tfont-size: 18pt;\n",
       "}\n",
       "div.gc {\n",
       "\tbackground-color: #AEDE94;\n",
       "\tborder-color: #E9967A;\n",
       "\tborder-left: 5px solid #601A4A;\n",
       "\tpadding: 0.5em;\n",
       "\tfont-size: 12pt;\n",
       "}\n",
       "p.q1 {\n",
       "    padding-top: 5px;\n",
       "    padding-bottom: 5px;\n",
       "    text-align: left;\n",
       "    padding-left: 5px;\n",
       "    background-color: #EEEEEE;\n",
       "    color: black;\n",
       "}\n",
       "header {\n",
       "   padding-top: 35px;\n",
       "    padding-bottom: 35px;\n",
       "    text-align: left;\n",
       "    padding-left: 10px;\n",
       "    background-color: #DDDDDD;\n",
       "    color: black;\n",
       "}\n",
       "span.emph {\n",
       "\tcolor: #601A4A;\n",
       "\tfont-weight: bold;\n",
       "}\n",
       "\n",
       "</style>\n"
      ],
      "text/plain": [
       "<IPython.core.display.HTML object>"
      ]
     },
     "execution_count": 100,
     "metadata": {},
     "output_type": "execute_result"
    }
   ],
   "source": [
    "# RUN THIS CELL \n",
    "import requests\n",
    "from IPython.core.display import HTML\n",
    "styles = requests.get(\n",
    "    \"https://raw.githubusercontent.com/Harvard-IACS/2021-CS109A/master/\"\n",
    "    \"themes/static/css/cs109.css\"\n",
    ").text\n",
    "HTML(styles)"
   ]
  },
  {
   "cell_type": "markdown",
   "id": "675ae78c",
   "metadata": {},
   "source": [
    "#### Instructions\n",
    "- To submit your assignment follow the instructions given in Canvas.\n",
    "- Plots should be legible and interpretable without having to refer to the code that generated them, including labels for the $x$- and $y$-axes as well as a descriptive title and/or legend when appropriate.\n",
    "- When asked to interpret a visualization, do not simply describe it (e.g., \"the curve has a steep slope up\"), but instead explain what you think the plot *means*.\n",
    "- The use of 'hard-coded' values to try and pass tests rather than solving problems programmatically will not receive credit.\n",
    "- The use of *extremely* inefficient or error-prone code (e.g., copy-pasting nearly identical commands rather than looping) may result in only partial credit.\n",
    "- We have tried to include all the libraries you may need to do the assignment in the imports cell provided below. Please get course staff approval before importing any additional 3rd party libraries.\n",
    "- Enable scrolling output on cells with very long output.\n",
    "- Feel free to add additional code or markdown cells as needed.\n",
    "- Ensure your code runs top to bottom without error and passes all tests by restarting the kernel and running all cells. This is how the notebook will be evaluated (note that this can take a few minutes). \n",
    "- **You should do a \"Restart Kernel and Run All Cells\" before submitting to ensure (1) your notebook actually runs and (2) all output is visible**"
   ]
  },
  {
   "cell_type": "markdown",
   "id": "29163bac",
   "metadata": {
    "cell_id": "3c67b69c-c35a-45ee-88ff-99c701edb0a0",
    "colab_type": "text",
    "id": "BlViDCbxVtbG"
   },
   "source": [
    "### Import Libraries"
   ]
  },
  {
   "cell_type": "code",
   "execution_count": 101,
   "id": "74cc6b8d",
   "metadata": {},
   "outputs": [],
   "source": [
    "# RUN THIS CELL\n",
    "\n",
    "# Import libraries\n",
    "import seaborn as sns\n",
    "import matplotlib.pyplot as plt\n",
    "import pandas as pd\n",
    "import numpy as np\n",
    "from sklearn.model_selection import train_test_split\n",
    "from sklearn.linear_model import LinearRegression\n",
    "from sklearn.neighbors import KNeighborsRegressor\n",
    "from sklearn.decomposition import PCA\n",
    "from sklearn.model_selection import cross_validate\n",
    "from sklearn.preprocessing import StandardScaler\n",
    "from sklearn.metrics import r2_score\n",
    "from sklearn.impute import SimpleImputer, KNNImputer\n",
    "\n",
    "# pandas tricks for better display\n",
    "pd.options.display.max_columns = 50  \n",
    "pd.options.display.max_rows = 500     \n",
    "pd.options.display.max_colwidth = 100\n",
    "pd.options.display.precision = 3\n",
    "\n",
    "%matplotlib inline"
   ]
  },
  {
   "cell_type": "markdown",
   "id": "ba17231e",
   "metadata": {},
   "source": [
    "<a id=\"contents\"></a>\n",
    "\n",
    "## Notebook contents\n",
    "\n",
    "- [**PART 1 [55 pts]: Predicting the selling price of used cars (missing data)**](#part1)\n",
    "  - [Overview and Data Description](#part1intro)\n",
    "  - [Question 1: Visualizing Missing Data [10 pts]](#part1q1)\n",
    "      - [Solutions](#part1q1solution)\n",
    "  - [Question 2: Imputation Methods [45 pts]](#part1q2)\n",
    "      - [Solutions](#part1q2solution)\n",
    "\n",
    "\n",
    "- [**PART 2 [45 pts]: Principal Componant Analysis**](#part2)\n",
    "  - [Question 3: PCA for Regression [35 pts]](#part2q3)\n",
    "      - [Solutions](#part2q3solution)\n",
    "  - [Question 4: Visualizing Transformed Data [10 pts]](#part2q4)\n",
    "      - [Solutions](#part2q4solution)\n"
   ]
  },
  {
   "cell_type": "markdown",
   "id": "d091bd7a",
   "metadata": {},
   "source": [
    "<a id=\"part1\"></a>\n",
    "    \n",
    "# PART 1 [55 pts]: Predicting the selling price of used cars (missing data)\n",
    "\n",
    "[Return to contents](#contents)"
   ]
  },
  {
   "cell_type": "markdown",
   "id": "a5573b9f",
   "metadata": {},
   "source": [
    "<a id=\"part1intro\"></a>\n",
    "\n",
    "## Overview and Data Description \n",
    "\n",
    "[Return to contents](#contents)\n",
    "\n",
    "In this part, we analyze the data about used cars from a [Kaggle project](https://www.kaggle.com/nehalbirla/vehicle-dataset-from-cardekho). The dataset is pre-processed and modified so that it contains missing values. The goal is to handle missing data and predict selling prices from the other features available in this dataset.\n",
    "\n",
    "### Dataset \n",
    "\n",
    "The training dataset is available as `data/vehicle_dataset_train.csv`. It contains the following columns:\n",
    "\n",
    "- `year` - year of the car when it was bought, \n",
    "- `mileage` - mileage of the car,\n",
    "- `max_power` - maximum power of the engine (in bhps),\n",
    "- `selling_price` - price at which the car is being sold (in lakh rupees)\n",
    "\n",
    "The testing dataset is available as `data/vehicle_dataset_test.csv`. It contains all columns mentioned above.\n",
    "\n",
    "\n",
    "### Objective\n",
    "\n",
    "We will handle missing data and predict `selling_price` from the other features available in this dataset."
   ]
  },
  {
   "cell_type": "markdown",
   "id": "e14de59c",
   "metadata": {},
   "source": [
    "<a id=\"part1q1\"></a>\n",
    "\n",
    "## <div class='exercise'><b>Question 1: Visualizing Missing Data [10 pts]</b></div>\n",
    "\n",
    "[Return to contents](#contents)\n",
    "\n",
    "**PLEASE NOTE:** In this course, you will be expected to ALWAYS label your axes, title your graphs, and produce visuals which clearly communicate the data (as described in the [Instructions](#instructions) at the start of this notebook). Visuals should often be accompanied by text identifying the key point of the visual and defending any choices you make as a data scientist regarding the visual to best communicate your data."
   ]
  },
  {
   "cell_type": "code",
   "execution_count": 102,
   "id": "cd06e040",
   "metadata": {},
   "outputs": [
    {
     "data": {
      "text/html": [
       "<div>\n",
       "<style scoped>\n",
       "    .dataframe tbody tr th:only-of-type {\n",
       "        vertical-align: middle;\n",
       "    }\n",
       "\n",
       "    .dataframe tbody tr th {\n",
       "        vertical-align: top;\n",
       "    }\n",
       "\n",
       "    .dataframe thead th {\n",
       "        text-align: right;\n",
       "    }\n",
       "</style>\n",
       "<table border=\"1\" class=\"dataframe\">\n",
       "  <thead>\n",
       "    <tr style=\"text-align: right;\">\n",
       "      <th></th>\n",
       "      <th>year</th>\n",
       "      <th>mileage</th>\n",
       "      <th>max_power</th>\n",
       "      <th>selling_price</th>\n",
       "    </tr>\n",
       "  </thead>\n",
       "  <tbody>\n",
       "    <tr>\n",
       "      <th>6601</th>\n",
       "      <td>2015</td>\n",
       "      <td>17.40</td>\n",
       "      <td>117.30</td>\n",
       "      <td>70.0</td>\n",
       "    </tr>\n",
       "    <tr>\n",
       "      <th>504</th>\n",
       "      <td>2017</td>\n",
       "      <td>13.60</td>\n",
       "      <td>NaN</td>\n",
       "      <td>262.5</td>\n",
       "    </tr>\n",
       "    <tr>\n",
       "      <th>5812</th>\n",
       "      <td>2018</td>\n",
       "      <td>24.00</td>\n",
       "      <td>73.97</td>\n",
       "      <td>71.0</td>\n",
       "    </tr>\n",
       "    <tr>\n",
       "      <th>1443</th>\n",
       "      <td>2009</td>\n",
       "      <td>19.70</td>\n",
       "      <td>46.30</td>\n",
       "      <td>15.0</td>\n",
       "    </tr>\n",
       "    <tr>\n",
       "      <th>7453</th>\n",
       "      <td>2014</td>\n",
       "      <td>16.02</td>\n",
       "      <td>NaN</td>\n",
       "      <td>42.5</td>\n",
       "    </tr>\n",
       "  </tbody>\n",
       "</table>\n",
       "</div>"
      ],
      "text/plain": [
       "      year  mileage  max_power  selling_price\n",
       "6601  2015    17.40     117.30           70.0\n",
       "504   2017    13.60        NaN          262.5\n",
       "5812  2018    24.00      73.97           71.0\n",
       "1443  2009    19.70      46.30           15.0\n",
       "7453  2014    16.02        NaN           42.5"
      ]
     },
     "execution_count": 102,
     "metadata": {},
     "output_type": "execute_result"
    }
   ],
   "source": [
    "# Load the datasets\n",
    "df_train = pd.read_csv(\"data/vehicle_dataset_train.csv\", index_col=0)\n",
    "df_test = pd.read_csv(\"data/vehicle_dataset_test.csv\", index_col=0)\n",
    "df_train.head(5)"
   ]
  },
  {
   "cell_type": "code",
   "execution_count": 103,
   "id": "9f5b4713",
   "metadata": {},
   "outputs": [],
   "source": [
    "# Separate predictors from responsess\n",
    "X_train, y_train = df_train.drop(columns=['selling_price']), df_train['selling_price']\n",
    "X_test, y_test = df_test.drop(columns=['selling_price']), df_test['selling_price']"
   ]
  },
  {
   "cell_type": "markdown",
   "id": "5922d77a",
   "metadata": {},
   "source": [
    "<div class='exercise-r'>\n",
    "\n",
    "**Q1.1** Let's explore the extent of the missingness in the train data:\n",
    "\n",
    "- store the number of rows with missing values in `n_rows_with_missingness`\n",
    "- store the number of columns with missing values in `n_columns_with_missingness`\n",
    "- Create a Pandas Series where the indices are the column names of `X_train` and the values are the number of missing data entries in the corresponding column in `X_train`. Store this series in `col_missingness`\n",
    "</div> \n",
    "\n",
    "_Points:_ 4"
   ]
  },
  {
   "cell_type": "code",
   "execution_count": 104,
   "id": "b30b232a",
   "metadata": {
    "tags": []
   },
   "outputs": [],
   "source": [
    "n_rows_with_missingness = X_train.isna().any(axis=1).sum()\n",
    "n_cols_with_missingness = X_train.isna().any(axis=0).sum()\n",
    "col_missingness = X_train.isna().sum()"
   ]
  },
  {
   "cell_type": "code",
   "execution_count": 105,
   "id": "1c86f222",
   "metadata": {},
   "outputs": [
    {
     "name": "stdout",
     "output_type": "stream",
     "text": [
      "# rows with missingness: 44\n",
      "# columns with missingness: 1\n",
      "\n",
      "columns with missingness:\n",
      "year          0\n",
      "mileage       0\n",
      "max_power    44\n",
      "dtype: int64\n"
     ]
    }
   ],
   "source": [
    "# display your results with this code\n",
    "print('# rows with missingness:', n_rows_with_missingness)\n",
    "print('# columns with missingness:', n_cols_with_missingness)\n",
    "print(f'\\ncolumns with missingness:\\n{col_missingness}')"
   ]
  },
  {
   "cell_type": "code",
   "execution_count": 106,
   "id": "8019f283",
   "metadata": {
    "deletable": false,
    "editable": false
   },
   "outputs": [
    {
     "data": {
      "text/html": [
       "<p><strong><pre style='display: inline;'>q1.1</pre></strong> passed!</p>"
      ],
      "text/plain": [
       "q1.1 results: All test cases passed!"
      ]
     },
     "execution_count": 106,
     "metadata": {},
     "output_type": "execute_result"
    }
   ],
   "source": [
    "grader.check(\"q1.1\")"
   ]
  },
  {
   "cell_type": "markdown",
   "id": "97fd5959",
   "metadata": {},
   "source": [
    "<!-- BEGIN QUESTION -->\n",
    "\n",
    "<div class='exercise-r'>\n",
    "\n",
    "**1.2** Generate a boxplot of `year` for all samples that have missing values. In the same plot, generate another boxplot of `year` for all samples that do not have missing values. Do you see any pattern?  If so, what might be the implications of that pattern? \n",
    "\n",
    "</div> \n",
    "\n",
    "_Points:_ 6"
   ]
  },
  {
   "cell_type": "markdown",
   "id": "acfbedb7",
   "metadata": {},
   "source": [
    "missing data year are more recent than the year of not missing data. it could be the more recent cars do not have maxpower restriction"
   ]
  },
  {
   "cell_type": "code",
   "execution_count": 107,
   "id": "00abccc5-1ec5-4758-9b29-e08aafa4fbca",
   "metadata": {},
   "outputs": [
    {
     "data": {
      "text/plain": [
       "6601    False\n",
       "504      True\n",
       "5812    False\n",
       "1443    False\n",
       "7453     True\n",
       "Name: max_power, dtype: bool"
      ]
     },
     "execution_count": 107,
     "metadata": {},
     "output_type": "execute_result"
    }
   ],
   "source": [
    "X_train_missing = pd.isnull(X_train[\"max_power\"])\n",
    "X_train_not_missing = pd.notnull(X_train[\"max_power\"])\n",
    "X_train_missing.head()"
   ]
  },
  {
   "cell_type": "code",
   "execution_count": 108,
   "id": "0f51b66e",
   "metadata": {
    "tags": []
   },
   "outputs": [
    {
     "data": {
      "image/png": "[encoded data removed]",
      "text/plain": [
       "<Figure size 640x480 with 1 Axes>"
      ]
     },
     "metadata": {},
     "output_type": "display_data"
    }
   ],
   "source": [
    "# your code here\n",
    "plt.figure()\n",
    "plt.boxplot([X_train[X_train_missing]['year'],X_train[X_train_not_missing]['year']], positions = [0.5,1.5])\n",
    "plt.xticks([.5,1.5],['missing', 'not_missing'])\n",
    "\n",
    "plt.ylabel('year')\n",
    "plt.title('year box plot of vehicle data')\n",
    "plt.xlabel('missing data or not');"
   ]
  },
  {
   "cell_type": "markdown",
   "id": "0bd67d9d",
   "metadata": {
    "tags": []
   },
   "source": [
    "<!-- END QUESTION -->\n",
    "\n",
    "<a id=\"part1q2\"></a>\n",
    "\n",
    "## <div class='exercise'><b> Question 2:   Imputation Methods [45 pts]</b></div>\n",
    "\n",
    "[Return to contents](#contents)\n",
    "\n",
    "We will try different ways of dealing with missing data. Take care not to overwrite the original `X_train` and `X_test` as we'll want to use them each time we try a new imputation method."
   ]
  },
  {
   "cell_type": "markdown",
   "id": "811f75b6",
   "metadata": {},
   "source": [
    "<div class='exercise-r'>\n",
    "\n",
    "    \n",
    "\n",
    "**2.1** First, we consider mean imputation:\n",
    "  - Use SimpleImputer to impute the mean of observed `max_power` values in the training dataset for both **X_train** and **X_test**. \n",
    "  - Fit a linear regression model and store its $R^2$ score on the test data in `linreg_meanimp_r2`\n",
    "  - Fit a k-NN regression model ($k$=2) store its $R^2$ score on the test data in `knn_meanimp_r2` \n",
    "    \n",
    "**NOTE:** For the sake of consistency, we will used standardized data throughout question 2 (consider why this is necessary for at least some of our models and imputation methods). Note that we are fitting our scaler on *all* the data (train + test).\n",
    "    \n",
    "</div>\n",
    "\n",
    "_Points:_ 12"
   ]
  },
  {
   "cell_type": "code",
   "execution_count": 109,
   "id": "f2c6ca87",
   "metadata": {},
   "outputs": [],
   "source": [
    "scaler = StandardScaler().fit(np.concatenate([X_train.values, X_test.values], axis=0))\n",
    "X_train_scaled = scaler.transform(X_train.values)\n",
    "X_test_scaled = scaler.transform(X_test.values)\n",
    "\n",
    "X_train_scaled = pd.DataFrame(X_train_scaled, columns=X_train.columns)\n",
    "X_test_scaled = pd.DataFrame(X_test_scaled, columns=X_test.columns)"
   ]
  },
  {
   "cell_type": "code",
   "execution_count": 110,
   "id": "814089ee",
   "metadata": {
    "tags": []
   },
   "outputs": [],
   "source": [
    "# your code here\n",
    "imputer = SimpleImputer()\n",
    "X_train_copy = X_train_scaled.copy()\n",
    "X_test_copy = X_test_scaled.copy()\n",
    "\n",
    "imputer.fit(X_train_copy)\n",
    "X_train_scaled_imp = imputer.transform(X_train_copy)\n",
    "X_test_scaled_imp = imputer.transform(X_test_copy)"
   ]
  },
  {
   "cell_type": "code",
   "execution_count": 111,
   "id": "008b5fc7-3373-40c1-8c66-5ed90d625c55",
   "metadata": {},
   "outputs": [],
   "source": [
    "linreg = LinearRegression().fit(X_train_scaled_imp, y_train)\n",
    "y_test_pred = linreg.predict(X_test_scaled_imp)\n",
    "linreg_meanimp_r2 =r2_score(y_test, y_test_pred)"
   ]
  },
  {
   "cell_type": "code",
   "execution_count": 112,
   "id": "800376cb-7f50-45c5-b08c-e54ff3bb2125",
   "metadata": {},
   "outputs": [],
   "source": [
    "preds = KNeighborsRegressor(n_neighbors=2).fit(X_train_scaled_imp, y_train).predict(X_test_scaled_imp)\n",
    "\n",
    "knn_meanimp_r2 = r2_score(y_test, preds)"
   ]
  },
  {
   "cell_type": "code",
   "execution_count": 113,
   "id": "eb17fadf",
   "metadata": {
    "deletable": false,
    "editable": false
   },
   "outputs": [
    {
     "data": {
      "text/html": [
       "<p><strong><pre style='display: inline;'>q2.1</pre></strong> passed!</p>"
      ],
      "text/plain": [
       "q2.1 results: All test cases passed!"
      ]
     },
     "execution_count": 113,
     "metadata": {},
     "output_type": "execute_result"
    }
   ],
   "source": [
    "grader.check(\"q2.1\")"
   ]
  },
  {
   "cell_type": "markdown",
   "id": "3edf637d",
   "metadata": {},
   "source": [
    "<div class='exercise-r'>\n",
    "\n",
    "**2.2** Now, we will impute the data using k-NN regression model and see how it works:\n",
    "  - Use KNNImputer ($k$=2) to impute both **X_train** and **X_test**.\n",
    "  - Fit a linear regression model and store its $R^2$ score on the test data in `linreg_knnimp_r2`\n",
    "  - Fit a k-NN regression model ($k$=2) store its $R^2$ score on the test data in `knn_knnimp_r2` \n",
    "</div>\n",
    "\n",
    "_Points:_ 12"
   ]
  },
  {
   "cell_type": "code",
   "execution_count": 114,
   "id": "b0953f20",
   "metadata": {
    "tags": []
   },
   "outputs": [],
   "source": [
    "# your code here\n",
    "X_mnar = X_train_scaled.copy()\n",
    "X_mnar_test = X_test_scaled.copy()\n",
    "\n",
    "\n",
    "imputer = KNNImputer(n_neighbors=2)\n",
    "imputer.fit(X_mnar)\n",
    "X_mnar_imp = imputer.transform(X_mnar)\n",
    "\n",
    "X_mnar_test_imp = imputer.transform(X_mnar_test)\n",
    "\n",
    "\n",
    "ols_mnar_knn = LinearRegression().fit(X_mnar_imp,y_train)\n",
    "linreg_knn_pred = ols_mnar_knn.predict(X_mnar_test_imp)\n",
    "linreg_knnimp_r2 = r2_score(y_test, linreg_knn_pred)"
   ]
  },
  {
   "cell_type": "code",
   "execution_count": 115,
   "id": "ece5d401-93fa-4a3e-a146-c3e96f10b7e0",
   "metadata": {},
   "outputs": [],
   "source": [
    "knn_preds = KNeighborsRegressor(n_neighbors=2).fit(X_mnar_imp, y_train).predict(X_mnar_test_imp)\n",
    "\n",
    "knn_knnimp_r2 = r2_score(y_test, knn_preds)"
   ]
  },
  {
   "cell_type": "code",
   "execution_count": 116,
   "id": "40f9be02-1431-482d-8025-f0417756c32b",
   "metadata": {},
   "outputs": [
    {
     "data": {
      "text/plain": [
       "0.6195017436510428"
      ]
     },
     "execution_count": 116,
     "metadata": {},
     "output_type": "execute_result"
    }
   ],
   "source": [
    "knn_knnimp_r2"
   ]
  },
  {
   "cell_type": "code",
   "execution_count": 117,
   "id": "d810a4d6",
   "metadata": {
    "deletable": false,
    "editable": false
   },
   "outputs": [
    {
     "data": {
      "text/html": [
       "<p><strong><pre style='display: inline;'>q2.2</pre></strong> passed!</p>"
      ],
      "text/plain": [
       "q2.2 results: All test cases passed!"
      ]
     },
     "execution_count": 117,
     "metadata": {},
     "output_type": "execute_result"
    }
   ],
   "source": [
    "grader.check(\"q2.2\")"
   ]
  },
  {
   "cell_type": "markdown",
   "id": "b599a458",
   "metadata": {},
   "source": [
    "<div class='exercise-r'>\n",
    "\n",
    "    \n",
    "**2.3** Now, let's examine the indicator method:\n",
    "  - For both the training and testing data, create an additional predictor called `has_missing_value` that indicates whether each row has any missing value.\n",
    "  - Impute the mean of observed `max_power` values in the training dataset for both **X_train** and **X_test**.\n",
    "  - Fit a linear regression model and store its $R^2$ score on the test data in `linreg_indic_r2`\n",
    "  - Fit a k-NN regression model ($k$=2) store its $R^2$ score on the test data in `knn_indic_r2` \n",
    "    \n",
    "</div>\n",
    "\n",
    "_Points:_ 12"
   ]
  },
  {
   "cell_type": "code",
   "execution_count": 118,
   "id": "068e7f63",
   "metadata": {
    "tags": []
   },
   "outputs": [],
   "source": [
    "# your code here\n",
    "X_train_scaled['has_missing_value']=pd.isnull(X_train_scaled[\"max_power\"])"
   ]
  },
  {
   "cell_type": "code",
   "execution_count": 119,
   "id": "45b2db5d-20fb-4b56-851d-62511ce0999a",
   "metadata": {},
   "outputs": [],
   "source": [
    "# X_test_scaled.head()"
   ]
  },
  {
   "cell_type": "code",
   "execution_count": 120,
   "id": "73e39925-8f2b-46b8-94db-0be0eaeea2c5",
   "metadata": {},
   "outputs": [],
   "source": [
    "X_test_scaled['has_missing_value']=pd.isnull(X_test_scaled[\"max_power\"])"
   ]
  },
  {
   "cell_type": "code",
   "execution_count": 121,
   "id": "a96f0181-a37f-4dc7-a587-ed7244afc407",
   "metadata": {},
   "outputs": [],
   "source": [
    "X_test_add = X_test_scaled.copy()\n",
    "X_train_add = X_train_scaled.copy()\n"
   ]
  },
  {
   "cell_type": "code",
   "execution_count": 122,
   "id": "3a8022db-00bf-4bf4-b151-fa784f2379e0",
   "metadata": {},
   "outputs": [],
   "source": [
    "# your code here\n",
    "imputer = SimpleImputer()\n",
    "imputer.fit(X_train_add)\n",
    "X_train_scaled_imp = imputer.transform(X_train_add)\n",
    "X_test_scaled_imp = imputer.transform(X_test_add)\n",
    "\n",
    "ols_mnar_knn = LinearRegression().fit(X_train_scaled_imp,y_train)\n",
    "linreg_knn_pred = ols_mnar_knn.predict(X_test_scaled_imp)\n",
    "linreg_indic_r2 = r2_score(y_test, linreg_knn_pred)"
   ]
  },
  {
   "cell_type": "code",
   "execution_count": 123,
   "id": "79319eb2-5e16-4918-bc3c-4d021d9f604c",
   "metadata": {},
   "outputs": [],
   "source": [
    "knn_preds = KNeighborsRegressor(n_neighbors=2).fit(X_train_scaled_imp, y_train).predict(X_test_scaled_imp)\n",
    "\n",
    "knn_indic_r2 = r2_score(y_test, knn_preds)"
   ]
  },
  {
   "cell_type": "code",
   "execution_count": 124,
   "id": "4e57d0e8",
   "metadata": {
    "deletable": false,
    "editable": false
   },
   "outputs": [
    {
     "data": {
      "text/html": [
       "<p><strong><pre style='display: inline;'>q2.3</pre></strong> passed!</p>"
      ],
      "text/plain": [
       "q2.3 results: All test cases passed!"
      ]
     },
     "execution_count": 124,
     "metadata": {},
     "output_type": "execute_result"
    }
   ],
   "source": [
    "grader.check(\"q2.3\")"
   ]
  },
  {
   "cell_type": "markdown",
   "id": "c694ddfb",
   "metadata": {
    "tags": []
   },
   "source": [
    "<!-- BEGIN QUESTION -->\n",
    "\n",
    "<div class='exercise-r'>\n",
    "\n",
    "**2.4** Compare the $R^2$ values in **2.1** and **2.3**. Does adding an indicator variable help? Do these indicator method results provide any support **for** or **against** a claim that the data is missing completely at random? Why or why not?\n",
    "    \n",
    "</div>\n",
    "\n",
    "_Points:_ 9"
   ]
  },
  {
   "cell_type": "code",
   "execution_count": 125,
   "id": "858f8489",
   "metadata": {},
   "outputs": [
    {
     "data": {
      "text/html": [
       "<div>\n",
       "<style scoped>\n",
       "    .dataframe tbody tr th:only-of-type {\n",
       "        vertical-align: middle;\n",
       "    }\n",
       "\n",
       "    .dataframe tbody tr th {\n",
       "        vertical-align: top;\n",
       "    }\n",
       "\n",
       "    .dataframe thead th {\n",
       "        text-align: right;\n",
       "    }\n",
       "</style>\n",
       "<table border=\"1\" class=\"dataframe\">\n",
       "  <thead>\n",
       "    <tr style=\"text-align: right;\">\n",
       "      <th></th>\n",
       "      <th>linreg test $R^2$</th>\n",
       "      <th>knn test $R^2$</th>\n",
       "    </tr>\n",
       "    <tr>\n",
       "      <th>missingness approach</th>\n",
       "      <th></th>\n",
       "      <th></th>\n",
       "    </tr>\n",
       "  </thead>\n",
       "  <tbody>\n",
       "    <tr>\n",
       "      <th>mean imputation</th>\n",
       "      <td>0.189</td>\n",
       "      <td>0.620</td>\n",
       "    </tr>\n",
       "    <tr>\n",
       "      <th>knn imputation</th>\n",
       "      <td>0.205</td>\n",
       "      <td>0.620</td>\n",
       "    </tr>\n",
       "    <tr>\n",
       "      <th>missingness indicator + mean imputation</th>\n",
       "      <td>0.395</td>\n",
       "      <td>0.652</td>\n",
       "    </tr>\n",
       "  </tbody>\n",
       "</table>\n",
       "</div>"
      ],
      "text/plain": [
       "                                         linreg test $R^2$  knn test $R^2$\n",
       "missingness approach                                                      \n",
       "mean imputation                                      0.189           0.620\n",
       "knn imputation                                       0.205           0.620\n",
       "missingness indicator + mean imputation              0.395           0.652"
      ]
     },
     "execution_count": 125,
     "metadata": {},
     "output_type": "execute_result"
    }
   ],
   "source": [
    "# Display your results\n",
    "pd.DataFrame([\n",
    "    {'missingness approach': 'mean imputation',\n",
    "     'linreg test $R^2$': linreg_meanimp_r2,\n",
    "     'knn test $R^2$': knn_knnimp_r2},\n",
    "    {'missingness approach': 'knn imputation',\n",
    "     'linreg test $R^2$': linreg_knnimp_r2,\n",
    "     'knn test $R^2$': knn_knnimp_r2},\n",
    "    {'missingness approach': 'missingness indicator + mean imputation',\n",
    "     'linreg test $R^2$': linreg_indic_r2,\n",
    "     'knn test $R^2$': knn_indic_r2}, \n",
    "]).set_index('missingness approach')"
   ]
  },
  {
   "cell_type": "markdown",
   "id": "db0d0b57",
   "metadata": {},
   "source": [
    "compare the linreg test R^2 and knn test R^2, 2.3 we get higher R^2, adding a indicator help. It wouldn't provide support againt the claim that issing data completely at random, however, there is possibility of missing at random. SInce adding mean imputer get better R^2, that indicate certain randomness of the missing data."
   ]
  },
  {
   "cell_type": "markdown",
   "id": "4207c65b",
   "metadata": {},
   "source": [
    "<!-- END QUESTION -->\n",
    "\n",
    "<a id=\"part2\"></a>\n",
    "    \n",
    "# PART 2 [45 pts]: Principal Component Analysis\n",
    "\n",
    "[Return to contents](#contents)"
   ]
  },
  {
   "cell_type": "markdown",
   "id": "4dfbbbb8",
   "metadata": {},
   "source": [
    "<a id=\"part2q3\"></a>\n",
    "\n",
    "## <div class='exercise'><b> Question 3: PCA for Regression [35 pts]</b></div>\n",
    "\n",
    "[Return to contents](#contents)\n",
    " \n",
    "\n",
    "In this question, we will be using a dataset called \"Communities and Crime\" adapted from [UC Irvine Machine Learning Repository](http://archive.ics.uci.edu/ml/datasets/Communities+and+Crime). The modified dataset contains 122 predictor variables and 1 response variable. All numeric data was normalized into the decimal range 0.00-1.00. Some of the predictor variables are:\n",
    "\n",
    "- `householdsize`: mean people per household\n",
    "- `medIncome`: median household income\n",
    "- `PctHousOccup`: percent of housing occupied\n",
    "- `RentMedian`: rental housing - median rent\n",
    "- `PolicReqPerOffic`: total requests for police per police officer\n",
    "\n",
    "And the response variable is \n",
    "\n",
    "- `ViolentCrimesPerPop`: total number of violent crimes per 100K popuation\n"
   ]
  },
  {
   "cell_type": "code",
   "execution_count": 126,
   "id": "47fe89ae",
   "metadata": {},
   "outputs": [
    {
     "data": {
      "text/html": [
       "<div>\n",
       "<style scoped>\n",
       "    .dataframe tbody tr th:only-of-type {\n",
       "        vertical-align: middle;\n",
       "    }\n",
       "\n",
       "    .dataframe tbody tr th {\n",
       "        vertical-align: top;\n",
       "    }\n",
       "\n",
       "    .dataframe thead th {\n",
       "        text-align: right;\n",
       "    }\n",
       "</style>\n",
       "<table border=\"1\" class=\"dataframe\">\n",
       "  <thead>\n",
       "    <tr style=\"text-align: right;\">\n",
       "      <th></th>\n",
       "      <th>population</th>\n",
       "      <th>householdsize</th>\n",
       "      <th>racepctblack</th>\n",
       "      <th>racePctWhite</th>\n",
       "      <th>racePctAsian</th>\n",
       "      <th>racePctHisp</th>\n",
       "      <th>agePct12t21</th>\n",
       "      <th>agePct12t29</th>\n",
       "      <th>agePct16t24</th>\n",
       "      <th>agePct65up</th>\n",
       "      <th>numbUrban</th>\n",
       "      <th>pctUrban</th>\n",
       "      <th>medIncome</th>\n",
       "      <th>pctWWage</th>\n",
       "      <th>pctWFarmSelf</th>\n",
       "      <th>pctWInvInc</th>\n",
       "      <th>pctWSocSec</th>\n",
       "      <th>pctWPubAsst</th>\n",
       "      <th>pctWRetire</th>\n",
       "      <th>medFamInc</th>\n",
       "      <th>perCapInc</th>\n",
       "      <th>whitePerCap</th>\n",
       "      <th>blackPerCap</th>\n",
       "      <th>indianPerCap</th>\n",
       "      <th>AsianPerCap</th>\n",
       "      <th>...</th>\n",
       "      <th>LemasSwFTFieldOps</th>\n",
       "      <th>LemasSwFTFieldPerPop</th>\n",
       "      <th>LemasTotalReq</th>\n",
       "      <th>LemasTotReqPerPop</th>\n",
       "      <th>PolicReqPerOffic</th>\n",
       "      <th>PolicPerPop</th>\n",
       "      <th>RacialMatchCommPol</th>\n",
       "      <th>PctPolicWhite</th>\n",
       "      <th>PctPolicBlack</th>\n",
       "      <th>PctPolicHisp</th>\n",
       "      <th>PctPolicAsian</th>\n",
       "      <th>PctPolicMinor</th>\n",
       "      <th>OfficAssgnDrugUnits</th>\n",
       "      <th>NumKindsDrugsSeiz</th>\n",
       "      <th>PolicAveOTWorked</th>\n",
       "      <th>LandArea</th>\n",
       "      <th>PopDens</th>\n",
       "      <th>PctUsePubTrans</th>\n",
       "      <th>PolicCars</th>\n",
       "      <th>PolicOperBudg</th>\n",
       "      <th>LemasPctPolicOnPatr</th>\n",
       "      <th>LemasGangUnitDeploy</th>\n",
       "      <th>LemasPctOfficDrugUn</th>\n",
       "      <th>PolicBudgPerPop</th>\n",
       "      <th>ViolentCrimesPerPop</th>\n",
       "    </tr>\n",
       "  </thead>\n",
       "  <tbody>\n",
       "    <tr>\n",
       "      <th>0</th>\n",
       "      <td>0.19</td>\n",
       "      <td>0.33</td>\n",
       "      <td>0.02</td>\n",
       "      <td>0.90</td>\n",
       "      <td>0.12</td>\n",
       "      <td>0.17</td>\n",
       "      <td>0.34</td>\n",
       "      <td>0.47</td>\n",
       "      <td>0.29</td>\n",
       "      <td>0.32</td>\n",
       "      <td>0.20</td>\n",
       "      <td>1.00</td>\n",
       "      <td>0.37</td>\n",
       "      <td>0.72</td>\n",
       "      <td>0.34</td>\n",
       "      <td>0.60</td>\n",
       "      <td>0.29</td>\n",
       "      <td>0.15</td>\n",
       "      <td>0.43</td>\n",
       "      <td>0.39</td>\n",
       "      <td>0.40</td>\n",
       "      <td>0.39</td>\n",
       "      <td>0.32</td>\n",
       "      <td>0.27</td>\n",
       "      <td>0.27</td>\n",
       "      <td>...</td>\n",
       "      <td>0.96</td>\n",
       "      <td>0.17</td>\n",
       "      <td>0.06</td>\n",
       "      <td>0.18</td>\n",
       "      <td>0.44</td>\n",
       "      <td>0.13</td>\n",
       "      <td>0.94</td>\n",
       "      <td>0.93</td>\n",
       "      <td>0.03</td>\n",
       "      <td>0.07</td>\n",
       "      <td>0.10</td>\n",
       "      <td>0.07</td>\n",
       "      <td>0.02</td>\n",
       "      <td>0.57</td>\n",
       "      <td>0.29</td>\n",
       "      <td>0.12</td>\n",
       "      <td>0.26</td>\n",
       "      <td>0.20</td>\n",
       "      <td>0.06</td>\n",
       "      <td>0.04</td>\n",
       "      <td>0.90</td>\n",
       "      <td>0.5</td>\n",
       "      <td>0.32</td>\n",
       "      <td>0.14</td>\n",
       "      <td>0.20</td>\n",
       "    </tr>\n",
       "    <tr>\n",
       "      <th>1</th>\n",
       "      <td>0.15</td>\n",
       "      <td>0.31</td>\n",
       "      <td>0.40</td>\n",
       "      <td>0.63</td>\n",
       "      <td>0.14</td>\n",
       "      <td>0.06</td>\n",
       "      <td>0.58</td>\n",
       "      <td>0.72</td>\n",
       "      <td>0.65</td>\n",
       "      <td>0.47</td>\n",
       "      <td>0.16</td>\n",
       "      <td>1.00</td>\n",
       "      <td>0.22</td>\n",
       "      <td>0.52</td>\n",
       "      <td>0.10</td>\n",
       "      <td>0.51</td>\n",
       "      <td>0.48</td>\n",
       "      <td>0.39</td>\n",
       "      <td>0.51</td>\n",
       "      <td>0.30</td>\n",
       "      <td>0.29</td>\n",
       "      <td>0.34</td>\n",
       "      <td>0.23</td>\n",
       "      <td>0.13</td>\n",
       "      <td>0.20</td>\n",
       "      <td>...</td>\n",
       "      <td>0.93</td>\n",
       "      <td>0.38</td>\n",
       "      <td>0.05</td>\n",
       "      <td>0.21</td>\n",
       "      <td>0.23</td>\n",
       "      <td>0.30</td>\n",
       "      <td>0.61</td>\n",
       "      <td>0.89</td>\n",
       "      <td>0.15</td>\n",
       "      <td>0.01</td>\n",
       "      <td>0.06</td>\n",
       "      <td>0.12</td>\n",
       "      <td>0.10</td>\n",
       "      <td>0.64</td>\n",
       "      <td>0.22</td>\n",
       "      <td>0.06</td>\n",
       "      <td>0.39</td>\n",
       "      <td>0.84</td>\n",
       "      <td>0.06</td>\n",
       "      <td>0.06</td>\n",
       "      <td>0.91</td>\n",
       "      <td>0.5</td>\n",
       "      <td>0.88</td>\n",
       "      <td>0.26</td>\n",
       "      <td>0.49</td>\n",
       "    </tr>\n",
       "    <tr>\n",
       "      <th>2</th>\n",
       "      <td>0.25</td>\n",
       "      <td>0.54</td>\n",
       "      <td>0.05</td>\n",
       "      <td>0.71</td>\n",
       "      <td>0.48</td>\n",
       "      <td>0.30</td>\n",
       "      <td>0.42</td>\n",
       "      <td>0.48</td>\n",
       "      <td>0.28</td>\n",
       "      <td>0.32</td>\n",
       "      <td>0.26</td>\n",
       "      <td>1.00</td>\n",
       "      <td>0.33</td>\n",
       "      <td>0.55</td>\n",
       "      <td>0.37</td>\n",
       "      <td>0.37</td>\n",
       "      <td>0.39</td>\n",
       "      <td>0.64</td>\n",
       "      <td>0.44</td>\n",
       "      <td>0.32</td>\n",
       "      <td>0.29</td>\n",
       "      <td>0.32</td>\n",
       "      <td>0.23</td>\n",
       "      <td>0.17</td>\n",
       "      <td>0.17</td>\n",
       "      <td>...</td>\n",
       "      <td>0.96</td>\n",
       "      <td>0.12</td>\n",
       "      <td>0.05</td>\n",
       "      <td>0.11</td>\n",
       "      <td>0.35</td>\n",
       "      <td>0.08</td>\n",
       "      <td>0.80</td>\n",
       "      <td>0.82</td>\n",
       "      <td>0.04</td>\n",
       "      <td>0.19</td>\n",
       "      <td>0.19</td>\n",
       "      <td>0.18</td>\n",
       "      <td>0.05</td>\n",
       "      <td>0.57</td>\n",
       "      <td>0.36</td>\n",
       "      <td>0.09</td>\n",
       "      <td>0.46</td>\n",
       "      <td>0.05</td>\n",
       "      <td>0.09</td>\n",
       "      <td>0.05</td>\n",
       "      <td>0.88</td>\n",
       "      <td>0.5</td>\n",
       "      <td>0.76</td>\n",
       "      <td>0.13</td>\n",
       "      <td>0.34</td>\n",
       "    </tr>\n",
       "    <tr>\n",
       "      <th>3</th>\n",
       "      <td>1.00</td>\n",
       "      <td>0.42</td>\n",
       "      <td>0.47</td>\n",
       "      <td>0.59</td>\n",
       "      <td>0.12</td>\n",
       "      <td>0.05</td>\n",
       "      <td>0.41</td>\n",
       "      <td>0.53</td>\n",
       "      <td>0.34</td>\n",
       "      <td>0.33</td>\n",
       "      <td>1.00</td>\n",
       "      <td>0.99</td>\n",
       "      <td>0.28</td>\n",
       "      <td>0.62</td>\n",
       "      <td>0.16</td>\n",
       "      <td>0.36</td>\n",
       "      <td>0.40</td>\n",
       "      <td>0.30</td>\n",
       "      <td>0.45</td>\n",
       "      <td>0.29</td>\n",
       "      <td>0.30</td>\n",
       "      <td>0.35</td>\n",
       "      <td>0.21</td>\n",
       "      <td>0.20</td>\n",
       "      <td>0.33</td>\n",
       "      <td>...</td>\n",
       "      <td>0.75</td>\n",
       "      <td>0.19</td>\n",
       "      <td>0.35</td>\n",
       "      <td>0.19</td>\n",
       "      <td>0.38</td>\n",
       "      <td>0.16</td>\n",
       "      <td>0.82</td>\n",
       "      <td>0.70</td>\n",
       "      <td>0.45</td>\n",
       "      <td>0.03</td>\n",
       "      <td>0.05</td>\n",
       "      <td>0.33</td>\n",
       "      <td>0.13</td>\n",
       "      <td>0.57</td>\n",
       "      <td>1.00</td>\n",
       "      <td>1.00</td>\n",
       "      <td>0.07</td>\n",
       "      <td>0.15</td>\n",
       "      <td>1.00</td>\n",
       "      <td>0.35</td>\n",
       "      <td>0.73</td>\n",
       "      <td>0.0</td>\n",
       "      <td>0.31</td>\n",
       "      <td>0.21</td>\n",
       "      <td>0.69</td>\n",
       "    </tr>\n",
       "    <tr>\n",
       "      <th>4</th>\n",
       "      <td>0.11</td>\n",
       "      <td>0.43</td>\n",
       "      <td>0.04</td>\n",
       "      <td>0.89</td>\n",
       "      <td>0.09</td>\n",
       "      <td>0.06</td>\n",
       "      <td>0.45</td>\n",
       "      <td>0.48</td>\n",
       "      <td>0.31</td>\n",
       "      <td>0.46</td>\n",
       "      <td>0.13</td>\n",
       "      <td>1.00</td>\n",
       "      <td>0.22</td>\n",
       "      <td>0.52</td>\n",
       "      <td>0.44</td>\n",
       "      <td>0.49</td>\n",
       "      <td>0.56</td>\n",
       "      <td>0.41</td>\n",
       "      <td>0.39</td>\n",
       "      <td>0.25</td>\n",
       "      <td>0.25</td>\n",
       "      <td>0.25</td>\n",
       "      <td>0.16</td>\n",
       "      <td>0.07</td>\n",
       "      <td>0.20</td>\n",
       "      <td>...</td>\n",
       "      <td>0.98</td>\n",
       "      <td>0.14</td>\n",
       "      <td>0.03</td>\n",
       "      <td>0.14</td>\n",
       "      <td>0.37</td>\n",
       "      <td>0.11</td>\n",
       "      <td>0.84</td>\n",
       "      <td>0.96</td>\n",
       "      <td>0.00</td>\n",
       "      <td>0.00</td>\n",
       "      <td>0.00</td>\n",
       "      <td>0.00</td>\n",
       "      <td>0.02</td>\n",
       "      <td>0.86</td>\n",
       "      <td>0.29</td>\n",
       "      <td>0.16</td>\n",
       "      <td>0.12</td>\n",
       "      <td>0.07</td>\n",
       "      <td>0.04</td>\n",
       "      <td>0.01</td>\n",
       "      <td>0.81</td>\n",
       "      <td>1.0</td>\n",
       "      <td>0.56</td>\n",
       "      <td>0.09</td>\n",
       "      <td>0.63</td>\n",
       "    </tr>\n",
       "  </tbody>\n",
       "</table>\n",
       "<p>5 rows × 123 columns</p>\n",
       "</div>"
      ],
      "text/plain": [
       "   population  householdsize  racepctblack  racePctWhite  racePctAsian  \\\n",
       "0        0.19           0.33          0.02          0.90          0.12   \n",
       "1        0.15           0.31          0.40          0.63          0.14   \n",
       "2        0.25           0.54          0.05          0.71          0.48   \n",
       "3        1.00           0.42          0.47          0.59          0.12   \n",
       "4        0.11           0.43          0.04          0.89          0.09   \n",
       "\n",
       "   racePctHisp  agePct12t21  agePct12t29  agePct16t24  agePct65up  numbUrban  \\\n",
       "0         0.17         0.34         0.47         0.29        0.32       0.20   \n",
       "1         0.06         0.58         0.72         0.65        0.47       0.16   \n",
       "2         0.30         0.42         0.48         0.28        0.32       0.26   \n",
       "3         0.05         0.41         0.53         0.34        0.33       1.00   \n",
       "4         0.06         0.45         0.48         0.31        0.46       0.13   \n",
       "\n",
       "   pctUrban  medIncome  pctWWage  pctWFarmSelf  pctWInvInc  pctWSocSec  \\\n",
       "0      1.00       0.37      0.72          0.34        0.60        0.29   \n",
       "1      1.00       0.22      0.52          0.10        0.51        0.48   \n",
       "2      1.00       0.33      0.55          0.37        0.37        0.39   \n",
       "3      0.99       0.28      0.62          0.16        0.36        0.40   \n",
       "4      1.00       0.22      0.52          0.44        0.49        0.56   \n",
       "\n",
       "   pctWPubAsst  pctWRetire  medFamInc  perCapInc  whitePerCap  blackPerCap  \\\n",
       "0         0.15        0.43       0.39       0.40         0.39         0.32   \n",
       "1         0.39        0.51       0.30       0.29         0.34         0.23   \n",
       "2         0.64        0.44       0.32       0.29         0.32         0.23   \n",
       "3         0.30        0.45       0.29       0.30         0.35         0.21   \n",
       "4         0.41        0.39       0.25       0.25         0.25         0.16   \n",
       "\n",
       "   indianPerCap  AsianPerCap  ...  LemasSwFTFieldOps  LemasSwFTFieldPerPop  \\\n",
       "0          0.27         0.27  ...               0.96                  0.17   \n",
       "1          0.13         0.20  ...               0.93                  0.38   \n",
       "2          0.17         0.17  ...               0.96                  0.12   \n",
       "3          0.20         0.33  ...               0.75                  0.19   \n",
       "4          0.07         0.20  ...               0.98                  0.14   \n",
       "\n",
       "   LemasTotalReq  LemasTotReqPerPop  PolicReqPerOffic  PolicPerPop  \\\n",
       "0           0.06               0.18              0.44         0.13   \n",
       "1           0.05               0.21              0.23         0.30   \n",
       "2           0.05               0.11              0.35         0.08   \n",
       "3           0.35               0.19              0.38         0.16   \n",
       "4           0.03               0.14              0.37         0.11   \n",
       "\n",
       "   RacialMatchCommPol  PctPolicWhite  PctPolicBlack  PctPolicHisp  \\\n",
       "0                0.94           0.93           0.03          0.07   \n",
       "1                0.61           0.89           0.15          0.01   \n",
       "2                0.80           0.82           0.04          0.19   \n",
       "3                0.82           0.70           0.45          0.03   \n",
       "4                0.84           0.96           0.00          0.00   \n",
       "\n",
       "   PctPolicAsian  PctPolicMinor  OfficAssgnDrugUnits  NumKindsDrugsSeiz  \\\n",
       "0           0.10           0.07                 0.02               0.57   \n",
       "1           0.06           0.12                 0.10               0.64   \n",
       "2           0.19           0.18                 0.05               0.57   \n",
       "3           0.05           0.33                 0.13               0.57   \n",
       "4           0.00           0.00                 0.02               0.86   \n",
       "\n",
       "   PolicAveOTWorked  LandArea  PopDens  PctUsePubTrans  PolicCars  \\\n",
       "0              0.29      0.12     0.26            0.20       0.06   \n",
       "1              0.22      0.06     0.39            0.84       0.06   \n",
       "2              0.36      0.09     0.46            0.05       0.09   \n",
       "3              1.00      1.00     0.07            0.15       1.00   \n",
       "4              0.29      0.16     0.12            0.07       0.04   \n",
       "\n",
       "   PolicOperBudg  LemasPctPolicOnPatr  LemasGangUnitDeploy  \\\n",
       "0           0.04                 0.90                  0.5   \n",
       "1           0.06                 0.91                  0.5   \n",
       "2           0.05                 0.88                  0.5   \n",
       "3           0.35                 0.73                  0.0   \n",
       "4           0.01                 0.81                  1.0   \n",
       "\n",
       "   LemasPctOfficDrugUn  PolicBudgPerPop  ViolentCrimesPerPop  \n",
       "0                 0.32             0.14                 0.20  \n",
       "1                 0.88             0.26                 0.49  \n",
       "2                 0.76             0.13                 0.34  \n",
       "3                 0.31             0.21                 0.69  \n",
       "4                 0.56             0.09                 0.63  \n",
       "\n",
       "[5 rows x 123 columns]"
      ]
     },
     "execution_count": 126,
     "metadata": {},
     "output_type": "execute_result"
    }
   ],
   "source": [
    "# Load the datasets\n",
    "df = pd.read_csv(\"data/communities_and_crime.csv\", index_col = 0)\n",
    "df.head()"
   ]
  },
  {
   "cell_type": "code",
   "execution_count": 127,
   "id": "43346b05",
   "metadata": {},
   "outputs": [],
   "source": [
    "# Separate predictors and response\n",
    "X, y = df.drop(columns=['ViolentCrimesPerPop']), df['ViolentCrimesPerPop']\n",
    "# Train/Test split\n",
    "X_train, X_test, y_train, y_test = train_test_split(X, y, test_size=0.2, random_state=42)"
   ]
  },
  {
   "cell_type": "code",
   "execution_count": 128,
   "id": "75eaf113-fdeb-4670-9e53-9b44f5b82f0c",
   "metadata": {},
   "outputs": [],
   "source": [
    "# X_train.columns"
   ]
  },
  {
   "cell_type": "markdown",
   "id": "608e2724",
   "metadata": {},
   "source": [
    "<a id=\"part2q3solution\"></a>\n",
    "## Question 3: Solutions \n",
    "\n",
    "[Return to contents](#contents)"
   ]
  },
  {
   "cell_type": "markdown",
   "id": "c627641f",
   "metadata": {},
   "source": [
    "<div class='exercise-r'>\n",
    "\n",
    "**3.1** Compute the correlation matrix for the predictor variables in the training data (DO NOT print the entire matrix). Which pairs of distinct predictor variables have correlation greater than 0.99 or less than -0.99? \n",
    "    \n",
    "Store these pairs in a dictionary called `high_corr` where the keys are tuples corresponding to the names of the pair of predictors and the values are the correlation between each pair.\n",
    "    \n",
    "</div>\n",
    "\n",
    "_Points:_ 6"
   ]
  },
  {
   "cell_type": "code",
   "execution_count": 129,
   "id": "af344afa-53ec-44da-ab2a-5c3a9f05607f",
   "metadata": {},
   "outputs": [],
   "source": [
    "X_std = ((X_train-X_train.mean(axis=0))/X_train.std())\n",
    "N = X_std.shape[0]\n",
    "\n",
    "X_cov = np.dot(X_std.T, X_std) / (N-1)\n"
   ]
  },
  {
   "cell_type": "code",
   "execution_count": 130,
   "id": "c6cbf92d-c6f4-4f57-aba5-ef99712a5f1b",
   "metadata": {},
   "outputs": [
    {
     "data": {
      "text/plain": [
       "122"
      ]
     },
     "execution_count": 130,
     "metadata": {},
     "output_type": "execute_result"
    }
   ],
   "source": [
    "len(cols_list)"
   ]
  },
  {
   "cell_type": "code",
   "execution_count": 131,
   "id": "4e675791-995f-4d24-b68a-eb6c22231a8a",
   "metadata": {},
   "outputs": [],
   "source": [
    "threshold=0.99"
   ]
  },
  {
   "cell_type": "code",
   "execution_count": 132,
   "id": "1ee4ac22-886d-4bed-b85e-e103144a673d",
   "metadata": {},
   "outputs": [],
   "source": [
    "# key = []\n",
    "# cov = []\n",
    "high_corr={}\n",
    "for i in range(0,122):\n",
    "    for j in range(0,i):\n",
    "        if np.abs(X_cov[i,j])>threshold:\n",
    "            high_corr[cols_list[i],cols_list[j]]=X_cov[i,j]\n",
    "                        "
   ]
  },
  {
   "cell_type": "code",
   "execution_count": 133,
   "id": "25e25054-829d-4b79-828f-60c1bff129a9",
   "metadata": {
    "scrolled": true,
    "tags": []
   },
   "outputs": [],
   "source": [
    "# key"
   ]
  },
  {
   "cell_type": "code",
   "execution_count": 134,
   "id": "534dc49f-d431-44f1-90f9-53f318036350",
   "metadata": {},
   "outputs": [],
   "source": [
    "# cov"
   ]
  },
  {
   "cell_type": "code",
   "execution_count": 135,
   "id": "2958d2e0-0db4-403e-bb28-1393b81f426d",
   "metadata": {},
   "outputs": [
    {
     "data": {
      "text/plain": [
       "{('numbUrban', 'population'): 0.9997647561886099,\n",
       " ('PctRecImmig5', 'PctRecentImmig'): 0.9920034327871086,\n",
       " ('PctRecImmig8', 'PctRecImmig5'): 0.9963359613654252,\n",
       " ('PctRecImmig10', 'PctRecImmig5'): 0.9900961766413978,\n",
       " ('PctRecImmig10', 'PctRecImmig8'): 0.9965871515033236,\n",
       " ('OwnOccMedVal', 'OwnOccLowQuart'): 0.9917227618576434,\n",
       " ('MedRent', 'RentMedian'): 0.9930215184921785,\n",
       " ('LemasSwFTFieldOps', 'LemasSwornFT'): -0.9903136539589976,\n",
       " ('PolicPerPop', 'LemasSwFTPerPop'): 0.999991131341881}"
      ]
     },
     "execution_count": 135,
     "metadata": {},
     "output_type": "execute_result"
    }
   ],
   "source": [
    "high_corr\n"
   ]
  },
  {
   "cell_type": "code",
   "execution_count": 136,
   "id": "f4c2ed81",
   "metadata": {
    "tags": []
   },
   "outputs": [
    {
     "name": "stdout",
     "output_type": "stream",
     "text": [
      "The following pairs of predictor variables have correlation greater than 0.99 or less than -0.99:\n"
     ]
    },
    {
     "data": {
      "text/plain": [
       "{('numbUrban', 'population'): 0.9997647561886099,\n",
       " ('PctRecImmig5', 'PctRecentImmig'): 0.9920034327871086,\n",
       " ('PctRecImmig8', 'PctRecImmig5'): 0.9963359613654252,\n",
       " ('PctRecImmig10', 'PctRecImmig5'): 0.9900961766413978,\n",
       " ('PctRecImmig10', 'PctRecImmig8'): 0.9965871515033236,\n",
       " ('OwnOccMedVal', 'OwnOccLowQuart'): 0.9917227618576434,\n",
       " ('MedRent', 'RentMedian'): 0.9930215184921785,\n",
       " ('LemasSwFTFieldOps', 'LemasSwornFT'): -0.9903136539589976,\n",
       " ('PolicPerPop', 'LemasSwFTPerPop'): 0.999991131341881}"
      ]
     },
     "metadata": {},
     "output_type": "display_data"
    }
   ],
   "source": [
    "# your code here\n",
    "print(\"The following pairs of predictor variables have correlation greater than 0.99 or less than -0.99:\")\n",
    "display(high_corr)"
   ]
  },
  {
   "cell_type": "code",
   "execution_count": 137,
   "id": "64c0b2b0",
   "metadata": {
    "deletable": false,
    "editable": false
   },
   "outputs": [
    {
     "data": {
      "text/html": [
       "<p><strong><pre style='display: inline;'>q3.1</pre></strong> passed!</p>"
      ],
      "text/plain": [
       "q3.1 results: All test cases passed!"
      ]
     },
     "execution_count": 137,
     "metadata": {},
     "output_type": "execute_result"
    }
   ],
   "source": [
    "grader.check(\"q3.1\")"
   ]
  },
  {
   "cell_type": "markdown",
   "id": "96edeea7",
   "metadata": {},
   "source": [
    "<!-- BEGIN QUESTION -->\n",
    "\n",
    "<div class='exercise-r'>\n",
    "\n",
    "**3.2** Fit a linear regression model on the **unscaled** training data **using all available predictors**. Store the train and test $R^2$ scores in `linreg_train_r2` and `linreg_test_r2` respectively. Interpret your results.\n",
    "    \n",
    "</div>\n",
    "\n",
    "_Points:_ 6"
   ]
  },
  {
   "cell_type": "markdown",
   "id": "48fa74c2",
   "metadata": {},
   "source": [
    "R^2 is really high for training data, but low on testing data, suggesting it overfits on training data and does not generalize well."
   ]
  },
  {
   "cell_type": "code",
   "execution_count": 138,
   "id": "fd1a401d",
   "metadata": {
    "tags": []
   },
   "outputs": [
    {
     "name": "stdout",
     "output_type": "stream",
     "text": [
      "linear regression train R^2: 0.8461\n",
      "linear regression test R^2: 0.2186\n"
     ]
    }
   ],
   "source": [
    "# your code here\n",
    "linreg3 = LinearRegression().fit(X_train,y_train)\n",
    "linreg_test_pred = linreg3.predict(X_test)\n",
    "linreg_train_pred = linreg3.predict(X_train)\n",
    "\n",
    "linreg_train_r2 = r2_score(y_train, linreg_train_pred)\n",
    "linreg_test_r2 = r2_score(y_test, linreg_test_pred)\n",
    "print(f\"linear regression train R^2: {linreg_train_r2:.4f}\")\n",
    "print(f\"linear regression test R^2: {linreg_test_r2:.4f}\")"
   ]
  },
  {
   "cell_type": "code",
   "execution_count": 139,
   "id": "d3ffd26c",
   "metadata": {
    "deletable": false,
    "editable": false
   },
   "outputs": [
    {
     "data": {
      "text/html": [
       "<p><strong><pre style='display: inline;'>q3.2</pre></strong> passed!</p>"
      ],
      "text/plain": [
       "q3.2 results: All test cases passed!"
      ]
     },
     "execution_count": 139,
     "metadata": {},
     "output_type": "execute_result"
    }
   ],
   "source": [
    "grader.check(\"q3.2\")"
   ]
  },
  {
   "cell_type": "markdown",
   "id": "435b6cec",
   "metadata": {},
   "source": [
    "<!-- END QUESTION -->\n",
    "\n",
    "<!-- BEGIN QUESTION -->\n",
    "\n",
    "<div class='exercise-r'>\n",
    "\n",
    "\n",
    "**3.3.1** Standardize both **X_train** and **X_test**, *fitting the scaler on all the data*, and for each number of components $k$ in $k \\in \\{1,2,3,4,5,6,8,10,12,15,20\\}$: \n",
    "\n",
    "  - Fit the PCA transformation with n_components = $k$ on the standardized **X_train**.\n",
    "    \n",
    "  - Apply the PCA transformation to the standardized **X_train**.\n",
    "    \n",
    "  - Use scikit-learn's cross_validate(...) to perform a 10-fold cross validation for a linear regression model on the transformed training data. \n",
    "    \n",
    "  Plot the mean validation MSE for each $k$. Store the best $k$ based on the mean validation MSE as `best_k`.\n",
    "    \n",
    "</div>\n",
    "\n",
    "_Points:_ 14"
   ]
  },
  {
   "cell_type": "code",
   "execution_count": 140,
   "id": "1a859cd3-098f-462e-98d5-6ecabe1bd917",
   "metadata": {},
   "outputs": [],
   "source": [
    "scaler = StandardScaler().fit(np.concatenate([X_train.values, X_test.values], axis=0))\n",
    "X_train_scaled = scaler.transform(X_train.values)\n",
    "X_test_scaled = scaler.transform(X_test.values)\n",
    "\n",
    "X_train_scaled = pd.DataFrame(X_train_scaled, columns=X_train.columns)\n",
    "X_test_scaled = pd.DataFrame(X_test_scaled, columns=X_test.columns)"
   ]
  },
  {
   "cell_type": "code",
   "execution_count": 153,
   "id": "2801dda3",
   "metadata": {
    "tags": []
   },
   "outputs": [
    {
     "name": "stdout",
     "output_type": "stream",
     "text": [
      "The best k is 10.\n"
     ]
    }
   ],
   "source": [
    "# your code here\n",
    "k_list =[1,2,3,4,5,6,8,10,12,15,20]\n",
    "train_mses=[]\n",
    "val_stds=[]\n",
    "val_mses=[]\n",
    "train_stds=[]\n",
    "\n",
    "\n",
    "for k in k_list:\n",
    "    pca = PCA(n_components=k).fit(X_train_scaled)\n",
    "    X_pca = pca.transform(X_train_scaled)\n",
    "    lm = LinearRegression().fit(X_pca, y_train)\n",
    "    cv = cross_validate(lm,\n",
    "                        X_pca[:,:k],\n",
    "                        y_train,\n",
    "                        scoring='neg_mean_squared_error',\n",
    "                        return_train_score=True)\n",
    "    train_mses.append(cv['train_score'].mean()*-1)\n",
    "    train_stds.append(cv['train_score'].std())\n",
    "    val_mses.append(cv['test_score'].mean()*-1)\n",
    "    val_stds.append(cv['test_score'].std())\n",
    "    \n",
    "    \n",
    "\n",
    "best_k = k_list[np.argmin(val_mses)+1]\n",
    "print(f\"The best k is {best_k}.\")"
   ]
  },
  {
   "cell_type": "code",
   "execution_count": 154,
   "id": "7a8aa461",
   "metadata": {
    "deletable": false,
    "editable": false
   },
   "outputs": [
    {
     "data": {
      "text/html": [
       "<p><strong><pre style='display: inline;'>q3.3.1</pre></strong> passed!</p>"
      ],
      "text/plain": [
       "q3.3.1 results: All test cases passed!"
      ]
     },
     "execution_count": 154,
     "metadata": {},
     "output_type": "execute_result"
    }
   ],
   "source": [
    "grader.check(\"q3.3.1\")"
   ]
  },
  {
   "cell_type": "markdown",
   "id": "4bc41049",
   "metadata": {},
   "source": [
    "<!-- END QUESTION -->\n",
    "\n",
    "<div class='exercise-r'>\n",
    "    \n",
    "\n",
    "**3.3.2** Now let's compute the $R^2$ value on the testing data:\n",
    "  - Fit the PCA transformation on the standardized **X_train** with n_components equal to the best $k$ above.\n",
    "  - Apply the PCA transformation to the standardized **X_train** and the standardized **X_test**. \n",
    "  - Fit a linear regression model to the PCA-transformed components. Store the train and test $R^2$ scores in `pcr_train_r2` and `pcr_test_r2` respectively.\n",
    "    \n",
    "</div>\n",
    "\n",
    "_Points:_ 6"
   ]
  },
  {
   "cell_type": "code",
   "execution_count": 155,
   "id": "4cdf4ecc",
   "metadata": {
    "tags": []
   },
   "outputs": [
    {
     "name": "stdout",
     "output_type": "stream",
     "text": [
      "PCR train R^2: 0.6377\n",
      "PCR test R^2: 0.6846\n"
     ]
    }
   ],
   "source": [
    "# your code here\n",
    "pca = PCA(n_components=best_k).fit(X_train_scaled)\n",
    "X_pca = pca.transform(X_train_scaled)\n",
    "X_pca_test = pca.transform(X_test_scaled)\n",
    "pcr = LinearRegression().fit(X_pca[:,:best_k], y_train)\n",
    "pcr_train_r2 = pcr.score(X_pca[:, :best_k], y_train)\n",
    "pcr_test_r2 = pcr.score(X_pca_test[:, :best_k], y_test)\n",
    "print(f\"PCR train R^2: {pcr_train_r2:.4f}\")\n",
    "print(f\"PCR test R^2: {pcr_test_r2:.4f}\")"
   ]
  },
  {
   "cell_type": "code",
   "execution_count": 156,
   "id": "cbbff0e9",
   "metadata": {
    "deletable": false,
    "editable": false
   },
   "outputs": [
    {
     "data": {
      "text/html": [
       "<p><strong><pre style='display: inline;'>q3.3.2</pre></strong> passed!</p>"
      ],
      "text/plain": [
       "q3.3.2 results: All test cases passed!"
      ]
     },
     "execution_count": 156,
     "metadata": {},
     "output_type": "execute_result"
    }
   ],
   "source": [
    "grader.check(\"q3.3.2\")"
   ]
  },
  {
   "cell_type": "markdown",
   "id": "ae211dc4",
   "metadata": {},
   "source": [
    "<!-- BEGIN QUESTION -->\n",
    "\n",
    "<div class='exercise-r'>\n",
    "\n",
    "**3.4** Compare the $R^2$ value obtained from **3.2** (original predictors) and **3.3.2** (PCR). Provide an explanation for the observed difference in these results.\n",
    "    \n",
    "</div>\n",
    "\n",
    "_Points:_ 3"
   ]
  },
  {
   "cell_type": "code",
   "execution_count": 157,
   "id": "01325d23",
   "metadata": {},
   "outputs": [
    {
     "data": {
      "text/html": [
       "<div>\n",
       "<style scoped>\n",
       "    .dataframe tbody tr th:only-of-type {\n",
       "        vertical-align: middle;\n",
       "    }\n",
       "\n",
       "    .dataframe tbody tr th {\n",
       "        vertical-align: top;\n",
       "    }\n",
       "\n",
       "    .dataframe thead th {\n",
       "        text-align: right;\n",
       "    }\n",
       "</style>\n",
       "<table border=\"1\" class=\"dataframe\">\n",
       "  <thead>\n",
       "    <tr style=\"text-align: right;\">\n",
       "      <th></th>\n",
       "      <th>train $R^2$</th>\n",
       "      <th>test $R^2$</th>\n",
       "    </tr>\n",
       "    <tr>\n",
       "      <th>model</th>\n",
       "      <th></th>\n",
       "      <th></th>\n",
       "    </tr>\n",
       "  </thead>\n",
       "  <tbody>\n",
       "    <tr>\n",
       "      <th>linear regression (original predictors)</th>\n",
       "      <td>0.846</td>\n",
       "      <td>0.219</td>\n",
       "    </tr>\n",
       "    <tr>\n",
       "      <th>PCR (k=10)</th>\n",
       "      <td>0.638</td>\n",
       "      <td>0.685</td>\n",
       "    </tr>\n",
       "  </tbody>\n",
       "</table>\n",
       "</div>"
      ],
      "text/plain": [
       "                                         train $R^2$  test $R^2$\n",
       "model                                                           \n",
       "linear regression (original predictors)        0.846       0.219\n",
       "PCR (k=10)                                     0.638       0.685"
      ]
     },
     "execution_count": 157,
     "metadata": {},
     "output_type": "execute_result"
    }
   ],
   "source": [
    "# Display your results\n",
    "pd.DataFrame([\n",
    "    {'model': 'linear regression (original predictors)',\n",
    "     'train $R^2$': linreg_train_r2,\n",
    "     'test $R^2$': linreg_test_r2},\n",
    "    {'model': f'PCR (k={best_k})',\n",
    "     'train $R^2$': pcr_train_r2,\n",
    "     'test $R^2$': pcr_test_r2},\n",
    "]).set_index('model')"
   ]
  },
  {
   "cell_type": "markdown",
   "id": "b9021f36",
   "metadata": {},
   "source": [
    "linear regression has higher train R^2 but lower test R^2 compared to PCR, suggesting lg overfits on the training data. PCR has relative same test and train R^2, bc it takes into acount the predictors that account for most of the change in y."
   ]
  },
  {
   "cell_type": "markdown",
   "id": "febd6838",
   "metadata": {},
   "source": [
    "<!-- END QUESTION -->\n",
    "\n",
    "<a id=\"part2q4\"></a>\n",
    "\n",
    "## <div class='exercise'><b> Question 4: Visualizing Transformed Data [10 pts]</b></div>\n",
    "\n",
    "[Return to contents](#contents)\n",
    "\n",
    "In this question, we will be using a dataset called \"Better Life Index\" adapted from [Organisation for Economic Co-operation and Development](https://stats.oecd.org/). The modified dataset contains 24 numerical variables and 1 categorical variable. The categorical variable `Country` is the name of the country. Some of the numerical variables include:\n",
    "\n",
    "- `Dwellings without basic facilities`\n",
    "- `Housing expenditure`\n",
    "- `Rooms per person`\n",
    "- `Household net adjusted disposable income`\n",
    "- `Household net financial wealth`\n",
    "- ..."
   ]
  },
  {
   "cell_type": "code",
   "execution_count": 158,
   "id": "56e44f57",
   "metadata": {},
   "outputs": [
    {
     "name": "stdout",
     "output_type": "stream",
     "text": [
      "df shape: (38, 25)\n"
     ]
    },
    {
     "data": {
      "text/html": [
       "<div>\n",
       "<style scoped>\n",
       "    .dataframe tbody tr th:only-of-type {\n",
       "        vertical-align: middle;\n",
       "    }\n",
       "\n",
       "    .dataframe tbody tr th {\n",
       "        vertical-align: top;\n",
       "    }\n",
       "\n",
       "    .dataframe thead th {\n",
       "        text-align: right;\n",
       "    }\n",
       "</style>\n",
       "<table border=\"1\" class=\"dataframe\">\n",
       "  <thead>\n",
       "    <tr style=\"text-align: right;\">\n",
       "      <th></th>\n",
       "      <th>Country</th>\n",
       "      <th>Dwellings without basic facilities</th>\n",
       "      <th>Housing expenditure</th>\n",
       "      <th>Rooms per person</th>\n",
       "      <th>Household net adjusted disposable income</th>\n",
       "      <th>Household net financial wealth</th>\n",
       "      <th>Labour market insecurity</th>\n",
       "      <th>Employment rate</th>\n",
       "      <th>Long-term unemployment rate</th>\n",
       "      <th>Personal earnings</th>\n",
       "      <th>Quality of support network</th>\n",
       "      <th>Educational attainment</th>\n",
       "      <th>Student skills</th>\n",
       "      <th>Years in education</th>\n",
       "      <th>Air pollution</th>\n",
       "      <th>Water quality</th>\n",
       "      <th>Stakeholder engagement for developing regulations</th>\n",
       "      <th>Voter turnout</th>\n",
       "      <th>Life expectancy</th>\n",
       "      <th>Self-reported health</th>\n",
       "      <th>Life satisfaction</th>\n",
       "      <th>Feeling safe walking alone at night</th>\n",
       "      <th>Homicide rate</th>\n",
       "      <th>Employees working very long hours</th>\n",
       "      <th>Time devoted to leisure and personal care</th>\n",
       "    </tr>\n",
       "  </thead>\n",
       "  <tbody>\n",
       "    <tr>\n",
       "      <th>0</th>\n",
       "      <td>Australia</td>\n",
       "      <td>1.1</td>\n",
       "      <td>20</td>\n",
       "      <td>2.3</td>\n",
       "      <td>33417</td>\n",
       "      <td>57462</td>\n",
       "      <td>4.3</td>\n",
       "      <td>72</td>\n",
       "      <td>1.36</td>\n",
       "      <td>52063</td>\n",
       "      <td>94</td>\n",
       "      <td>80</td>\n",
       "      <td>502</td>\n",
       "      <td>21.2</td>\n",
       "      <td>5</td>\n",
       "      <td>92</td>\n",
       "      <td>2.7</td>\n",
       "      <td>91</td>\n",
       "      <td>82.5</td>\n",
       "      <td>85</td>\n",
       "      <td>7.3</td>\n",
       "      <td>63.6</td>\n",
       "      <td>1.0</td>\n",
       "      <td>13.20</td>\n",
       "      <td>14.35</td>\n",
       "    </tr>\n",
       "    <tr>\n",
       "      <th>1</th>\n",
       "      <td>Austria</td>\n",
       "      <td>1.0</td>\n",
       "      <td>21</td>\n",
       "      <td>1.6</td>\n",
       "      <td>32544</td>\n",
       "      <td>59574</td>\n",
       "      <td>2.7</td>\n",
       "      <td>72</td>\n",
       "      <td>1.94</td>\n",
       "      <td>48295</td>\n",
       "      <td>92</td>\n",
       "      <td>85</td>\n",
       "      <td>492</td>\n",
       "      <td>17.1</td>\n",
       "      <td>16</td>\n",
       "      <td>93</td>\n",
       "      <td>1.3</td>\n",
       "      <td>75</td>\n",
       "      <td>81.3</td>\n",
       "      <td>70</td>\n",
       "      <td>7.0</td>\n",
       "      <td>80.7</td>\n",
       "      <td>0.4</td>\n",
       "      <td>6.78</td>\n",
       "      <td>14.55</td>\n",
       "    </tr>\n",
       "    <tr>\n",
       "      <th>2</th>\n",
       "      <td>Belgium</td>\n",
       "      <td>2.3</td>\n",
       "      <td>21</td>\n",
       "      <td>2.2</td>\n",
       "      <td>29968</td>\n",
       "      <td>104084</td>\n",
       "      <td>4.8</td>\n",
       "      <td>62</td>\n",
       "      <td>3.98</td>\n",
       "      <td>49587</td>\n",
       "      <td>92</td>\n",
       "      <td>75</td>\n",
       "      <td>503</td>\n",
       "      <td>18.2</td>\n",
       "      <td>15</td>\n",
       "      <td>84</td>\n",
       "      <td>2.2</td>\n",
       "      <td>89</td>\n",
       "      <td>81.1</td>\n",
       "      <td>75</td>\n",
       "      <td>6.9</td>\n",
       "      <td>70.7</td>\n",
       "      <td>1.0</td>\n",
       "      <td>4.31</td>\n",
       "      <td>15.77</td>\n",
       "    </tr>\n",
       "    <tr>\n",
       "      <th>3</th>\n",
       "      <td>Canada</td>\n",
       "      <td>0.2</td>\n",
       "      <td>22</td>\n",
       "      <td>2.5</td>\n",
       "      <td>29850</td>\n",
       "      <td>85758</td>\n",
       "      <td>3.9</td>\n",
       "      <td>73</td>\n",
       "      <td>0.81</td>\n",
       "      <td>48403</td>\n",
       "      <td>93</td>\n",
       "      <td>91</td>\n",
       "      <td>523</td>\n",
       "      <td>16.7</td>\n",
       "      <td>7</td>\n",
       "      <td>91</td>\n",
       "      <td>3.0</td>\n",
       "      <td>68</td>\n",
       "      <td>81.5</td>\n",
       "      <td>88</td>\n",
       "      <td>7.3</td>\n",
       "      <td>80.9</td>\n",
       "      <td>1.4</td>\n",
       "      <td>3.73</td>\n",
       "      <td>14.41</td>\n",
       "    </tr>\n",
       "    <tr>\n",
       "      <th>4</th>\n",
       "      <td>Chile</td>\n",
       "      <td>9.4</td>\n",
       "      <td>18</td>\n",
       "      <td>1.9</td>\n",
       "      <td>16588</td>\n",
       "      <td>21409</td>\n",
       "      <td>8.1</td>\n",
       "      <td>62</td>\n",
       "      <td>2.02</td>\n",
       "      <td>28434</td>\n",
       "      <td>84</td>\n",
       "      <td>65</td>\n",
       "      <td>443</td>\n",
       "      <td>17.3</td>\n",
       "      <td>16</td>\n",
       "      <td>69</td>\n",
       "      <td>1.5</td>\n",
       "      <td>49</td>\n",
       "      <td>79.1</td>\n",
       "      <td>57</td>\n",
       "      <td>6.7</td>\n",
       "      <td>51.1</td>\n",
       "      <td>4.5</td>\n",
       "      <td>10.06</td>\n",
       "      <td>14.90</td>\n",
       "    </tr>\n",
       "  </tbody>\n",
       "</table>\n",
       "</div>"
      ],
      "text/plain": [
       "     Country  Dwellings without basic facilities  Housing expenditure  \\\n",
       "0  Australia                                 1.1                   20   \n",
       "1    Austria                                 1.0                   21   \n",
       "2    Belgium                                 2.3                   21   \n",
       "3     Canada                                 0.2                   22   \n",
       "4      Chile                                 9.4                   18   \n",
       "\n",
       "   Rooms per person  Household net adjusted disposable income  \\\n",
       "0               2.3                                     33417   \n",
       "1               1.6                                     32544   \n",
       "2               2.2                                     29968   \n",
       "3               2.5                                     29850   \n",
       "4               1.9                                     16588   \n",
       "\n",
       "   Household net financial wealth  Labour market insecurity  Employment rate  \\\n",
       "0                           57462                       4.3               72   \n",
       "1                           59574                       2.7               72   \n",
       "2                          104084                       4.8               62   \n",
       "3                           85758                       3.9               73   \n",
       "4                           21409                       8.1               62   \n",
       "\n",
       "   Long-term unemployment rate  Personal earnings  Quality of support network  \\\n",
       "0                         1.36              52063                          94   \n",
       "1                         1.94              48295                          92   \n",
       "2                         3.98              49587                          92   \n",
       "3                         0.81              48403                          93   \n",
       "4                         2.02              28434                          84   \n",
       "\n",
       "   Educational attainment  Student skills  Years in education  Air pollution  \\\n",
       "0                      80             502                21.2              5   \n",
       "1                      85             492                17.1             16   \n",
       "2                      75             503                18.2             15   \n",
       "3                      91             523                16.7              7   \n",
       "4                      65             443                17.3             16   \n",
       "\n",
       "   Water quality  Stakeholder engagement for developing regulations  \\\n",
       "0             92                                                2.7   \n",
       "1             93                                                1.3   \n",
       "2             84                                                2.2   \n",
       "3             91                                                3.0   \n",
       "4             69                                                1.5   \n",
       "\n",
       "   Voter turnout  Life expectancy  Self-reported health  Life satisfaction  \\\n",
       "0             91             82.5                    85                7.3   \n",
       "1             75             81.3                    70                7.0   \n",
       "2             89             81.1                    75                6.9   \n",
       "3             68             81.5                    88                7.3   \n",
       "4             49             79.1                    57                6.7   \n",
       "\n",
       "   Feeling safe walking alone at night  Homicide rate  \\\n",
       "0                                 63.6            1.0   \n",
       "1                                 80.7            0.4   \n",
       "2                                 70.7            1.0   \n",
       "3                                 80.9            1.4   \n",
       "4                                 51.1            4.5   \n",
       "\n",
       "   Employees working very long hours  \\\n",
       "0                              13.20   \n",
       "1                               6.78   \n",
       "2                               4.31   \n",
       "3                               3.73   \n",
       "4                              10.06   \n",
       "\n",
       "   Time devoted to leisure and personal care  \n",
       "0                                      14.35  \n",
       "1                                      14.55  \n",
       "2                                      15.77  \n",
       "3                                      14.41  \n",
       "4                                      14.90  "
      ]
     },
     "execution_count": 158,
     "metadata": {},
     "output_type": "execute_result"
    }
   ],
   "source": [
    "# Load and inspect the datasets\n",
    "df = pd.read_csv(\"data/OECD_well-being.csv\", index_col = 0)\n",
    "print('df shape:', df.shape)\n",
    "df.head()"
   ]
  },
  {
   "cell_type": "code",
   "execution_count": 159,
   "id": "f79adeae",
   "metadata": {},
   "outputs": [],
   "source": [
    "# Separate predictors and response\n",
    "country, X = df['Country'], df.drop(columns='Country').values"
   ]
  },
  {
   "cell_type": "markdown",
   "id": "3918d202",
   "metadata": {},
   "source": [
    "<div class='exercise-r'>\n",
    "\n",
    "**4.1** Standardize **X** and apply a PCA transformation with n_components = 2 to your standardized data. Save the transformed data as `X_transformed`.\n",
    "    \n",
    "</div>\n",
    "\n",
    "\n",
    "_Points:_ 2"
   ]
  },
  {
   "cell_type": "code",
   "execution_count": 160,
   "id": "13e6a090-890e-4392-a278-a76d65f4b1a1",
   "metadata": {},
   "outputs": [],
   "source": [
    "scaler = StandardScaler().fit(X)\n",
    "X_scaled = scaler.transform(X)\n",
    "# X_test_scaled = scaler.transform(X_test.values)\n",
    "\n",
    "# X_scaled = pd.DataFrame(X_train_scaled, columns=X.columns)\n",
    "# X_test_scaled = pd.DataFrame(X_test_scaled, columns=X_test.columns)"
   ]
  },
  {
   "cell_type": "code",
   "execution_count": 161,
   "id": "c5ec6557",
   "metadata": {
    "tags": []
   },
   "outputs": [],
   "source": [
    "pca = PCA(n_components=2).fit(X_scaled)\n",
    "X_transformed = pca.transform(X_scaled)\n",
    "# X_transformed = ..."
   ]
  },
  {
   "cell_type": "code",
   "execution_count": 162,
   "id": "ab73a555-0dee-4662-9de2-6634ced7cb27",
   "metadata": {},
   "outputs": [
    {
     "data": {
      "text/plain": [
       "(38, 2)"
      ]
     },
     "execution_count": 162,
     "metadata": {},
     "output_type": "execute_result"
    }
   ],
   "source": [
    "X_transformed.shape"
   ]
  },
  {
   "cell_type": "code",
   "execution_count": 163,
   "id": "9da02ab4",
   "metadata": {
    "deletable": false,
    "editable": false
   },
   "outputs": [
    {
     "data": {
      "text/html": [
       "<p><strong><pre style='display: inline;'>q4.1</pre></strong> passed!</p>"
      ],
      "text/plain": [
       "q4.1 results: All test cases passed!"
      ]
     },
     "execution_count": 163,
     "metadata": {},
     "output_type": "execute_result"
    }
   ],
   "source": [
    "grader.check(\"q4.1\")"
   ]
  },
  {
   "cell_type": "markdown",
   "id": "7ed61273",
   "metadata": {},
   "source": [
    "<!-- BEGIN QUESTION -->\n",
    "\n",
    "<div class='exercise-r'>\n",
    "\n",
    "**4.2** Make a scatter plot for the transformed data, where the x-axis corresponds to the first principal component, and the y-axis corresponds to the second principal component. The plot should state the amount of variance explained by each component. \n",
    "\n",
    "Label each point by its corresponding country name. Do you observe any pattern in the scatter plot? Be specific and explain.\n",
    "    \n",
    "</div>\n",
    "\n",
    "_Points:_ 6"
   ]
  },
  {
   "cell_type": "markdown",
   "id": "89ede7a6",
   "metadata": {},
   "source": [
    "different countries are influeced by pc by different levels. it seems the more devevoped a country is , the less it's explained by 2nd principal component and negatively impacted by the 1st component; the less developed country ie south africa, is stongly impacted by both 1st and 2nd PC; developing countries are more impacted by the 1st pc. Korea and Japan are more negatively impacted by the 2nd PC."
   ]
  },
  {
   "cell_type": "code",
   "execution_count": 164,
   "id": "faf0d67c",
   "metadata": {
    "tags": []
   },
   "outputs": [
    {
     "data": {
      "text/plain": [
       "Text(0, 0.5, '2nd PC')"
      ]
     },
     "execution_count": 164,
     "metadata": {},
     "output_type": "execute_result"
    },
    {
     "data": {
      "image/png": "[encoded data removed]",
      "text/plain": [
       "<Figure size 640x480 with 1 Axes>"
      ]
     },
     "metadata": {},
     "output_type": "display_data"
    }
   ],
   "source": [
    "plt.scatter(X_transformed[:,0], X_transformed[:,1])\n",
    "plt.title('PCA country')\n",
    "for i, txt in enumerate(country):\n",
    "    plt.annotate(txt, (X_transformed[:,0][i], X_transformed[:,1][i]), fontsize = 5)\n",
    "plt.xlabel('1st PC')\n",
    "plt.ylabel('2nd PC')"
   ]
  },
  {
   "cell_type": "markdown",
   "id": "43d07cce",
   "metadata": {},
   "source": [
    "<!-- END QUESTION -->\n",
    "\n",
    "<!-- BEGIN QUESTION -->\n",
    "\n",
    "<div class='exercise-r'>\n",
    "\n",
    "**4.3** In question 3, where we also used PCA, we had a training and a test set. In question 4 we did not split the data. Explain why.\n",
    "    \n",
    "</div>\n",
    "\n",
    "_Points:_ 2"
   ]
  },
  {
   "cell_type": "markdown",
   "id": "982665d4",
   "metadata": {},
   "source": [
    "bc in Q3, we are traing a predictive model, so that we need the training and test; but Q4, we are inferencing not predicting, s.t. we do not need to split the data, only infering the pattern."
   ]
  },
  {
   "cell_type": "markdown",
   "id": "bbac17e2",
   "metadata": {},
   "source": [
    "<!-- END QUESTION -->\n",
    "\n",
    "**This concludes HW4. Thank you!**\n",
    "\n",
    "[Return to contents](#contents)"
   ]
  }
 ],
 "metadata": {
  "interpreter": {
   "hash": "aee8b7b246df8f9039afb4144a1f6fd8d2ca17a180786b69acc140d282b71a49"
  },
  "kernelspec": {
   "display_name": "Python 3 (ipykernel)",
   "language": "python",
   "name": "python3"
  },
  "language_info": {
   "codemirror_mode": {
    "name": "ipython",
    "version": 3
   },
   "file_extension": ".py",
   "mimetype": "text/x-python",
   "name": "python",
   "nbconvert_exporter": "python",
   "pygments_lexer": "ipython3",
   "version": "3.9.12"
  },
  "otter": {
   "OK_FORMAT": true,
   "tests": {
    "q1.1": {
     "name": "q1.1",
     "points": 4,
     "suites": [
      {
       "cases": [
        {
         "code": ">>> def test_n_rows_with_missingness():\n...     assert isinstance(n_rows_with_missingness, (int, np.integer)), \"n_rows_with_missingness should be an integer\" \n...     assert n_rows_with_missingness >=0, \"n_rows_with_missingness should be non-negative\" \n>>> test_n_rows_with_missingness()\n",
         "hidden": false,
         "locked": false,
         "points": 0
        },
        {
         "code": ">>> def test_n_cols_with_missingness():\n...     assert isinstance(n_cols_with_missingness, (int, np.integer)), \"n_cols_with_missingness should be an integer\" \n...     assert n_cols_with_missingness >=0, \"n_cols_with_missingness should be non-negative\" \n>>> test_n_cols_with_missingness()\n",
         "hidden": false,
         "locked": false,
         "points": 0
        },
        {
         "code": ">>> def test_col_missingness():\n...     col_missingness_sol = X_train.isna().sum(axis=0)\n...     assert type(col_missingness) == pd.Series, \"col_missingness should be a Pandas Series object\"\n...     assert all([type(i) == str for i in col_missingness.index]), \"Indices of col_missingness should be strings (i.e., the column names)\"\n...     assert set(col_missingness.index) == set(X_train.columns), \"Indices of col_missingness shoudl be the names of the X_train columns.\"\n...     assert all([np.issubdtype(v, np.integer) for v in col_missingness.values]), \"Values in col_missingness should be some type of integer\"\n>>> test_col_missingness()\n",
         "hidden": false,
         "locked": false,
         "points": 1
        }
       ],
       "scored": true,
       "setup": "",
       "teardown": "",
       "type": "doctest"
      }
     ]
    },
    "q2.1": {
     "name": "q2.1",
     "points": 12,
     "suites": [
      {
       "cases": [
        {
         "code": ">>> assert linreg_meanimp_r2 > 0.1 and linreg_meanimp_r2 < 0.2,\\\n... \"The true linreg_meanimp_r2 is between 0.1 and 0.2\"\n",
         "hidden": false,
         "locked": false,
         "points": 3
        },
        {
         "code": ">>> assert knn_meanimp_r2 > 0.35 and knn_meanimp_r2 < 0.45,\\\n... \"The true knn_meanimp_r2 is between 0.35 and 0.45\"\n",
         "hidden": false,
         "locked": false,
         "points": 3
        }
       ],
       "scored": true,
       "setup": "",
       "teardown": "",
       "type": "doctest"
      }
     ]
    },
    "q2.2": {
     "name": "q2.2",
     "points": 12,
     "suites": [
      {
       "cases": [
        {
         "code": ">>> assert linreg_knnimp_r2 > 0.2 and linreg_meanimp_r2 < 0.3,\\\n... \"The true linreg_knnimp_r2 is between 0.2 and 0.3\"\n",
         "hidden": false,
         "locked": false,
         "points": 3
        },
        {
         "code": ">>> assert knn_knnimp_r2 > 0.55 and knn_knnimp_r2 < 0.65,\\\n... \"The true knn_knnimp_r2 is between 0.55 and 0.65\"\n",
         "hidden": false,
         "locked": false,
         "points": 3
        }
       ],
       "scored": true,
       "setup": "",
       "teardown": "",
       "type": "doctest"
      }
     ]
    },
    "q2.3": {
     "name": "q2.3",
     "points": 12,
     "suites": [
      {
       "cases": [
        {
         "code": ">>> assert linreg_indic_r2 > 0.2 and linreg_indic_r2 < 0.5,\\\n... \"The true linreg_indic_r2 is between 0.2 and 0.5\"\n",
         "hidden": false,
         "locked": false,
         "points": 3
        },
        {
         "code": ">>> assert knn_indic_r2 > 0.55 and knn_indic_r2 < 0.75,\\\n... \"The true knn_indic_r2 is between 0.55 and 0.75\"\n",
         "hidden": false,
         "locked": false,
         "points": 3
        }
       ],
       "scored": true,
       "setup": "",
       "teardown": "",
       "type": "doctest"
      }
     ]
    },
    "q3.1": {
     "name": "q3.1",
     "points": 6,
     "suites": [
      {
       "cases": [
        {
         "code": ">>> assert type(high_corr) == dict and len(high_corr) == 9,\\\n... \"high_corr should be a dict with 9 entries\"\n",
         "hidden": false,
         "locked": false,
         "points": 1
        },
        {
         "code": ">>> assert all([type(k) == tuple and len(k) == 2 for k in high_corr.keys()]),\\\n... \"keys of high_corr should be tuples of length 2\"\n",
         "hidden": false,
         "locked": false,
         "points": 1
        },
        {
         "code": ">>> assert all([isinstance(v, (float, np.float_)) and v >= -1 and v <= 1for v in high_corr.values()]),\\\n... \"values of high_corr should be floats between -1 and 1 (inclusive).\"\n",
         "hidden": false,
         "locked": false,
         "points": 1
        }
       ],
       "scored": true,
       "setup": "",
       "teardown": "",
       "type": "doctest"
      }
     ]
    },
    "q3.2": {
     "name": "q3.2",
     "points": 6,
     "suites": [
      {
       "cases": [
        {
         "code": ">>> assert linreg_train_r2 > 0.1 and linreg_train_r2 < 0.9,\\\n... \"The true linreg_train_r2 is between 0.1 and 0.9\"\n",
         "hidden": false,
         "locked": false,
         "points": 0.5
        },
        {
         "code": ">>> assert linreg_test_r2 > 0.1 and linreg_test_r2 < 0.9,\\\n... \"The true linreg_test_r2 is between 0.1 and 0.9\"\n",
         "hidden": false,
         "locked": false,
         "points": 0.5
        }
       ],
       "scored": true,
       "setup": "",
       "teardown": "",
       "type": "doctest"
      }
     ]
    },
    "q3.3.1": {
     "name": "q3.3.1",
     "points": 14,
     "suites": [
      {
       "cases": [
        {
         "code": ">>> assert best_k > 4 and best_k < 15,\\\n... \"The true best_k is between 4 and 15\"\n",
         "hidden": false,
         "locked": false,
         "points": 2
        }
       ],
       "scored": true,
       "setup": "",
       "teardown": "",
       "type": "doctest"
      }
     ]
    },
    "q3.3.2": {
     "name": "q3.3.2",
     "points": 6,
     "suites": [
      {
       "cases": [
        {
         "code": ">>> assert pcr_train_r2 > 0.2 and pcr_train_r2 < 0.8,\\\n... \"The true pcr_train_r2 is between 0.2 and 0.8\"\n",
         "hidden": false,
         "locked": false,
         "points": 0.5
        },
        {
         "code": ">>> assert pcr_test_r2 > 0.2 and pcr_test_r2 < 0.8,\\\n... \"The true pcr_test_r2 is between 0.2 and 0.8\"\n",
         "hidden": false,
         "locked": false,
         "points": 0.5
        }
       ],
       "scored": true,
       "setup": "",
       "teardown": "",
       "type": "doctest"
      }
     ]
    },
    "q4.1": {
     "name": "q4.1",
     "points": 2,
     "suites": [
      {
       "cases": [
        {
         "code": ">>> assert X_transformed.shape == (38, 2),\\\n... \"The transformed data should have shape (38, 2).\"\n",
         "hidden": false,
         "locked": false,
         "points": 0.5
        },
        {
         "code": ">>> assert np.isclose(X_transformed.mean(), 0),\\\n... \"The mean of the transformed data should be 0 (or very close given machine precision).\"\n",
         "hidden": false,
         "locked": false,
         "points": 0.5
        }
       ],
       "scored": true,
       "setup": "",
       "teardown": "",
       "type": "doctest"
      }
     ]
    }
   }
  }
 },
 "nbformat": 4,
 "nbformat_minor": 5
}
