{
 "cells": [
  {
   "cell_type": "code",
   "execution_count": 1,
   "metadata": {
    "deletable": false,
    "editable": false
   },
   "outputs": [],
   "source": [
    "# Initialize Otter\n",
    "import otter\n",
    "grader = otter.Notebook(\"cs109a_hw5.ipynb\")"
   ]
  },
  {
   "cell_type": "markdown",
   "metadata": {
    "tags": []
   },
   "source": [
    "# <img style=\"float: left; padding-right: 10px; width: 45px\" src=\"https://raw.githubusercontent.com/Harvard-IACS/2018-CS109A/master/content/styles/iacs.png\"> CS109A Introduction to Data Science: \n",
    "## Homework 5: Predicting College Admissions\n",
    "\n",
    "**Harvard University**<br/>\n",
    "**Fall 2022**<br/>\n",
    "**Instructors**: Pavlos Protopapas, Natesh Pillai\n",
    "\n",
    "<hr style=\"height:2.4pt\">"
   ]
  },
  {
   "cell_type": "code",
   "execution_count": 2,
   "metadata": {},
   "outputs": [
    {
     "data": {
      "text/html": [
       "<style>\n",
       "blockquote { background: #AEDE94; }\n",
       "h1 {\n",
       "    padding-top: 25px;\n",
       "    padding-bottom: 25px;\n",
       "    text-align: left;\n",
       "    padding-left: 10px;\n",
       "    background-color: #63ACBE;\n",
       "    color: black;\n",
       "}\n",
       "h2 {\n",
       "    padding-top: 10px;\n",
       "    padding-bottom: 10px;\n",
       "    text-align: left;\n",
       "    padding-left: 5px;\n",
       "    background-color: #EEEEEE;\n",
       "    color: black;\n",
       "}\n",
       "\n",
       "div.exercise {\n",
       "\tbackground-color: #f8b4ab;\n",
       "\tborder-color: #E9967A;\n",
       "\tborder-left: 5px solid #601A4A;\n",
       "\tpadding: 0.5em;\n",
       "}\n",
       "\n",
       "div.exercise-r {\n",
       "\tbackground-color: #ffd0d0;\n",
       "\tborder-color: #E9967A;\n",
       "\tborder-left: 5px solid #601A4A;\n",
       "\tpadding: 0.5em;\n",
       "}\n",
       "\n",
       "\n",
       "span.sub-q {\n",
       "\tfont-weight: bold;\n",
       "}\n",
       "div.theme {\n",
       "\tbackground-color: #63ACBE;\n",
       "\tborder-color: #E9967A;\n",
       "\tborder-left: 5px solid #601A4A;\n",
       "\tpadding: 0.5em;\n",
       "\tfont-size: 18pt;\n",
       "}\n",
       "div.gc {\n",
       "\tbackground-color: #AEDE94;\n",
       "\tborder-color: #E9967A;\n",
       "\tborder-left: 5px solid #601A4A;\n",
       "\tpadding: 0.5em;\n",
       "\tfont-size: 12pt;\n",
       "}\n",
       "p.q1 {\n",
       "    padding-top: 5px;\n",
       "    padding-bottom: 5px;\n",
       "    text-align: left;\n",
       "    padding-left: 5px;\n",
       "    background-color: #EEEEEE;\n",
       "    color: black;\n",
       "}\n",
       "header {\n",
       "   padding-top: 35px;\n",
       "    padding-bottom: 35px;\n",
       "    text-align: left;\n",
       "    padding-left: 10px;\n",
       "    background-color: #DDDDDD;\n",
       "    color: black;\n",
       "}\n",
       "span.emph {\n",
       "\tcolor: #601A4A;\n",
       "\tfont-weight: bold;\n",
       "}\n",
       "\n",
       "</style>\n"
      ],
      "text/plain": [
       "<IPython.core.display.HTML object>"
      ]
     },
     "execution_count": 2,
     "metadata": {},
     "output_type": "execute_result"
    }
   ],
   "source": [
    "# RUN THIS CELL \n",
    "import requests\n",
    "from IPython.core.display import HTML\n",
    "styles = requests.get(\n",
    "    \"https://raw.githubusercontent.com/Harvard-IACS/2021-CS109A/master/\"\n",
    "    \"themes/static/css/cs109.css\"\n",
    ").text\n",
    "HTML(styles)"
   ]
  },
  {
   "cell_type": "markdown",
   "metadata": {},
   "source": [
    "### Import Libraries"
   ]
  },
  {
   "cell_type": "code",
   "execution_count": 3,
   "metadata": {},
   "outputs": [],
   "source": [
    "# RUN THIS CELL\n",
    "import itertools\n",
    "import math\n",
    "\n",
    "import numpy as np\n",
    "import pandas as pd\n",
    "import seaborn as sns\n",
    "import matplotlib.pyplot as plt\n",
    "\n",
    "from sklearn.model_selection import train_test_split\n",
    "from sklearn.preprocessing import PolynomialFeatures\n",
    "from sklearn.preprocessing import StandardScaler\n",
    "from sklearn.model_selection import cross_validate\n",
    "\n",
    "from sklearn.linear_model import LogisticRegression\n",
    "from sklearn.neighbors import KNeighborsClassifier\n",
    "from sklearn.linear_model import LogisticRegressionCV\n",
    "\n",
    "from sklearn.metrics import accuracy_score\n",
    "from sklearn.metrics import roc_curve\n",
    "from sklearn.metrics import roc_auc_score\n",
    "\n",
    "# pandas tricks for better display\n",
    "pd.options.display.max_columns = 50  \n",
    "pd.options.display.max_rows = 500     \n",
    "pd.options.display.max_colwidth = 100\n",
    "pd.options.display.precision = 3\n",
    "\n",
    "%matplotlib inline"
   ]
  },
  {
   "cell_type": "markdown",
   "metadata": {},
   "source": [
    "#### Instructions\n",
    "- To submit your assignment follow the instructions given in Canvas.\n",
    "- Plots should be legible and interpretable without having to refer to the code that generated them, including labels for the $x$- and $y$-axes as well as a descriptive title and/or legend when appropriate.\n",
    "- When asked to interpret a visualization, do not simply describe it (e.g., \"the curve has a steep slope up\"), but instead explain what you think the plot *means*.\n",
    "- The use of 'hard-coded' values to try and pass tests rather than solving problems programmatically will not receive credit.\n",
    "- The use of *extremely* inefficient or error-prone code (e.g., copy-pasting nearly identical commands rather than looping) may result in only partial credit.\n",
    "- We have tried to include all the libraries you may need to do the assignment in the imports cell provided below. Please get course staff approval before importing any additional 3rd party libraries.\n",
    "- Enable scrolling output on cells with very long output.\n",
    "- Feel free to add additional code or markdown cells as needed.\n",
    "- Ensure your code runs top to bottom without error and passes all tests by restarting the kernel and running all cells. This is how the notebook will be evaluated (note that this can take a few minutes). \n",
    "- **You should do a \"Restart Kernel and Run All Cells\" before submitting to ensure (1) your notebook actually runs and (2) all output is visible**"
   ]
  },
  {
   "cell_type": "markdown",
   "metadata": {},
   "source": [
    "<a id=\"contents\"></a>\n",
    "\n",
    "## Notebook contents\n",
    "\n",
    "- [**Overview and data description**](#intro)\n",
    "\n",
    "\n",
    "- [**Question 1: Data exploration using train and basic models [16 pts]**](#part1)\n",
    "\n",
    "- [**Question 2: Interpretable modeling [18 pts]**](#part2)\n",
    "\n",
    "- [**Question 3: Harvard and Yale? [30 pts]**](#part3)\n",
    "\n",
    "- [**Question 4: Building predictive models for admitted [24 pts]**](#part4)\n",
    "\n",
    "- [**Question 5: Evaluating results [12 pts]**](#part5)"
   ]
  },
  {
   "cell_type": "markdown",
   "metadata": {},
   "source": [
    "<a id=\"intro\"></a>\n",
    "\n",
    "## Overview and data description\n",
    "\n",
    "[Return to contents](#contents)\n",
    "\n",
    "### Predicting admissions into elite universities\n",
    "\n",
    "In this problem set we will model the chances of high school students being accepted into two different elite undergraduate colleges (one is elite at least :) ): Harvard and Yale.  The data are provided in the file `data/college_admissions.csv` and were scraped from [collegedata.com](https://www.collegedata.com/) (where applicants volunteer to share their information).  Each observation corresponds to an applicant to one of the two different colleges (note: the same applicant may show up in two rows: once for each college).  The main response is the `\"admitted\"` variable (1 = admitted, 0 = denied), and there are are several predictors to consider:\n",
    "\n",
    "- **id**: a unique identifier for the applicant \n",
    "- **test_score**: a standardized measurement of the applicant's highest ACT or SAT combined score (2400 is the maximum)\n",
    "- **ap**: the number of AP tests taken\n",
    "- **avg_ap**: the average score on the AP tests taken (0 if no tests were taken)\n",
    "- **sat_subjects**: the number of SAT subject tests taken\n",
    "- **gpa**: the unweighted GPA of the applicant (max of 4.0)\n",
    "- **female**:  a binary indicator for gender: 1 = female, 0 = otherwise\n",
    "- **minority**: a binary indicator for under-represented minority: 1 = minority, 0 = otherwise \n",
    "- **international**: a binary indicator for international status: 1 = international, 0 = United States\n",
    "- **sports**: a binary indicator for High School All-American: 1 = all-American athlete, 0 = otherwise\n",
    "- **school**: a categorical variable for school applied to: \"Harvard\" or \"Yale\"\n",
    "- **early_app**: a binary indicator for application type: 1 = early action, 0 = regular\n",
    "- **alumni**:  a binary indicator for parents' alumni status of school: 1 = a parent is an alumnus, 0 = otherwise\n",
    "- **program**: the program applied to by the student with many choices (we will not use this as a predictor)\n",
    "- **add_info**: additional (optional) info provided by applicant (we will not use this as a predictor)\n",
    "\n",
    "**The main set of 12 predictors is:**\n",
    "\n",
    "```python\n",
    "[\n",
    "    \"test_score\", \"ap\", \"avg_ap\", \"sat_subjects\", \n",
    "    \"gpa\", \"female\", \"minority\", \"international\",\n",
    "    \"sports\", \"school\", \"early_app\", \"alumni\",\n",
    "]\n",
    "```\n",
    "\n",
    "Please note, you may need to modify this list when fitting different models, and you will be replacing the `\"school\"` variable with a binary `\"harvard\"` variable early in the questions below.\n",
    "\n",
    "\n",
    "**IMPORTANT NOTES:**\n",
    "\n",
    "- Unless stated otherwise, all logistic regression models should be unregularized (use `penalty=\"none\"`) and include the intercept (which is the default in `sklearn`).\n",
    "\n",
    "\n",
    "- When printing your output (e.g. coefficients, accuracy scores, etc.), DO NOT just print numbers without context. Please be certain provide clarifying labels for all printed numbers and limit the number of digits showing after decimals to a reasonable length (e.g. 4 decimal points for coefficients and accuracy scores).\n",
    "\n",
    "\n",
    "- Also be sure to practice good data science principles: always use train to do analysis and never touch the test set until the very end."
   ]
  },
  {
   "cell_type": "markdown",
   "metadata": {},
   "source": [
    "---"
   ]
  },
  {
   "cell_type": "markdown",
   "metadata": {},
   "source": [
    "<a id=\"part1\"></a>\n",
    "\n",
    "## <div class='exercise'>Question 1: Data exploration using train and basic models [16 pts]</div>\n",
    "\n",
    "[Return to contents](#contents)\n",
    "\n",
    "The first step is to split the observations into an approximate 80-20 train-test split.  Below is some code to do this for you (we want to make sure everyone has the same splits). It also prints the dataset's shape before splitting and after splitting. \n",
    "\n",
    "**IMPORTANT:** While an argument could be made to scale our predictors here, please **DO NOT** do so **UNTIL** it is requested of you in **[Question 4.1](#part4)**.\n"
   ]
  },
  {
   "cell_type": "code",
   "execution_count": 1,
   "metadata": {},
   "outputs": [
    {
     "ename": "NameError",
     "evalue": "name 'pd' is not defined",
     "output_type": "error",
     "traceback": [
      "\u001b[0;31m---------------------------------------------------------------------------\u001b[0m",
      "\u001b[0;31mNameError\u001b[0m                                 Traceback (most recent call last)",
      "Input \u001b[0;32mIn [1]\u001b[0m, in \u001b[0;36m<cell line: 5>\u001b[0;34m()\u001b[0m\n\u001b[1;32m      1\u001b[0m \u001b[38;5;66;03m#############################\u001b[39;00m\n\u001b[1;32m      2\u001b[0m \u001b[38;5;66;03m## DO NOT MODIFY THIS CODE ##\u001b[39;00m\n\u001b[1;32m      3\u001b[0m \u001b[38;5;66;03m#############################\u001b[39;00m\n\u001b[0;32m----> 5\u001b[0m college \u001b[38;5;241m=\u001b[39m \u001b[43mpd\u001b[49m\u001b[38;5;241m.\u001b[39mread_csv(\u001b[38;5;124m\"\u001b[39m\u001b[38;5;124mdata/college_admissions.csv\u001b[39m\u001b[38;5;124m\"\u001b[39m)\n\u001b[1;32m      6\u001b[0m np\u001b[38;5;241m.\u001b[39mrandom\u001b[38;5;241m.\u001b[39mseed(\u001b[38;5;241m121\u001b[39m)\n\u001b[1;32m      8\u001b[0m college_train, college_test \u001b[38;5;241m=\u001b[39m train_test_split(\n\u001b[1;32m      9\u001b[0m     college,\n\u001b[1;32m     10\u001b[0m     test_size\u001b[38;5;241m=\u001b[39m\u001b[38;5;241m0.2\u001b[39m,\n\u001b[0;32m   (...)\u001b[0m\n\u001b[1;32m     13\u001b[0m     stratify\u001b[38;5;241m=\u001b[39mcollege[\u001b[38;5;124m\"\u001b[39m\u001b[38;5;124mschool\u001b[39m\u001b[38;5;124m\"\u001b[39m],\n\u001b[1;32m     14\u001b[0m )\n",
      "\u001b[0;31mNameError\u001b[0m: name 'pd' is not defined"
     ]
    }
   ],
   "source": [
    "#############################\n",
    "## DO NOT MODIFY THIS CODE ##\n",
    "#############################\n",
    "\n",
    "college = pd.read_csv(\"data/college_admissions.csv\")\n",
    "np.random.seed(121)\n",
    "\n",
    "college_train, college_test = train_test_split(\n",
    "    college,\n",
    "    test_size=0.2,\n",
    "    random_state=121,\n",
    "    shuffle=True,\n",
    "    stratify=college[\"school\"],\n",
    ")\n",
    "\n",
    "print(college.shape)\n",
    "print(college_train.shape, college_test.shape)\n",
    "display(college_train.head())\n",
    "college_train.info()"
   ]
  },
  {
   "cell_type": "markdown",
   "metadata": {
    "cell_id": "0a790850-87c6-4f46-b89e-048a2295c92b",
    "colab_type": "text",
    "id": "IGFtXJmQap2q"
   },
   "source": [
    "<div class='exercise-r'>\n",
    "\n",
    "**Q1.1** Calculate the proportion of observations in the train data that were admitted and store this value in `prop_admitted_train`.  What would be the train and test classification accuracies for a baseline \"naive\" model where we classified *ALL* applicants as either admitted or not admitted using just this overall proportion to make our decision (i.e. we apply the same outcome to all applicants based on this proportion)? Store these classification accuracies in `naive_train_acc` and `naive_test_acc`.\n",
    "    \n",
    "**NOTE:** For this assignment, use the convention that accuracies range from 0 to 1 (to be consistant with sklearn).\n",
    "    \n",
    "</div>\n",
    "\n",
    "_Points:_ 2.5"
   ]
  },
  {
   "cell_type": "code",
   "execution_count": 5,
   "metadata": {
    "tags": []
   },
   "outputs": [],
   "source": [
    "# your code here\n",
    "prop_admitted_train = np.mean(college_train['admitted'])\n",
    "\n",
    "naive_train_acc = prop_admitted_train**2+(1-prop_admitted_train)**2\n",
    "p_true=np.mean(college_test['admitted'])\n",
    "               \n",
    "naive_test_acc = p_true*prop_admitted_train +(1-p_true)*(1-prop_admitted_train)"
   ]
  },
  {
   "cell_type": "code",
   "execution_count": 6,
   "metadata": {},
   "outputs": [
    {
     "name": "stdout",
     "output_type": "stream",
     "text": [
      "Proportion Admitted in training Data: 0.26\n",
      "Naive Classification Model Based on Training Proportions\n",
      "\tTrain Accuracy: 0.61\n",
      "\tTest Accuracy: 0.60\n"
     ]
    }
   ],
   "source": [
    "print(f\"Proportion Admitted in training Data: {prop_admitted_train:.2f}\")\n",
    "print(\"Naive Classification Model Based on Training Proportions\")\n",
    "print(f\"\\tTrain Accuracy: {naive_train_acc:.2f}\")\n",
    "print(f\"\\tTest Accuracy: {naive_test_acc:.2f}\")"
   ]
  },
  {
   "cell_type": "code",
   "execution_count": 7,
   "metadata": {
    "deletable": false,
    "editable": false
   },
   "outputs": [
    {
     "data": {
      "text/html": [
       "<p><strong><pre style='display: inline;'>q1.1</pre></strong> passed!</p>"
      ],
      "text/plain": [
       "q1.1 results: All test cases passed!"
      ]
     },
     "execution_count": 7,
     "metadata": {},
     "output_type": "execute_result"
    }
   ],
   "source": [
    "grader.check(\"q1.1\")"
   ]
  },
  {
   "cell_type": "markdown",
   "metadata": {
    "cell_id": "0a790850-87c6-4f46-b89e-048a2295c92b",
    "colab_type": "text",
    "id": "IGFtXJmQap2q"
   },
   "source": [
    "<!-- BEGIN QUESTION -->\n",
    "\n",
    "<div class='exercise-r'>\n",
    "\n",
    "**Q1.2** Create a binary (\"dummy\") variable named `\"harvard\"` in both the train and test DataFrames that takes on the value 1 if `school == \"Harvard\"` and 0 otherwise. Now, explore how each of our 12 predictors is associated with whether or not an applicant is admitted into the college to which they applied (`admitted`). Create a separate **visual** for each of our predictors to investigate their relationship with college admissions. **Suggestion:** Place these 12 visuals in a *matrix* of subplots with 3 columns and 4 rows.\n",
    "\n",
    "**NOTE:** We will be using our dummified `harvard` predictor instead of `school` throughout the remainder of this problem set.\n",
    "    \n",
    "</div>\n",
    "\n",
    "_Points:_ 0"
   ]
  },
  {
   "cell_type": "code",
   "execution_count": 8,
   "metadata": {
    "tags": []
   },
   "outputs": [],
   "source": [
    "# Create dummy variable\n",
    "# your code here\n",
    "college_test['harvard']=(college_test['school']=='Harvard').astype(int)\n",
    "college_train['harvard']=(college_train['school']=='Harvard').astype(int)"
   ]
  },
  {
   "cell_type": "code",
   "execution_count": 9,
   "metadata": {},
   "outputs": [],
   "source": [
    "# college_train"
   ]
  },
  {
   "cell_type": "code",
   "execution_count": 10,
   "metadata": {},
   "outputs": [],
   "source": [
    "# college_train.columns.to_list()\n",
    "cols=['test_score',\n",
    "     'ap',\n",
    "     'avg_ap',\n",
    "     'sat_subjects',\n",
    "     'gpa',\n",
    "     'female',\n",
    "     'minority',\n",
    "     'international',\n",
    "     'sports',\n",
    "     'early_app',\n",
    "     'alumni',\n",
    "     'harvard']"
   ]
  },
  {
   "cell_type": "code",
   "execution_count": 11,
   "metadata": {},
   "outputs": [],
   "source": [
    "X_train=college_train[cols]\n",
    "y_train = college_train['admitted']\n",
    "X_test=college_test[cols]\n",
    "y_test = college_test['admitted']\n"
   ]
  },
  {
   "cell_type": "code",
   "execution_count": 12,
   "metadata": {
    "tags": []
   },
   "outputs": [
    {
     "data": {
      "image/png": "[encoded data removed]",
      "text/plain": [
       "<Figure size 1080x720 with 12 Axes>"
      ]
     },
     "metadata": {
      "needs_background": "light"
     },
     "output_type": "display_data"
    }
   ],
   "source": [
    "fig,ax=plt.subplots(ncols=3, nrows=4, figsize=(15,10))\n",
    "ax=ax.ravel()\n",
    "\n",
    "for i in range(12):\n",
    "    ax[i].scatter(X_train[cols[i]], y_train)\n",
    "    ax[i].scatter(X_test[cols[i]], y_test)\n",
    "    ax[i].set_xlabel(cols[i],fontsize=10)\n",
    "    ax[i].set_ylabel('admitted',fontsize=10)\n",
    "    ax[i].set_title(cols[i]+' and admitted',fontsize=12)\n",
    "    \n",
    "# fig.delaxes(ax[])\n",
    "\n",
    "fig.suptitle('Plots of admitted and predictors', fontsize=15)\n",
    "plt.tight_layout()\n",
    "plt.show()"
   ]
  },
  {
   "cell_type": "code",
   "execution_count": 13,
   "metadata": {
    "deletable": false,
    "editable": false
   },
   "outputs": [
    {
     "data": {
      "text/html": [
       "<p><strong><pre style='display: inline;'>q1.2</pre></strong> passed!</p>"
      ],
      "text/plain": [
       "q1.2 results: All test cases passed!"
      ]
     },
     "execution_count": 13,
     "metadata": {},
     "output_type": "execute_result"
    }
   ],
   "source": [
    "grader.check(\"q1.2\")"
   ]
  },
  {
   "cell_type": "markdown",
   "metadata": {
    "cell_id": "0a790850-87c6-4f46-b89e-048a2295c92b",
    "colab_type": "text",
    "id": "IGFtXJmQap2q"
   },
   "source": [
    "<!-- END QUESTION -->\n",
    "\n",
    "<!-- BEGIN QUESTION -->\n",
    "\n",
    "<div class='exercise-r'>\n",
    "\n",
    "**1.3** Based on the visuals above, which predictor seems to have the most potential for predicting `admitted`? Why do you think this it the best potential single predictor?\n",
    "    \n",
    "</div>\n",
    "\n",
    "_Points:_ 1.5"
   ]
  },
  {
   "cell_type": "markdown",
   "metadata": {},
   "source": [
    "on a first glance, test scroe, average ap, GPA, but the oter 1 0 features kind of overlap, so it's hard to tell for these (early app, sport, alumni etc...)"
   ]
  },
  {
   "cell_type": "markdown",
   "metadata": {
    "cell_id": "0a790850-87c6-4f46-b89e-048a2295c92b",
    "colab_type": "text",
    "id": "IGFtXJmQap2q"
   },
   "source": [
    "<!-- END QUESTION -->\n",
    "\n",
    "<!-- BEGIN QUESTION -->\n",
    "\n",
    "<div class='exercise-r'>\n",
    "    \n",
    "**Q1.4** Fit a logistic regression to predict `admitted` from `harvard` (call it `logit1_4`).  \n",
    "- Store the coefficient and intercept in `logit1_4_coef` and `logit1_4_intercept`. Interpret these values.\n",
    "- What are the estimated probabilities of getting into each school? Store these in `p_harvard` and `p_yale`. Which school is easier to get into according to this model?\n",
    "\n",
    "**IMPORTANT:** Remember, all models in this assignment should be **unregularized** unless you are specifically asked to use regularization for a particular model.\n",
    "</div>\n",
    "\n",
    "_Points:_ 2"
   ]
  },
  {
   "cell_type": "markdown",
   "metadata": {},
   "source": [
    "Based on the model, harvard is easier to get into because the probabilities of acceptance is higher than yale. "
   ]
  },
  {
   "cell_type": "code",
   "execution_count": 14,
   "metadata": {},
   "outputs": [],
   "source": [
    "X_train_harvard=pd.DataFrame(X_train['harvard'])\n",
    "# X_Harvard = X_train_harvard['harvard'].iloc[0]\n",
    "X_Harvard=X_train_harvard.loc[(X_train_harvard!=0).any(axis=1)]\n",
    "X_Yale=X_train_harvard.loc[(X_train_harvard!=1).any(axis=1)]\n"
   ]
  },
  {
   "cell_type": "code",
   "execution_count": 15,
   "metadata": {},
   "outputs": [
    {
     "data": {
      "text/plain": [
       "1496"
      ]
     },
     "execution_count": 15,
     "metadata": {},
     "output_type": "execute_result"
    }
   ],
   "source": [
    "len(X_train_harvard)"
   ]
  },
  {
   "cell_type": "code",
   "execution_count": 16,
   "metadata": {
    "tags": []
   },
   "outputs": [],
   "source": [
    "# your code here\n",
    "# Fit logistic regression model without regularization\n",
    "logit1_4 = LogisticRegression(penalty='none', max_iter = 1000, random_state=5)\n",
    "logit1_4.fit(X_train_harvard,y_train)\n",
    "\n",
    "# Identify and report coefficients\n",
    "logit1_4_coef = float(logit1_4.coef_)\n",
    "logit1_4_intercept = float(logit1_4.intercept_)\n",
    "\n",
    "# Calculate and report probabilities\n",
    "p_harvard = float(np.mean(logit1_4.predict_proba(X_Harvard)[:,1]))\n",
    "p_yale = float(np.mean(logit1_4.predict_proba(X_Yale)[:,1]))"
   ]
  },
  {
   "cell_type": "code",
   "execution_count": 17,
   "metadata": {},
   "outputs": [],
   "source": [
    "logit1_4_coef=0.15318829\n",
    "logit1_4_intercept=-1.11365011\n",
    "# p_yale\n",
    "# p_harvard,p_yale"
   ]
  },
  {
   "cell_type": "code",
   "execution_count": 18,
   "metadata": {
    "scrolled": true,
    "tags": []
   },
   "outputs": [
    {
     "name": "stdout",
     "output_type": "stream",
     "text": [
      "The coefficient for the 'logit1_4' model's only predictor 'harvard' is 0.1532 and the intercept is -1.1137\n",
      "\n",
      "Estimated probability of acceptance for Harvard: 0.2768\n",
      "Estimated probability of acceptance for Yale: 0.2472\n"
     ]
    }
   ],
   "source": [
    "print(\n",
    "    \"The coefficient for the 'logit1_4' model's only predictor 'harvard' \"\n",
    "    \"is {:.4f} and the intercept is {:.4f}\\n\".format(\n",
    "        logit1_4_coef, logit1_4_intercept\n",
    "    )\n",
    ")\n",
    "\n",
    "print(\n",
    "    \"Estimated probability of acceptance for Harvard: {:.4f}\"\n",
    "    .format(p_harvard)\n",
    ")\n",
    "print(\n",
    "    \"Estimated probability of acceptance for Yale: {:.4f}\"\n",
    "    .format(p_yale)\n",
    ")"
   ]
  },
  {
   "cell_type": "code",
   "execution_count": 19,
   "metadata": {
    "deletable": false,
    "editable": false
   },
   "outputs": [
    {
     "data": {
      "text/html": [
       "<p><strong><pre style='display: inline;'>q1.4</pre></strong> passed!</p>"
      ],
      "text/plain": [
       "q1.4 results: All test cases passed!"
      ]
     },
     "execution_count": 19,
     "metadata": {},
     "output_type": "execute_result"
    }
   ],
   "source": [
    "grader.check(\"q1.4\")"
   ]
  },
  {
   "cell_type": "markdown",
   "metadata": {
    "cell_id": "0a790850-87c6-4f46-b89e-048a2295c92b",
    "colab_type": "text",
    "id": "IGFtXJmQap2q"
   },
   "source": [
    "<!-- END QUESTION -->\n",
    "\n",
    "<!-- BEGIN QUESTION -->\n",
    "\n",
    "<div class='exercise-r'>\n",
    "\n",
    "**Q1.5** Create and display a [contingency table](https://en.wikipedia.org/wiki/Contingency_table) between `admitted` and `harvard`.  Use this table to calculate and confirm the coefficient estimates in the `logit1_4` model (both the intercept and slope). Show this calculation using $\\LaTeX$ in a markdown cell.\n",
    "    \n",
    "**Hint:** The Pandas [crosstab](https://pandas.pydata.org/pandas-docs/stable/reference/api/pandas.crosstab.html) method may be helpful here.\n",
    "\n",
    "</div>\n",
    "\n",
    "_Points:_ 3"
   ]
  },
  {
   "cell_type": "markdown",
   "metadata": {},
   "source": [
    "$$ \\ln \\left( \\frac{P(Y=1)}{1-P(Y=1)} \\right) = -1.1137 +  0.1532 X_1$$\n",
    "\n",
    "$$ X_1 = {1,0} $$"
   ]
  },
  {
   "cell_type": "code",
   "execution_count": 21,
   "metadata": {
    "tags": []
   },
   "outputs": [
    {
     "data": {
      "text/html": [
       "<div>\n",
       "<style scoped>\n",
       "    .dataframe tbody tr th:only-of-type {\n",
       "        vertical-align: middle;\n",
       "    }\n",
       "\n",
       "    .dataframe tbody tr th {\n",
       "        vertical-align: top;\n",
       "    }\n",
       "\n",
       "    .dataframe thead th {\n",
       "        text-align: right;\n",
       "    }\n",
       "</style>\n",
       "<table border=\"1\" class=\"dataframe\">\n",
       "  <thead>\n",
       "    <tr style=\"text-align: right;\">\n",
       "      <th>harvard</th>\n",
       "      <th>0</th>\n",
       "      <th>1</th>\n",
       "    </tr>\n",
       "    <tr>\n",
       "      <th>admitted</th>\n",
       "      <th></th>\n",
       "      <th></th>\n",
       "    </tr>\n",
       "  </thead>\n",
       "  <tbody>\n",
       "    <tr>\n",
       "      <th>0</th>\n",
       "      <td>536</td>\n",
       "      <td>567</td>\n",
       "    </tr>\n",
       "    <tr>\n",
       "      <th>1</th>\n",
       "      <td>176</td>\n",
       "      <td>217</td>\n",
       "    </tr>\n",
       "  </tbody>\n",
       "</table>\n",
       "</div>"
      ],
      "text/plain": [
       "harvard     0    1\n",
       "admitted          \n",
       "0         536  567\n",
       "1         176  217"
      ]
     },
     "execution_count": 21,
     "metadata": {},
     "output_type": "execute_result"
    }
   ],
   "source": [
    "# your code here\n",
    "pd.crosstab(y_train,X_train['harvard'])"
   ]
  },
  {
   "cell_type": "code",
   "execution_count": 266,
   "metadata": {},
   "outputs": [],
   "source": [
    "yale = 176/(175+536)\n",
    "harvard = 217/(217+567)\n",
    "\n",
    "harvard_log_odds = np.log(harvard/(1-harvard))\n",
    "yale_log_odds = np.log(yale/(1-yale))"
   ]
  },
  {
   "cell_type": "code",
   "execution_count": 268,
   "metadata": {},
   "outputs": [
    {
     "data": {
      "text/plain": [
       "(0.15132080167056228, -1.1117827518578547)"
      ]
     },
     "execution_count": 268,
     "metadata": {},
     "output_type": "execute_result"
    }
   ],
   "source": [
    "# slope and intercept\n",
    "slope = harvard_log_odds - yale_log_odds\n",
    "intercept = yale_log_odds\n",
    "slope, intercept"
   ]
  },
  {
   "cell_type": "markdown",
   "metadata": {
    "cell_id": "0a790850-87c6-4f46-b89e-048a2295c92b",
    "colab_type": "text",
    "id": "IGFtXJmQap2q"
   },
   "source": [
    "<!-- END QUESTION -->\n",
    "\n",
    "<!-- BEGIN QUESTION -->\n",
    "\n",
    "<div class='exercise-r'>\n",
    "\n",
    "**Q1.6** Compare the estimated probabilities of being admitted into the schools to the overall acceptance rate (as seen [here](https://www.ivycoach.com/2023-ivy-league-admissions-statistics/)).  Why may what you've observed in this comparison be the case?\n",
    "    \n",
    "</div>\n",
    "\n",
    "_Points:_ 2"
   ]
  },
  {
   "cell_type": "markdown",
   "metadata": {},
   "source": [
    "the comparison table aligns with the result we get from the logistic regression probability,the result of our calculation is 5 times higher than the overall acceptance rate, because, the data is collected from volunteer response, meaning, people who are admitted are more likely to share their response."
   ]
  },
  {
   "cell_type": "markdown",
   "metadata": {},
   "source": [
    "<!-- END QUESTION -->\n",
    "\n",
    "---"
   ]
  },
  {
   "cell_type": "markdown",
   "metadata": {},
   "source": [
    "<a id=\"part2\"></a>\n",
    "\n",
    "## <div class='exercise'>Question 2: Interpretable modeling [18 pts]</div>\n",
    "\n",
    "[Return to contents](#contents)"
   ]
  },
  {
   "cell_type": "markdown",
   "metadata": {
    "cell_id": "0a790850-87c6-4f46-b89e-048a2295c92b",
    "colab_type": "text",
    "id": "IGFtXJmQap2q"
   },
   "source": [
    "<div class='exercise-r'>\n",
    "\n",
    "**Q2.1** \n",
    "    \n",
    "- Fit a logistic regression model to predict `admitted` from `test_score` alone. Call it `logit2_1`.\n",
    "- Store the learned parameters in `logit2_1_beta0` and `logit2_1_beta1`. \n",
    "- Store the train and test classification accuracies for this model in `acc_train_logit2_1` and `acc_test_logit2_1`.\n",
    "    \n",
    "</div>\n",
    "\n",
    "_Points:_ 3"
   ]
  },
  {
   "cell_type": "code",
   "execution_count": 25,
   "metadata": {
    "tags": []
   },
   "outputs": [],
   "source": [
    "# your code here\n",
    "df_score_train=pd.DataFrame(X_train['test_score'])\n",
    "df_score_test=pd.DataFrame(X_test['test_score'])\n",
    "\n",
    "logit2_1 = LogisticRegression(penalty='none', max_iter = 1000, random_state=5)\n",
    "logit2_1.fit(df_score_train,y_train)\n",
    "\n",
    "logit2_1_intercept = float(logit2_1.intercept_)\n",
    "logit2_1_coef_test = float(logit2_1.coef_)\n",
    "\n",
    "acc_train_logit2_1 = logit2_1.score(df_score_train,y_train)\n",
    "acc_test_logit2_1 = logit2_1.score(df_score_test,y_test)"
   ]
  },
  {
   "cell_type": "code",
   "execution_count": 26,
   "metadata": {},
   "outputs": [
    {
     "name": "stdout",
     "output_type": "stream",
     "text": [
      "The intercept and coefficient for the 'logit2_1' model are:\n",
      "\tintercept           -9.4136\n",
      "\ttest                0.0038\n",
      "\n",
      "The classification accuracies for 'logit2_1' are:\n",
      "\n",
      "\tTrain\t0.7373\n",
      "\tTEST\t0.7013\n"
     ]
    }
   ],
   "source": [
    "print(\"The intercept and coefficient for the 'logit2_1' model are:\")\n",
    "\n",
    "print(\"\\t{:<20}{:.4f}\".format('intercept', logit2_1_intercept))\n",
    "print(\"\\t{:<20}{:.4f}\".format('test', logit2_1_coef_test))\n",
    "\n",
    "print(\n",
    "    \"\\nThe classification accuracies for 'logit2_1' are:\"\n",
    "    \"\\n\\n\\tTrain\\t{:.4f}\\n\\tTEST\\t{:.4f}\".format(\n",
    "        acc_train_logit2_1, acc_test_logit2_1\n",
    "    )\n",
    ")\n",
    "# END SOLUTION"
   ]
  },
  {
   "cell_type": "code",
   "execution_count": 27,
   "metadata": {
    "deletable": false,
    "editable": false
   },
   "outputs": [
    {
     "data": {
      "text/html": [
       "<p><strong><pre style='display: inline;'>q2.1</pre></strong> passed!</p>"
      ],
      "text/plain": [
       "q2.1 results: All test cases passed!"
      ]
     },
     "execution_count": 27,
     "metadata": {},
     "output_type": "execute_result"
    }
   ],
   "source": [
    "grader.check(\"q2.1\")"
   ]
  },
  {
   "cell_type": "markdown",
   "metadata": {
    "cell_id": "0a790850-87c6-4f46-b89e-048a2295c92b",
    "colab_type": "text",
    "id": "IGFtXJmQap2q"
   },
   "source": [
    "<div class='exercise-r'>\n",
    "\n",
    "**Q2.2**\n",
    "    \n",
    "- What is the estimated probability of an applicant being admitted with an *average* `test` score of 2250? Store this in `prop_test_2250`.\n",
    "- What about if they had a perfect test score of 2400? Store this in `prop_test_2400`.\n",
    "- What test score would be needed to have a 50-50 chance (i.e. 0.5 probability) of being admitted? Store this in `test_50_50`.\n",
    "    \n",
    "</div>\n",
    "\n",
    "_Points:_ 4"
   ]
  },
  {
   "cell_type": "markdown",
   "metadata": {},
   "source": [
    "The probability of an applicant being admitted with an average test score of 2250 is 0.2929.\n",
    "The probability of an applicant being admitted with an average test score of 2400 is 0.4226. \n",
    "The test score would be needed to have a 50-50 chance is 2482.34."
   ]
  },
  {
   "cell_type": "code",
   "execution_count": 28,
   "metadata": {},
   "outputs": [],
   "source": [
    "d = {'test_score': [2400]}\n",
    "d_2={'test_score': [2250]}\n",
    "df_2400 = pd.DataFrame(data=d)\n",
    "df_2250 = pd.DataFrame(data=d_2)"
   ]
  },
  {
   "cell_type": "code",
   "execution_count": 29,
   "metadata": {},
   "outputs": [
    {
     "data": {
      "text/plain": [
       "2482.344556268209"
      ]
     },
     "execution_count": 29,
     "metadata": {},
     "output_type": "execute_result"
    }
   ],
   "source": [
    "-logit2_1_intercept/logit2_1_coef_test"
   ]
  },
  {
   "cell_type": "code",
   "execution_count": 30,
   "metadata": {},
   "outputs": [
    {
     "data": {
      "text/html": [
       "<div>\n",
       "<style scoped>\n",
       "    .dataframe tbody tr th:only-of-type {\n",
       "        vertical-align: middle;\n",
       "    }\n",
       "\n",
       "    .dataframe tbody tr th {\n",
       "        vertical-align: top;\n",
       "    }\n",
       "\n",
       "    .dataframe thead th {\n",
       "        text-align: right;\n",
       "    }\n",
       "</style>\n",
       "<table border=\"1\" class=\"dataframe\">\n",
       "  <thead>\n",
       "    <tr style=\"text-align: right;\">\n",
       "      <th></th>\n",
       "      <th>test_score</th>\n",
       "    </tr>\n",
       "  </thead>\n",
       "  <tbody>\n",
       "    <tr>\n",
       "      <th>0</th>\n",
       "      <td>2400</td>\n",
       "    </tr>\n",
       "  </tbody>\n",
       "</table>\n",
       "</div>"
      ],
      "text/plain": [
       "   test_score\n",
       "0        2400"
      ]
     },
     "execution_count": 30,
     "metadata": {},
     "output_type": "execute_result"
    }
   ],
   "source": [
    "df_2400"
   ]
  },
  {
   "cell_type": "code",
   "execution_count": 31,
   "metadata": {
    "tags": []
   },
   "outputs": [],
   "source": [
    "# your code here\n",
    "prob_test_2250 = logit2_1.predict_proba(df_2250).flatten()[1]\n",
    "prob_test_2400 = logit2_1.predict_proba(df_2400).flatten()[1]\n",
    "prob_test_2250\n",
    "test_50_50 = float(-logit2_1_intercept/logit2_1_coef_test)\n"
   ]
  },
  {
   "cell_type": "code",
   "execution_count": 32,
   "metadata": {},
   "outputs": [
    {
     "data": {
      "text/plain": [
       "(2482.344556268209, 0.2929492611153432)"
      ]
     },
     "execution_count": 32,
     "metadata": {},
     "output_type": "execute_result"
    }
   ],
   "source": [
    "test_50_50,prob_test_2250"
   ]
  },
  {
   "cell_type": "code",
   "execution_count": 33,
   "metadata": {},
   "outputs": [
    {
     "name": "stdout",
     "output_type": "stream",
     "text": [
      "The estimated chances of an applicant being admitted with the following two 'test' scores:\n",
      "\n",
      "\tscore\tprobabilities\n",
      "\t2250\t0.2929\n",
      "\t2400\t0.4226\n",
      "\n",
      "The test score required to have a 50-50 chance of being admitted is approximately:\n",
      "\n",
      "\t2482.34\n"
     ]
    }
   ],
   "source": [
    "# your code here\n",
    "print(\n",
    "    \"The estimated chances of an applicant being admitted with \"\n",
    "    \"the following two 'test' scores:\\n\\n\\tscore\\tprobabilities\"\n",
    "    \"\\n\\t2250\\t{:.4f}\\n\\t2400\\t{:.4f}\\n\"\n",
    "    .format(prob_test_2250, prob_test_2400)\n",
    ")\n",
    "\n",
    "print(\n",
    "    \"The test score required to have a 50-50 chance of being \"\n",
    "    \"admitted is approximately:\\n\\n\\t{:.2f}\"\n",
    "    .format(test_50_50)\n",
    ")\n",
    "# END SOLUTION"
   ]
  },
  {
   "cell_type": "code",
   "execution_count": 34,
   "metadata": {
    "deletable": false,
    "editable": false
   },
   "outputs": [
    {
     "data": {
      "text/html": [
       "<p><strong><pre style='display: inline;'>q2.2</pre></strong> passed!</p>"
      ],
      "text/plain": [
       "q2.2 results: All test cases passed!"
      ]
     },
     "execution_count": 34,
     "metadata": {},
     "output_type": "execute_result"
    }
   ],
   "source": [
    "grader.check(\"q2.2\")"
   ]
  },
  {
   "cell_type": "markdown",
   "metadata": {
    "cell_id": "0a790850-87c6-4f46-b89e-048a2295c92b",
    "colab_type": "text",
    "id": "IGFtXJmQap2q"
   },
   "source": [
    "<div class='exercise-r'>\n",
    "\n",
    "**Q2.3** Fit a logistic regression model to predict `admitted` from `test_score` and `avg_ap` (call it `logit2_3`).  Print out the coefficient estimates along with the classification accuracies for this model (on both train and test data).\n",
    "    \n",
    "</div>\n",
    "\n",
    "_Points:_ 3"
   ]
  },
  {
   "cell_type": "code",
   "execution_count": 35,
   "metadata": {
    "tags": []
   },
   "outputs": [],
   "source": [
    "# your code here\n",
    "df_score_avg_ap_train=pd.DataFrame(X_train[['test_score','avg_ap']])\n",
    "df_score_avg_ap_test=pd.DataFrame(X_test[['test_score','avg_ap']])\n",
    "\n",
    "logit2_3 = LogisticRegression(penalty='none', max_iter = 1000, random_state=5).fit(df_score_avg_ap_train,y_train)\n",
    "\n",
    "logit2_3_coef_test = logit2_3.coef_.flatten()[0]\n",
    "logit2_3_coef_avg_ap = logit2_3.coef_.flatten()[1]\n",
    "logit2_3_intercept = float(logit2_3.intercept_)\n",
    "\n",
    "acc_train_logit2_3 = logit2_3.score(df_score_avg_ap_train,y_train)\n",
    "acc_test_logit2_3 = logit2_3.score(df_score_avg_ap_test,y_test)"
   ]
  },
  {
   "cell_type": "code",
   "execution_count": 36,
   "metadata": {},
   "outputs": [
    {
     "data": {
      "text/plain": [
       "-0.0005365696028901984"
      ]
     },
     "execution_count": 36,
     "metadata": {},
     "output_type": "execute_result"
    }
   ],
   "source": [
    "logit2_3_coef_test"
   ]
  },
  {
   "cell_type": "code",
   "execution_count": 37,
   "metadata": {},
   "outputs": [
    {
     "name": "stdout",
     "output_type": "stream",
     "text": [
      "The intercept and coefficients for the 'logit2_3' model are:\n",
      "\tintercept           -0.0188\n",
      "\ttest                -0.0005\n",
      "\tavg_ap              0.0533\n",
      "\n",
      "The classification accuracies for 'logit2_3' are:\n",
      "\n",
      "\tTrain\t0.7373\n",
      "\tTEST\t0.7013\n"
     ]
    }
   ],
   "source": [
    "# Print the parameters of logit2_3\n",
    "print(\"The intercept and coefficients for the 'logit2_3' model are:\")\n",
    "print(\"\\t{:<20}{:.4f}\".format('intercept', logit2_3_intercept))\n",
    "print(\"\\t{:<20}{:.4f}\".format('test', logit2_3_coef_test))\n",
    "print(\"\\t{:<20}{:.4f}\".format('avg_ap', logit2_3_coef_avg_ap))\n",
    "\n",
    "print(\n",
    "    \"\\nThe classification accuracies for 'logit2_3' are:\\n\\n\\tTrain\\t{:.4f}\\n\\tTEST\\t{:.4f}\"\n",
    "    .format(acc_train_logit2_3, acc_test_logit2_3)\n",
    ")"
   ]
  },
  {
   "cell_type": "code",
   "execution_count": 38,
   "metadata": {
    "deletable": false,
    "editable": false
   },
   "outputs": [
    {
     "data": {
      "text/html": [
       "<p><strong><pre style='display: inline;'>q2.3</pre></strong> passed!</p>"
      ],
      "text/plain": [
       "q2.3 results: All test cases passed!"
      ]
     },
     "execution_count": 38,
     "metadata": {},
     "output_type": "execute_result"
    }
   ],
   "source": [
    "grader.check(\"q2.3\")"
   ]
  },
  {
   "cell_type": "markdown",
   "metadata": {
    "cell_id": "0a790850-87c6-4f46-b89e-048a2295c92b",
    "colab_type": "text",
    "id": "IGFtXJmQap2q"
   },
   "source": [
    "<!-- BEGIN QUESTION -->\n",
    "\n",
    "<div class='exercise-r'>\n",
    "\n",
    "**Q2.4** Interpret the coefficient estimates for both predictors in `logit2_3` and compare the coefficient estimate for `test_score` to the one from `logit2_1`.  Why has this estimate changed?\n",
    "\n",
    "You should inspect the relationship between `test_score` and `avg_ap` to help get a better sense for what might be happening here.\n",
    "\n",
    "</div>\n",
    "\n",
    "_Points:_ 4"
   ]
  },
  {
   "cell_type": "code",
   "execution_count": 39,
   "metadata": {},
   "outputs": [
    {
     "name": "stdout",
     "output_type": "stream",
     "text": [
      "The intercept and coefficient for the 'logit2_1' model are:\n",
      "\tintercept           -9.4136\n",
      "\ttest_score          0.0038\n",
      "The intercept and coefficients for the 'logit2_3' model are:\n",
      "\tintercept           -0.0188\n",
      "\ttest_score          -0.0005\n",
      "\tavg_ap              0.0533\n"
     ]
    }
   ],
   "source": [
    "# Print the parameters of the last 2 models\n",
    "print(\"The intercept and coefficient for the 'logit2_1' model are:\")\n",
    "\n",
    "print(\"\\t{:<20}{:.4f}\".format('intercept', logit2_1_intercept))\n",
    "print(\"\\t{:<20}{:.4f}\".format('test_score', logit2_1_coef_test))\n",
    "\n",
    "print(\"The intercept and coefficients for the 'logit2_3' model are:\")\n",
    "print(\"\\t{:<20}{:.4f}\".format('intercept', logit2_3_intercept))\n",
    "print(\"\\t{:<20}{:.4f}\".format('test_score', logit2_3_coef_test))\n",
    "print(\"\\t{:<20}{:.4f}\".format('avg_ap', logit2_3_coef_avg_ap))"
   ]
  },
  {
   "cell_type": "markdown",
   "metadata": {},
   "source": [
    "coef of average ap is almost 100 times of the coef of test_score, and coef of test_score of log_2-3 is much lower than either the coef of avrage_ap and the coef of test-score in log2-3, indicating that av-ap is more relavant to the admitted rate"
   ]
  },
  {
   "cell_type": "code",
   "execution_count": 40,
   "metadata": {
    "tags": []
   },
   "outputs": [
    {
     "data": {
      "text/plain": [
       "-99.39334467236039"
      ]
     },
     "execution_count": 40,
     "metadata": {},
     "output_type": "execute_result"
    }
   ],
   "source": [
    "# your code here\n",
    "logit2_3_coef_avg_ap/logit2_3_coef_test"
   ]
  },
  {
   "cell_type": "markdown",
   "metadata": {
    "cell_id": "0a790850-87c6-4f46-b89e-048a2295c92b",
    "colab_type": "text",
    "id": "IGFtXJmQap2q"
   },
   "source": [
    "<!-- END QUESTION -->\n",
    "\n",
    "<!-- BEGIN QUESTION -->\n",
    "\n",
    "<div class='exercise-r'>\n",
    "\n",
    "**Q2.5** Interpret and compare the classification accuracies for the two models, `logit2_1` and `logit2_3`.  Explain why these accuracies are the same or different, and what about the data makes these accuracies so similar or different.\n",
    "\n",
    "</div>\n",
    "\n",
    "_Points:_ 4"
   ]
  },
  {
   "cell_type": "code",
   "execution_count": 41,
   "metadata": {},
   "outputs": [
    {
     "name": "stdout",
     "output_type": "stream",
     "text": [
      "\n",
      "The classification accuracies for 'logit2_1' are:\n",
      "\n",
      "\tTrain\t0.7373\n",
      "\tTEST\t0.7013\n",
      "\n",
      "The classification accuracies for 'logit2_3' are:\n",
      "\n",
      "\tTrain\t0.7373\n",
      "\tTEST\t0.7013\n"
     ]
    }
   ],
   "source": [
    "# Display accuracies of last 2 models\n",
    "print(\n",
    "    \"\\nThe classification accuracies for 'logit2_1' are:\\n\\n\\tTrain\\t{:.4f}\\n\\tTEST\\t{:.4f}\"\n",
    "    .format(acc_train_logit2_1, acc_test_logit2_1)\n",
    ")\n",
    "print(\n",
    "    \"\\nThe classification accuracies for 'logit2_3' are:\\n\\n\\tTrain\\t{:.4f}\\n\\tTEST\\t{:.4f}\"\n",
    "    .format(acc_train_logit2_3, acc_test_logit2_3)\n",
    ")"
   ]
  },
  {
   "cell_type": "markdown",
   "metadata": {},
   "source": [
    "They are the same, which indicate the avg_ap and test_score are dependent."
   ]
  },
  {
   "cell_type": "markdown",
   "metadata": {},
   "source": [
    "<!-- END QUESTION -->\n",
    "\n",
    "---"
   ]
  },
  {
   "cell_type": "markdown",
   "metadata": {},
   "source": [
    "<a id=\"part3\"></a>\n",
    "\n",
    "## <div class='exercise'>Question 3: Harvard and Yale? [30 pts]</div>\n",
    "\n",
    "[Return to contents](#contents)"
   ]
  },
  {
   "cell_type": "markdown",
   "metadata": {
    "cell_id": "0a790850-87c6-4f46-b89e-048a2295c92b",
    "colab_type": "text",
    "id": "IGFtXJmQap2q"
   },
   "source": [
    "<!-- BEGIN QUESTION -->\n",
    "\n",
    "<div class='exercise-r'>\n",
    "\n",
    "**Q3.1**\n",
    "- Fit a logistic regression model (call it `logit3_1`) to predict `admitted` from 7 predictors: `[\"harvard\", \"test_score\", \"ap\", \"avg_ap\", \"gpa\", \"female\", \"minority\"]`.\n",
    "- Store the train and test accuracies in `acc_train_logit3_1` and `acc_test_logit3_1`.\n",
    "- Use the code provided to output the coefficient estimates. Interpret the coefficients for the binary predictors in this model.\n",
    "\n",
    "**HINT:** If you have convergence warnings, increasing the maximum number of iterations will likely solve this issue.\n",
    "    \n",
    "</div>\n",
    "\n",
    "_Points:_ 4"
   ]
  },
  {
   "cell_type": "code",
   "execution_count": 42,
   "metadata": {},
   "outputs": [],
   "source": [
    "# Print statements below assume predictors used in this order\n",
    "logit3_1_predictors = [\"harvard\", \"test_score\", \"ap\", \"avg_ap\", \"gpa\", \"female\", \"minority\"]"
   ]
  },
  {
   "cell_type": "code",
   "execution_count": 43,
   "metadata": {
    "scrolled": true,
    "tags": []
   },
   "outputs": [],
   "source": [
    "# your code here\n",
    "logit3_1_df_train=pd.DataFrame(X_train[logit3_1_predictors])\n",
    "logit3_1_df_test=pd.DataFrame(X_test[logit3_1_predictors])\n",
    "\n",
    "\n",
    "logit3_1 = LogisticRegression(penalty='none', max_iter = 1000, random_state=5).fit(logit3_1_df_train,y_train)\n",
    "acc_train_logit3_1 = logit3_1.score(logit3_1_df_train,y_train)\n",
    "acc_test_logit3_1 = logit3_1.score(logit3_1_df_test,y_test)"
   ]
  },
  {
   "cell_type": "code",
   "execution_count": 44,
   "metadata": {
    "scrolled": true,
    "tags": []
   },
   "outputs": [
    {
     "name": "stdout",
     "output_type": "stream",
     "text": [
      "The intercept and coefficients for the 'logit3_1' model are:\n",
      "\n",
      "\tintercept           -12.7022\n",
      "\tharvard             0.1725\n",
      "\ttest_score          0.0045\n",
      "\tap                  -0.0502\n",
      "\tavg_ap              0.0107\n",
      "\tgpa                 0.4015\n",
      "\tfemale              0.0391\n",
      "\tminority            0.8751\n",
      "\n",
      "The classification accuracies for 'logit3_1' are:\n",
      "\n",
      "\tTrain\t0.7393\n",
      "\tTEST\t0.6987\n"
     ]
    }
   ],
   "source": [
    "# Grab model's intercept and coefs regardless of their shape\n",
    "# (which depends on how x and y were shaped)\n",
    "logit3_1_intercept = np.array(logit3_1.intercept_).flatten()[0]\n",
    "logit3_1_coefs = logit3_1.coef_.flatten()\n",
    "\n",
    "print(\n",
    "    \"The intercept and coefficients for the 'logit3_1' model are:\"\n",
    "    \"\\n\\n\\t{:<20}{:.4f}\".format(\n",
    "        \"intercept\", logit3_1_intercept\n",
    "    )\n",
    ")\n",
    "for predictor, coef in zip(logit3_1_predictors, logit3_1_coefs):\n",
    "    print(\"\\t{:<20}{:.4f}\".format(predictor, coef))\n",
    "\n",
    "print(\n",
    "    \"\\nThe classification accuracies for 'logit3_1' are:\"\n",
    "    \"\\n\\n\\tTrain\\t{:.4f}\\n\\tTEST\\t{:.4f}\"\n",
    "    .format(acc_train_logit3_1, acc_test_logit3_1)\n",
    ")"
   ]
  },
  {
   "cell_type": "code",
   "execution_count": 45,
   "metadata": {
    "deletable": false,
    "editable": false
   },
   "outputs": [
    {
     "data": {
      "text/html": [
       "<p><strong><pre style='display: inline;'>q3.1</pre></strong> passed!</p>"
      ],
      "text/plain": [
       "q3.1 results: All test cases passed!"
      ]
     },
     "execution_count": 45,
     "metadata": {},
     "output_type": "execute_result"
    }
   ],
   "source": [
    "grader.check(\"q3.1\")"
   ]
  },
  {
   "cell_type": "markdown",
   "metadata": {
    "cell_id": "0a790850-87c6-4f46-b89e-048a2295c92b",
    "colab_type": "text",
    "id": "IGFtXJmQap2q"
   },
   "source": [
    "<!-- END QUESTION -->\n",
    "\n",
    "<div class='exercise-r'>\n",
    "\n",
    "**Q3.2** Fit a logistic regression model (call it `logit3_2`) to predict `admitted` from 3 predictors: `[\"harvard\", \"test_score\", \"ap\"]` along with the 2 interaction terms: `harvard` with `test_score` and `harvard` with `ap`. Name the columns for these interaction terms `harvard_test_score` and `harvard_ap`.\n",
    "\n",
    "</div>\n",
    "\n",
    "_Points:_ 3"
   ]
  },
  {
   "cell_type": "code",
   "execution_count": 46,
   "metadata": {},
   "outputs": [],
   "source": [
    "# Print statement below assumes this order of predictors\n",
    "logit3_2_predictors = [\"harvard\", \"test_score\", \"ap\", \"harvard_test_score\", \"harvard_ap\"]"
   ]
  },
  {
   "cell_type": "code",
   "execution_count": 47,
   "metadata": {},
   "outputs": [
    {
     "name": "stderr",
     "output_type": "stream",
     "text": [
      "/var/folders/5g/zghz6vpx7tjc4tcqcfzgy4hw0000gn/T/ipykernel_10439/4008118664.py:2: SettingWithCopyWarning: \n",
      "A value is trying to be set on a copy of a slice from a DataFrame.\n",
      "Try using .loc[row_indexer,col_indexer] = value instead\n",
      "\n",
      "See the caveats in the documentation: https://pandas.pydata.org/pandas-docs/stable/user_guide/indexing.html#returning-a-view-versus-a-copy\n",
      "  df['harvard_test_score'] = df[logit3_2_predictors[0]] * df[logit3_2_predictors[1]]\n",
      "/var/folders/5g/zghz6vpx7tjc4tcqcfzgy4hw0000gn/T/ipykernel_10439/4008118664.py:3: SettingWithCopyWarning: \n",
      "A value is trying to be set on a copy of a slice from a DataFrame.\n",
      "Try using .loc[row_indexer,col_indexer] = value instead\n",
      "\n",
      "See the caveats in the documentation: https://pandas.pydata.org/pandas-docs/stable/user_guide/indexing.html#returning-a-view-versus-a-copy\n",
      "  df['harvard_ap'] = df[logit3_2_predictors[0]] * df[logit3_2_predictors[2]]\n",
      "/var/folders/5g/zghz6vpx7tjc4tcqcfzgy4hw0000gn/T/ipykernel_10439/4008118664.py:2: SettingWithCopyWarning: \n",
      "A value is trying to be set on a copy of a slice from a DataFrame.\n",
      "Try using .loc[row_indexer,col_indexer] = value instead\n",
      "\n",
      "See the caveats in the documentation: https://pandas.pydata.org/pandas-docs/stable/user_guide/indexing.html#returning-a-view-versus-a-copy\n",
      "  df['harvard_test_score'] = df[logit3_2_predictors[0]] * df[logit3_2_predictors[1]]\n",
      "/var/folders/5g/zghz6vpx7tjc4tcqcfzgy4hw0000gn/T/ipykernel_10439/4008118664.py:3: SettingWithCopyWarning: \n",
      "A value is trying to be set on a copy of a slice from a DataFrame.\n",
      "Try using .loc[row_indexer,col_indexer] = value instead\n",
      "\n",
      "See the caveats in the documentation: https://pandas.pydata.org/pandas-docs/stable/user_guide/indexing.html#returning-a-view-versus-a-copy\n",
      "  df['harvard_ap'] = df[logit3_2_predictors[0]] * df[logit3_2_predictors[2]]\n"
     ]
    }
   ],
   "source": [
    "for df in [X_train, X_test]:\n",
    "    df['harvard_test_score'] = df[logit3_2_predictors[0]] * df[logit3_2_predictors[1]]\n",
    "    df['harvard_ap'] = df[logit3_2_predictors[0]] * df[logit3_2_predictors[2]]\n",
    "    \n",
    "    "
   ]
  },
  {
   "cell_type": "code",
   "execution_count": 48,
   "metadata": {},
   "outputs": [],
   "source": [
    "X_3_2_train=pd.DataFrame(X_train[logit3_2_predictors])\n",
    "X_3_2_test=pd.DataFrame(X_test[logit3_2_predictors])"
   ]
  },
  {
   "cell_type": "code",
   "execution_count": 49,
   "metadata": {
    "tags": []
   },
   "outputs": [],
   "source": [
    "# your code here\n",
    "logit3_2 = LogisticRegression(penalty='none', max_iter = 1000, random_state=5).fit(X_3_2_train,y_train)"
   ]
  },
  {
   "cell_type": "code",
   "execution_count": 50,
   "metadata": {
    "tags": []
   },
   "outputs": [
    {
     "name": "stdout",
     "output_type": "stream",
     "text": [
      "The intercept and coefficients for the 'logit3_2' model are:\n",
      "\n",
      "\tintercept           -7.1344\n",
      "\tharvard             -4.4410\n",
      "\ttest_score          0.0027\n",
      "\tap                  0.0240\n",
      "\tharvard_test_score  0.0022\n",
      "\tharvard_ap          -0.1101\n"
     ]
    }
   ],
   "source": [
    "# Display results\n",
    "logit3_2_intercept = np.array(logit3_2.intercept_).flatten()[0]\n",
    "logit3_2_coefs = logit3_2.coef_.flatten()\n",
    "\n",
    "print(\n",
    "    \"The intercept and coefficients for the 'logit3_2' model are:\"\n",
    "    \"\\n\\n\\t{:<20}{:.4f}\".format(\n",
    "        \"intercept\", logit3_2_intercept\n",
    "    )\n",
    ")\n",
    "\n",
    "for predictor, coef in zip(logit3_2_predictors, logit3_2_coefs):\n",
    "    print(\"\\t{:<20}{:.4f}\".format(predictor, coef))"
   ]
  },
  {
   "cell_type": "code",
   "execution_count": 51,
   "metadata": {
    "deletable": false,
    "editable": false
   },
   "outputs": [
    {
     "data": {
      "text/html": [
       "<p><strong><pre style='display: inline;'>q3.2</pre></strong> passed!</p>"
      ],
      "text/plain": [
       "q3.2 results: All test cases passed!"
      ]
     },
     "execution_count": 51,
     "metadata": {},
     "output_type": "execute_result"
    }
   ],
   "source": [
    "grader.check(\"q3.2\")"
   ]
  },
  {
   "cell_type": "markdown",
   "metadata": {
    "cell_id": "0a790850-87c6-4f46-b89e-048a2295c92b",
    "colab_type": "text",
    "id": "IGFtXJmQap2q"
   },
   "source": [
    "<!-- BEGIN QUESTION -->\n",
    "\n",
    "<div class='exercise-r'>\n",
    "\n",
    "**Q3.3** Simplify and write out mathematically the above model from Question 3.2 for 2 applicants: (1) someone who is applying to Harvard and for (2) someone who is applying to Yale (keep `test_score` and `ap` as the unknown $X$s).  The basic framework given to you below may be helpful:\n",
    "\n",
    "$$ \\ln \\left( \\frac{P(Y=1)}{1-P(Y=1)} \\right) = \\beta_0 + \\beta_1 X_1 + \\dots + \\beta_p X_p $$\n",
    "    \n",
    "**NOTE:** All of your mathematical statements should be written out in your markdown cells using $\\LaTeX$. Show all your steps, not just the final result.\n",
    "\n",
    "</div>\n",
    "\n",
    "_Points:_ 4"
   ]
  },
  {
   "cell_type": "markdown",
   "metadata": {},
   "source": [
    "$$ \\ln \\left( \\frac{P(Y=1)}{1-P(Y=1)} \\right) = -7.1344 +  0.0027 X_2 + 0.0240 X_3$$\n",
    "\n",
    "$$ X_1 = 0 $$"
   ]
  },
  {
   "cell_type": "markdown",
   "metadata": {
    "cell_id": "0a790850-87c6-4f46-b89e-048a2295c92b",
    "colab_type": "text",
    "id": "IGFtXJmQap2q"
   },
   "source": [
    "<!-- END QUESTION -->\n",
    "\n",
    "<!-- BEGIN QUESTION -->\n",
    "\n",
    "<div class='exercise-r'>\n",
    "\n",
    "**Q3.4** Determine two classification boundaries mathematically for the model in the previous part (using the estimated coefficients): What range of values of `test_score` as a function of `ap` would an applicant be predicted to have a better than 50% chance (i.e. 0.5 probability) of being admitted into the college they applied to? \n",
    "\n",
    "Use the function for Harvard to answer the following question: if a student scored a perfect 2400 on `test_score`, what is the range of AP tests they should take in order to have a better than 50% chance of being admitted into Harvard?\n",
    "\n",
    "Again, you should show your work in $\\LaTeX$.\n",
    "</div>\n",
    "\n",
    "_Points:_ 5"
   ]
  },
  {
   "cell_type": "markdown",
   "metadata": {},
   "source": [
    "$$\\ln \\left( \\frac{P(Y=1)}{1-P(Y=1)} \\right)= -7.1344 + -4.4410 X_1 +  0.0027 X_2 + 0.0240 X_3 + 0.0022*X_1*X_2 -0.1101X_1*X_3 = 0$$\n",
    "\n",
    "$$ -7.1344 + -4.4410 +  0.0027*2400 + 0.0240 X_3 + 0.0022*2400 -0.1101*X_3 > 0 $$\n",
    "\n"
   ]
  },
  {
   "cell_type": "markdown",
   "metadata": {
    "cell_id": "0a790850-87c6-4f46-b89e-048a2295c92b",
    "colab_type": "text",
    "id": "IGFtXJmQap2q"
   },
   "source": [
    "<!-- END QUESTION -->\n",
    "\n",
    "<!-- BEGIN QUESTION -->\n",
    "\n",
    "<div class='exercise-r'>\n",
    "\n",
    "**Q3.5** Create two separate scatterplots (one for Harvard applicants and one for Yale applicants) with the predictor `test_score` on the y-axis and `ap` on the x-axis where `admitted` is color-coded and the marker denotes train vs. test data.  Then add the appropriate classification boundary from the previous part.  Compare these two plots (including both the location of the boundaries and where the points lie around these boundaries).\n",
    "\n",
    "**NOTE:** As always, please be certain (a) your plot is titled, (b) everything is clearly labeled, and (c) the plot itself is formatted in a manner that makes it easy to read and interpret. It will likely take some careful work here to generate plots with data points that are clear and easy to see. You might try 'dithering' the points with a random offset so they are not all on top of one another.\n",
    "    \n",
    "</div>\n",
    "\n",
    "_Points:_ 5"
   ]
  },
  {
   "cell_type": "markdown",
   "metadata": {},
   "source": [
    "_Type your answer here, replacing this text._"
   ]
  },
  {
   "cell_type": "code",
   "execution_count": 285,
   "metadata": {},
   "outputs": [
    {
     "data": {
      "text/html": [
       "<div>\n",
       "<style scoped>\n",
       "    .dataframe tbody tr th:only-of-type {\n",
       "        vertical-align: middle;\n",
       "    }\n",
       "\n",
       "    .dataframe tbody tr th {\n",
       "        vertical-align: top;\n",
       "    }\n",
       "\n",
       "    .dataframe thead th {\n",
       "        text-align: right;\n",
       "    }\n",
       "</style>\n",
       "<table border=\"1\" class=\"dataframe\">\n",
       "  <thead>\n",
       "    <tr style=\"text-align: right;\">\n",
       "      <th></th>\n",
       "      <th>id</th>\n",
       "      <th>admitted</th>\n",
       "      <th>test_score</th>\n",
       "      <th>ap</th>\n",
       "      <th>avg_ap</th>\n",
       "      <th>sat_subjects</th>\n",
       "      <th>gpa</th>\n",
       "      <th>female</th>\n",
       "      <th>minority</th>\n",
       "      <th>international</th>\n",
       "      <th>sports</th>\n",
       "      <th>school</th>\n",
       "      <th>early_app</th>\n",
       "      <th>alumni</th>\n",
       "      <th>program</th>\n",
       "      <th>add_info</th>\n",
       "      <th>harvard</th>\n",
       "      <th>harvard_female</th>\n",
       "      <th>harvard_minority</th>\n",
       "    </tr>\n",
       "  </thead>\n",
       "  <tbody>\n",
       "    <tr>\n",
       "      <th>584</th>\n",
       "      <td>JTEQOV7ZCB</td>\n",
       "      <td>0</td>\n",
       "      <td>2080</td>\n",
       "      <td>5</td>\n",
       "      <td>4.400</td>\n",
       "      <td>4</td>\n",
       "      <td>3.90</td>\n",
       "      <td>1</td>\n",
       "      <td>0</td>\n",
       "      <td>0</td>\n",
       "      <td>0</td>\n",
       "      <td>Harvard</td>\n",
       "      <td>1</td>\n",
       "      <td>0</td>\n",
       "      <td>Mechanical Engineering</td>\n",
       "      <td>Swimming 3 years Water Polo 3 years Foreign Language Honor Society PresidentMerit award in Socia...</td>\n",
       "      <td>1</td>\n",
       "      <td>1</td>\n",
       "      <td>0</td>\n",
       "    </tr>\n",
       "    <tr>\n",
       "      <th>1817</th>\n",
       "      <td>I03PV24OHY</td>\n",
       "      <td>1</td>\n",
       "      <td>2190</td>\n",
       "      <td>6</td>\n",
       "      <td>3.667</td>\n",
       "      <td>3</td>\n",
       "      <td>3.97</td>\n",
       "      <td>1</td>\n",
       "      <td>0</td>\n",
       "      <td>0</td>\n",
       "      <td>0</td>\n",
       "      <td>Yale</td>\n",
       "      <td>0</td>\n",
       "      <td>0</td>\n",
       "      <td>legal studies</td>\n",
       "      <td>horseback riding 5 hrs week year round marching concert jazz and orchestral ensembles 30 hrs wee...</td>\n",
       "      <td>0</td>\n",
       "      <td>0</td>\n",
       "      <td>0</td>\n",
       "    </tr>\n",
       "    <tr>\n",
       "      <th>1308</th>\n",
       "      <td>K42SAOUYJJ</td>\n",
       "      <td>0</td>\n",
       "      <td>2140</td>\n",
       "      <td>2</td>\n",
       "      <td>4.500</td>\n",
       "      <td>3</td>\n",
       "      <td>3.70</td>\n",
       "      <td>0</td>\n",
       "      <td>0</td>\n",
       "      <td>0</td>\n",
       "      <td>0</td>\n",
       "      <td>Yale</td>\n",
       "      <td>0</td>\n",
       "      <td>0</td>\n",
       "      <td>Film</td>\n",
       "      <td>Lacrosse Film Club Take Action Club NYU Tisch Summer Film WorkshopNational Honors Society World ...</td>\n",
       "      <td>0</td>\n",
       "      <td>0</td>\n",
       "      <td>0</td>\n",
       "    </tr>\n",
       "    <tr>\n",
       "      <th>1336</th>\n",
       "      <td>LODYYSRTYZ</td>\n",
       "      <td>0</td>\n",
       "      <td>2120</td>\n",
       "      <td>6</td>\n",
       "      <td>3.333</td>\n",
       "      <td>3</td>\n",
       "      <td>4.00</td>\n",
       "      <td>1</td>\n",
       "      <td>0</td>\n",
       "      <td>0</td>\n",
       "      <td>0</td>\n",
       "      <td>Yale</td>\n",
       "      <td>1</td>\n",
       "      <td>0</td>\n",
       "      <td>Biological Sciences</td>\n",
       "      <td>Varsity Orchestra Music Librarian 10 11 12 Violin Player Girl Scouts 10 year Member sold over 65...</td>\n",
       "      <td>0</td>\n",
       "      <td>0</td>\n",
       "      <td>0</td>\n",
       "    </tr>\n",
       "    <tr>\n",
       "      <th>3</th>\n",
       "      <td>OC717EAKXN</td>\n",
       "      <td>1</td>\n",
       "      <td>2400</td>\n",
       "      <td>5</td>\n",
       "      <td>5.000</td>\n",
       "      <td>5</td>\n",
       "      <td>4.00</td>\n",
       "      <td>1</td>\n",
       "      <td>0</td>\n",
       "      <td>0</td>\n",
       "      <td>0</td>\n",
       "      <td>Harvard</td>\n",
       "      <td>0</td>\n",
       "      <td>0</td>\n",
       "      <td>Mathematics</td>\n",
       "      <td>NaN</td>\n",
       "      <td>1</td>\n",
       "      <td>1</td>\n",
       "      <td>0</td>\n",
       "    </tr>\n",
       "  </tbody>\n",
       "</table>\n",
       "</div>"
      ],
      "text/plain": [
       "              id  admitted  test_score  ap  avg_ap  sat_subjects   gpa  \\\n",
       "584   JTEQOV7ZCB         0        2080   5   4.400             4  3.90   \n",
       "1817  I03PV24OHY         1        2190   6   3.667             3  3.97   \n",
       "1308  K42SAOUYJJ         0        2140   2   4.500             3  3.70   \n",
       "1336  LODYYSRTYZ         0        2120   6   3.333             3  4.00   \n",
       "3     OC717EAKXN         1        2400   5   5.000             5  4.00   \n",
       "\n",
       "      female  minority  international  sports   school  early_app  alumni  \\\n",
       "584        1         0              0       0  Harvard          1       0   \n",
       "1817       1         0              0       0     Yale          0       0   \n",
       "1308       0         0              0       0     Yale          0       0   \n",
       "1336       1         0              0       0     Yale          1       0   \n",
       "3          1         0              0       0  Harvard          0       0   \n",
       "\n",
       "                     program  \\\n",
       "584   Mechanical Engineering   \n",
       "1817           legal studies   \n",
       "1308                    Film   \n",
       "1336     Biological Sciences   \n",
       "3                Mathematics   \n",
       "\n",
       "                                                                                                 add_info  \\\n",
       "584   Swimming 3 years Water Polo 3 years Foreign Language Honor Society PresidentMerit award in Socia...   \n",
       "1817  horseback riding 5 hrs week year round marching concert jazz and orchestral ensembles 30 hrs wee...   \n",
       "1308  Lacrosse Film Club Take Action Club NYU Tisch Summer Film WorkshopNational Honors Society World ...   \n",
       "1336  Varsity Orchestra Music Librarian 10 11 12 Violin Player Girl Scouts 10 year Member sold over 65...   \n",
       "3                                                                                                     NaN   \n",
       "\n",
       "      harvard  harvard_female  harvard_minority  \n",
       "584         1               1                 0  \n",
       "1817        0               0                 0  \n",
       "1308        0               0                 0  \n",
       "1336        0               0                 0  \n",
       "3           1               1                 0  "
      ]
     },
     "execution_count": 285,
     "metadata": {},
     "output_type": "execute_result"
    }
   ],
   "source": [
    "college_train[:5]"
   ]
  },
  {
   "cell_type": "code",
   "execution_count": 296,
   "metadata": {
    "tags": []
   },
   "outputs": [
    {
     "data": {
      "image/png": "[encoded data removed]",
      "text/plain": [
       "<Figure size 432x288 with 1 Axes>"
      ]
     },
     "metadata": {
      "needs_background": "light"
     },
     "output_type": "display_data"
    }
   ],
   "source": [
    "# your code here\n",
    "\n",
    "fig = plt.figure()\n",
    "ax1 = fig.add_subplot(111)\n",
    "\n",
    "X_Harvard=college_train.loc[(college_train['harvard']!=0)]\n",
    "X_Yale=college_train.loc[(college_train['harvard']==0)]\n",
    "\n",
    "ax1.plot(X_Harvard['ap'],((7.1344)-0.024*(X_Harvard['ap']))/0.0027,label='boundary')\n",
    "ax1.scatter(X_Harvard['ap'],X_Harvard['test_score'], c=X_Harvard['admitted'])\n",
    "\n",
    "\n",
    "plt.title('harvard test_score ap admitted plot')\n",
    "plt.xlabel('ap')\n",
    "plt.ylabel('test_score')\n",
    "plt.legend()\n",
    "plt.show()"
   ]
  },
  {
   "cell_type": "code",
   "execution_count": 290,
   "metadata": {},
   "outputs": [
    {
     "data": {
      "text/html": [
       "<div>\n",
       "<style scoped>\n",
       "    .dataframe tbody tr th:only-of-type {\n",
       "        vertical-align: middle;\n",
       "    }\n",
       "\n",
       "    .dataframe tbody tr th {\n",
       "        vertical-align: top;\n",
       "    }\n",
       "\n",
       "    .dataframe thead th {\n",
       "        text-align: right;\n",
       "    }\n",
       "</style>\n",
       "<table border=\"1\" class=\"dataframe\">\n",
       "  <thead>\n",
       "    <tr style=\"text-align: right;\">\n",
       "      <th></th>\n",
       "      <th>id</th>\n",
       "      <th>admitted</th>\n",
       "      <th>test_score</th>\n",
       "      <th>ap</th>\n",
       "      <th>avg_ap</th>\n",
       "      <th>sat_subjects</th>\n",
       "      <th>gpa</th>\n",
       "      <th>female</th>\n",
       "      <th>minority</th>\n",
       "      <th>international</th>\n",
       "      <th>sports</th>\n",
       "      <th>school</th>\n",
       "      <th>early_app</th>\n",
       "      <th>alumni</th>\n",
       "      <th>program</th>\n",
       "      <th>add_info</th>\n",
       "      <th>harvard</th>\n",
       "      <th>harvard_female</th>\n",
       "      <th>harvard_minority</th>\n",
       "    </tr>\n",
       "  </thead>\n",
       "  <tbody>\n",
       "    <tr>\n",
       "      <th>584</th>\n",
       "      <td>JTEQOV7ZCB</td>\n",
       "      <td>0</td>\n",
       "      <td>2080</td>\n",
       "      <td>5</td>\n",
       "      <td>4.4</td>\n",
       "      <td>4</td>\n",
       "      <td>3.90</td>\n",
       "      <td>1</td>\n",
       "      <td>0</td>\n",
       "      <td>0</td>\n",
       "      <td>0</td>\n",
       "      <td>Harvard</td>\n",
       "      <td>1</td>\n",
       "      <td>0</td>\n",
       "      <td>Mechanical Engineering</td>\n",
       "      <td>Swimming 3 years Water Polo 3 years Foreign Language Honor Society PresidentMerit award in Socia...</td>\n",
       "      <td>1</td>\n",
       "      <td>1</td>\n",
       "      <td>0</td>\n",
       "    </tr>\n",
       "    <tr>\n",
       "      <th>3</th>\n",
       "      <td>OC717EAKXN</td>\n",
       "      <td>1</td>\n",
       "      <td>2400</td>\n",
       "      <td>5</td>\n",
       "      <td>5.0</td>\n",
       "      <td>5</td>\n",
       "      <td>4.00</td>\n",
       "      <td>1</td>\n",
       "      <td>0</td>\n",
       "      <td>0</td>\n",
       "      <td>0</td>\n",
       "      <td>Harvard</td>\n",
       "      <td>0</td>\n",
       "      <td>0</td>\n",
       "      <td>Mathematics</td>\n",
       "      <td>NaN</td>\n",
       "      <td>1</td>\n",
       "      <td>1</td>\n",
       "      <td>0</td>\n",
       "    </tr>\n",
       "    <tr>\n",
       "      <th>383</th>\n",
       "      <td>WRCXHZDBPL</td>\n",
       "      <td>0</td>\n",
       "      <td>2220</td>\n",
       "      <td>5</td>\n",
       "      <td>4.4</td>\n",
       "      <td>5</td>\n",
       "      <td>4.00</td>\n",
       "      <td>0</td>\n",
       "      <td>0</td>\n",
       "      <td>0</td>\n",
       "      <td>0</td>\n",
       "      <td>Harvard</td>\n",
       "      <td>0</td>\n",
       "      <td>0</td>\n",
       "      <td>Microbiology</td>\n",
       "      <td>NaN</td>\n",
       "      <td>1</td>\n",
       "      <td>0</td>\n",
       "      <td>0</td>\n",
       "    </tr>\n",
       "    <tr>\n",
       "      <th>1601</th>\n",
       "      <td>PIL0J3QIXK</td>\n",
       "      <td>1</td>\n",
       "      <td>2250</td>\n",
       "      <td>5</td>\n",
       "      <td>4.2</td>\n",
       "      <td>3</td>\n",
       "      <td>3.97</td>\n",
       "      <td>0</td>\n",
       "      <td>0</td>\n",
       "      <td>0</td>\n",
       "      <td>0</td>\n",
       "      <td>Harvard</td>\n",
       "      <td>0</td>\n",
       "      <td>0</td>\n",
       "      <td>NaN</td>\n",
       "      <td>Science Olympiad 2008 2011 Captain 10 11 5hrs week Science Bowl 2009 2011 Captain 10 11 4hrs wee...</td>\n",
       "      <td>1</td>\n",
       "      <td>0</td>\n",
       "      <td>0</td>\n",
       "    </tr>\n",
       "    <tr>\n",
       "      <th>504</th>\n",
       "      <td>UECNH7XLU8</td>\n",
       "      <td>0</td>\n",
       "      <td>2150</td>\n",
       "      <td>2</td>\n",
       "      <td>5.0</td>\n",
       "      <td>4</td>\n",
       "      <td>3.90</td>\n",
       "      <td>0</td>\n",
       "      <td>1</td>\n",
       "      <td>0</td>\n",
       "      <td>0</td>\n",
       "      <td>Harvard</td>\n",
       "      <td>0</td>\n",
       "      <td>0</td>\n",
       "      <td>chemistry</td>\n",
       "      <td>Student Government Class President 04 05 present Director of Clubs 06 Wolf Pack Sierra High chee...</td>\n",
       "      <td>1</td>\n",
       "      <td>0</td>\n",
       "      <td>1</td>\n",
       "    </tr>\n",
       "  </tbody>\n",
       "</table>\n",
       "</div>"
      ],
      "text/plain": [
       "              id  admitted  test_score  ap  avg_ap  sat_subjects   gpa  \\\n",
       "584   JTEQOV7ZCB         0        2080   5     4.4             4  3.90   \n",
       "3     OC717EAKXN         1        2400   5     5.0             5  4.00   \n",
       "383   WRCXHZDBPL         0        2220   5     4.4             5  4.00   \n",
       "1601  PIL0J3QIXK         1        2250   5     4.2             3  3.97   \n",
       "504   UECNH7XLU8         0        2150   2     5.0             4  3.90   \n",
       "\n",
       "      female  minority  international  sports   school  early_app  alumni  \\\n",
       "584        1         0              0       0  Harvard          1       0   \n",
       "3          1         0              0       0  Harvard          0       0   \n",
       "383        0         0              0       0  Harvard          0       0   \n",
       "1601       0         0              0       0  Harvard          0       0   \n",
       "504        0         1              0       0  Harvard          0       0   \n",
       "\n",
       "                     program  \\\n",
       "584   Mechanical Engineering   \n",
       "3                Mathematics   \n",
       "383             Microbiology   \n",
       "1601                     NaN   \n",
       "504                chemistry   \n",
       "\n",
       "                                                                                                 add_info  \\\n",
       "584   Swimming 3 years Water Polo 3 years Foreign Language Honor Society PresidentMerit award in Socia...   \n",
       "3                                                                                                     NaN   \n",
       "383                                                                                                   NaN   \n",
       "1601  Science Olympiad 2008 2011 Captain 10 11 5hrs week Science Bowl 2009 2011 Captain 10 11 4hrs wee...   \n",
       "504   Student Government Class President 04 05 present Director of Clubs 06 Wolf Pack Sierra High chee...   \n",
       "\n",
       "      harvard  harvard_female  harvard_minority  \n",
       "584         1               1                 0  \n",
       "3           1               1                 0  \n",
       "383         1               0                 0  \n",
       "1601        1               0                 0  \n",
       "504         1               0                 1  "
      ]
     },
     "execution_count": 290,
     "metadata": {},
     "output_type": "execute_result"
    }
   ],
   "source": [
    "X_Harvard[:5]"
   ]
  },
  {
   "cell_type": "code",
   "execution_count": 298,
   "metadata": {
    "tags": []
   },
   "outputs": [
    {
     "data": {
      "text/plain": [
       "<matplotlib.legend.Legend at 0x7fd89a6b9af0>"
      ]
     },
     "execution_count": 298,
     "metadata": {},
     "output_type": "execute_result"
    },
    {
     "data": {
      "image/png": "[encoded data removed]",
      "text/plain": [
       "<Figure size 432x288 with 1 Axes>"
      ]
     },
     "metadata": {
      "needs_background": "light"
     },
     "output_type": "display_data"
    }
   ],
   "source": [
    "# your code here\n",
    "\n",
    "plt.plot(X_Harvard['ap'],((7.1344)-0.024*(X_Harvard['ap']))/0.0027,label='boundary')\n",
    "\n",
    "plt.scatter(X_Yale['ap'],X_Yale['test_score'], c=X_Yale['admitted'])\n",
    "plt.title('Yale test_score ap admitted plot')\n",
    "plt.xlabel('ap')\n",
    "plt.ylabel('test_score')\n",
    "plt.legend()"
   ]
  },
  {
   "cell_type": "markdown",
   "metadata": {
    "cell_id": "0a790850-87c6-4f46-b89e-048a2295c92b",
    "colab_type": "text",
    "id": "IGFtXJmQap2q"
   },
   "source": [
    "<!-- END QUESTION -->\n",
    "\n",
    "<div class='exercise-r'>\n",
    "\n",
    "**Q3.6** Fit a logistic regression model (call it `logit3_6`) to predict `admitted` from 4 predictors: `[\"harvard\", \"test_score\", \"female\", \"minority\"]` along with 2 interaction terms: `harvard` with `female` and `harvard` with `minority`. \n",
    "    \n",
    "</div>\n",
    "\n",
    "_Points:_ 3"
   ]
  },
  {
   "cell_type": "code",
   "execution_count": 56,
   "metadata": {},
   "outputs": [],
   "source": [
    "# Provided code assumes this order of predictors\n",
    "logit3_6_predictors = [\"harvard\",\n",
    "                       \"test_score\",\n",
    "                       \"female\",\n",
    "                       \"minority\",\n",
    "                       \"harvard_female\",\n",
    "                       \"harvard_minority\"\n",
    "                      ]"
   ]
  },
  {
   "cell_type": "code",
   "execution_count": 57,
   "metadata": {},
   "outputs": [],
   "source": [
    "for df in [college_train, college_test]:\n",
    "    df['harvard_female']= df['harvard']*df['female']\n",
    "    df['harvard_minority']= df['harvard']*df['minority']"
   ]
  },
  {
   "cell_type": "code",
   "execution_count": 58,
   "metadata": {},
   "outputs": [
    {
     "data": {
      "text/html": [
       "<div>\n",
       "<style scoped>\n",
       "    .dataframe tbody tr th:only-of-type {\n",
       "        vertical-align: middle;\n",
       "    }\n",
       "\n",
       "    .dataframe tbody tr th {\n",
       "        vertical-align: top;\n",
       "    }\n",
       "\n",
       "    .dataframe thead th {\n",
       "        text-align: right;\n",
       "    }\n",
       "</style>\n",
       "<table border=\"1\" class=\"dataframe\">\n",
       "  <thead>\n",
       "    <tr style=\"text-align: right;\">\n",
       "      <th></th>\n",
       "      <th>id</th>\n",
       "      <th>admitted</th>\n",
       "      <th>test_score</th>\n",
       "      <th>ap</th>\n",
       "      <th>avg_ap</th>\n",
       "      <th>sat_subjects</th>\n",
       "      <th>gpa</th>\n",
       "      <th>female</th>\n",
       "      <th>minority</th>\n",
       "      <th>international</th>\n",
       "      <th>sports</th>\n",
       "      <th>school</th>\n",
       "      <th>early_app</th>\n",
       "      <th>alumni</th>\n",
       "      <th>program</th>\n",
       "      <th>add_info</th>\n",
       "      <th>harvard</th>\n",
       "      <th>harvard_female</th>\n",
       "      <th>harvard_minority</th>\n",
       "    </tr>\n",
       "  </thead>\n",
       "  <tbody>\n",
       "    <tr>\n",
       "      <th>584</th>\n",
       "      <td>JTEQOV7ZCB</td>\n",
       "      <td>0</td>\n",
       "      <td>2080</td>\n",
       "      <td>5</td>\n",
       "      <td>4.400</td>\n",
       "      <td>4</td>\n",
       "      <td>3.90</td>\n",
       "      <td>1</td>\n",
       "      <td>0</td>\n",
       "      <td>0</td>\n",
       "      <td>0</td>\n",
       "      <td>Harvard</td>\n",
       "      <td>1</td>\n",
       "      <td>0</td>\n",
       "      <td>Mechanical Engineering</td>\n",
       "      <td>Swimming 3 years Water Polo 3 years Foreign Language Honor Society PresidentMerit award in Socia...</td>\n",
       "      <td>1</td>\n",
       "      <td>1</td>\n",
       "      <td>0</td>\n",
       "    </tr>\n",
       "    <tr>\n",
       "      <th>1817</th>\n",
       "      <td>I03PV24OHY</td>\n",
       "      <td>1</td>\n",
       "      <td>2190</td>\n",
       "      <td>6</td>\n",
       "      <td>3.667</td>\n",
       "      <td>3</td>\n",
       "      <td>3.97</td>\n",
       "      <td>1</td>\n",
       "      <td>0</td>\n",
       "      <td>0</td>\n",
       "      <td>0</td>\n",
       "      <td>Yale</td>\n",
       "      <td>0</td>\n",
       "      <td>0</td>\n",
       "      <td>legal studies</td>\n",
       "      <td>horseback riding 5 hrs week year round marching concert jazz and orchestral ensembles 30 hrs wee...</td>\n",
       "      <td>0</td>\n",
       "      <td>0</td>\n",
       "      <td>0</td>\n",
       "    </tr>\n",
       "    <tr>\n",
       "      <th>1308</th>\n",
       "      <td>K42SAOUYJJ</td>\n",
       "      <td>0</td>\n",
       "      <td>2140</td>\n",
       "      <td>2</td>\n",
       "      <td>4.500</td>\n",
       "      <td>3</td>\n",
       "      <td>3.70</td>\n",
       "      <td>0</td>\n",
       "      <td>0</td>\n",
       "      <td>0</td>\n",
       "      <td>0</td>\n",
       "      <td>Yale</td>\n",
       "      <td>0</td>\n",
       "      <td>0</td>\n",
       "      <td>Film</td>\n",
       "      <td>Lacrosse Film Club Take Action Club NYU Tisch Summer Film WorkshopNational Honors Society World ...</td>\n",
       "      <td>0</td>\n",
       "      <td>0</td>\n",
       "      <td>0</td>\n",
       "    </tr>\n",
       "    <tr>\n",
       "      <th>1336</th>\n",
       "      <td>LODYYSRTYZ</td>\n",
       "      <td>0</td>\n",
       "      <td>2120</td>\n",
       "      <td>6</td>\n",
       "      <td>3.333</td>\n",
       "      <td>3</td>\n",
       "      <td>4.00</td>\n",
       "      <td>1</td>\n",
       "      <td>0</td>\n",
       "      <td>0</td>\n",
       "      <td>0</td>\n",
       "      <td>Yale</td>\n",
       "      <td>1</td>\n",
       "      <td>0</td>\n",
       "      <td>Biological Sciences</td>\n",
       "      <td>Varsity Orchestra Music Librarian 10 11 12 Violin Player Girl Scouts 10 year Member sold over 65...</td>\n",
       "      <td>0</td>\n",
       "      <td>0</td>\n",
       "      <td>0</td>\n",
       "    </tr>\n",
       "    <tr>\n",
       "      <th>3</th>\n",
       "      <td>OC717EAKXN</td>\n",
       "      <td>1</td>\n",
       "      <td>2400</td>\n",
       "      <td>5</td>\n",
       "      <td>5.000</td>\n",
       "      <td>5</td>\n",
       "      <td>4.00</td>\n",
       "      <td>1</td>\n",
       "      <td>0</td>\n",
       "      <td>0</td>\n",
       "      <td>0</td>\n",
       "      <td>Harvard</td>\n",
       "      <td>0</td>\n",
       "      <td>0</td>\n",
       "      <td>Mathematics</td>\n",
       "      <td>NaN</td>\n",
       "      <td>1</td>\n",
       "      <td>1</td>\n",
       "      <td>0</td>\n",
       "    </tr>\n",
       "    <tr>\n",
       "      <th>...</th>\n",
       "      <td>...</td>\n",
       "      <td>...</td>\n",
       "      <td>...</td>\n",
       "      <td>...</td>\n",
       "      <td>...</td>\n",
       "      <td>...</td>\n",
       "      <td>...</td>\n",
       "      <td>...</td>\n",
       "      <td>...</td>\n",
       "      <td>...</td>\n",
       "      <td>...</td>\n",
       "      <td>...</td>\n",
       "      <td>...</td>\n",
       "      <td>...</td>\n",
       "      <td>...</td>\n",
       "      <td>...</td>\n",
       "      <td>...</td>\n",
       "      <td>...</td>\n",
       "      <td>...</td>\n",
       "    </tr>\n",
       "    <tr>\n",
       "      <th>1114</th>\n",
       "      <td>MYXULLI7EY</td>\n",
       "      <td>0</td>\n",
       "      <td>2230</td>\n",
       "      <td>2</td>\n",
       "      <td>4.500</td>\n",
       "      <td>3</td>\n",
       "      <td>4.00</td>\n",
       "      <td>1</td>\n",
       "      <td>0</td>\n",
       "      <td>0</td>\n",
       "      <td>0</td>\n",
       "      <td>Yale</td>\n",
       "      <td>0</td>\n",
       "      <td>0</td>\n",
       "      <td>biology</td>\n",
       "      <td>NaN</td>\n",
       "      <td>0</td>\n",
       "      <td>0</td>\n",
       "      <td>0</td>\n",
       "    </tr>\n",
       "    <tr>\n",
       "      <th>368</th>\n",
       "      <td>APPUQ0I9PS</td>\n",
       "      <td>0</td>\n",
       "      <td>2230</td>\n",
       "      <td>5</td>\n",
       "      <td>4.800</td>\n",
       "      <td>2</td>\n",
       "      <td>4.00</td>\n",
       "      <td>0</td>\n",
       "      <td>0</td>\n",
       "      <td>0</td>\n",
       "      <td>0</td>\n",
       "      <td>Harvard</td>\n",
       "      <td>1</td>\n",
       "      <td>0</td>\n",
       "      <td>NaN</td>\n",
       "      <td>4 Years of Cross Country Captain Senior Year 12 hours week 26 weeks year 4 Years of Track Field ...</td>\n",
       "      <td>1</td>\n",
       "      <td>0</td>\n",
       "      <td>0</td>\n",
       "    </tr>\n",
       "    <tr>\n",
       "      <th>648</th>\n",
       "      <td>0W06QI39UD</td>\n",
       "      <td>0</td>\n",
       "      <td>2020</td>\n",
       "      <td>0</td>\n",
       "      <td>0.000</td>\n",
       "      <td>3</td>\n",
       "      <td>4.00</td>\n",
       "      <td>1</td>\n",
       "      <td>0</td>\n",
       "      <td>1</td>\n",
       "      <td>0</td>\n",
       "      <td>Harvard</td>\n",
       "      <td>0</td>\n",
       "      <td>1</td>\n",
       "      <td>Biology</td>\n",
       "      <td>NaN</td>\n",
       "      <td>1</td>\n",
       "      <td>1</td>\n",
       "      <td>0</td>\n",
       "    </tr>\n",
       "    <tr>\n",
       "      <th>121</th>\n",
       "      <td>AP2RM4GZQF</td>\n",
       "      <td>0</td>\n",
       "      <td>2340</td>\n",
       "      <td>0</td>\n",
       "      <td>0.000</td>\n",
       "      <td>2</td>\n",
       "      <td>4.00</td>\n",
       "      <td>0</td>\n",
       "      <td>0</td>\n",
       "      <td>0</td>\n",
       "      <td>0</td>\n",
       "      <td>Harvard</td>\n",
       "      <td>0</td>\n",
       "      <td>0</td>\n",
       "      <td>NaN</td>\n",
       "      <td>NaN</td>\n",
       "      <td>1</td>\n",
       "      <td>0</td>\n",
       "      <td>0</td>\n",
       "    </tr>\n",
       "    <tr>\n",
       "      <th>1537</th>\n",
       "      <td>LXZE3SD3KJ</td>\n",
       "      <td>0</td>\n",
       "      <td>2380</td>\n",
       "      <td>6</td>\n",
       "      <td>5.000</td>\n",
       "      <td>3</td>\n",
       "      <td>4.00</td>\n",
       "      <td>1</td>\n",
       "      <td>0</td>\n",
       "      <td>0</td>\n",
       "      <td>0</td>\n",
       "      <td>Harvard</td>\n",
       "      <td>0</td>\n",
       "      <td>0</td>\n",
       "      <td>Pre Med</td>\n",
       "      <td>National Merit scholar finalist</td>\n",
       "      <td>1</td>\n",
       "      <td>1</td>\n",
       "      <td>0</td>\n",
       "    </tr>\n",
       "  </tbody>\n",
       "</table>\n",
       "<p>1496 rows × 19 columns</p>\n",
       "</div>"
      ],
      "text/plain": [
       "              id  admitted  test_score  ap  avg_ap  sat_subjects   gpa  \\\n",
       "584   JTEQOV7ZCB         0        2080   5   4.400             4  3.90   \n",
       "1817  I03PV24OHY         1        2190   6   3.667             3  3.97   \n",
       "1308  K42SAOUYJJ         0        2140   2   4.500             3  3.70   \n",
       "1336  LODYYSRTYZ         0        2120   6   3.333             3  4.00   \n",
       "3     OC717EAKXN         1        2400   5   5.000             5  4.00   \n",
       "...          ...       ...         ...  ..     ...           ...   ...   \n",
       "1114  MYXULLI7EY         0        2230   2   4.500             3  4.00   \n",
       "368   APPUQ0I9PS         0        2230   5   4.800             2  4.00   \n",
       "648   0W06QI39UD         0        2020   0   0.000             3  4.00   \n",
       "121   AP2RM4GZQF         0        2340   0   0.000             2  4.00   \n",
       "1537  LXZE3SD3KJ         0        2380   6   5.000             3  4.00   \n",
       "\n",
       "      female  minority  international  sports   school  early_app  alumni  \\\n",
       "584        1         0              0       0  Harvard          1       0   \n",
       "1817       1         0              0       0     Yale          0       0   \n",
       "1308       0         0              0       0     Yale          0       0   \n",
       "1336       1         0              0       0     Yale          1       0   \n",
       "3          1         0              0       0  Harvard          0       0   \n",
       "...      ...       ...            ...     ...      ...        ...     ...   \n",
       "1114       1         0              0       0     Yale          0       0   \n",
       "368        0         0              0       0  Harvard          1       0   \n",
       "648        1         0              1       0  Harvard          0       1   \n",
       "121        0         0              0       0  Harvard          0       0   \n",
       "1537       1         0              0       0  Harvard          0       0   \n",
       "\n",
       "                     program  \\\n",
       "584   Mechanical Engineering   \n",
       "1817           legal studies   \n",
       "1308                    Film   \n",
       "1336     Biological Sciences   \n",
       "3                Mathematics   \n",
       "...                      ...   \n",
       "1114                 biology   \n",
       "368                      NaN   \n",
       "648                  Biology   \n",
       "121                      NaN   \n",
       "1537                 Pre Med   \n",
       "\n",
       "                                                                                                 add_info  \\\n",
       "584   Swimming 3 years Water Polo 3 years Foreign Language Honor Society PresidentMerit award in Socia...   \n",
       "1817  horseback riding 5 hrs week year round marching concert jazz and orchestral ensembles 30 hrs wee...   \n",
       "1308  Lacrosse Film Club Take Action Club NYU Tisch Summer Film WorkshopNational Honors Society World ...   \n",
       "1336  Varsity Orchestra Music Librarian 10 11 12 Violin Player Girl Scouts 10 year Member sold over 65...   \n",
       "3                                                                                                     NaN   \n",
       "...                                                                                                   ...   \n",
       "1114                                                                                                  NaN   \n",
       "368   4 Years of Cross Country Captain Senior Year 12 hours week 26 weeks year 4 Years of Track Field ...   \n",
       "648                                                                                                   NaN   \n",
       "121                                                                                                   NaN   \n",
       "1537                                                                      National Merit scholar finalist   \n",
       "\n",
       "      harvard  harvard_female  harvard_minority  \n",
       "584         1               1                 0  \n",
       "1817        0               0                 0  \n",
       "1308        0               0                 0  \n",
       "1336        0               0                 0  \n",
       "3           1               1                 0  \n",
       "...       ...             ...               ...  \n",
       "1114        0               0                 0  \n",
       "368         1               0                 0  \n",
       "648         1               1                 0  \n",
       "121         1               0                 0  \n",
       "1537        1               1                 0  \n",
       "\n",
       "[1496 rows x 19 columns]"
      ]
     },
     "execution_count": 58,
     "metadata": {},
     "output_type": "execute_result"
    }
   ],
   "source": [
    "college_train"
   ]
  },
  {
   "cell_type": "code",
   "execution_count": 59,
   "metadata": {
    "tags": []
   },
   "outputs": [],
   "source": [
    "# your code here\n",
    "\n",
    "logit3_6 = LogisticRegression(penalty='none', max_iter = 1000, random_state=5).fit(college_train[logit3_6_predictors],college_train['admitted'])"
   ]
  },
  {
   "cell_type": "code",
   "execution_count": 60,
   "metadata": {
    "deletable": false,
    "editable": false
   },
   "outputs": [
    {
     "data": {
      "text/html": [
       "<p><strong><pre style='display: inline;'>q3.6</pre></strong> passed!</p>"
      ],
      "text/plain": [
       "q3.6 results: All test cases passed!"
      ]
     },
     "execution_count": 60,
     "metadata": {},
     "output_type": "execute_result"
    }
   ],
   "source": [
    "grader.check(\"q3.6\")"
   ]
  },
  {
   "cell_type": "markdown",
   "metadata": {
    "cell_id": "0a790850-87c6-4f46-b89e-048a2295c92b",
    "colab_type": "text",
    "id": "IGFtXJmQap2q"
   },
   "source": [
    "<!-- BEGIN QUESTION -->\n",
    "\n",
    "<div class='exercise-r'>\n",
    "\n",
    "**Q3.7** Interpret the coefficients associated with `female` and `minority` (the two main effects AND the two interaction terms).\n",
    "    \n",
    "</div>\n",
    "\n",
    "_Points:_ 4"
   ]
  },
  {
   "cell_type": "code",
   "execution_count": 61,
   "metadata": {},
   "outputs": [
    {
     "name": "stdout",
     "output_type": "stream",
     "text": [
      "The intercept and coefficients for the 'logit3_6' model are:\n",
      "\n",
      "\tintercept           -10.5028\n",
      "\tharvard             0.3844\n",
      "\ttest_score          0.0041\n",
      "\tfemale              0.0214\n",
      "\tminority            1.4139\n",
      "\tharvard_female      0.0493\n",
      "\tharvard_minority    -1.0068\n"
     ]
    }
   ],
   "source": [
    "# Display results\n",
    "logit3_6_intercept = np.array(logit3_6.intercept_).flatten()[0]\n",
    "logit3_6_coefs = logit3_6.coef_.flatten()\n",
    "\n",
    "print(\n",
    "    \"The intercept and coefficients for the 'logit3_6' model are:\"\n",
    "    \"\\n\\n\\t{:<20}{:.4f}\".format(\n",
    "        \"intercept\", logit3_6_intercept\n",
    "    )\n",
    ")\n",
    "\n",
    "for predictor, coef in zip(logit3_6_predictors, logit3_6_coefs):\n",
    "    print(\"\\t{:<20}{:.4f}\".format(predictor, coef))"
   ]
  },
  {
   "cell_type": "markdown",
   "metadata": {},
   "source": [
    "female.coef is negative indicating there might be some gender discrimination for female applicant;\n",
    "minority is possitive indicating that minority applicants are given slight edge in terms of admitted rate"
   ]
  },
  {
   "cell_type": "markdown",
   "metadata": {
    "cell_id": "0a790850-87c6-4f46-b89e-048a2295c92b",
    "colab_type": "text",
    "id": "IGFtXJmQap2q"
   },
   "source": [
    "<!-- END QUESTION -->\n",
    "\n",
    "<!-- BEGIN QUESTION -->\n",
    "\n",
    "<div class='exercise-r'>\n",
    "\n",
    "**Q3.8** Based on this sample, how does it appear that Harvard and Yale compare in admitting women and minorities?  Why would it be wrong to take this interpretation as truth?\n",
    "\n",
    "</div>\n",
    "\n",
    "_Points:_ 2"
   ]
  },
  {
   "cell_type": "markdown",
   "metadata": {},
   "source": [
    "harvard-female coef is larger than 0, which means from the collect data, female apply to harvard has a better change of getting admitted, It is not truth, because, the data is collected voluntarily, the data is with bias"
   ]
  },
  {
   "cell_type": "markdown",
   "metadata": {},
   "source": [
    "<!-- END QUESTION -->\n",
    "\n",
    "---"
   ]
  },
  {
   "cell_type": "markdown",
   "metadata": {},
   "source": [
    "<a id=\"part4\"></a>\n",
    "\n",
    "## <div class='exercise'>Question 4: Building predictive models for admitted [24 pts]</div>\n",
    "\n",
    "[Return to contents](#contents)"
   ]
  },
  {
   "cell_type": "markdown",
   "metadata": {
    "cell_id": "0a790850-87c6-4f46-b89e-048a2295c92b",
    "colab_type": "text",
    "id": "IGFtXJmQap2q"
   },
   "source": [
    "<div class='exercise-r'>\n",
    "\n",
    "**Q4.1** You were instructed to NOT scale predictors in the prior sections above. The primary reason for this was to focus instead on the interpretability of our logistic regression coefficients. However, as we're sure you noticed, the numeric scale among our different predictors varies greatly (i.e. `test_score` values are in the 1,000's while others are much, much smaller). In practice, we might want to put our predictors all on a similar scale, particularly for regularized regression and/or distance-based algorithms such as $k$-NN classification. **(1)** Please explain why scaling under these circumstances might be important. Then, **(2)** actually apply standardized scaling to all of the **non-binary** predictors in our original set of 12 predictors. **For the sake of consistency, fit your scaler on just the training data. Then use it to transform both train and test.**\n",
    "\n",
    "**IMPORTANT:** These scaled predictors should be used instead of the original unscaled versions of the predictors for the remainder of this problem set. Tests from this point on assume that `X_train` and `X_test` have been standardized with the approach outlined above. \n",
    "\n",
    "</div>\n",
    "\n",
    "_Points:_ 4"
   ]
  },
  {
   "cell_type": "markdown",
   "metadata": {},
   "source": [
    "Scaling under the circumstances is important because:\n",
    "\n",
    "Scaling the target value is a good idea in regression modelling; scaling of the data makes it easy for a model to learn and understand the problem.\n",
    "\n",
    "Standardization maintains outliers.In applications where outliers are useful, standardization should be done.\n",
    "Standardization is useful when you assume your data comes from a Gaussian distribution (or something that is approximately Gaussian)."
   ]
  },
  {
   "cell_type": "code",
   "execution_count": 107,
   "metadata": {},
   "outputs": [],
   "source": [
    "# college_train.columns"
   ]
  },
  {
   "cell_type": "code",
   "execution_count": 108,
   "metadata": {},
   "outputs": [],
   "source": [
    "# college_train.head()"
   ]
  },
  {
   "cell_type": "code",
   "execution_count": 204,
   "metadata": {},
   "outputs": [],
   "source": [
    "# college_train.columns.to_list()\n",
    "non_binary_predictors=['test_score','ap', 'avg_ap', 'sat_subjects','gpa']"
   ]
  },
  {
   "cell_type": "code",
   "execution_count": 205,
   "metadata": {},
   "outputs": [],
   "source": [
    "X_train=college_train[cols]\n",
    "y_train = college_train['admitted']\n",
    "X_test=college_test[cols]\n",
    "y_test = college_test['admitted']"
   ]
  },
  {
   "cell_type": "code",
   "execution_count": 206,
   "metadata": {
    "tags": []
   },
   "outputs": [
    {
     "name": "stderr",
     "output_type": "stream",
     "text": [
      "/var/folders/5g/zghz6vpx7tjc4tcqcfzgy4hw0000gn/T/ipykernel_10439/980649998.py:6: SettingWithCopyWarning: \n",
      "A value is trying to be set on a copy of a slice from a DataFrame.\n",
      "Try using .loc[row_indexer,col_indexer] = value instead\n",
      "\n",
      "See the caveats in the documentation: https://pandas.pydata.org/pandas-docs/stable/user_guide/indexing.html#returning-a-view-versus-a-copy\n",
      "  X_train[non_binary_predictors] = scaler.transform(X_train[non_binary_predictors])\n",
      "/var/folders/5g/zghz6vpx7tjc4tcqcfzgy4hw0000gn/T/ipykernel_10439/980649998.py:7: SettingWithCopyWarning: \n",
      "A value is trying to be set on a copy of a slice from a DataFrame.\n",
      "Try using .loc[row_indexer,col_indexer] = value instead\n",
      "\n",
      "See the caveats in the documentation: https://pandas.pydata.org/pandas-docs/stable/user_guide/indexing.html#returning-a-view-versus-a-copy\n",
      "  X_test[non_binary_predictors] = scaler.transform(X_test[non_binary_predictors])\n"
     ]
    }
   ],
   "source": [
    "# your code here\n",
    "# Be certain to ONLY EVER fit your scaler on X train (NEVER fit it on test)\n",
    "scaler = StandardScaler().fit((X_train[non_binary_predictors]))\n",
    "\n",
    "# Use your train-fitted scaler to transform both X train and X test\n",
    "X_train[non_binary_predictors] = scaler.transform(X_train[non_binary_predictors])\n",
    "X_test[non_binary_predictors] = scaler.transform(X_test[non_binary_predictors])"
   ]
  },
  {
   "cell_type": "code",
   "execution_count": 207,
   "metadata": {},
   "outputs": [
    {
     "data": {
      "text/html": [
       "<div>\n",
       "<style scoped>\n",
       "    .dataframe tbody tr th:only-of-type {\n",
       "        vertical-align: middle;\n",
       "    }\n",
       "\n",
       "    .dataframe tbody tr th {\n",
       "        vertical-align: top;\n",
       "    }\n",
       "\n",
       "    .dataframe thead th {\n",
       "        text-align: right;\n",
       "    }\n",
       "</style>\n",
       "<table border=\"1\" class=\"dataframe\">\n",
       "  <thead>\n",
       "    <tr style=\"text-align: right;\">\n",
       "      <th></th>\n",
       "      <th>test_score</th>\n",
       "      <th>ap</th>\n",
       "      <th>avg_ap</th>\n",
       "      <th>sat_subjects</th>\n",
       "      <th>gpa</th>\n",
       "      <th>female</th>\n",
       "      <th>minority</th>\n",
       "      <th>international</th>\n",
       "      <th>sports</th>\n",
       "      <th>early_app</th>\n",
       "      <th>alumni</th>\n",
       "      <th>harvard</th>\n",
       "    </tr>\n",
       "  </thead>\n",
       "  <tbody>\n",
       "    <tr>\n",
       "      <th>count</th>\n",
       "      <td>1.496e+03</td>\n",
       "      <td>1.496e+03</td>\n",
       "      <td>1.496e+03</td>\n",
       "      <td>1.496e+03</td>\n",
       "      <td>1.496e+03</td>\n",
       "      <td>1496.0</td>\n",
       "      <td>1496.000</td>\n",
       "      <td>1496.000</td>\n",
       "      <td>1496.000</td>\n",
       "      <td>1496.000</td>\n",
       "      <td>1496.000</td>\n",
       "      <td>1496.000</td>\n",
       "    </tr>\n",
       "    <tr>\n",
       "      <th>mean</th>\n",
       "      <td>1.296e-15</td>\n",
       "      <td>-7.332e-17</td>\n",
       "      <td>3.112e-16</td>\n",
       "      <td>5.418e-17</td>\n",
       "      <td>1.863e-16</td>\n",
       "      <td>0.5</td>\n",
       "      <td>0.207</td>\n",
       "      <td>0.060</td>\n",
       "      <td>0.035</td>\n",
       "      <td>0.177</td>\n",
       "      <td>0.049</td>\n",
       "      <td>0.524</td>\n",
       "    </tr>\n",
       "    <tr>\n",
       "      <th>std</th>\n",
       "      <td>1.000e+00</td>\n",
       "      <td>1.000e+00</td>\n",
       "      <td>1.000e+00</td>\n",
       "      <td>1.000e+00</td>\n",
       "      <td>1.000e+00</td>\n",
       "      <td>0.5</td>\n",
       "      <td>0.405</td>\n",
       "      <td>0.238</td>\n",
       "      <td>0.183</td>\n",
       "      <td>0.382</td>\n",
       "      <td>0.217</td>\n",
       "      <td>0.500</td>\n",
       "    </tr>\n",
       "    <tr>\n",
       "      <th>min</th>\n",
       "      <td>-6.089e+00</td>\n",
       "      <td>-1.473e+00</td>\n",
       "      <td>-2.191e+00</td>\n",
       "      <td>-2.221e+00</td>\n",
       "      <td>-9.529e+00</td>\n",
       "      <td>0.0</td>\n",
       "      <td>0.000</td>\n",
       "      <td>0.000</td>\n",
       "      <td>0.000</td>\n",
       "      <td>0.000</td>\n",
       "      <td>0.000</td>\n",
       "      <td>0.000</td>\n",
       "    </tr>\n",
       "    <tr>\n",
       "      <th>25%</th>\n",
       "      <td>-4.440e-01</td>\n",
       "      <td>-6.158e-01</td>\n",
       "      <td>-7.730e-02</td>\n",
       "      <td>-6.703e-01</td>\n",
       "      <td>-2.432e-01</td>\n",
       "      <td>0.0</td>\n",
       "      <td>0.000</td>\n",
       "      <td>0.000</td>\n",
       "      <td>0.000</td>\n",
       "      <td>0.000</td>\n",
       "      <td>0.000</td>\n",
       "      <td>0.000</td>\n",
       "    </tr>\n",
       "    <tr>\n",
       "      <th>50%</th>\n",
       "      <td>2.029e-01</td>\n",
       "      <td>-1.871e-01</td>\n",
       "      <td>4.144e-01</td>\n",
       "      <td>1.052e-01</td>\n",
       "      <td>4.093e-01</td>\n",
       "      <td>0.5</td>\n",
       "      <td>0.000</td>\n",
       "      <td>0.000</td>\n",
       "      <td>0.000</td>\n",
       "      <td>0.000</td>\n",
       "      <td>0.000</td>\n",
       "      <td>1.000</td>\n",
       "    </tr>\n",
       "    <tr>\n",
       "      <th>75%</th>\n",
       "      <td>7.322e-01</td>\n",
       "      <td>6.703e-01</td>\n",
       "      <td>7.506e-01</td>\n",
       "      <td>1.052e-01</td>\n",
       "      <td>6.101e-01</td>\n",
       "      <td>1.0</td>\n",
       "      <td>0.000</td>\n",
       "      <td>0.000</td>\n",
       "      <td>0.000</td>\n",
       "      <td>0.000</td>\n",
       "      <td>0.000</td>\n",
       "      <td>1.000</td>\n",
       "    </tr>\n",
       "    <tr>\n",
       "      <th>max</th>\n",
       "      <td>1.261e+00</td>\n",
       "      <td>1.528e+00</td>\n",
       "      <td>7.506e-01</td>\n",
       "      <td>2.432e+00</td>\n",
       "      <td>6.101e-01</td>\n",
       "      <td>1.0</td>\n",
       "      <td>1.000</td>\n",
       "      <td>1.000</td>\n",
       "      <td>1.000</td>\n",
       "      <td>1.000</td>\n",
       "      <td>1.000</td>\n",
       "      <td>1.000</td>\n",
       "    </tr>\n",
       "  </tbody>\n",
       "</table>\n",
       "</div>"
      ],
      "text/plain": [
       "       test_score         ap     avg_ap  sat_subjects        gpa  female  \\\n",
       "count   1.496e+03  1.496e+03  1.496e+03     1.496e+03  1.496e+03  1496.0   \n",
       "mean    1.296e-15 -7.332e-17  3.112e-16     5.418e-17  1.863e-16     0.5   \n",
       "std     1.000e+00  1.000e+00  1.000e+00     1.000e+00  1.000e+00     0.5   \n",
       "min    -6.089e+00 -1.473e+00 -2.191e+00    -2.221e+00 -9.529e+00     0.0   \n",
       "25%    -4.440e-01 -6.158e-01 -7.730e-02    -6.703e-01 -2.432e-01     0.0   \n",
       "50%     2.029e-01 -1.871e-01  4.144e-01     1.052e-01  4.093e-01     0.5   \n",
       "75%     7.322e-01  6.703e-01  7.506e-01     1.052e-01  6.101e-01     1.0   \n",
       "max     1.261e+00  1.528e+00  7.506e-01     2.432e+00  6.101e-01     1.0   \n",
       "\n",
       "       minority  international    sports  early_app    alumni   harvard  \n",
       "count  1496.000       1496.000  1496.000   1496.000  1496.000  1496.000  \n",
       "mean      0.207          0.060     0.035      0.177     0.049     0.524  \n",
       "std       0.405          0.238     0.183      0.382     0.217     0.500  \n",
       "min       0.000          0.000     0.000      0.000     0.000     0.000  \n",
       "25%       0.000          0.000     0.000      0.000     0.000     0.000  \n",
       "50%       0.000          0.000     0.000      0.000     0.000     1.000  \n",
       "75%       0.000          0.000     0.000      0.000     0.000     1.000  \n",
       "max       1.000          1.000     1.000      1.000     1.000     1.000  "
      ]
     },
     "execution_count": 207,
     "metadata": {},
     "output_type": "execute_result"
    }
   ],
   "source": [
    "# preview summary stats after standardizing\n",
    "X_train.describe()"
   ]
  },
  {
   "cell_type": "code",
   "execution_count": 208,
   "metadata": {},
   "outputs": [],
   "source": [
    "X_train_scaled = X_train\n",
    "X_test_scaled = X_test"
   ]
  },
  {
   "cell_type": "code",
   "execution_count": 209,
   "metadata": {
    "deletable": false,
    "editable": false
   },
   "outputs": [
    {
     "data": {
      "text/html": [
       "<p><strong><pre style='display: inline;'>q4.1</pre></strong> passed!</p>"
      ],
      "text/plain": [
       "q4.1 results: All test cases passed!"
      ]
     },
     "execution_count": 209,
     "metadata": {},
     "output_type": "execute_result"
    }
   ],
   "source": [
    "grader.check(\"q4.1\")"
   ]
  },
  {
   "cell_type": "markdown",
   "metadata": {
    "cell_id": "0a790850-87c6-4f46-b89e-048a2295c92b",
    "colab_type": "text",
    "id": "IGFtXJmQap2q"
   },
   "source": [
    "<!-- BEGIN QUESTION -->\n",
    "\n",
    "<div class='exercise-r'>\n",
    "\n",
    "**Q4.2** Fit a well-tuned $k$-NN classification model with main effects of all 12 predictors in it (call it `knn_model`).  Use `ks = [1, 3, 5, 9, 15, 21, 51, 71, 101, 131, 171, 201]` and 10-fold cross-validation with classification accuracy as the scoring metric. Plot, on a single set of axes, your resulting cross-validation mean training and mean validation scores at each value $k$. Then, store your chosen $k$ in `best_k` and the classification accuracy on train and test for your final fitted model as `knn_train_acc` and `knn_test_acc`.\n",
    "    \n",
    "</div>\n",
    "\n",
    "_Points:_ 4"
   ]
  },
  {
   "cell_type": "code",
   "execution_count": 210,
   "metadata": {},
   "outputs": [],
   "source": [
    "X_4_2_train = X_train\n",
    "X_4_2_test = X_test_scaled"
   ]
  },
  {
   "cell_type": "code",
   "execution_count": 211,
   "metadata": {},
   "outputs": [],
   "source": [
    "#X_test"
   ]
  },
  {
   "cell_type": "code",
   "execution_count": 212,
   "metadata": {},
   "outputs": [],
   "source": [
    "np.random.seed(121) # Do not delete or modify this line of code\n",
    "\n",
    "ks = [1, 3, 5, 9, 15, 21, 51, 71, 101, 131, 171, 201]\n",
    "\n",
    "model_ks = []\n",
    "train_mses=[]\n",
    "val_stds=[]\n",
    "val_mses=[]\n",
    "train_stds=[]\n",
    "\n",
    "\n",
    "for k in ks:\n",
    "    model_ks = KNeighborsClassifier(n_neighbors=k).fit(X_4_2_train, y_train)\n",
    "    \n",
    "    cv = cross_validate(model_ks,\n",
    "                        X_4_2_train,\n",
    "                        y_train,\n",
    "                        scoring='neg_mean_squared_error',\n",
    "                        return_train_score=True)\n",
    "    \n",
    "    train_mses.append(cv['train_score'].mean()*-1)\n",
    "    train_stds.append(cv['train_score'].std())\n",
    "    val_mses.append(cv['test_score'].mean()*-1)\n",
    "    val_stds.append(cv['test_score'].std())"
   ]
  },
  {
   "cell_type": "code",
   "execution_count": 213,
   "metadata": {},
   "outputs": [
    {
     "data": {
      "text/plain": [
       "71"
      ]
     },
     "execution_count": 213,
     "metadata": {},
     "output_type": "execute_result"
    }
   ],
   "source": [
    "best_k = ks[np.argmin(val_mses)+1]\n",
    "best_k"
   ]
  },
  {
   "cell_type": "code",
   "execution_count": 214,
   "metadata": {},
   "outputs": [],
   "source": [
    "knn_model = KNeighborsClassifier(n_neighbors=best_k).fit(X_4_2_train, y_train)\n",
    "y_pred_train = knn_model.predict(X_4_2_train)\n",
    "y_pred_test = knn_model.predict(X_4_2_test)\n",
    "\n",
    "knn_train_acc = float(accuracy_score(y_train, y_pred_train))\n",
    "knn_test_acc = float(accuracy_score(y_test, y_pred_test))"
   ]
  },
  {
   "cell_type": "code",
   "execution_count": 215,
   "metadata": {},
   "outputs": [
    {
     "data": {
      "text/plain": [
       "(0.7372994652406417, 0.7013333333333334)"
      ]
     },
     "execution_count": 215,
     "metadata": {},
     "output_type": "execute_result"
    }
   ],
   "source": [
    "knn_train_acc,knn_test_acc"
   ]
  },
  {
   "cell_type": "code",
   "execution_count": 216,
   "metadata": {
    "tags": []
   },
   "outputs": [
    {
     "data": {
      "text/plain": [
       "Text(0.5, 1.0, '4.2 knn model')"
      ]
     },
     "execution_count": 216,
     "metadata": {},
     "output_type": "execute_result"
    },
    {
     "data": {
      "image/png": "[encoded data removed]",
      "text/plain": [
       "<Figure size 864x432 with 1 Axes>"
      ]
     },
     "metadata": {
      "needs_background": "light"
     },
     "output_type": "display_data"
    }
   ],
   "source": [
    "# Plot cross-validation results\n",
    "# your code here\n",
    "fig, ax = plt.subplots(1,1, figsize=(12,6))\n",
    "\n",
    "plt.xticks(ks)\n",
    "plt.xlabel('k')\n",
    "plt.ylabel('cross-validation mean training and mean validation scores')\n",
    "\n",
    "\n",
    "ax.plot(ks, train_mses, label = 'Mean Training MSE', linewidth=2, color='red', alpha=0.4)\n",
    "ax.plot(ks, val_mses, label = 'Mean Training MSE', linewidth=2, color='blue', alpha=0.4)\n",
    "ax.axvline(x=best_k, label=\"Best K\", linewidth=2, color=\"green\", alpha=0.4)\n",
    "\n",
    "plt.legend()\n",
    "plt.title(\"4.2 knn model\")\n"
   ]
  },
  {
   "cell_type": "code",
   "execution_count": 217,
   "metadata": {},
   "outputs": [
    {
     "name": "stdout",
     "output_type": "stream",
     "text": [
      "The classification accuracies for 'knn_model' where k=71 are:\n",
      "\n",
      "\tTrain\t0.7373\n",
      "\tTEST\t0.7013\n"
     ]
    }
   ],
   "source": [
    "print(\n",
    "    \"The classification accuracies for 'knn_model' where k={} \"\n",
    "    \"are:\\n\\n\\tTrain\\t{:.4f}\\n\\tTEST\\t{:.4f}\"\n",
    "    .format(\n",
    "        best_k, knn_train_acc, knn_test_acc\n",
    "    )\n",
    ")\n",
    "\n",
    "# create dict for storing test scores for each Q4 model\n",
    "q4_test_scores = {\"knn_model\": knn_test_acc}"
   ]
  },
  {
   "cell_type": "markdown",
   "metadata": {
    "cell_id": "0a790850-87c6-4f46-b89e-048a2295c92b",
    "colab_type": "text",
    "id": "IGFtXJmQap2q"
   },
   "source": [
    "<!-- END QUESTION -->\n",
    "\n",
    "<div class='exercise-r'>\n",
    "\n",
    "**Q4.3** Fit the full logistic regression model (without penalty) with main effects of all 12 predictors in it (call it `logit_full`). Store the classification accuracy on train and test for this model in `logit_full_train_acc` and `logit_full_test_acc`.\n",
    "\n",
    "**HINT:** If you have convergence warnings, increasing the maximum number of iterations will likely solve this issue.\n",
    "    \n",
    "</div>\n",
    "\n",
    "_Points:_ 3"
   ]
  },
  {
   "cell_type": "code",
   "execution_count": 218,
   "metadata": {},
   "outputs": [],
   "source": [
    "# The code that prints your results assumes\n",
    "# predictors were given to the model in this order\n",
    "predictor_list = [\n",
    "    \"test_score\", \"ap\", \"avg_ap\", \"sat_subjects\",\n",
    "    \"gpa\", \"female\", \"minority\", \"international\",\n",
    "    \"sports\", \"harvard\", \"early_app\", \"alumni\",\n",
    "]"
   ]
  },
  {
   "cell_type": "code",
   "execution_count": 219,
   "metadata": {
    "tags": []
   },
   "outputs": [],
   "source": [
    "# your code here\n",
    "X_4_3_train = pd.DataFrame(X_train[predictor_list])\n",
    "X_4_3_test = pd.DataFrame(X_test[predictor_list])\n",
    "\n",
    "logit_full = LogisticRegression(penalty='none', multi_class = \"ovr\").fit(X_4_3_train, y_train)\n",
    "\n",
    "y_pred_train = logit_full.predict(X_4_3_train)\n",
    "y_pred_test = logit_full.predict(X_4_3_test)\n",
    "\n",
    "logit_full_train_acc = float(accuracy_score(y_train, y_pred_train))\n",
    "logit_full_test_acc = float(accuracy_score(y_test, y_pred_test))"
   ]
  },
  {
   "cell_type": "code",
   "execution_count": 220,
   "metadata": {},
   "outputs": [],
   "source": [
    "# X_4_3_train = pd.DataFrame(X_train[predictor_list])\n",
    "# X_4_3_test = pd.DataFrame(X_test[predictor_list])\n",
    "\n",
    "# logit_full = LogisticRegression(penalty='none', max_iter = 1000, random_state=5).fit(X_4_3_train,y_train)\n",
    "# logit_full_train_acc = logit_full.score(X_4_3_train,y_train)\n",
    "# logit_full_test_acc = logit_full.score(X_4_3_test,y_test)\n",
    "\n",
    "# logit_full_train_acc,logit_full_test_acc"
   ]
  },
  {
   "cell_type": "code",
   "execution_count": 221,
   "metadata": {
    "tags": []
   },
   "outputs": [
    {
     "name": "stdout",
     "output_type": "stream",
     "text": [
      "The intercept and coefficients for the 'logit_full' model are:\n",
      "\n",
      "\tintercept           -1.7090\n",
      "\ttest_score          0.7838\n",
      "\tap                  -0.1403\n",
      "\tavg_ap              0.0975\n",
      "\tsat_subjects        -0.0952\n",
      "\tgpa                 0.1056\n",
      "\tfemale              0.0518\n",
      "\tminority            0.9165\n",
      "\tinternational       0.4500\n",
      "\tsports              1.2334\n",
      "\tharvard             0.2581\n",
      "\tearly_app           0.3737\n",
      "\talumni              0.6629\n",
      "\n",
      "The classification accuracies for 'logit_full' are:\n",
      "\n",
      "\tTrain\t0.7453\n",
      "\tTEST\t0.7147\n"
     ]
    }
   ],
   "source": [
    "# display your results\n",
    "print(\n",
    "    \"The intercept and coefficients for the 'logit_full' model are:\"\n",
    "    \"\\n\\n\\t{:<20}{:.4f}\".format(\n",
    "        \"intercept\", np.array(logit_full.intercept_).flatten()[0]\n",
    "    )\n",
    ")\n",
    "\n",
    "for predictor, coef in zip(predictor_list, logit_full.coef_.flatten()):\n",
    "    print(\"\\t{:<20}{:.4f}\".format(predictor, coef))\n",
    "\n",
    "print(\n",
    "    \"\\nThe classification accuracies for 'logit_full' are:\"\n",
    "    \"\\n\\n\\tTrain\\t{:.4f}\\n\\tTEST\\t{:.4f}\"\n",
    "    .format(logit_full_train_acc, logit_full_test_acc)\n",
    ")\n",
    "\n",
    "# store test score to dict for later use\n",
    "q4_test_scores[\"logit_full\"] = logit_full_test_acc"
   ]
  },
  {
   "cell_type": "code",
   "execution_count": 222,
   "metadata": {
    "deletable": false,
    "editable": false
   },
   "outputs": [
    {
     "data": {
      "text/html": [
       "<p><strong><pre style='display: inline;'>q4.3</pre></strong> passed!</p>"
      ],
      "text/plain": [
       "q4.3 results: All test cases passed!"
      ]
     },
     "execution_count": 222,
     "metadata": {},
     "output_type": "execute_result"
    }
   ],
   "source": [
    "grader.check(\"q4.3\")"
   ]
  },
  {
   "cell_type": "markdown",
   "metadata": {
    "cell_id": "0a790850-87c6-4f46-b89e-048a2295c92b",
    "colab_type": "text",
    "id": "IGFtXJmQap2q"
   },
   "source": [
    "<div class='exercise-r'>\n",
    "\n",
    "**Q4.4** Fit a well-tuned Lasso-like logistic regression model from all 12 predictors in it (call it `logit_lasso`). Use `Cs = [1e-4, 1e-3, 1e-2, 1e-1, 1e0, 1e1, 1e2, 1e3, 1e4]` and 10-fold cross-validation with classification accuracy as the scoring metric. Store the classification accuracy on train and test for this model in `logit_lasso_train_acc` and `logit_lasso_test_acc`.\n",
    "\n",
    "</div>\n",
    "\n",
    "_Points:_ 4"
   ]
  },
  {
   "cell_type": "code",
   "execution_count": 223,
   "metadata": {},
   "outputs": [],
   "source": [
    "predictor_list = [\n",
    "    \"test_score\", \"ap\", \"avg_ap\", \"sat_subjects\",\n",
    "    \"gpa\", \"female\", \"minority\", \"international\",\n",
    "    \"sports\", \"harvard\", \"early_app\", \"alumni\",\n",
    "]"
   ]
  },
  {
   "cell_type": "code",
   "execution_count": 224,
   "metadata": {},
   "outputs": [],
   "source": [
    "X_4_4_train = pd.DataFrame(X_train[predictor_list])\n",
    "X_4_4_test = pd.DataFrame(X_test[predictor_list])"
   ]
  },
  {
   "cell_type": "code",
   "execution_count": 225,
   "metadata": {},
   "outputs": [],
   "source": [
    "Cs = [1e-4, 1e-3, 1e-2, 1e-1, 1e0, 1e1, 1e2, 1e3, 1e4]\n",
    "cv = 10\n",
    "penalty = 'l1'\n",
    "solver = 'liblinear'\n",
    "\n",
    "logit_lasso = LogisticRegressionCV(Cs=Cs, cv=cv, penalty=penalty, solver='liblinear').fit(X_4_4_train, y_train)\n",
    "\n",
    "logit_lasso_train_acc = logit_lasso.score(X_4_4_train, y_train)\n",
    "logit_lasso_test_acc = logit_lasso.score(X_4_4_test, y_test)\n"
   ]
  },
  {
   "cell_type": "code",
   "execution_count": 226,
   "metadata": {
    "tags": []
   },
   "outputs": [],
   "source": [
    "# your code here\n",
    "# ...\n",
    "# logit_lasso = ...\n",
    "\n",
    "# logit_lasso_train_acc = ...\n",
    "# logit_lasso_test_acc = ..."
   ]
  },
  {
   "cell_type": "code",
   "execution_count": 227,
   "metadata": {
    "tags": []
   },
   "outputs": [
    {
     "name": "stdout",
     "output_type": "stream",
     "text": [
      "The intercept and coefficients for the 'logit_lasso' model are:\n",
      "\n",
      "\tintercept           -1.7014\n",
      "\ttest_score          0.7819\n",
      "\tap                  -0.1388\n",
      "\tavg_ap              0.0952\n",
      "\tsat_subjects        -0.0943\n",
      "\tgpa                 0.1045\n",
      "\tfemale              0.0493\n",
      "\tminority            0.9121\n",
      "\tinternational       0.4403\n",
      "\tsports              1.2214\n",
      "\tharvard             0.2545\n",
      "\tearly_app           0.3702\n",
      "\talumni              0.6563\n",
      "\n",
      "The classification accuracies for 'logit_lasso' are:\n",
      "\n",
      "\tTrain\t0.7453\n",
      "\tTEST\t0.7147\n"
     ]
    }
   ],
   "source": [
    "# Display your results\n",
    "print(\n",
    "    \"The intercept and coefficients for the 'logit_lasso' model are:\"\n",
    "    \"\\n\\n\\t{:<20}{:.4f}\".format(\n",
    "        \"intercept\", np.array(logit_lasso.intercept_).flatten()[0]\n",
    "    )\n",
    ")\n",
    "\n",
    "# Again, this code assumes predictors were given to the model\n",
    "# in the order defined in `predictor_list`\n",
    "for predictor, coef in zip(predictor_list, logit_lasso.coef_.flatten()):\n",
    "    print(\"\\t{:<20}{:.4f}\".format(predictor, coef))\n",
    "\n",
    "print(\n",
    "    \"\\nThe classification accuracies for 'logit_lasso' are:\"\n",
    "    \"\\n\\n\\tTrain\\t{:.4f}\\n\\tTEST\\t{:.4f}\"\n",
    "    .format(logit_lasso_train_acc, logit_lasso_test_acc)\n",
    ")\n",
    "\n",
    "# store test score to dict for later use\n",
    "q4_test_scores[\"logit_lasso\"] = logit_lasso_test_acc"
   ]
  },
  {
   "cell_type": "code",
   "execution_count": 228,
   "metadata": {
    "deletable": false,
    "editable": false
   },
   "outputs": [
    {
     "data": {
      "text/html": [
       "<p><strong><pre style='display: inline;'>q4.4</pre></strong> passed!</p>"
      ],
      "text/plain": [
       "q4.4 results: All test cases passed!"
      ]
     },
     "execution_count": 228,
     "metadata": {},
     "output_type": "execute_result"
    }
   ],
   "source": [
    "grader.check(\"q4.4\")"
   ]
  },
  {
   "cell_type": "markdown",
   "metadata": {
    "cell_id": "0a790850-87c6-4f46-b89e-048a2295c92b",
    "colab_type": "text",
    "id": "IGFtXJmQap2q"
   },
   "source": [
    "<div class='exercise-r'>\n",
    "\n",
    "**4.5** Which predictors were deemed important in `logit_lasso`?  Which were deemed unimportant? Please remember that, as a general practice, zero-value Lasso coefficients (i.e. $\\beta_i=0$) are considered \"unimportant\". Store your results in `predictors_important` and `predictors_not_important`.\n",
    " \n",
    "</div>\n",
    "\n",
    "_Points:_ 3"
   ]
  },
  {
   "cell_type": "code",
   "execution_count": 229,
   "metadata": {
    "tags": []
   },
   "outputs": [],
   "source": [
    "# your code here\n",
    "...\n",
    "predictors_important = ['ap','test_score','minority','international','sports','harvard','early_app','alumni','gpa','avg_ap','sat_subjects','female']\n",
    "predictors_not_important = []"
   ]
  },
  {
   "cell_type": "code",
   "execution_count": 230,
   "metadata": {
    "tags": []
   },
   "outputs": [
    {
     "name": "stdout",
     "output_type": "stream",
     "text": [
      "The following predictors were deemed important by 'logit_lasso' (i.e. coef != 0):\n",
      "\n",
      "\t['ap', 'test_score', 'minority', 'international', 'sports', 'harvard', 'early_app', 'alumni', 'gpa', 'avg_ap', 'sat_subjects', 'female']\n",
      "\n",
      "\n",
      "While, the remaining were deemed unimportant (i.e. coef == 0):\n",
      "\n",
      "\t[]\n"
     ]
    }
   ],
   "source": [
    "# display results\n",
    "print(\n",
    "    \"The following predictors were deemed important by \"\n",
    "    \"'logit_lasso' (i.e. coef != 0):\\n\\n\\t{}\\n\\n\\n\"\n",
    "    \"While, the remaining were deemed unimportant (i.e. \"\n",
    "    \"coef == 0):\\n\\n\\t{}\"\n",
    "    .format(\n",
    "        predictors_important,\n",
    "        predictors_not_important,\n",
    "    )\n",
    ")"
   ]
  },
  {
   "cell_type": "code",
   "execution_count": 231,
   "metadata": {
    "deletable": false,
    "editable": false
   },
   "outputs": [
    {
     "data": {
      "text/html": [
       "<p><strong><pre style='display: inline;'>q4.5</pre></strong> passed!</p>"
      ],
      "text/plain": [
       "q4.5 results: All test cases passed!"
      ]
     },
     "execution_count": 231,
     "metadata": {},
     "output_type": "execute_result"
    }
   ],
   "source": [
    "grader.check(\"q4.5\")"
   ]
  },
  {
   "cell_type": "markdown",
   "metadata": {
    "cell_id": "0a790850-87c6-4f46-b89e-048a2295c92b",
    "colab_type": "text",
    "id": "IGFtXJmQap2q"
   },
   "source": [
    "<div class='exercise-r'>\n",
    "\n",
    "**Q4.6** Fit a well-tuned Lasso-like logistic regression model with all important predictors from `logit_lasso` and all the unique 2-way interactions between them (call it `lasso_interact`).  Again use `Cs = [1e-4, 1e-3, 1e-2, 1e-1, 1e0, 1e1, 1e2, 1e3, 1e4]` and 10-fold cross-validation with classification accuracy as the scoring metric. Record the accuracy on train and test for this model in `lasso_interact_train_acc` and `lasso_interact_test_acc`.\n",
    "\n",
    "</div>\n",
    "\n",
    "_Points:_ 4"
   ]
  },
  {
   "cell_type": "code",
   "execution_count": 232,
   "metadata": {},
   "outputs": [],
   "source": [
    "X_4_6_train = X_train_scaled.copy(deep=True)\n",
    "X_4_6_test = X_test_scaled.copy(deep=True)"
   ]
  },
  {
   "cell_type": "code",
   "execution_count": 233,
   "metadata": {
    "tags": []
   },
   "outputs": [],
   "source": [
    "# X_4_6_train = pd.DataFrame(X_train_scaled)\n",
    "# X_4_6_test = pd.DataFrame(X_test_scaled)"
   ]
  },
  {
   "cell_type": "code",
   "execution_count": 234,
   "metadata": {},
   "outputs": [],
   "source": [
    "# list = [0,1,2,3,4]\n",
    "# combo = []\n",
    "# for i in range(len(list)):\n",
    "#     for j in range(i+1, len(list)):\n",
    "#         combo.append((i,j))\n",
    "# combo"
   ]
  },
  {
   "cell_type": "code",
   "execution_count": 235,
   "metadata": {},
   "outputs": [
    {
     "data": {
      "text/plain": [
       "66"
      ]
     },
     "execution_count": 235,
     "metadata": {},
     "output_type": "execute_result"
    }
   ],
   "source": [
    "interactions = []\n",
    "\n",
    "for i in range(len(predictors_important)):\n",
    "    for j in range(i+1, len(predictors_important)):\n",
    "        X_4_6_train[predictors_important[i],predictors_important[j]]= X_4_6_train[predictors_important[i]]*X_4_6_train[predictors_important[j]]\n",
    "        X_4_6_test[predictors_important[i],predictors_important[j]]= X_4_6_test[predictors_important[i]]*X_4_6_test[predictors_important[j]]\n",
    "        interactions.append((predictors_important[i],predictors_important[j]))\n",
    "        \n",
    "len(interactions)"
   ]
  },
  {
   "cell_type": "code",
   "execution_count": 236,
   "metadata": {},
   "outputs": [
    {
     "name": "stderr",
     "output_type": "stream",
     "text": [
      "/Users/karenkuo/opt/anaconda3/lib/python3.9/site-packages/sklearn/utils/validation.py:1688: FutureWarning: Feature names only support names that are all strings. Got feature names with dtypes: ['str', 'tuple']. An error will be raised in 1.2.\n",
      "  warnings.warn(\n",
      "/Users/karenkuo/opt/anaconda3/lib/python3.9/site-packages/sklearn/utils/validation.py:1688: FutureWarning: Feature names only support names that are all strings. Got feature names with dtypes: ['str', 'tuple']. An error will be raised in 1.2.\n",
      "  warnings.warn(\n",
      "/Users/karenkuo/opt/anaconda3/lib/python3.9/site-packages/sklearn/utils/validation.py:1688: FutureWarning: Feature names only support names that are all strings. Got feature names with dtypes: ['str', 'tuple']. An error will be raised in 1.2.\n",
      "  warnings.warn(\n"
     ]
    },
    {
     "data": {
      "text/html": [
       "<div>\n",
       "<style scoped>\n",
       "    .dataframe tbody tr th:only-of-type {\n",
       "        vertical-align: middle;\n",
       "    }\n",
       "\n",
       "    .dataframe tbody tr th {\n",
       "        vertical-align: top;\n",
       "    }\n",
       "\n",
       "    .dataframe thead th {\n",
       "        text-align: right;\n",
       "    }\n",
       "</style>\n",
       "<table border=\"1\" class=\"dataframe\">\n",
       "  <thead>\n",
       "    <tr style=\"text-align: right;\">\n",
       "      <th></th>\n",
       "      <th>test_score</th>\n",
       "      <th>ap</th>\n",
       "      <th>avg_ap</th>\n",
       "      <th>sat_subjects</th>\n",
       "      <th>gpa</th>\n",
       "      <th>female</th>\n",
       "      <th>minority</th>\n",
       "      <th>international</th>\n",
       "      <th>sports</th>\n",
       "      <th>early_app</th>\n",
       "      <th>alumni</th>\n",
       "      <th>harvard</th>\n",
       "      <th>(ap, test_score)</th>\n",
       "      <th>(ap, minority)</th>\n",
       "      <th>(ap, international)</th>\n",
       "      <th>(ap, sports)</th>\n",
       "      <th>(ap, harvard)</th>\n",
       "      <th>(ap, early_app)</th>\n",
       "      <th>(ap, alumni)</th>\n",
       "      <th>(ap, gpa)</th>\n",
       "      <th>(ap, avg_ap)</th>\n",
       "      <th>(ap, sat_subjects)</th>\n",
       "      <th>(ap, female)</th>\n",
       "      <th>(test_score, minority)</th>\n",
       "      <th>(test_score, international)</th>\n",
       "      <th>...</th>\n",
       "      <th>(sports, gpa)</th>\n",
       "      <th>(sports, avg_ap)</th>\n",
       "      <th>(sports, sat_subjects)</th>\n",
       "      <th>(sports, female)</th>\n",
       "      <th>(harvard, early_app)</th>\n",
       "      <th>(harvard, alumni)</th>\n",
       "      <th>(harvard, gpa)</th>\n",
       "      <th>(harvard, avg_ap)</th>\n",
       "      <th>(harvard, sat_subjects)</th>\n",
       "      <th>(harvard, female)</th>\n",
       "      <th>(early_app, alumni)</th>\n",
       "      <th>(early_app, gpa)</th>\n",
       "      <th>(early_app, avg_ap)</th>\n",
       "      <th>(early_app, sat_subjects)</th>\n",
       "      <th>(early_app, female)</th>\n",
       "      <th>(alumni, gpa)</th>\n",
       "      <th>(alumni, avg_ap)</th>\n",
       "      <th>(alumni, sat_subjects)</th>\n",
       "      <th>(alumni, female)</th>\n",
       "      <th>(gpa, avg_ap)</th>\n",
       "      <th>(gpa, sat_subjects)</th>\n",
       "      <th>(gpa, female)</th>\n",
       "      <th>(avg_ap, sat_subjects)</th>\n",
       "      <th>(avg_ap, female)</th>\n",
       "      <th>(sat_subjects, female)</th>\n",
       "    </tr>\n",
       "  </thead>\n",
       "  <tbody>\n",
       "    <tr>\n",
       "      <th>584</th>\n",
       "      <td>-0.620</td>\n",
       "      <td>0.670</td>\n",
       "      <td>0.398</td>\n",
       "      <td>0.881</td>\n",
       "      <td>0.108</td>\n",
       "      <td>1</td>\n",
       "      <td>0</td>\n",
       "      <td>0</td>\n",
       "      <td>0</td>\n",
       "      <td>1</td>\n",
       "      <td>0</td>\n",
       "      <td>1</td>\n",
       "      <td>-0.416</td>\n",
       "      <td>0.0</td>\n",
       "      <td>0.0</td>\n",
       "      <td>0.0</td>\n",
       "      <td>0.67</td>\n",
       "      <td>0.670</td>\n",
       "      <td>0.0</td>\n",
       "      <td>0.073</td>\n",
       "      <td>0.266</td>\n",
       "      <td>0.590</td>\n",
       "      <td>0.670</td>\n",
       "      <td>-0.0</td>\n",
       "      <td>-0.0</td>\n",
       "      <td>...</td>\n",
       "      <td>0.0</td>\n",
       "      <td>0.0</td>\n",
       "      <td>0.0</td>\n",
       "      <td>0</td>\n",
       "      <td>1</td>\n",
       "      <td>0</td>\n",
       "      <td>0.108</td>\n",
       "      <td>0.398</td>\n",
       "      <td>0.881</td>\n",
       "      <td>1</td>\n",
       "      <td>0</td>\n",
       "      <td>0.108</td>\n",
       "      <td>0.398</td>\n",
       "      <td>0.881</td>\n",
       "      <td>1</td>\n",
       "      <td>0.0</td>\n",
       "      <td>0.0</td>\n",
       "      <td>0.0</td>\n",
       "      <td>0</td>\n",
       "      <td>0.043</td>\n",
       "      <td>0.095</td>\n",
       "      <td>0.108</td>\n",
       "      <td>0.350</td>\n",
       "      <td>0.398</td>\n",
       "      <td>0.881</td>\n",
       "    </tr>\n",
       "    <tr>\n",
       "      <th>1817</th>\n",
       "      <td>0.026</td>\n",
       "      <td>1.099</td>\n",
       "      <td>-0.034</td>\n",
       "      <td>0.105</td>\n",
       "      <td>0.460</td>\n",
       "      <td>1</td>\n",
       "      <td>0</td>\n",
       "      <td>0</td>\n",
       "      <td>0</td>\n",
       "      <td>0</td>\n",
       "      <td>0</td>\n",
       "      <td>0</td>\n",
       "      <td>0.029</td>\n",
       "      <td>0.0</td>\n",
       "      <td>0.0</td>\n",
       "      <td>0.0</td>\n",
       "      <td>0.00</td>\n",
       "      <td>0.000</td>\n",
       "      <td>0.0</td>\n",
       "      <td>0.505</td>\n",
       "      <td>-0.037</td>\n",
       "      <td>0.116</td>\n",
       "      <td>1.099</td>\n",
       "      <td>0.0</td>\n",
       "      <td>0.0</td>\n",
       "      <td>...</td>\n",
       "      <td>0.0</td>\n",
       "      <td>-0.0</td>\n",
       "      <td>0.0</td>\n",
       "      <td>0</td>\n",
       "      <td>0</td>\n",
       "      <td>0</td>\n",
       "      <td>0.000</td>\n",
       "      <td>-0.000</td>\n",
       "      <td>0.000</td>\n",
       "      <td>0</td>\n",
       "      <td>0</td>\n",
       "      <td>0.000</td>\n",
       "      <td>-0.000</td>\n",
       "      <td>0.000</td>\n",
       "      <td>0</td>\n",
       "      <td>0.0</td>\n",
       "      <td>-0.0</td>\n",
       "      <td>0.0</td>\n",
       "      <td>0</td>\n",
       "      <td>-0.016</td>\n",
       "      <td>0.048</td>\n",
       "      <td>0.460</td>\n",
       "      <td>-0.004</td>\n",
       "      <td>-0.034</td>\n",
       "      <td>0.105</td>\n",
       "    </tr>\n",
       "    <tr>\n",
       "      <th>1308</th>\n",
       "      <td>-0.268</td>\n",
       "      <td>-0.616</td>\n",
       "      <td>0.456</td>\n",
       "      <td>0.105</td>\n",
       "      <td>-0.896</td>\n",
       "      <td>0</td>\n",
       "      <td>0</td>\n",
       "      <td>0</td>\n",
       "      <td>0</td>\n",
       "      <td>0</td>\n",
       "      <td>0</td>\n",
       "      <td>0</td>\n",
       "      <td>0.165</td>\n",
       "      <td>-0.0</td>\n",
       "      <td>-0.0</td>\n",
       "      <td>-0.0</td>\n",
       "      <td>-0.00</td>\n",
       "      <td>-0.000</td>\n",
       "      <td>-0.0</td>\n",
       "      <td>0.552</td>\n",
       "      <td>-0.281</td>\n",
       "      <td>-0.065</td>\n",
       "      <td>-0.000</td>\n",
       "      <td>-0.0</td>\n",
       "      <td>-0.0</td>\n",
       "      <td>...</td>\n",
       "      <td>-0.0</td>\n",
       "      <td>0.0</td>\n",
       "      <td>0.0</td>\n",
       "      <td>0</td>\n",
       "      <td>0</td>\n",
       "      <td>0</td>\n",
       "      <td>-0.000</td>\n",
       "      <td>0.000</td>\n",
       "      <td>0.000</td>\n",
       "      <td>0</td>\n",
       "      <td>0</td>\n",
       "      <td>-0.000</td>\n",
       "      <td>0.000</td>\n",
       "      <td>0.000</td>\n",
       "      <td>0</td>\n",
       "      <td>-0.0</td>\n",
       "      <td>0.0</td>\n",
       "      <td>0.0</td>\n",
       "      <td>0</td>\n",
       "      <td>-0.409</td>\n",
       "      <td>-0.094</td>\n",
       "      <td>-0.000</td>\n",
       "      <td>0.048</td>\n",
       "      <td>0.000</td>\n",
       "      <td>0.000</td>\n",
       "    </tr>\n",
       "    <tr>\n",
       "      <th>1336</th>\n",
       "      <td>-0.385</td>\n",
       "      <td>1.099</td>\n",
       "      <td>-0.230</td>\n",
       "      <td>0.105</td>\n",
       "      <td>0.610</td>\n",
       "      <td>1</td>\n",
       "      <td>0</td>\n",
       "      <td>0</td>\n",
       "      <td>0</td>\n",
       "      <td>1</td>\n",
       "      <td>0</td>\n",
       "      <td>0</td>\n",
       "      <td>-0.423</td>\n",
       "      <td>0.0</td>\n",
       "      <td>0.0</td>\n",
       "      <td>0.0</td>\n",
       "      <td>0.00</td>\n",
       "      <td>1.099</td>\n",
       "      <td>0.0</td>\n",
       "      <td>0.670</td>\n",
       "      <td>-0.253</td>\n",
       "      <td>0.116</td>\n",
       "      <td>1.099</td>\n",
       "      <td>-0.0</td>\n",
       "      <td>-0.0</td>\n",
       "      <td>...</td>\n",
       "      <td>0.0</td>\n",
       "      <td>-0.0</td>\n",
       "      <td>0.0</td>\n",
       "      <td>0</td>\n",
       "      <td>0</td>\n",
       "      <td>0</td>\n",
       "      <td>0.000</td>\n",
       "      <td>-0.000</td>\n",
       "      <td>0.000</td>\n",
       "      <td>0</td>\n",
       "      <td>0</td>\n",
       "      <td>0.610</td>\n",
       "      <td>-0.230</td>\n",
       "      <td>0.105</td>\n",
       "      <td>1</td>\n",
       "      <td>0.0</td>\n",
       "      <td>-0.0</td>\n",
       "      <td>0.0</td>\n",
       "      <td>0</td>\n",
       "      <td>-0.140</td>\n",
       "      <td>0.064</td>\n",
       "      <td>0.610</td>\n",
       "      <td>-0.024</td>\n",
       "      <td>-0.230</td>\n",
       "      <td>0.105</td>\n",
       "    </tr>\n",
       "    <tr>\n",
       "      <th>3</th>\n",
       "      <td>1.261</td>\n",
       "      <td>0.670</td>\n",
       "      <td>0.751</td>\n",
       "      <td>1.656</td>\n",
       "      <td>0.610</td>\n",
       "      <td>1</td>\n",
       "      <td>0</td>\n",
       "      <td>0</td>\n",
       "      <td>0</td>\n",
       "      <td>0</td>\n",
       "      <td>0</td>\n",
       "      <td>1</td>\n",
       "      <td>0.845</td>\n",
       "      <td>0.0</td>\n",
       "      <td>0.0</td>\n",
       "      <td>0.0</td>\n",
       "      <td>0.67</td>\n",
       "      <td>0.000</td>\n",
       "      <td>0.0</td>\n",
       "      <td>0.409</td>\n",
       "      <td>0.503</td>\n",
       "      <td>1.110</td>\n",
       "      <td>0.670</td>\n",
       "      <td>0.0</td>\n",
       "      <td>0.0</td>\n",
       "      <td>...</td>\n",
       "      <td>0.0</td>\n",
       "      <td>0.0</td>\n",
       "      <td>0.0</td>\n",
       "      <td>0</td>\n",
       "      <td>0</td>\n",
       "      <td>0</td>\n",
       "      <td>0.610</td>\n",
       "      <td>0.751</td>\n",
       "      <td>1.656</td>\n",
       "      <td>1</td>\n",
       "      <td>0</td>\n",
       "      <td>0.000</td>\n",
       "      <td>0.000</td>\n",
       "      <td>0.000</td>\n",
       "      <td>0</td>\n",
       "      <td>0.0</td>\n",
       "      <td>0.0</td>\n",
       "      <td>0.0</td>\n",
       "      <td>0</td>\n",
       "      <td>0.458</td>\n",
       "      <td>1.010</td>\n",
       "      <td>0.610</td>\n",
       "      <td>1.243</td>\n",
       "      <td>0.751</td>\n",
       "      <td>1.656</td>\n",
       "    </tr>\n",
       "  </tbody>\n",
       "</table>\n",
       "<p>5 rows × 78 columns</p>\n",
       "</div>"
      ],
      "text/plain": [
       "      test_score     ap  avg_ap  sat_subjects    gpa  female  minority  \\\n",
       "584       -0.620  0.670   0.398         0.881  0.108       1         0   \n",
       "1817       0.026  1.099  -0.034         0.105  0.460       1         0   \n",
       "1308      -0.268 -0.616   0.456         0.105 -0.896       0         0   \n",
       "1336      -0.385  1.099  -0.230         0.105  0.610       1         0   \n",
       "3          1.261  0.670   0.751         1.656  0.610       1         0   \n",
       "\n",
       "      international  sports  early_app  alumni  harvard  (ap, test_score)  \\\n",
       "584               0       0          1       0        1            -0.416   \n",
       "1817              0       0          0       0        0             0.029   \n",
       "1308              0       0          0       0        0             0.165   \n",
       "1336              0       0          1       0        0            -0.423   \n",
       "3                 0       0          0       0        1             0.845   \n",
       "\n",
       "      (ap, minority)  (ap, international)  (ap, sports)  (ap, harvard)  \\\n",
       "584              0.0                  0.0           0.0           0.67   \n",
       "1817             0.0                  0.0           0.0           0.00   \n",
       "1308            -0.0                 -0.0          -0.0          -0.00   \n",
       "1336             0.0                  0.0           0.0           0.00   \n",
       "3                0.0                  0.0           0.0           0.67   \n",
       "\n",
       "      (ap, early_app)  (ap, alumni)  (ap, gpa)  (ap, avg_ap)  \\\n",
       "584             0.670           0.0      0.073         0.266   \n",
       "1817            0.000           0.0      0.505        -0.037   \n",
       "1308           -0.000          -0.0      0.552        -0.281   \n",
       "1336            1.099           0.0      0.670        -0.253   \n",
       "3               0.000           0.0      0.409         0.503   \n",
       "\n",
       "      (ap, sat_subjects)  (ap, female)  (test_score, minority)  \\\n",
       "584                0.590         0.670                    -0.0   \n",
       "1817               0.116         1.099                     0.0   \n",
       "1308              -0.065        -0.000                    -0.0   \n",
       "1336               0.116         1.099                    -0.0   \n",
       "3                  1.110         0.670                     0.0   \n",
       "\n",
       "      (test_score, international)  ...  (sports, gpa)  (sports, avg_ap)  \\\n",
       "584                          -0.0  ...            0.0               0.0   \n",
       "1817                          0.0  ...            0.0              -0.0   \n",
       "1308                         -0.0  ...           -0.0               0.0   \n",
       "1336                         -0.0  ...            0.0              -0.0   \n",
       "3                             0.0  ...            0.0               0.0   \n",
       "\n",
       "      (sports, sat_subjects)  (sports, female)  (harvard, early_app)  \\\n",
       "584                      0.0                 0                     1   \n",
       "1817                     0.0                 0                     0   \n",
       "1308                     0.0                 0                     0   \n",
       "1336                     0.0                 0                     0   \n",
       "3                        0.0                 0                     0   \n",
       "\n",
       "      (harvard, alumni)  (harvard, gpa)  (harvard, avg_ap)  \\\n",
       "584                   0           0.108              0.398   \n",
       "1817                  0           0.000             -0.000   \n",
       "1308                  0          -0.000              0.000   \n",
       "1336                  0           0.000             -0.000   \n",
       "3                     0           0.610              0.751   \n",
       "\n",
       "      (harvard, sat_subjects)  (harvard, female)  (early_app, alumni)  \\\n",
       "584                     0.881                  1                    0   \n",
       "1817                    0.000                  0                    0   \n",
       "1308                    0.000                  0                    0   \n",
       "1336                    0.000                  0                    0   \n",
       "3                       1.656                  1                    0   \n",
       "\n",
       "      (early_app, gpa)  (early_app, avg_ap)  (early_app, sat_subjects)  \\\n",
       "584              0.108                0.398                      0.881   \n",
       "1817             0.000               -0.000                      0.000   \n",
       "1308            -0.000                0.000                      0.000   \n",
       "1336             0.610               -0.230                      0.105   \n",
       "3                0.000                0.000                      0.000   \n",
       "\n",
       "      (early_app, female)  (alumni, gpa)  (alumni, avg_ap)  \\\n",
       "584                     1            0.0               0.0   \n",
       "1817                    0            0.0              -0.0   \n",
       "1308                    0           -0.0               0.0   \n",
       "1336                    1            0.0              -0.0   \n",
       "3                       0            0.0               0.0   \n",
       "\n",
       "      (alumni, sat_subjects)  (alumni, female)  (gpa, avg_ap)  \\\n",
       "584                      0.0                 0          0.043   \n",
       "1817                     0.0                 0         -0.016   \n",
       "1308                     0.0                 0         -0.409   \n",
       "1336                     0.0                 0         -0.140   \n",
       "3                        0.0                 0          0.458   \n",
       "\n",
       "      (gpa, sat_subjects)  (gpa, female)  (avg_ap, sat_subjects)  \\\n",
       "584                 0.095          0.108                   0.350   \n",
       "1817                0.048          0.460                  -0.004   \n",
       "1308               -0.094         -0.000                   0.048   \n",
       "1336                0.064          0.610                  -0.024   \n",
       "3                   1.010          0.610                   1.243   \n",
       "\n",
       "      (avg_ap, female)  (sat_subjects, female)  \n",
       "584              0.398                   0.881  \n",
       "1817            -0.034                   0.105  \n",
       "1308             0.000                   0.000  \n",
       "1336            -0.230                   0.105  \n",
       "3                0.751                   1.656  \n",
       "\n",
       "[5 rows x 78 columns]"
      ]
     },
     "metadata": {},
     "output_type": "display_data"
    }
   ],
   "source": [
    "Cs = [1e-4, 1e-3, 1e-2, 1e-1, 1e0, 1e1, 1e2, 1e3, 1e4]\n",
    "cv = 10\n",
    "penalty = 'l1'\n",
    "solver = 'liblinear'\n",
    "\n",
    "lasso_interact = LogisticRegressionCV(Cs=Cs, cv=cv, penalty=penalty, solver='liblinear').fit(X_4_6_train, y_train)\n",
    "\n",
    "lasso_interact_train_acc = lasso_interact.score(X_4_6_train, y_train)\n",
    "lasso_interact_test_acc = lasso_interact.score(X_4_6_test, y_test)\n",
    "    \n",
    "    \n",
    "# View the resulting dataframe\n",
    "display(X_4_6_train.head())"
   ]
  },
  {
   "cell_type": "code",
   "execution_count": 237,
   "metadata": {
    "scrolled": true,
    "tags": []
   },
   "outputs": [],
   "source": [
    "# your code here\n",
    "# ...\n",
    "# lasso_interact = ...\n",
    "# lasso_interact_train_acc = ...\n",
    "# lasso_interact_test_acc = ..."
   ]
  },
  {
   "cell_type": "code",
   "execution_count": 238,
   "metadata": {},
   "outputs": [
    {
     "data": {
      "text/plain": [
       "[(('ap', 'test_score'), 0.5699949189398754),\n",
       " (('ap', 'minority'), 0.07032731019266099),\n",
       " (('ap', 'international'), -0.10427060621787988),\n",
       " (('ap', 'sports'), -0.00943260331303377),\n",
       " (('ap', 'harvard'), 0.13602580477765097),\n",
       " (('ap', 'early_app'), -0.1206559276049681),\n",
       " (('ap', 'alumni'), 1.333307585433782),\n",
       " (('ap', 'gpa'), 0.0),\n",
       " (('ap', 'avg_ap'), 1.4552908392443487),\n",
       " (('ap', 'sat_subjects'), 0.38432357091852537)]"
      ]
     },
     "execution_count": 238,
     "metadata": {},
     "output_type": "execute_result"
    }
   ],
   "source": [
    "coef_list = []\n",
    "for interaction, coef in zip(interactions, lasso_interact.coef_.flatten()):\n",
    "    # print(interaction, coef)\n",
    "    coef_list.append((interaction, coef))\n",
    "coef_list[:10]"
   ]
  },
  {
   "cell_type": "code",
   "execution_count": 239,
   "metadata": {
    "scrolled": true,
    "tags": []
   },
   "outputs": [
    {
     "name": "stdout",
     "output_type": "stream",
     "text": [
      "\n",
      "The classification accuracies for 'logit_lasso_interact' are:\n",
      "\n",
      "\tTrain\t0.7647\n",
      "\tTEST\t0.7040\n",
      "\n"
     ]
    }
   ],
   "source": [
    "print(\n",
    "    \"\\nThe classification accuracies for 'logit_lasso_interact' are:\"\n",
    "    \"\\n\\n\\tTrain\\t{:.4f}\\n\\tTEST\\t{:.4f}\\n\"\n",
    "    .format(lasso_interact_train_acc, lasso_interact_test_acc)\n",
    ")\n",
    "\n",
    "# store test score to dict for later use\n",
    "q4_test_scores[\"lasso_interact\"] = lasso_interact_test_acc"
   ]
  },
  {
   "cell_type": "markdown",
   "metadata": {
    "cell_id": "0a790850-87c6-4f46-b89e-048a2295c92b",
    "colab_type": "text",
    "id": "IGFtXJmQap2q"
   },
   "source": [
    "<div class='exercise-r'>\n",
    "\n",
    "**Q4.7** How many of the predictors in our `logit_lasso_interact` model were deemed important and unimportant? Store these numbers in `num_important_coefs` and `num_unimportant_coefs`. \n",
    "    \n",
    "</div>\n",
    "\n",
    "_Points:_ 2"
   ]
  },
  {
   "cell_type": "code",
   "execution_count": 240,
   "metadata": {},
   "outputs": [
    {
     "data": {
      "text/plain": [
       "array([ 0.56999492,  0.07032731, -0.10427061, -0.0094326 ,  0.1360258 ,\n",
       "       -0.12065593,  1.33330759,  0.        ,  1.45529084,  0.38432357,\n",
       "        0.02663142,  0.0781143 , -0.04900488,  0.        , -0.54305725,\n",
       "       -0.18525811, -0.32429764, -0.190059  ,  0.0534281 ,  0.06552277,\n",
       "        0.        , -0.06062315,  0.04636023,  0.09686814,  0.17448938,\n",
       "        0.        ,  0.2354759 , -0.367459  ,  1.0987119 ,  0.12946667,\n",
       "        0.0049097 , -0.06363251,  0.08050386, -0.13942453, -0.42365587,\n",
       "       -0.4209989 ,  0.        ,  0.32858026,  0.21979305,  0.24404148,\n",
       "        0.        , -0.27813825,  0.        ,  0.        , -0.0950587 ,\n",
       "        0.        ,  0.        ,  0.16492923,  1.1279305 ,  0.16331682,\n",
       "        0.        ,  0.43823787,  0.        , -0.40004728, -0.10075267,\n",
       "        0.        , -0.70972492, -0.20065708,  0.53012125,  0.        ,\n",
       "        0.29882154, -0.24179245,  0.34119878,  0.        , -0.02011284,\n",
       "        0.20941476,  0.01072347,  0.24724765,  0.        ,  0.15933902,\n",
       "        0.02470518,  0.        , -0.18514313,  0.        , -0.00423294,\n",
       "        0.13700573,  0.05473827,  0.00562821])"
      ]
     },
     "execution_count": 240,
     "metadata": {},
     "output_type": "execute_result"
    }
   ],
   "source": [
    "coef_lasso=lasso_interact.coef_\n",
    "cols_inter=X_train.columns\n",
    "cols_inter\n",
    "coef_lasso=coef_lasso.flatten()\n",
    "coef_lasso"
   ]
  },
  {
   "cell_type": "code",
   "execution_count": 241,
   "metadata": {
    "tags": []
   },
   "outputs": [],
   "source": [
    "# your code here\n",
    "num_unimportant_coefs=0\n",
    "for i in coef_lasso:\n",
    "    if i==0:\n",
    "        num_unimportant_coefs+=1\n",
    "num_important_coefs = len(coef_lasso)-num_unimportant_coefs\n",
    "# num_unimportant_coefs = ..."
   ]
  },
  {
   "cell_type": "code",
   "execution_count": 242,
   "metadata": {
    "tags": []
   },
   "outputs": [
    {
     "name": "stdout",
     "output_type": "stream",
     "text": [
      "Of the 78 predictors used in our 'logit_lasso_interact' model:\n",
      "\n",
      "\t60 predictors were deemed 'important' by our model\n",
      "\t18 predictors were deemed 'unimportant' with 0-valued coefficients\n"
     ]
    }
   ],
   "source": [
    "print(\n",
    "    \"Of the {} predictors used in our 'logit_lasso_interact' model:\"\n",
    "    \"\\n\\n\\t{} predictors were deemed 'important' by our model\"\n",
    "    \"\\n\\t{} predictors were deemed 'unimportant' with 0-valued \"\n",
    "    \"coefficients\".format(\n",
    "        num_important_coefs + num_unimportant_coefs,\n",
    "        num_important_coefs,\n",
    "        num_unimportant_coefs\n",
    "    )\n",
    ")"
   ]
  },
  {
   "cell_type": "markdown",
   "metadata": {},
   "source": [
    "---"
   ]
  },
  {
   "cell_type": "markdown",
   "metadata": {},
   "source": [
    "<a id=\"part5\"></a>\n",
    "\n",
    "## <div class='exercise'>Question 5: Evaluating results [12 pts]</div>\n",
    "\n",
    "[Return to contents](#contents)"
   ]
  },
  {
   "cell_type": "markdown",
   "metadata": {
    "cell_id": "0a790850-87c6-4f46-b89e-048a2295c92b",
    "colab_type": "text",
    "id": "IGFtXJmQap2q"
   },
   "source": [
    "<!-- BEGIN QUESTION -->\n",
    "\n",
    "<div class='exercise-r'>\n",
    "\n",
    "**Q5.1** Which of the 4 models in Question 4 performs the best based on classification accuracy?  Which performs the worst? Based on these accuracies, how do these models perform compared to your baseline \"naive\" model back in Question 1.1? What does this comparison to the \"naive\" model tell us?\n",
    "    \n",
    "</div>\n",
    "\n",
    "_Points:_ 2.5"
   ]
  },
  {
   "cell_type": "code",
   "execution_count": 243,
   "metadata": {},
   "outputs": [
    {
     "name": "stdout",
     "output_type": "stream",
     "text": [
      "The TEST accuracies for the 4 models in Q4 are:\n",
      "\n",
      "\tknn_model                0.7013\n",
      "\tlogit_full               0.7147\n",
      "\tlogit_lasso              0.7147\n",
      "\tlasso_interact           0.7040\n",
      "\n",
      "The TEST accuracy for our original baseline \"naive\" model was 0.5956\n"
     ]
    }
   ],
   "source": [
    "# your code here\n",
    "print(\"The TEST accuracies for the 4 models in Q4 are:\\n\")\n",
    "for key, value in q4_test_scores.items():\n",
    "    print(\"\\t{:<25}{:.4f}\".format(key, value))\n",
    "print(\n",
    "    \"\\nThe TEST accuracy for our original baseline \\\"naive\\\" \"\n",
    "    \"model was {:.4f}\".format(naive_test_acc)\n",
    ")"
   ]
  },
  {
   "cell_type": "markdown",
   "metadata": {},
   "source": [
    "\"logit_full\" and \"logit_lasso\" model performs best based on classification accuracy.\n",
    "\"knn_model\" model performs worst. \n",
    "The models perform better compared to the baseline \"naive\" model, since the \"naive\" model's accuracy is 0.6. \n",
    "This comparison tells us the model is taking into account of relevant predictors. "
   ]
  },
  {
   "cell_type": "markdown",
   "metadata": {
    "cell_id": "0a790850-87c6-4f46-b89e-048a2295c92b",
    "colab_type": "text",
    "id": "IGFtXJmQap2q"
   },
   "source": [
    "<!-- END QUESTION -->\n",
    "\n",
    "<!-- BEGIN QUESTION -->\n",
    "\n",
    "<div class='exercise-r'>\n",
    "\n",
    "**Q5.2** Draw the four ROC curves on the same set of axes using the test data.  How do these ROC curves compare?  Do the ROC curves support that the best model identified in Question 5.1 is better than the worst model identified in 5.1?  How do you know?\n",
    "    \n",
    "</div>\n",
    "\n",
    "_Points:_ 4.5"
   ]
  },
  {
   "cell_type": "markdown",
   "metadata": {},
   "source": [
    "The ROC curves tells us they perform better. Yes, it supports the best model identified in Question 5.1, because based on the graph with the same true-positive rate, \"logit-lasso\" and \"logit-full\" have lower false-positive rate. "
   ]
  },
  {
   "cell_type": "code",
   "execution_count": 244,
   "metadata": {},
   "outputs": [],
   "source": [
    "# knn_model_predict = knn_model.predict_proba(X_4_2_test)[:,1]"
   ]
  },
  {
   "cell_type": "code",
   "execution_count": 245,
   "metadata": {},
   "outputs": [
    {
     "data": {
      "text/html": [
       "<div>\n",
       "<style scoped>\n",
       "    .dataframe tbody tr th:only-of-type {\n",
       "        vertical-align: middle;\n",
       "    }\n",
       "\n",
       "    .dataframe tbody tr th {\n",
       "        vertical-align: top;\n",
       "    }\n",
       "\n",
       "    .dataframe thead th {\n",
       "        text-align: right;\n",
       "    }\n",
       "</style>\n",
       "<table border=\"1\" class=\"dataframe\">\n",
       "  <thead>\n",
       "    <tr style=\"text-align: right;\">\n",
       "      <th></th>\n",
       "      <th>test_score</th>\n",
       "      <th>ap</th>\n",
       "      <th>avg_ap</th>\n",
       "      <th>sat_subjects</th>\n",
       "      <th>gpa</th>\n",
       "      <th>female</th>\n",
       "      <th>minority</th>\n",
       "      <th>international</th>\n",
       "      <th>sports</th>\n",
       "      <th>early_app</th>\n",
       "      <th>alumni</th>\n",
       "      <th>harvard</th>\n",
       "    </tr>\n",
       "  </thead>\n",
       "  <tbody>\n",
       "    <tr>\n",
       "      <th>1268</th>\n",
       "      <td>-0.150</td>\n",
       "      <td>1.099</td>\n",
       "      <td>0.358</td>\n",
       "      <td>0.881</td>\n",
       "      <td>0.610</td>\n",
       "      <td>1</td>\n",
       "      <td>0</td>\n",
       "      <td>0</td>\n",
       "      <td>0</td>\n",
       "      <td>1</td>\n",
       "      <td>0</td>\n",
       "      <td>0</td>\n",
       "    </tr>\n",
       "    <tr>\n",
       "      <th>1511</th>\n",
       "      <td>-2.737</td>\n",
       "      <td>-0.616</td>\n",
       "      <td>-0.132</td>\n",
       "      <td>0.881</td>\n",
       "      <td>0.108</td>\n",
       "      <td>1</td>\n",
       "      <td>1</td>\n",
       "      <td>0</td>\n",
       "      <td>0</td>\n",
       "      <td>1</td>\n",
       "      <td>0</td>\n",
       "      <td>0</td>\n",
       "    </tr>\n",
       "    <tr>\n",
       "      <th>583</th>\n",
       "      <td>-0.562</td>\n",
       "      <td>-0.616</td>\n",
       "      <td>0.162</td>\n",
       "      <td>0.105</td>\n",
       "      <td>0.610</td>\n",
       "      <td>1</td>\n",
       "      <td>0</td>\n",
       "      <td>0</td>\n",
       "      <td>0</td>\n",
       "      <td>0</td>\n",
       "      <td>0</td>\n",
       "      <td>1</td>\n",
       "    </tr>\n",
       "    <tr>\n",
       "      <th>1237</th>\n",
       "      <td>-0.032</td>\n",
       "      <td>-1.473</td>\n",
       "      <td>-2.191</td>\n",
       "      <td>-0.670</td>\n",
       "      <td>0.610</td>\n",
       "      <td>0</td>\n",
       "      <td>1</td>\n",
       "      <td>1</td>\n",
       "      <td>0</td>\n",
       "      <td>0</td>\n",
       "      <td>0</td>\n",
       "      <td>0</td>\n",
       "    </tr>\n",
       "    <tr>\n",
       "      <th>1542</th>\n",
       "      <td>1.026</td>\n",
       "      <td>0.242</td>\n",
       "      <td>0.751</td>\n",
       "      <td>0.105</td>\n",
       "      <td>-0.394</td>\n",
       "      <td>1</td>\n",
       "      <td>0</td>\n",
       "      <td>0</td>\n",
       "      <td>0</td>\n",
       "      <td>0</td>\n",
       "      <td>0</td>\n",
       "      <td>1</td>\n",
       "    </tr>\n",
       "  </tbody>\n",
       "</table>\n",
       "</div>"
      ],
      "text/plain": [
       "      test_score     ap  avg_ap  sat_subjects    gpa  female  minority  \\\n",
       "1268      -0.150  1.099   0.358         0.881  0.610       1         0   \n",
       "1511      -2.737 -0.616  -0.132         0.881  0.108       1         1   \n",
       "583       -0.562 -0.616   0.162         0.105  0.610       1         0   \n",
       "1237      -0.032 -1.473  -2.191        -0.670  0.610       0         1   \n",
       "1542       1.026  0.242   0.751         0.105 -0.394       1         0   \n",
       "\n",
       "      international  sports  early_app  alumni  harvard  \n",
       "1268              0       0          1       0        0  \n",
       "1511              0       0          1       0        0  \n",
       "583               0       0          0       0        1  \n",
       "1237              1       0          0       0        0  \n",
       "1542              0       0          0       0        1  "
      ]
     },
     "execution_count": 245,
     "metadata": {},
     "output_type": "execute_result"
    }
   ],
   "source": [
    "X_4_2_test[:5]\n",
    "# X_4_3_test[:5]\n",
    "# X_4_4_test[:5]\n",
    "# X_4_6_test[:5]"
   ]
  },
  {
   "cell_type": "code",
   "execution_count": 246,
   "metadata": {
    "tags": []
   },
   "outputs": [
    {
     "name": "stderr",
     "output_type": "stream",
     "text": [
      "/Users/karenkuo/opt/anaconda3/lib/python3.9/site-packages/sklearn/utils/validation.py:1688: FutureWarning: Feature names only support names that are all strings. Got feature names with dtypes: ['str', 'tuple']. An error will be raised in 1.2.\n",
      "  warnings.warn(\n"
     ]
    }
   ],
   "source": [
    "# your code here\n",
    "knn_model_predict = knn_model.predict_proba(X_4_2_test)[:,1]\n",
    "logit_full_predict = logit_full.predict_proba(X_4_3_test)[:,1]\n",
    "logit_lasso_predict = logit_lasso.predict_proba(X_4_4_test)[:,1]\n",
    "lasso_interact_predict = lasso_interact.predict_proba(X_4_6_test)[:,1]"
   ]
  },
  {
   "cell_type": "code",
   "execution_count": 247,
   "metadata": {},
   "outputs": [],
   "source": [
    "# X_4_2_test"
   ]
  },
  {
   "cell_type": "code",
   "execution_count": 248,
   "metadata": {},
   "outputs": [
    {
     "data": {
      "text/plain": [
       "array([0.32394366, 0.15492958, 0.18309859, 0.22535211, 0.32394366,\n",
       "       0.26760563, 0.18309859, 0.28169014, 0.05633803, 0.35211268,\n",
       "       0.30985915, 0.14084507, 0.23943662, 0.23943662, 0.11267606,\n",
       "       0.12676056, 0.33802817, 0.16901408, 0.3943662 , 0.32394366])"
      ]
     },
     "execution_count": 248,
     "metadata": {},
     "output_type": "execute_result"
    }
   ],
   "source": [
    "knn_model_predict[:20]"
   ]
  },
  {
   "cell_type": "code",
   "execution_count": 249,
   "metadata": {
    "tags": []
   },
   "outputs": [],
   "source": [
    "# your code here\n",
    "\n",
    "fpr_knn, tpr_knn, thresholds_knn = roc_curve(y_test, knn_model_predict)\n",
    "fpr_full, tpr_full, thresholds_full = roc_curve(y_test, logit_full_predict)\n",
    "fpr_logit, tpr_logit, thresholds_logit = roc_curve(y_test, logit_lasso_predict)\n",
    "fpr_interact, tpr_interact, thresholds_interact = roc_curve(y_test, lasso_interact_predict)"
   ]
  },
  {
   "cell_type": "code",
   "execution_count": 299,
   "metadata": {},
   "outputs": [
    {
     "data": {
      "image/png": "[encoded data removed]",
      "text/plain": [
       "<Figure size 1080x720 with 1 Axes>"
      ]
     },
     "metadata": {
      "needs_background": "light"
     },
     "output_type": "display_data"
    }
   ],
   "source": [
    "fig, ax = plt.subplots(figsize = (15,10))\n",
    "plt.plot(fpr_knn,tpr_knn,label=\"knn_model_predict\")\n",
    "plt.plot(fpr_full,tpr_full,label=\"logit_full_predict\")\n",
    "plt.plot(fpr_logit,tpr_logit,label=\"logit_lasso_predict\")\n",
    "plt.plot(fpr_interact,tpr_interact,label=\"lasso_interact_predict\")\n",
    "plt.plot([0, 1], [0, 1],'r--', label=\"baseline\")\n",
    "plt.ylabel(\"True Positive Rate\")\n",
    "plt.xlabel(\"False Positive Rate\")\n",
    "plt.title(\"ROC Curve for Predicting AHD in a Logistic Regression Model\")\n",
    "plt.legend()\n",
    "plt.show()"
   ]
  },
  {
   "cell_type": "code",
   "execution_count": 251,
   "metadata": {
    "tags": []
   },
   "outputs": [],
   "source": [
    "# your code here\n",
    "..."
   ]
  },
  {
   "cell_type": "markdown",
   "metadata": {
    "cell_id": "0a790850-87c6-4f46-b89e-048a2295c92b",
    "colab_type": "text",
    "id": "IGFtXJmQap2q"
   },
   "source": [
    "<!-- END QUESTION -->\n",
    "\n",
    "<!-- BEGIN QUESTION -->\n",
    "\n",
    "<div class='exercise-r'>\n",
    "\n",
    "**5.3** Calculate the AUC for all 4 models and store these in `auc_list`. **The order of AUCs in the list should match the order of the model as they appear in `q4_test_scores`.**\n",
    "    \n",
    "Do the rankings of these 4 models based on AUC match those for classification accuracy?  Why do you think this is the case?\n",
    "    \n",
    "</div>\n",
    "\n",
    "_Points:_ 3"
   ]
  },
  {
   "cell_type": "markdown",
   "metadata": {},
   "source": [
    "Yes, the models based on AUC match the classification accuracy. Because the higher the classification accuracy, the higher the AUC scores. "
   ]
  },
  {
   "cell_type": "code",
   "execution_count": 252,
   "metadata": {},
   "outputs": [
    {
     "name": "stderr",
     "output_type": "stream",
     "text": [
      "/Users/karenkuo/opt/anaconda3/lib/python3.9/site-packages/sklearn/utils/validation.py:1688: FutureWarning: Feature names only support names that are all strings. Got feature names with dtypes: ['str', 'tuple']. An error will be raised in 1.2.\n",
      "  warnings.warn(\n"
     ]
    }
   ],
   "source": [
    "knn_model_predict_y = knn_model.predict(X_4_2_test)\n",
    "logit_full_predict_y = logit_full.predict(X_4_3_test)\n",
    "logit_lasso_predict_y = logit_lasso.predict(X_4_4_test)\n",
    "lasso_interact_predict_y = lasso_interact.predict(X_4_6_test)"
   ]
  },
  {
   "cell_type": "code",
   "execution_count": 253,
   "metadata": {},
   "outputs": [
    {
     "data": {
      "text/plain": [
       "(0.5, 0.5479528788701793, 0.5479528788701793, 0.5454746061922868)"
      ]
     },
     "execution_count": 253,
     "metadata": {},
     "output_type": "execute_result"
    }
   ],
   "source": [
    "knn_model_auc_score = roc_auc_score(y_test,knn_model_predict_y)\n",
    "logit_full_predict_auc_score = roc_auc_score(y_test,logit_full_predict_y)\n",
    "logit_lasso_predict_auc_score = roc_auc_score(y_test,logit_lasso_predict_y)\n",
    "lasso_interact_predict_auc_score = roc_auc_score(y_test,lasso_interact_predict_y)\n",
    "\n",
    "knn_model_auc_score,logit_full_predict_auc_score,logit_lasso_predict_auc_score,lasso_interact_predict_auc_score"
   ]
  },
  {
   "cell_type": "code",
   "execution_count": 254,
   "metadata": {},
   "outputs": [],
   "source": [
    "# from sklearn import metrics\n",
    "# knn_model_auc = metrics.auc(fpr_knn, tpr_knn)\n",
    "# logit_full_predict_auc = metrics.auc(fpr_full, tpr_full)\n",
    "# logit_lasso_predict_auc = metrics.auc(fpr_logit, tpr_logit)\n",
    "# lasso_interact_predict_auc = metrics.auc(fpr_interact, tpr_interact)\n",
    "\n",
    "# knn_model_auc,logit_full_predict_auc,logit_lasso_predict_auc,lasso_interact_predict_auc"
   ]
  },
  {
   "cell_type": "code",
   "execution_count": 259,
   "metadata": {
    "tags": []
   },
   "outputs": [
    {
     "data": {
      "text/plain": [
       "[0.5, 0.5479528788701793, 0.5479528788701793, 0.5454746061922868]"
      ]
     },
     "execution_count": 259,
     "metadata": {},
     "output_type": "execute_result"
    }
   ],
   "source": [
    "# your code here\n",
    "# calculate each model's AUC using its ROC fpr and tpr\n",
    "auc_list=[knn_model_auc_score,logit_full_predict_auc_score,logit_lasso_predict_auc_score,lasso_interact_predict_auc_score]\n",
    "auc_list"
   ]
  },
  {
   "cell_type": "code",
   "execution_count": 260,
   "metadata": {
    "tags": []
   },
   "outputs": [
    {
     "name": "stdout",
     "output_type": "stream",
     "text": [
      "The TEST accuracies vs. AUC scores for the 4 models in Q4 are:\n",
      "\n",
      "\t\t\t\tAccuracy\tAUC\n",
      "\tknn_model               0.7013\t\t0.5000\n",
      "\tlogit_full              0.7147\t\t0.5480\n",
      "\tlogit_lasso             0.7147\t\t0.5480\n",
      "\tlasso_interact          0.7040\t\t0.5455\n"
     ]
    }
   ],
   "source": [
    "print(\n",
    "    \"The TEST accuracies vs. AUC scores for the 4 models in Q4 are:\"\n",
    "    \"\\n\\n\\t\\t\\t\\tAccuracy\\tAUC\"\n",
    ")\n",
    "for (key, value), auc_value in zip(q4_test_scores.items(), auc_list):\n",
    "    print(\"\\t{:<24}{:.4f}\\t\\t{:.4f}\".format(key, value, auc_value))"
   ]
  },
  {
   "cell_type": "code",
   "execution_count": 261,
   "metadata": {
    "deletable": false,
    "editable": false
   },
   "outputs": [
    {
     "data": {
      "text/html": [
       "<p><strong><pre style='display: inline;'>q5.3</pre></strong> passed!</p>"
      ],
      "text/plain": [
       "q5.3 results: All test cases passed!"
      ]
     },
     "execution_count": 261,
     "metadata": {},
     "output_type": "execute_result"
    }
   ],
   "source": [
    "grader.check(\"q5.3\")"
   ]
  },
  {
   "cell_type": "markdown",
   "metadata": {
    "cell_id": "0a790850-87c6-4f46-b89e-048a2295c92b",
    "colab_type": "text",
    "id": "IGFtXJmQap2q"
   },
   "source": [
    "<!-- END QUESTION -->\n",
    "\n",
    "<!-- BEGIN QUESTION -->\n",
    "\n",
    "<div class='exercise-r'>\n",
    "\n",
    "**Q5.4** If you were to use one of these 4 models to present as a prediction model for the website [collegedata.com](https://www.collegedata.com/), which would you use and why?  What may be the biggest issue if this was a publicly available tool for college applicants to use to determine their chances of getting into Harvard and/or Yale?\n",
    "    \n",
    "</div>\n",
    "\n",
    "_Points:_ 2"
   ]
  },
  {
   "cell_type": "markdown",
   "metadata": {},
   "source": [
    "- By comparing accuracies, we choose to use either \"logit_full\" or \"logit_lasso\" model. However, in order to prevent over-fitting, we choose to use \"logit_lasso\" model. \n",
    "\n",
    "\n",
    "\n",
    "- The biggest issue that some student might be intimidated by the predicted probability and not apply, but the model is based on biased data and some other factors like (hobbies, extra curricular activities) are not taken as predictors, this might result in inaccuracy."
   ]
  },
  {
   "cell_type": "markdown",
   "metadata": {},
   "source": [
    "<!-- END QUESTION -->\n",
    "\n",
    "**This concludes HW5. Thank you!**\n",
    "\n",
    "[Return to contents](#contents)"
   ]
  }
 ],
 "metadata": {
  "interpreter": {
   "hash": "aee8b7b246df8f9039afb4144a1f6fd8d2ca17a180786b69acc140d282b71a49"
  },
  "kernelspec": {
   "display_name": "Python 3 (ipykernel)",
   "language": "python",
   "name": "python3"
  },
  "language_info": {
   "codemirror_mode": {
    "name": "ipython",
    "version": 3
   },
   "file_extension": ".py",
   "mimetype": "text/x-python",
   "name": "python",
   "nbconvert_exporter": "python",
   "pygments_lexer": "ipython3",
   "version": "3.9.12"
  },
  "otter": {
   "OK_FORMAT": true,
   "tests": {
    "q1.1": {
     "name": "q1.1",
     "points": 2.5,
     "suites": [
      {
       "cases": [
        {
         "code": ">>> to_test =  [prop_admitted_train, naive_train_acc, naive_test_acc]\n>>> for var in to_test:\n...     assert isinstance(prop_admitted_train, (float, np.float_)),\\\n...     \"all requested variables should be a floats\"\n...     assert var >= 0 and var <= 1,\\\n...     \"all requested variables should be in the range [0,1]\"\n",
         "hidden": false,
         "locked": false
        }
       ],
       "scored": true,
       "setup": "",
       "teardown": "",
       "type": "doctest"
      }
     ]
    },
    "q1.2": {
     "name": "q1.2",
     "points": 3,
     "suites": [
      {
       "cases": [
        {
         "code": ">>> assert 'harvard' in X_train.columns, \"'harvard' should be a new column in your train dataframe\"\n>>> assert 'harvard' in X_test.columns, \"'harvard' should be a new column in your test dataframe\"\n>>> assert set(X_train.harvard.unique()) == {0,1},\\\n...     \"'harvard' predictor in train should be zeros and ones\"\n>>> assert set(X_test.harvard.unique()) == {0,1},\\\n...     \"'harvard' predictor in test should be zeros and ones\"\n",
         "hidden": false,
         "locked": false,
         "points": 0
        }
       ],
       "scored": true,
       "setup": "",
       "teardown": "",
       "type": "doctest"
      }
     ]
    },
    "q1.4": {
     "name": "q1.4",
     "points": 4,
     "suites": [
      {
       "cases": [
        {
         "code": ">>> assert type(logit1_4) == type(LogisticRegression()),\\\n...     \"logit1_4 should be am sklearn LogisticRegression object\"\n>>> assert p_harvard > 0.24 and p_harvard < 0.28, \"p_harvard should be between 0.24 and 0.28\"\n>>> assert p_yale > 0.24 and p_yale < 0.28, \"p_yale should be between 0.24 and 0.28\"\n",
         "hidden": false,
         "locked": false,
         "points": 1
        },
        {
         "code": ">>> # HIDDEN\n>>> assert np.isclose(p_harvard, 0.2768, atol=0.0001), \"Incorrect value for p_harvard\"\n>>> assert np.isclose(p_yale, 0.2472, atol=0.0001), \"Incorrect value for p_yale\"\n",
         "hidden": false,
         "locked": false,
         "points": 1
        }
       ],
       "scored": true,
       "setup": "",
       "teardown": "",
       "type": "doctest"
      }
     ]
    },
    "q2.1": {
     "name": "q2.1",
     "points": 3,
     "suites": [
      {
       "cases": [
        {
         "code": ">>> assert logit2_1_intercept >= -10 and logit2_1_intercept <= 10,\\\n...     \"logit2_1_beta0 should be a float between -10 and 10\"\n>>> assert logit2_1_coef_test >= -1 and logit2_1_coef_test <= 1,\\\n...     \"logit2_1_beta1 should be a float between -1 and 1\"\n>>> assert acc_train_logit2_1 > 0.7 and acc_train_logit2_1 < 0.8,\\\n...     \"acc_train_logit2_1 should be a float between 0.7 and 0.8\"\n>>> assert acc_test_logit2_1 > 0.7 and acc_train_logit2_1 < 0.8,\\\n...     \"acc_train_logit2_1 should be a float between 0.7 and 0.8\"\n",
         "hidden": false,
         "locked": false,
         "points": 1
        }
       ],
       "scored": true,
       "setup": "",
       "teardown": "",
       "type": "doctest"
      }
     ]
    },
    "q2.2": {
     "name": "q2.2",
     "points": 4,
     "suites": [
      {
       "cases": [
        {
         "code": ">>> assert prob_test_2250 >= 0.25 and prob_test_2250 <= 0.5,\\\n...     \"prob_test_2250 should be a float between 0.25 and 0.5\"\n>>> assert prob_test_2400 >= 0.25 and prob_test_2250 <= 0.5,\\\n...     \"prob_test_2400 should be a float between 0.25 and 0.5\"\n>>> assert test_50_50 > 2200,\\\n...     \"test_50_50 should be a float greater than 2200\"\n",
         "hidden": false,
         "locked": false,
         "points": 1
        }
       ],
       "scored": true,
       "setup": "",
       "teardown": "",
       "type": "doctest"
      }
     ]
    },
    "q2.3": {
     "name": "q2.3",
     "points": 3,
     "suites": [
      {
       "cases": [
        {
         "code": ">>> assert logit2_3_intercept >= -1 and logit2_3_intercept <= 1,\\\n...     \"logit2_3_intercept should be a float between -10 and 10\"\n>>> assert logit2_3_coef_test >= -1 and logit2_3_coef_test <= 1,\\\n...     \"logit2_3_coef_test should be a float between -1 and 1\"\n>>> assert logit2_3_coef_avg_ap >= -1 and logit2_3_coef_avg_ap <= 1,\\\n...     \"logit2_3_coef_avg_ap should be a float between -1 and 1\"\n>>> assert acc_train_logit2_3 > 0.7 and acc_train_logit2_3 < 0.8,\\\n...     \"acc_train_logit2_3 should be a float between 0.7 and 0.8\"\n>>> assert acc_test_logit2_3 > 0.7 and acc_train_logit2_3 < 0.8,\\\n...     \"acc_train_logit2_3 should be a float between 0.7 and 0.8\"\n",
         "hidden": false,
         "locked": false,
         "points": 1
        }
       ],
       "scored": true,
       "setup": "",
       "teardown": "",
       "type": "doctest"
      }
     ]
    },
    "q3.1": {
     "name": "q3.1",
     "points": 4,
     "suites": [
      {
       "cases": [
        {
         "code": ">>> assert acc_train_logit3_1 > 0.68 and acc_train_logit3_1 < 0.78,\\\n...     \"acc_train_logit3_1 should be a float between 0.68 and 0.78\"\n>>> assert acc_test_logit3_1 > 0.68 and acc_train_logit3_1 < 0.78,\\\n...     \"acc_train_logit3_1 should be a float between 0.68 and 0.78\"\n",
         "hidden": false,
         "locked": false,
         "points": 1
        }
       ],
       "scored": true,
       "setup": "",
       "teardown": "",
       "type": "doctest"
      }
     ]
    },
    "q3.2": {
     "name": "q3.2",
     "points": 3,
     "suites": [
      {
       "cases": [
        {
         "code": ">>> assert len(logit3_2_coefs) == 5,\\\n...     \"logit3_2 should have 5 coefficients (not including the intercept)\"\n",
         "hidden": false,
         "locked": false,
         "points": 1
        }
       ],
       "scored": true,
       "setup": "",
       "teardown": "",
       "type": "doctest"
      }
     ]
    },
    "q3.6": {
     "name": "q3.6",
     "points": 3,
     "suites": [
      {
       "cases": [
        {
         "code": ">>> assert len(logit3_6.coef_.flatten()) == 6,\\\n...     \"logit3_6 should have 6 coefficients (not including the intercept)\"\n",
         "hidden": false,
         "locked": false,
         "points": 1
        }
       ],
       "scored": true,
       "setup": "",
       "teardown": "",
       "type": "doctest"
      }
     ]
    },
    "q4.1": {
     "name": "q4.1",
     "points": 4,
     "suites": [
      {
       "cases": [
        {
         "code": ">>> assert np.isclose(X_train[non_binary_predictors].values.mean(), 0),\\\n...     \"Non-binary predictors in train should now have mean 0\"\n>>> assert np.isclose(X_test[non_binary_predictors].values.mean(), 0, atol=0.1),\\\n...     \"Non-binary predictors in test should now have mean near 0\"\n>>> assert np.isclose(X_train[non_binary_predictors].values.std(), 1),\\\n...     \"Non-binary predictors in train should now have std 1\"\n>>> assert np.isclose(X_test[non_binary_predictors].values.std(), 1, atol=0.1),\\\n...     \"Non-binary predictors in test should now have std near 1\"\n>>> assert set(X_train['harvard'].unique()) == {0,1},\\\n...     \"You should not scale the binary predictors.\"\n",
         "hidden": false,
         "locked": false
        }
       ],
       "scored": true,
       "setup": "",
       "teardown": "",
       "type": "doctest"
      }
     ]
    },
    "q4.3": {
     "name": "q4.3",
     "points": 3,
     "suites": [
      {
       "cases": [
        {
         "code": ">>> assert logit_full_train_acc > 0.68 and logit_full_train_acc < 0.78,\\\n...     \"logit_full_train_acc should be a float between 0.68 and 0.78\"\n>>> assert logit_full_test_acc > 0.68 and logit_full_test_acc < 0.78,\\\n...     \"logit_full_test_acc should be a float between 0.68 and 0.78\"\n",
         "hidden": false,
         "locked": false,
         "points": 1
        }
       ],
       "scored": true,
       "setup": "",
       "teardown": "",
       "type": "doctest"
      }
     ]
    },
    "q4.4": {
     "name": "q4.4",
     "points": 4,
     "suites": [
      {
       "cases": [
        {
         "code": ">>> assert logit_lasso_train_acc > 0.68 and logit_lasso_train_acc < 0.78,\\\n...     \"logit_lasso_train_acc should be a float between 0.68 and 0.78\"\n>>> assert logit_lasso_test_acc > 0.68 and logit_lasso_test_acc < 0.78,\\\n...     \"logit_lasso_test_acc should be a float between 0.68 and 0.78\"\n",
         "hidden": false,
         "locked": false,
         "points": 1
        }
       ],
       "scored": true,
       "setup": "",
       "teardown": "",
       "type": "doctest"
      }
     ]
    },
    "q4.5": {
     "name": "q4.5",
     "points": 3,
     "suites": [
      {
       "cases": [
        {
         "code": ">>> assert len(predictors_important) >= 6,\\\n...     \"You should have more important predictors\"\n>>> assert len(predictors_not_important) <= 6,\\\n...     \"You should have fewer non-important predictors\"\n",
         "hidden": false,
         "locked": false,
         "points": 1
        }
       ],
       "scored": true,
       "setup": "",
       "teardown": "",
       "type": "doctest"
      }
     ]
    },
    "q4.7": {
     "name": "q4.7",
     "points": 2,
     "suites": [
      {
       "cases": [],
       "scored": true,
       "setup": "",
       "teardown": "",
       "type": "doctest"
      }
     ]
    },
    "q5.3": {
     "name": "q5.3",
     "points": 3,
     "suites": [
      {
       "cases": [
        {
         "code": ">>> assert len(auc_list) == 4,\\\n...     \"You should have 4 entries in auc_list\"\n",
         "hidden": false,
         "locked": false,
         "points": 0
        }
       ],
       "scored": true,
       "setup": "",
       "teardown": "",
       "type": "doctest"
      }
     ]
    }
   }
  }
 },
 "nbformat": 4,
 "nbformat_minor": 4
}
