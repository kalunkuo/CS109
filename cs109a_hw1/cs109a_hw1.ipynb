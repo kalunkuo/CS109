{
 "cells": [
  {
   "cell_type": "code",
   "execution_count": null,
   "metadata": {
    "deletable": false,
    "editable": false
   },
   "outputs": [],
   "source": [
    "# Initialize Otter\n",
    "import otter\n",
    "grader = otter.Notebook(\"cs109a_hw1.ipynb\")"
   ]
  },
  {
   "cell_type": "markdown",
   "metadata": {},
   "source": [
    "<h1 style=\"padding-top: 25px;padding-bottom: 25px;text-align: left; padding-left: 10px; background-color: #DDDDDD; \n",
    "    color: black;\"> <img style=\"float: left; padding-right: 10px; width: 45px\" src=\"https://raw.githubusercontent.com/Harvard-IACS/2018-CS109A/master/content/styles/iacs.png\"> CS109A Introduction to Data Science </h1>\n",
    "\n",
    "## Homework 1: Web Scraping, Data Parsing, and EDA\n",
    "\n",
    "**Harvard University**<br/>\n",
    "**Fall 2022**<br/>\n",
    "**Instructors**: Pavlos Protopapas and Natesh Pilai\n",
    "\n",
    "\n",
    "\n",
    "<hr style='height:2px'>"
   ]
  },
  {
   "cell_type": "code",
   "execution_count": null,
   "metadata": {},
   "outputs": [],
   "source": [
    "## RUN THIS CELL TO GET THE RIGHT FORMATTING \n",
    "import requests\n",
    "from IPython.core.display import HTML\n",
    "styles = requests.get(\"https://raw.githubusercontent.com/Harvard-IACS/2018-CS109A/master/content/styles/cs109.css\").text\n",
    "HTML(styles)"
   ]
  },
  {
   "cell_type": "markdown",
   "metadata": {},
   "source": [
    "#### Instructions\n",
    "- To submit your assignment follow the instructions given in Canvas.\n",
    "- Exercise **responsible scraping**. Web servers can become slow or unresponsive if they receive too many requests from the same source in a short amount of time. Use a delay of 2 seconds between requests in your code.  \n",
    "- Web scraping requests can take several minutes. This is another reason why you should not wait until the last minute to do this homework.\n",
    "- Plots should be legible and interpretable without having to refer to the code that generated them.\n",
    "- When asked to interpret a visualization, do not simply describe it (e.g., \"the curve has a steep slope up\"), but instead explain what you think the plot *means*.\n",
    "- The use of 'hard-coded' values to try and pass tests rather than solving problems programmatically will not receive credit.\n",
    "- The use of *extremely* inefficient or error-prone code (e.g., copy-pasting nearly identical commands rather than looping) may result in only partial credit.\n",
    "- Enable scrolling output on cells with very long output.\n",
    "- Feel free to add additional code or markdown cells.\n",
    "- Ensure your code runs top to bottom without error and passes all tests by restarting the kernel and running all cells. This is how the notebook will be evaluated (this can take a few minutes)"
   ]
  },
  {
   "cell_type": "code",
   "execution_count": null,
   "metadata": {},
   "outputs": [],
   "source": [
    "import json\n",
    "from time import sleep\n",
    "import re\n",
    "import requests\n",
    "from bs4 import BeautifulSoup\n",
    "import matplotlib.pyplot as plt\n",
    "import numpy as np\n",
    "import pandas as pd\n",
    "import seaborn as sns"
   ]
  },
  {
   "cell_type": "markdown",
   "metadata": {},
   "source": [
    "<hr style='height:2px'>\n",
    "\n",
    "## ⭐ Follow the stars in IMDb's list of \"The Top 100 Stars for 2021\" \n",
    "\n",
    "### Overview\n",
    "In this assignment you'll practice scraping, parsing, and analyzing HTML data pulled from web.\n",
    "\n",
    "Specifically, you'll extract information about each person on IMDb's list of \"Top 100 Stars for 2021\" (https://www.imdb.com/list/ls577894422/), perform some EDA, ask some questions of the data, and interpret your findings.\n",
    "\n",
    "For example, we might like to know: \n",
    "- What is the relationship between when a performer started their career and their total number of acting credits? \n",
    "- How many stars started as child actors?\n",
    "- How do the distribution of ages compare across genders?\n",
    "- Who is the most prolific actress or actor in IMDb's list of the Top 100 Stars for 2021? \n",
    "\n",
    "These questions and more are addressed in details below. "
   ]
  },
  {
   "cell_type": "markdown",
   "metadata": {},
   "source": [
    "## Part 1 - Scraping and Parsing"
   ]
  },
  {
   "cell_type": "markdown",
   "metadata": {},
   "source": [
    "<div class='exercise'><b>Q1 - Scrape Top Stars List</b></div>"
   ]
  },
  {
   "cell_type": "markdown",
   "metadata": {},
   "source": [
    "Scrape the HTML from the webpage of the \"Top 100 Stars for 2021\" (https://www.imdb.com/list/ls577894422/) into a `requests` object and name it `my_page`. \n",
    "\n",
    "_Points:_ 2.5"
   ]
  },
  {
   "cell_type": "code",
   "execution_count": null,
   "metadata": {
    "tags": []
   },
   "outputs": [],
   "source": [
    "my_page = ..."
   ]
  },
  {
   "cell_type": "code",
   "execution_count": null,
   "metadata": {
    "deletable": false,
    "editable": false
   },
   "outputs": [],
   "source": [
    "grader.check(\"q1\")"
   ]
  },
  {
   "cell_type": "markdown",
   "metadata": {},
   "source": [
    "<div class='exercise'><b>Q2 - Making BeautifulSoup</b></div>"
   ]
  },
  {
   "cell_type": "markdown",
   "metadata": {},
   "source": [
    "Create a Beautiful Soup object named `star_soup` from the HTML content in `my_page`.\n",
    "\n",
    "\n",
    "_Points:_ 2.5"
   ]
  },
  {
   "cell_type": "code",
   "execution_count": null,
   "metadata": {
    "tags": []
   },
   "outputs": [],
   "source": [
    "star_soup = ..."
   ]
  },
  {
   "cell_type": "code",
   "execution_count": null,
   "metadata": {
    "scrolled": true,
    "tags": []
   },
   "outputs": [],
   "source": [
    "# check your code - you should see a familiar HTML code\n",
    "print (star_soup.prettify()[:1000])"
   ]
  },
  {
   "cell_type": "code",
   "execution_count": null,
   "metadata": {
    "deletable": false,
    "editable": false
   },
   "outputs": [],
   "source": [
    "grader.check(\"q2\")"
   ]
  },
  {
   "cell_type": "markdown",
   "metadata": {},
   "source": [
    "<div class='exercise'><b>Q3 - Parse Stars</b></div>"
   ]
  },
  {
   "cell_type": "markdown",
   "metadata": {},
   "source": [
    "Write a function called `parse_stars` that accepts `star_soup` as its input and returns a list of dictionaries to be saved in a variable called `star_list` (see function definition below for details)\n",
    "\n",
    "IMDb star pages do not have a 'sex' or 'gender' field. Some roles are gender neutral (e.g., \"writer\") and relying on actor/actress distinctions will also give results inconsistent with the more detailed data available on the site. You should infer gender based on the frequency of the personal pronouns used in each star's truncated bio that appears on the main \"Top 100 Star of 2021\" page.\n",
    "\n",
    "You may find a data structure like this useful:\n",
    "\n",
    "```python\n",
    "pronouns = {'woman': ['she','her'],\n",
    "            'man': ['he', 'him', 'his'],\n",
    "            'non-binary': ['they', 'them', 'their']}\n",
    "```\n",
    "\n",
    "Simply count the occurrences of the different pronouns in the bio and make the classification based on the grouping with the majority count.\n",
    "\n",
    ">**Hint:** Throughout this assignment you will likely find it useful to create small 'helper' functions which are then used by your larger functions like `parse_stars`"
   ]
  },
  {
   "cell_type": "markdown",
   "metadata": {},
   "source": [
    "```\n",
    "Function\n",
    "--------\n",
    "parse_stars\n",
    "\n",
    "Input\n",
    "------\n",
    "star_soup: the soup object with the scraped page\n",
    "   \n",
    "Returns\n",
    "-------\n",
    "a list of dictionaries; each dictionary corresponds to a star profile and has the following data:\n",
    "\n",
    "    name: (str) the name of the star\n",
    "    role: (str) role in film designated on top 100 page (e.g., 'actress', 'writer')\n",
    "    gender: (str) 'man', 'woman', or 'non-binary' based in pronoun counts in top 100 page bio\n",
    "    url: (str) the url of the link under star's name that leads to a page with more details\n",
    "    page: (bs4.BeautifulSoup) BS object acquired by scraping and parsing the above 'url' page\n",
    "\n",
    "Example:\n",
    "--------\n",
    "{'name': 'Elizabeth Olsen',\n",
    " 'role': 'actress',\n",
    " 'gender': 'woman',\n",
    " 'url': 'https://www.imdb.com/name/nm0647634',\n",
    " 'page': <!DOCTYPE html>\n",
    " <html xmlns:fb=\"http://www.facebook.com/2008/fbml\" xmlns:og=\"http://ogp.me/ns#\">\n",
    " <head>\n",
    " <meta charset=\"utf-8\"/>\n",
    " <script type=\"text/javascript\">var IMDbTimer={starttime: new Date().getTime(),pt:'java'};</script>\n",
    " <script>\n",
    " ...\n",
    "}\n",
    "\n",
    "```\n",
    "\n",
    "_Points:_ 25"
   ]
  },
  {
   "cell_type": "code",
   "execution_count": null,
   "metadata": {
    "scrolled": true,
    "tags": []
   },
   "outputs": [],
   "source": [
    "\n",
    "def parse_stars(star_soup) -> list:\n",
    "    ...\n",
    "\n",
    "star_list = ..."
   ]
  },
  {
   "cell_type": "code",
   "execution_count": null,
   "metadata": {
    "scrolled": true,
    "tags": []
   },
   "outputs": [],
   "source": [
    "# check your code\n",
    "# this list is large because of the html code into the `page` field\n",
    "# to get a better picture, print only the first element\n",
    "star_list[0]"
   ]
  },
  {
   "cell_type": "code",
   "execution_count": null,
   "metadata": {
    "deletable": false,
    "editable": false
   },
   "outputs": [],
   "source": [
    "grader.check(\"q3\")"
   ]
  },
  {
   "cell_type": "markdown",
   "metadata": {},
   "source": [
    "<div class='exercise'><b>Q4 - Create Star Table</b></div>"
   ]
  },
  {
   "cell_type": "markdown",
   "metadata": {},
   "source": [
    "Write a function called `create_star_table`, which takes `star_list` as an input and returns a *new* list of dictionaries, `star_table`, which includes more extensive information about each star extracted from their `page`. \n",
    "\n",
    "See function the definition below for more details.\n",
    "\n",
    ">**Note:** The years of some credits are ranges (e.g., 2001-2002). You should use only the starting year.\n",
    "\n",
    ">**Hint:** Carefuly note the ordering, case, and data type of the values in each dictionary."
   ]
  },
  {
   "cell_type": "markdown",
   "metadata": {},
   "source": [
    "```\n",
    "Function\n",
    "--------\n",
    "create_star_table\n",
    "\n",
    "Input\n",
    "------\n",
    "star_list (list of dictionaries)\n",
    "   \n",
    "Returns\n",
    "-------\n",
    "\n",
    "a list of dictionaries; each dictionary corresponds to a star profile and has the following data:\n",
    "\n",
    "    name: (str) the name of the star\n",
    "    role: (str) 'actor', 'actress', 'writer', etc. (note the case)\n",
    "    gender: (str) 'woman', 'man', or 'non-binary' (based on pronouns in bio)  \n",
    "    year_born : (int) year star was born (some pages do note have a full date so we'll just use year)\n",
    "    first_credit: (str) title of their first credit in their capacity designated by 'role'\n",
    "    year_first_credit: (int) the year they made their first movie or TV show\n",
    "    num_credits: (int) number of movies or TV shows they have made over their career in their capacity designated by 'role'\n",
    "    \n",
    "--------\n",
    "Example:\n",
    "\n",
    "{'name': 'Elizabeth Olsen',\n",
    "  'role': 'actress',\n",
    "  'gender': 'woman',\n",
    "  'year_born': 1989,\n",
    "  'first_credit': 'How the West Was Fun',\n",
    "  'year_first_credit': 1994,\n",
    "  'num_credits': 27}\n",
    "  \n",
    "```\n",
    "\n",
    "_Points:_ 25"
   ]
  },
  {
   "cell_type": "code",
   "execution_count": null,
   "metadata": {
    "tags": []
   },
   "outputs": [],
   "source": [
    "def create_star_table(star_list: list) -> list:\n",
    "    ..."
   ]
  },
  {
   "cell_type": "code",
   "execution_count": null,
   "metadata": {
    "tags": []
   },
   "outputs": [],
   "source": [
    "star_table = ..."
   ]
  },
  {
   "cell_type": "code",
   "execution_count": null,
   "metadata": {
    "scrolled": true,
    "tags": []
   },
   "outputs": [],
   "source": [
    "# check your code\n",
    "star_table"
   ]
  },
  {
   "cell_type": "code",
   "execution_count": null,
   "metadata": {
    "deletable": false,
    "editable": false
   },
   "outputs": [],
   "source": [
    "grader.check(\"q4\")"
   ]
  },
  {
   "cell_type": "markdown",
   "metadata": {},
   "source": [
    "### 💡 Saving and Restoring Our List of Dictionaries"
   ]
  },
  {
   "cell_type": "markdown",
   "metadata": {},
   "source": [
    "It's good practice to save your data structure to disk once you've done all of your scraping. This way you can often avoid repeating all the HTTP requests which can be slow (and taxing on servers!).\n",
    "\n",
    "We had to wait until this stage to save our data structure as the `bs4.BeautifulSoup` object in our original `star_list` (the `page` values) can not be easily [serialized](https://docs.python-guide.org/scenarios/serialization/).\n",
    "\n",
    "The code provided below will save the data structure to a [JSON](https://www.json.org/json-en.html) file named `starinfo.json` in the data subdirectory."
   ]
  },
  {
   "cell_type": "code",
   "execution_count": null,
   "metadata": {},
   "outputs": [],
   "source": [
    "# your code here\n",
    "with open(\"data/starinfo.json\", \"w\") as f:\n",
    "    json.dump(star_table, f)"
   ]
  },
  {
   "cell_type": "markdown",
   "metadata": {},
   "source": [
    "To confirm this worked as intended, open the JSON file and load its contents into a variable for viewing."
   ]
  },
  {
   "cell_type": "code",
   "execution_count": null,
   "metadata": {
    "scrolled": true,
    "tags": []
   },
   "outputs": [],
   "source": [
    "with open(\"data/starinfo.json\", \"r\") as f:\n",
    "    star_table = json.load(f)\n",
    "    \n",
    "# output should be the same\n",
    "star_table"
   ]
  },
  {
   "cell_type": "markdown",
   "metadata": {},
   "source": [
    "This method of saving and restoring data structures will likely be useful to you in the future!"
   ]
  },
  {
   "cell_type": "markdown",
   "metadata": {
    "tags": []
   },
   "source": [
    "## Part 2 - Pandas and EDA"
   ]
  },
  {
   "cell_type": "markdown",
   "metadata": {},
   "source": [
    "<div class='exercise'><b>Q5 - Creating a DataFrame</b></div>"
   ]
  },
  {
   "cell_type": "markdown",
   "metadata": {},
   "source": [
    "For the sake of consistency, we've provide our own JSON file, `data/starinfo_2021_staff.json`, which you should use for the rest of the notebook. Load the contents of this JSON file and use it to create a Pandas DataFrame called `frame`. \n",
    "\n",
    ">**Hint:** Remember, the data structure in the JSON file is a list of dictionaries.\n",
    "\n",
    "_Points:_ 2.5"
   ]
  },
  {
   "cell_type": "code",
   "execution_count": null,
   "metadata": {
    "tags": []
   },
   "outputs": [],
   "source": [
    "frame = ..."
   ]
  },
  {
   "cell_type": "code",
   "execution_count": null,
   "metadata": {},
   "outputs": [],
   "source": [
    "# Take a peek\n",
    "frame.head(20)"
   ]
  },
  {
   "cell_type": "code",
   "execution_count": null,
   "metadata": {
    "deletable": false,
    "editable": false
   },
   "outputs": [],
   "source": [
    "grader.check(\"q5\")"
   ]
  },
  {
   "cell_type": "markdown",
   "metadata": {},
   "source": [
    "<div class='exercise'><b>Q6 - Creating a New Column</b></div>"
   ]
  },
  {
   "cell_type": "markdown",
   "metadata": {},
   "source": [
    "Add a new column to your dataframe with the *approximate* age of each star at the time of their first credit. Name this new column `age_at_first_credit`.\n",
    "\n",
    ">**NOTE:** We say *approximate* age because we've only collected the year of birth as several star pages do not include a full birth date. **The approximate age of a star in a given year should be the difference between that year and the star's birth year.**\n",
    "\n",
    "_Points:_ 2.5"
   ]
  },
  {
   "cell_type": "code",
   "execution_count": null,
   "metadata": {
    "tags": []
   },
   "outputs": [],
   "source": []
  },
  {
   "cell_type": "code",
   "execution_count": null,
   "metadata": {},
   "outputs": [],
   "source": [
    "# You should visually inspect some of your results\n",
    "frame.head()"
   ]
  },
  {
   "cell_type": "markdown",
   "metadata": {},
   "source": [
    "<div class='exercise'><b>Q7 - Subsetting and Sorting</b></div>"
   ]
  },
  {
   "cell_type": "markdown",
   "metadata": {},
   "source": [
    "In this section you'll subset and sort the DataFrame to answer a pair of questions:"
   ]
  },
  {
   "cell_type": "markdown",
   "metadata": {},
   "source": [
    "<div class='exercise'><b>Q7.1 - Child Stars</b></div>"
   ]
  },
  {
   "cell_type": "markdown",
   "metadata": {},
   "source": [
    "Which stars received their first credit **before the age of 11?**\n",
    "\n",
    "Store the resulting dataframe as `child_stars`sorted by `age_at_first_credit` in **ascending** order.\\\n",
    "Store the number of such \"child stars\" in `num_child_stars`.\n",
    "\n",
    "_Points:_ 2.5"
   ]
  },
  {
   "cell_type": "code",
   "execution_count": null,
   "metadata": {
    "tags": []
   },
   "outputs": [],
   "source": [
    "child_stars = ...\n",
    "num_child_stars = ...\n",
    "\n",
    "print (\"{} stars received their first credit before the age of 11.\".format(num_child_stars))\n",
    "display(child_stars)"
   ]
  },
  {
   "cell_type": "code",
   "execution_count": null,
   "metadata": {
    "deletable": false,
    "editable": false
   },
   "outputs": [],
   "source": [
    "grader.check(\"q7.1\")"
   ]
  },
  {
   "cell_type": "markdown",
   "metadata": {},
   "source": [
    "<div class='exercise'><b>Q7.2 - Late Bloomers</b></div>"
   ]
  },
  {
   "cell_type": "markdown",
   "metadata": {},
   "source": [
    "Which stars received their first credit at **26-years-old or older?**\n",
    "\n",
    "Store the resulting dataframe as `late_bloomers`sorted by `age_at_first_credit` in **descending** order.\\\n",
    "Store the number of such \"late bloomers\" in `num_late_bloomers`.\n",
    "\n",
    "_Points:_ 2.5"
   ]
  },
  {
   "cell_type": "code",
   "execution_count": null,
   "metadata": {
    "tags": []
   },
   "outputs": [],
   "source": [
    "late_bloomers = ...\n",
    "num_late_bloomers = ...\n",
    "\n",
    "print (\"{} stars received their first credit at 26 or older.\".format(num_late_bloomers))\n",
    "display(late_bloomers)"
   ]
  },
  {
   "cell_type": "code",
   "execution_count": null,
   "metadata": {
    "deletable": false,
    "editable": false
   },
   "outputs": [],
   "source": [
    "grader.check(\"q7.2\")"
   ]
  },
  {
   "cell_type": "markdown",
   "metadata": {},
   "source": [
    "<div class='exercise'><b>Q8 - Visualization  </b></div>"
   ]
  },
  {
   "cell_type": "markdown",
   "metadata": {},
   "source": [
    "In this section you'll use your Python visualization skills to further explore the data:"
   ]
  },
  {
   "cell_type": "markdown",
   "metadata": {},
   "source": [
    "<!-- BEGIN QUESTION -->\n",
    "\n",
    "<div class='exercise'><b>Q8.1  - Exploring Trends</b></div>"
   ]
  },
  {
   "cell_type": "markdown",
   "metadata": {},
   "source": [
    "Create 2 [scatter plots](https://matplotlib.org/stable/api/_as_gen/matplotlib.axes.Axes.scatter.html?highlight=scatter#matplotlib.axes.Axes.scatter): one showing the relationship between **age at first movie** and number of credits, the other between **year born** and number of credits.\n",
    "\n",
    "What can you say about these relationships? Are there any apparent outliers? Please limit your written responses to 4 sentences or fewer.\n",
    "\n",
    "_Points:_ 5"
   ]
  },
  {
   "cell_type": "markdown",
   "metadata": {},
   "source": [
    "_Type your answer here, replacing this text._"
   ]
  },
  {
   "cell_type": "code",
   "execution_count": null,
   "metadata": {
    "tags": []
   },
   "outputs": [],
   "source": [
    "# your code here\n"
   ]
  },
  {
   "cell_type": "markdown",
   "metadata": {},
   "source": [
    "<!-- END QUESTION -->\n",
    "\n",
    "<!-- BEGIN QUESTION -->\n",
    "\n",
    "<div class='exercise'><b>Q8.2 - Age Distributions</b></div>"
   ]
  },
  {
   "cell_type": "markdown",
   "metadata": {},
   "source": [
    "Let's look at the distribution of movie and TV performers' ages by gender.\n",
    "\n",
    "Create two plots, each plot consisting of **two overlayed [histograms](https://matplotlib.org/stable/api/_as_gen/matplotlib.pyplot.hist.html?highlight=hist#matplotlib.pyplot.hist)** comparing the distribution of men's current ages to women's current ages.\n",
    "\n",
    "In the first plot, the distributions should be normalized to show the *proportion* of each gender at each age.\n",
    "\n",
    "The second plot should show the *counts* of each gender at each age. \n",
    "\n",
    "Interpret the resulting plots. (4 sentences or fewer)\n",
    "\n",
    ">**NOTE 1:** Again, we are dealing with *approximate* ages as defined above.\n",
    "\n",
    ">**NOTE 2:** You should exclude those whose `role` is not 'actor' or 'actress' from your analysis\n",
    "\n",
    "_Points:_ 10"
   ]
  },
  {
   "cell_type": "markdown",
   "metadata": {},
   "source": [
    "_Type your answer here, replacing this text._"
   ]
  },
  {
   "cell_type": "code",
   "execution_count": null,
   "metadata": {
    "tags": []
   },
   "outputs": [],
   "source": [
    "# your code here\n"
   ]
  },
  {
   "cell_type": "markdown",
   "metadata": {},
   "source": [
    "<!-- END QUESTION -->\n",
    "\n",
    "<!-- BEGIN QUESTION -->\n",
    "\n",
    "<div class='exercise'><b>Q8.3 - Credits Per Year</b></div>"
   ]
  },
  {
   "cell_type": "markdown",
   "metadata": {},
   "source": [
    "Create a [box plot](https://matplotlib.org/stable/api/_as_gen/matplotlib.axes.Axes.boxplot.html?highlight=boxplot#matplotlib.axes.Axes.boxplot) or [violin plot](https://matplotlib.org/stable/api/_as_gen/matplotlib.axes.Axes.violin.html?highlight=violin#matplotlib.axes.Axes.violin) comparing the **credits-per-year-active** for men and women performers.\n",
    "\n",
    "Here we assume all stars in the list are still active. \n",
    "\n",
    "Do these distributions look the same across genders? Can you identify the stars corresponding to any outliers? Comment on these points and anything else of interest gleaned from your plot. (6 sentences or fewer)\n",
    "\n",
    ">**NOTE:** Again, you should exclude those whose `role` is not 'actor' or 'actress' from your analysis.\n",
    "\n",
    "_Points:_ 10"
   ]
  },
  {
   "cell_type": "markdown",
   "metadata": {},
   "source": [
    "_Type your answer here, replacing this text._"
   ]
  },
  {
   "cell_type": "code",
   "execution_count": null,
   "metadata": {
    "tags": []
   },
   "outputs": [],
   "source": [
    "# your code here\n"
   ]
  },
  {
   "cell_type": "markdown",
   "metadata": {},
   "source": [
    "<!-- END QUESTION -->\n",
    "\n",
    "<!-- BEGIN QUESTION -->\n",
    "\n",
    "<div class='exercise'><b>Q9 - Most Prolific Stars</b></div>"
   ]
  },
  {
   "cell_type": "markdown",
   "metadata": {},
   "source": [
    "Make a plot visualizing the number of credits received by each star. Who is the most prolific person in IMDb's list of the Top 100 Stars for 2021? Define **most prolific** as the person with the most credits.\n",
    "\n",
    ">**Note 1:** Your analysis should include all 100 stars\n",
    "\n",
    ">**Note 2:** The stars in the plots should be sorted based on number of credits to make the plot easier to read.\n",
    "\n",
    "_Points:_ 10"
   ]
  },
  {
   "cell_type": "code",
   "execution_count": null,
   "metadata": {
    "tags": []
   },
   "outputs": [],
   "source": [
    "# your code here\n"
   ]
  },
  {
   "cell_type": "code",
   "execution_count": null,
   "metadata": {
    "tags": []
   },
   "outputs": [],
   "source": []
  },
  {
   "cell_type": "code",
   "execution_count": null,
   "metadata": {
    "tags": []
   },
   "outputs": [],
   "source": [
    "highest_performer_name = ...\n",
    "highest_performer_credits = ...\n",
    "print (\"{} had the most credits with {}\".format(highest_performer_name, highest_performer_credits))"
   ]
  },
  {
   "cell_type": "markdown",
   "metadata": {},
   "source": [
    "<!-- END QUESTION -->\n",
    "\n",
    "**This concludes HW1. Thank you!**"
   ]
  },
  {
   "cell_type": "markdown",
   "metadata": {
    "deletable": false,
    "editable": false
   },
   "source": [
    "---\n",
    "\n",
    "To double-check your work, the cell below will rerun all of the autograder tests."
   ]
  },
  {
   "cell_type": "code",
   "execution_count": null,
   "metadata": {
    "deletable": false,
    "editable": false
   },
   "outputs": [],
   "source": [
    "grader.check_all()"
   ]
  }
 ],
 "metadata": {
  "anaconda-cloud": {},
  "kernelspec": {
   "display_name": "Python 3 (ipykernel)",
   "language": "python",
   "name": "python3"
  },
  "language_info": {
   "codemirror_mode": {
    "name": "ipython",
    "version": 3
   },
   "file_extension": ".py",
   "mimetype": "text/x-python",
   "name": "python",
   "nbconvert_exporter": "python",
   "pygments_lexer": "ipython3",
   "version": "3.10.5"
  },
  "otter": {
   "OK_FORMAT": true,
   "tests": {
    "q1": {
     "name": "q1",
     "points": 2.5,
     "suites": [
      {
       "cases": [
        {
         "code": ">>> assert type(my_page) == requests.models.Response, f\"my_page should be a Response object, but yours is a {type(my_page)}\"\n>>> assert my_page.url == 'https://www.imdb.com/list/ls577894422/', \"The URL you are requesting from is incorrect\"\n>>> assert my_page.status_code == 200, f\"you should have a response code of 200, but you have {my_page.status_code}\"\n",
         "hidden": false,
         "locked": false
        }
       ],
       "scored": true,
       "setup": "",
       "teardown": "",
       "type": "doctest"
      }
     ]
    },
    "q2": {
     "name": "q2",
     "points": 2.5,
     "suites": [
      {
       "cases": [
        {
         "code": ">>> import bs4\n>>> assert type(star_soup) == bs4.BeautifulSoup, f\"star_soup should by of type bs4.BeautifulSoup, but yours is of type {type(star_soup)}\"\n",
         "hidden": false,
         "locked": false
        }
       ],
       "scored": true,
       "setup": "",
       "teardown": "",
       "type": "doctest"
      }
     ]
    },
    "q3": {
     "name": "q3",
     "points": 25,
     "suites": [
      {
       "cases": [
        {
         "code": ">>> def test_list(star_list):\n...     assert type(star_list) == list, \"star_list should be a list\"\n>>> \n",
         "hidden": false,
         "locked": false,
         "points": 2
        },
        {
         "code": ">>> def test_len(star_list):\n...     assert len(star_list) == 100, \"star_list should have 100 elements\"\n>>> \n",
         "hidden": false,
         "locked": false,
         "points": 2
        },
        {
         "code": ">>> def test_list(star_list):\n...     assert {type(s) for s in star_list} == {dict}, \"All entries in starlist should by of type dict\"\n...     assert all([list(s.keys()) == ['name', 'role', 'gender', 'url', 'page'] for s in star_list]), \\\n...         \"All dictionaries in starlist should have the keys 'name', 'role', 'gender', 'url', and 'page' in that order\"\n>>> \n",
         "hidden": false,
         "locked": false,
         "points": 3
        },
        {
         "code": ">>> def test_name(star_list):\n...     assert star_list[42]['name'] == 'Vanessa Kirby', \"Some names are incorrect. Don't change the case of names (e.g., don't convert to lowercase).\"\n>>> \n",
         "hidden": false,
         "locked": false,
         "points": 3
        },
        {
         "code": ">>> def test_role(star_list):\n...     assert sorted(pd.DataFrame(star_list).role.unique().tolist()) == ['actor', 'actress', 'director', 'writer'], \"Four unique roles should appear in starlist\"\n>>> \n",
         "hidden": false,
         "locked": false,
         "points": 3
        },
        {
         "code": ">>> def test_gender(star_list):\n...     assert sorted(pd.DataFrame(star_list).gender.unique().tolist()) == ['man', 'non-binary', 'woman'], \"Three gender designations should appear in starlist\"\n>>> \n",
         "hidden": false,
         "locked": false,
         "points": 5
        },
        {
         "code": ">>> def test_url(star_list):\n...     assert star_list[11]['url'] == 'https://www.imdb.com/name/nm4511652', \"Some URLs are incorrect. Be sure you aren't only using a relative path.\"\n>>> \n",
         "hidden": false,
         "locked": false,
         "points": 3
        },
        {
         "code": ">>> def test_page(star_list):\n...     assert {type(s['page']) for s in star_list} == {bs4.BeautifulSoup}, \"All pages in starlist should be of type bs4.BeautifulSoup\"\n...     assert all([len(s['page'].contents) > 0 for s in star_list]), \"Some of your pages (BS objects) appear to have no contents.\"\n>>> \n",
         "hidden": false,
         "locked": false,
         "points": 4
        }
       ],
       "scored": true,
       "setup": "",
       "teardown": "",
       "type": "doctest"
      }
     ]
    },
    "q4": {
     "name": "q4",
     "points": 25,
     "suites": [
      {
       "cases": [
        {
         "code": ">>> def test_list2(star_table):\n...     assert type(star_table) == list, \"star_table should be a list\"\n>>> \n",
         "hidden": false,
         "locked": false,
         "points": 1
        },
        {
         "code": ">>> def test_len2(star_table):\n...     assert len(star_table) == 100, \"star_table should have 100 elements\"\n>>> \n",
         "hidden": false,
         "locked": false,
         "points": 1
        },
        {
         "code": ">>> def test_list(star_table):\n...     assert {type(s) for s in star_table} == {dict}, \"All entries in starlist should by of type dict\"\n...     assert all([list(s.keys()) == ['name', 'role', 'gender', 'year_born', 'first_credit', 'year_first_credit', 'num_credits'] for s in star_table]), \\\n...         \"All dictionaries in star_table should have the keys 'name', 'role', 'gender', 'year_born', 'first_credit', 'year_first_credit', 'num_credits' in that order\"\n>>> \n",
         "hidden": false,
         "locked": false,
         "points": 2
        },
        {
         "code": ">>> def test_year_born(star_table):\n...     assert {type(s['year_born']) for s in star_table} == {int}, \"All 'year_born' values should be of type int\"\n...     assert np.isclose(pd.DataFrame(star_table)['year_born'].mean(), 1984.27, atol=0.5),  \"Your values for 'year_born' are incorrect\"\n>>> \n",
         "hidden": false,
         "locked": false,
         "points": 4
        },
        {
         "code": ">>> def test_first_credit(star_table):\n...     assert {type(s['first_credit']) for s in star_table} == {str}, \"All 'first_credit' values should be of type str\"\n...     assert np.isclose(pd.DataFrame(star_table)['first_credit'].str.len().mean(), 16.04, atol=0.5),\\\n...     \"Your values for 'first_credit' are incorrect (make sure to also strip them)\"\n>>> \n",
         "hidden": false,
         "locked": false,
         "points": 4
        },
        {
         "code": ">>> def test_year_first_credit(star_table):\n...     assert {type(s['year_first_credit']) for s in star_table} == {int}, \"All 'year_first_credit' values should be of type int\"\n...     assert np.isclose(pd.DataFrame(star_table)['year_first_credit'].mean(), 2001.6, atol=0.5),  \"Your values for 'year_first_credit' are incorrect\"\n>>> \n",
         "hidden": false,
         "locked": false,
         "points": 4
        },
        {
         "code": ">>> def test_num_credits(star_table):\n...     assert {type(s['num_credits']) for s in star_table} == {int}, \"All 'num_credits' values should be of type int\"\n...     assert np.isclose(pd.DataFrame(star_table)['num_credits'].mean(), 45.63, atol=0.5),  \"Your values for 'num_credits' are incorrect\"\n>>> \n",
         "hidden": false,
         "locked": false,
         "points": 4
        }
       ],
       "scored": true,
       "setup": "",
       "teardown": "",
       "type": "doctest"
      }
     ]
    },
    "q5": {
     "name": "q5",
     "points": 2.5,
     "suites": [
      {
       "cases": [
        {
         "code": ">>> assert type(frame) == pd.core.frame.DataFrame, f\"frame should be of type DataFrame but is instead {type(frame)}\"\n>>> assert frame.shape[0] == 100, f\"frame should have 100 rows but has {frame.shape[0]}\"\n",
         "hidden": false,
         "locked": false
        }
       ],
       "scored": true,
       "setup": "",
       "teardown": "",
       "type": "doctest"
      }
     ]
    },
    "q7.1": {
     "name": "q7.1",
     "points": 2.5,
     "suites": [
      {
       "cases": [
        {
         "code": ">>> assert num_child_stars == 14, \"Incorrect number of child stars.\"\n>>> assert child_stars.iloc[num_child_stars-1]['name'] == 'Elliot Page', \"DataFrame doesn't match. Be sure to check your sorting.\"\n",
         "hidden": false,
         "locked": false
        }
       ],
       "scored": true,
       "setup": "",
       "teardown": "",
       "type": "doctest"
      }
     ]
    },
    "q7.2": {
     "name": "q7.2",
     "points": 2.5,
     "suites": [
      {
       "cases": [
        {
         "code": ">>> assert num_late_bloomers == 4, \"Incorrect number of child stars.\"\n>>> assert late_bloomers.iloc[3]['name'] == 'Julianne Nicholson', \"DataFrame doesn't match. Be sure to check your sorting.\"\n",
         "hidden": false,
         "locked": false
        }
       ],
       "scored": true,
       "setup": "",
       "teardown": "",
       "type": "doctest"
      }
     ]
    }
   }
  }
 },
 "nbformat": 4,
 "nbformat_minor": 4
}
