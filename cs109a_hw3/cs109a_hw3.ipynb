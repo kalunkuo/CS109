{
 "cells": [
  {
   "cell_type": "code",
   "execution_count": 414,
   "metadata": {
    "deletable": false,
    "editable": false
   },
   "outputs": [],
   "source": [
    "# Initialize Otter\n",
    "import otter\n",
    "grader = otter.Notebook(\"cs109a_hw3.ipynb\")"
   ]
  },
  {
   "cell_type": "markdown",
   "metadata": {
    "tags": []
   },
   "source": [
    "# <img style=\"float: left; padding-right: 10px; width: 45px\" src=\"https://raw.githubusercontent.com/Harvard-IACS/2018-CS109A/master/content/styles/iacs.png\"> CS109A Introduction to Data Science: \n",
    "\n",
    "## Homework 3: Polynomial and LASSO Regression\n",
    "\n",
    "**Harvard University**<br/>\n",
    "**Fall 2022**<br/>\n",
    "**Instructors**: Pavlos Protopapas and Natesh Pillai\n",
    "\n",
    "<hr style=\"height:2.4pt\">"
   ]
  },
  {
   "cell_type": "code",
   "execution_count": 415,
   "metadata": {},
   "outputs": [
    {
     "data": {
      "text/html": [
       "<style>\n",
       "blockquote { background: #AEDE94; }\n",
       "h1 {\n",
       "    padding-top: 25px;\n",
       "    padding-bottom: 25px;\n",
       "    text-align: left;\n",
       "    padding-left: 10px;\n",
       "    background-color: #63ACBE;\n",
       "    color: black;\n",
       "}\n",
       "h2 {\n",
       "    padding-top: 10px;\n",
       "    padding-bottom: 10px;\n",
       "    text-align: left;\n",
       "    padding-left: 5px;\n",
       "    background-color: #EEEEEE;\n",
       "    color: black;\n",
       "}\n",
       "\n",
       "div.exercise {\n",
       "\tbackground-color: #f8b4ab;\n",
       "\tborder-color: #E9967A;\n",
       "\tborder-left: 5px solid #601A4A;\n",
       "\tpadding: 0.5em;\n",
       "}\n",
       "\n",
       "div.exercise-r {\n",
       "\tbackground-color: #ffd0d0;\n",
       "\tborder-color: #E9967A;\n",
       "\tborder-left: 5px solid #601A4A;\n",
       "\tpadding: 0.5em;\n",
       "}\n",
       "\n",
       "\n",
       "span.sub-q {\n",
       "\tfont-weight: bold;\n",
       "}\n",
       "div.theme {\n",
       "\tbackground-color: #63ACBE;\n",
       "\tborder-color: #E9967A;\n",
       "\tborder-left: 5px solid #601A4A;\n",
       "\tpadding: 0.5em;\n",
       "\tfont-size: 18pt;\n",
       "}\n",
       "div.gc {\n",
       "\tbackground-color: #AEDE94;\n",
       "\tborder-color: #E9967A;\n",
       "\tborder-left: 5px solid #601A4A;\n",
       "\tpadding: 0.5em;\n",
       "\tfont-size: 12pt;\n",
       "}\n",
       "p.q1 {\n",
       "    padding-top: 5px;\n",
       "    padding-bottom: 5px;\n",
       "    text-align: left;\n",
       "    padding-left: 5px;\n",
       "    background-color: #EEEEEE;\n",
       "    color: black;\n",
       "}\n",
       "header {\n",
       "   padding-top: 35px;\n",
       "    padding-bottom: 35px;\n",
       "    text-align: left;\n",
       "    padding-left: 10px;\n",
       "    background-color: #DDDDDD;\n",
       "    color: black;\n",
       "}\n",
       "span.emph {\n",
       "\tcolor: #601A4A;\n",
       "\tfont-weight: bold;\n",
       "}\n",
       "\n",
       "</style>\n"
      ],
      "text/plain": [
       "<IPython.core.display.HTML object>"
      ]
     },
     "execution_count": 415,
     "metadata": {},
     "output_type": "execute_result"
    }
   ],
   "source": [
    "# RUN THIS CELL \n",
    "import requests\n",
    "from IPython.core.display import HTML\n",
    "styles = requests.get(\n",
    "    \"https://raw.githubusercontent.com/Harvard-IACS/2021-CS109A/master/\"\n",
    "    \"themes/static/css/cs109.css\"\n",
    ").text\n",
    "HTML(styles)"
   ]
  },
  {
   "cell_type": "markdown",
   "metadata": {},
   "source": [
    "#### Instructions\n",
    "- To submit your assignment follow the instructions given in Canvas.\n",
    "- Plots should be legible and interpretable without having to refer to the code that generated them, including labels for the $x$- and $y$-axes as well as a descriptive title and/or legend when appropriate.\n",
    "- When asked to interpret a visualization, do not simply describe it (e.g., \"the curve has a steep slope up\"), but instead explain what you think the plot *means*.\n",
    "- The use of 'hard-coded' values to try and pass tests rather than solving problems programmatically will not receive credit.\n",
    "- The use of *extremely* inefficient or error-prone code (e.g., copy-pasting nearly identical commands rather than looping) may result in only partial credit.\n",
    "- We have tried to include all the libraries you may need to do the assignment in the imports cell provided below. Please get course staff approval before importing any additional 3rd party libraries.\n",
    "- Enable scrolling output on cells with very long output.\n",
    "- Feel free to add additional code or markdown cells as needed.\n",
    "- Ensure your code runs top to bottom without error and passes all tests by restarting the kernel and running all cells. This is how the notebook will be evaluated (note that this can take a few minutes). \n",
    "- **The notebook you submit must be run in order with all output visible**"
   ]
  },
  {
   "cell_type": "markdown",
   "metadata": {
    "cell_id": "3c67b69c-c35a-45ee-88ff-99c701edb0a0",
    "colab_type": "text",
    "id": "BlViDCbxVtbG"
   },
   "source": [
    "### Import Libraries"
   ]
  },
  {
   "cell_type": "code",
   "execution_count": 416,
   "metadata": {
    "cell_id": "c81fe721-9f10-4eec-b9a3-3a2534d1c3a2",
    "colab": {
     "base_uri": "https://localhost:8080/",
     "height": 71
    },
    "colab_type": "code",
    "id": "aQbflkbDOxbz",
    "outputId": "a93e76ad-1f12-45fa-ec35-7853e450a1ff"
   },
   "outputs": [],
   "source": [
    "from collections import Counter\n",
    "import math\n",
    "\n",
    "import matplotlib.pyplot as plt\n",
    "import numpy as np\n",
    "import pandas as pd\n",
    "import seaborn as sns\n",
    "from sklearn.linear_model import Lasso, LassoCV\n",
    "from sklearn.linear_model import LinearRegression\n",
    "from sklearn.metrics import mean_squared_error\n",
    "from sklearn.model_selection import cross_validate\n",
    "from sklearn.model_selection import train_test_split\n",
    "from sklearn.preprocessing import PolynomialFeatures\n",
    "from sklearn.utils import shuffle\n",
    "\n",
    "%matplotlib inline"
   ]
  },
  {
   "cell_type": "markdown",
   "metadata": {},
   "source": [
    "<a id=\"contents\"></a>\n",
    "\n",
    "## Notebook contents\n",
    "\n",
    "- [**Overview and data description**](#intro)\n",
    "\n",
    "\n",
    "- [**Question 1: Data visualization [5 pts]**](#part1)\n",
    "\n",
    "- [**Your Homework 3 roadmap**](#roadmap)\n",
    "\n",
    "\n",
    "- [**Question 2: Guesstimate the polynomial relationship [14 pts]**](#part2)\n",
    "\n",
    "- [**Question 3: Use a validation set to find the most promising polynomial relationship [12 pts]**](#part3)\n",
    "\n",
    "- [**Question 4: Finding the best model by k-fold cross validation [14 pts]**](#part4)\n",
    "\n",
    "- [**Question 5: Finding the most consistent model using k-fold cross validation with bootstraps [16 pts]**](#part5)\n",
    "\n",
    "- [**Question 6: Improving model consistency with LASSO regularization [33 pts]**](#part6)\n",
    "\n",
    "- [**Question 7: Analyze your best test MSEs for each section of the homework [6 pts]**](#part7)"
   ]
  },
  {
   "cell_type": "markdown",
   "metadata": {
    "cell_id": "21e9f773-e015-44ec-88c8-7f24b9a8191f",
    "colab_type": "text",
    "id": "Uo0FiNThV923"
   },
   "source": [
    "<a id=\"intro\"></a>\n",
    "\n",
    "## Overview and data description\n",
    "\n",
    "[Return to contents](#contents)\n",
    "\n",
    "### Predicting percentage change in bacteria populations given their spreading factor\n",
    "\n",
    "In this homework, we will explore polynomial regression for predicting a quantitative variable. Specifically, we will build regression models that can predict the percentage change in bacteria population after 4 hours based on their \"spreading factor\". These prediction models can be useful in clustering of a novel bacteria to any class. \n",
    "\n",
    "If the percentage of change in population is positive, this indicates that the size of the bacteria population has grown. One important factor to note is that the percentage change could be negative. This indicates that within the specified time frame, the population of the bacteria has decreased from its original size.\n",
    "\n",
    "The data set for this problem has already been split for you. You will find the train and test data sets in the files `data/bacteria_train.csv` and `data/bacteria_test.csv`, respectively. The first column in each file gives information about the change in percentage of the population and the second column contains the spreading factor of bacteria populations.\n",
    "\n",
    "\n",
    "### Problem Description\n",
    "\n",
    "We will predict the percentage change in population, given the spreading factor. For this exercise, we will consider the `Spreading_factor` to be our predictor variable and `Perc_population` to be our response variable. We will explore several different approaches, with mean squared error ($MSE$) as an evaluative criteria, for finding the best fit and most robust polynomial regression for modeling this relationship.\n"
   ]
  },
  {
   "cell_type": "markdown",
   "metadata": {
    "cell_id": "12fa439c-9984-44e4-a4f7-581a3e01d520",
    "colab_type": "text",
    "id": "Inn1d2Hv1pIK",
    "tags": []
   },
   "source": [
    "<a id=\"part1\"></a>\n",
    "\n",
    "## <div class='exercise'>Question 1: Data visualization [5 pts]</div> \n",
    "    \n",
    "[Return to contents](#contents)\n",
    "    "
   ]
  },
  {
   "cell_type": "markdown",
   "metadata": {},
   "source": [
    "<!-- BEGIN QUESTION -->\n",
    "\n",
    "<!-- BEGIN QUESTION -->\n",
    "\n",
    "<div class='exercise'><b>Q1.1</b></div>"
   ]
  },
  {
   "cell_type": "markdown",
   "metadata": {
    "cell_id": "12fa439c-9984-44e4-a4f7-581a3e01d520",
    "colab_type": "text",
    "id": "Inn1d2Hv1pIK",
    "jp-MarkdownHeadingCollapsed": true,
    "tags": []
   },
   "source": [
    "Generate a *well-labeled* scatter plot of the data points in the `bacteria_train.csv` file with the spreading factor on the $x$-axis and the percentage change on the $y$-axis.\n",
    "\n",
    "_Points:_ 3"
   ]
  },
  {
   "cell_type": "code",
   "execution_count": 417,
   "metadata": {
    "cell_id": "7e002b99-e7b2-4c64-af95-d9c7f031f476",
    "colab": {},
    "colab_type": "code",
    "id": "ENmKd_MY2B3C",
    "tags": []
   },
   "outputs": [
    {
     "data": {
      "text/html": [
       "<div>\n",
       "<style scoped>\n",
       "    .dataframe tbody tr th:only-of-type {\n",
       "        vertical-align: middle;\n",
       "    }\n",
       "\n",
       "    .dataframe tbody tr th {\n",
       "        vertical-align: top;\n",
       "    }\n",
       "\n",
       "    .dataframe thead th {\n",
       "        text-align: right;\n",
       "    }\n",
       "</style>\n",
       "<table border=\"1\" class=\"dataframe\">\n",
       "  <thead>\n",
       "    <tr style=\"text-align: right;\">\n",
       "      <th></th>\n",
       "      <th>Perc_population</th>\n",
       "      <th>Spreading_factor</th>\n",
       "    </tr>\n",
       "  </thead>\n",
       "  <tbody>\n",
       "    <tr>\n",
       "      <th>0</th>\n",
       "      <td>1.535</td>\n",
       "      <td>0.190708</td>\n",
       "    </tr>\n",
       "    <tr>\n",
       "      <th>1</th>\n",
       "      <td>5.555</td>\n",
       "      <td>0.326928</td>\n",
       "    </tr>\n",
       "    <tr>\n",
       "      <th>2</th>\n",
       "      <td>-0.277</td>\n",
       "      <td>-0.459699</td>\n",
       "    </tr>\n",
       "    <tr>\n",
       "      <th>3</th>\n",
       "      <td>1.724</td>\n",
       "      <td>-0.193013</td>\n",
       "    </tr>\n",
       "    <tr>\n",
       "      <th>4</th>\n",
       "      <td>-0.550</td>\n",
       "      <td>-0.835745</td>\n",
       "    </tr>\n",
       "    <tr>\n",
       "      <th>...</th>\n",
       "      <td>...</td>\n",
       "      <td>...</td>\n",
       "    </tr>\n",
       "    <tr>\n",
       "      <th>418</th>\n",
       "      <td>-0.461</td>\n",
       "      <td>-1.536030</td>\n",
       "    </tr>\n",
       "    <tr>\n",
       "      <th>419</th>\n",
       "      <td>2.179</td>\n",
       "      <td>1.445470</td>\n",
       "    </tr>\n",
       "    <tr>\n",
       "      <th>420</th>\n",
       "      <td>6.328</td>\n",
       "      <td>1.107800</td>\n",
       "    </tr>\n",
       "    <tr>\n",
       "      <th>421</th>\n",
       "      <td>3.854</td>\n",
       "      <td>0.841114</td>\n",
       "    </tr>\n",
       "    <tr>\n",
       "      <th>422</th>\n",
       "      <td>0.987</td>\n",
       "      <td>-1.875630</td>\n",
       "    </tr>\n",
       "  </tbody>\n",
       "</table>\n",
       "<p>423 rows × 2 columns</p>\n",
       "</div>"
      ],
      "text/plain": [
       "     Perc_population  Spreading_factor\n",
       "0              1.535          0.190708\n",
       "1              5.555          0.326928\n",
       "2             -0.277         -0.459699\n",
       "3              1.724         -0.193013\n",
       "4             -0.550         -0.835745\n",
       "..               ...               ...\n",
       "418           -0.461         -1.536030\n",
       "419            2.179          1.445470\n",
       "420            6.328          1.107800\n",
       "421            3.854          0.841114\n",
       "422            0.987         -1.875630\n",
       "\n",
       "[423 rows x 2 columns]"
      ]
     },
     "execution_count": 417,
     "metadata": {},
     "output_type": "execute_result"
    }
   ],
   "source": [
    "df_train = pd.read_csv('data/bacteria_train.csv')\n",
    "df_train"
   ]
  },
  {
   "cell_type": "code",
   "execution_count": 9,
   "metadata": {},
   "outputs": [
    {
     "data": {
      "text/html": [
       "<div>\n",
       "<style scoped>\n",
       "    .dataframe tbody tr th:only-of-type {\n",
       "        vertical-align: middle;\n",
       "    }\n",
       "\n",
       "    .dataframe tbody tr th {\n",
       "        vertical-align: top;\n",
       "    }\n",
       "\n",
       "    .dataframe thead th {\n",
       "        text-align: right;\n",
       "    }\n",
       "</style>\n",
       "<table border=\"1\" class=\"dataframe\">\n",
       "  <thead>\n",
       "    <tr style=\"text-align: right;\">\n",
       "      <th></th>\n",
       "      <th>Perc_population</th>\n",
       "      <th>Spreading_factor</th>\n",
       "    </tr>\n",
       "  </thead>\n",
       "  <tbody>\n",
       "    <tr>\n",
       "      <th>0</th>\n",
       "      <td>-0.516</td>\n",
       "      <td>-1.138880</td>\n",
       "    </tr>\n",
       "    <tr>\n",
       "      <th>1</th>\n",
       "      <td>-0.683</td>\n",
       "      <td>-1.818070</td>\n",
       "    </tr>\n",
       "    <tr>\n",
       "      <th>2</th>\n",
       "      <td>-0.045</td>\n",
       "      <td>-1.883300</td>\n",
       "    </tr>\n",
       "    <tr>\n",
       "      <th>3</th>\n",
       "      <td>1.125</td>\n",
       "      <td>-0.839582</td>\n",
       "    </tr>\n",
       "    <tr>\n",
       "      <th>4</th>\n",
       "      <td>-0.679</td>\n",
       "      <td>-1.478480</td>\n",
       "    </tr>\n",
       "    <tr>\n",
       "      <th>...</th>\n",
       "      <td>...</td>\n",
       "      <td>...</td>\n",
       "    </tr>\n",
       "    <tr>\n",
       "      <th>103</th>\n",
       "      <td>-0.962</td>\n",
       "      <td>-1.495740</td>\n",
       "    </tr>\n",
       "    <tr>\n",
       "      <th>104</th>\n",
       "      <td>3.368</td>\n",
       "      <td>0.704893</td>\n",
       "    </tr>\n",
       "    <tr>\n",
       "      <th>105</th>\n",
       "      <td>2.636</td>\n",
       "      <td>-0.517257</td>\n",
       "    </tr>\n",
       "    <tr>\n",
       "      <th>106</th>\n",
       "      <td>-0.493</td>\n",
       "      <td>-0.386792</td>\n",
       "    </tr>\n",
       "    <tr>\n",
       "      <th>107</th>\n",
       "      <td>-0.724</td>\n",
       "      <td>-0.576733</td>\n",
       "    </tr>\n",
       "  </tbody>\n",
       "</table>\n",
       "<p>108 rows × 2 columns</p>\n",
       "</div>"
      ],
      "text/plain": [
       "     Perc_population  Spreading_factor\n",
       "0             -0.516         -1.138880\n",
       "1             -0.683         -1.818070\n",
       "2             -0.045         -1.883300\n",
       "3              1.125         -0.839582\n",
       "4             -0.679         -1.478480\n",
       "..               ...               ...\n",
       "103           -0.962         -1.495740\n",
       "104            3.368          0.704893\n",
       "105            2.636         -0.517257\n",
       "106           -0.493         -0.386792\n",
       "107           -0.724         -0.576733\n",
       "\n",
       "[108 rows x 2 columns]"
      ]
     },
     "execution_count": 9,
     "metadata": {},
     "output_type": "execute_result"
    }
   ],
   "source": [
    "df_test = pd.read_csv('data/bacteria_test.csv')\n",
    "df_test"
   ]
  },
  {
   "cell_type": "code",
   "execution_count": 10,
   "metadata": {
    "cell_id": "f5c595cd-3123-49c7-9688-7727f2653b70",
    "colab": {
     "base_uri": "https://localhost:8080/",
     "height": 279
    },
    "colab_type": "code",
    "id": "omqujmrs4PRg",
    "outputId": "d71d0b9a-e945-43b0-a80a-098b0eb27ae2",
    "tags": []
   },
   "outputs": [
    {
     "data": {
      "text/plain": [
       "Text(0.5, 1.0, 'Bacteria Train')"
      ]
     },
     "execution_count": 10,
     "metadata": {},
     "output_type": "execute_result"
    },
    {
     "data": {
      "image/png": "[encoded data removed]",
      "text/plain": [
       "<Figure size 432x288 with 1 Axes>"
      ]
     },
     "metadata": {
      "needs_background": "light"
     },
     "output_type": "display_data"
    }
   ],
   "source": [
    "plt.scatter(df_train['Spreading_factor'],df_train['Perc_population'])\n",
    "plt.xlabel('Spreading Factor')\n",
    "plt.ylabel('Perc Population')\n",
    "plt.title('Bacteria Train')"
   ]
  },
  {
   "cell_type": "markdown",
   "metadata": {},
   "source": [
    "<!-- END QUESTION -->\n",
    "\n",
    "<!-- BEGIN QUESTION -->\n",
    "\n",
    "<!-- BEGIN QUESTION -->\n",
    "\n",
    "<div class='exercise'><b>Q1.2</b></div>"
   ]
  },
  {
   "cell_type": "markdown",
   "metadata": {
    "cell_id": "12fa439c-9984-44e4-a4f7-581a3e01d520",
    "colab_type": "text",
    "id": "Inn1d2Hv1pIK"
   },
   "source": [
    "Based on the graph above, is there any discernable relationship between the spreading factor and percentage change in population?\n",
    "\n",
    "_Points:_ 2"
   ]
  },
  {
   "cell_type": "markdown",
   "metadata": {},
   "source": [
    "- Based on the scatter graph we can see the general trend, as spreading factor increases the Perc Population also increases. We can start to see the coorelation between thw two. There is a positive relationship between 'spreading_factor' and 'Perc_population'. "
   ]
  },
  {
   "cell_type": "markdown",
   "metadata": {
    "cell_id": "58d06521-c4cf-4304-b68a-595205946e44",
    "tags": []
   },
   "source": [
    "<!-- END QUESTION -->\n",
    "\n",
    "<a id=\"roadmap\"></a>\n",
    "\n",
    "<hr style='height:2px'> \n",
    "\n",
    "## Your Homework 3 roadmap\n",
    "\n",
    "[Return to contents](#contents)\n",
    "\n",
    "**We will be following this roadmap for Question 2 through Question 6:**\n",
    "\n",
    "![](data/roadmap.png)\n"
   ]
  },
  {
   "cell_type": "markdown",
   "metadata": {
    "cell_id": "5c60cdd3-9885-4ac2-8144-635a481460f4",
    "tags": []
   },
   "source": [
    "<a id=\"part2\"></a>\n",
    "\n",
    "## <div class='exercise'>Question 2: Guesstimate the polynomial relationship [14 pts]</div> \n",
    "\n",
    "[Return to contents](#contents)"
   ]
  },
  {
   "cell_type": "markdown",
   "metadata": {},
   "source": [
    "<!-- BEGIN QUESTION -->\n",
    "\n",
    "<div class='exercise'><b>Q2.1</b></div>"
   ]
  },
  {
   "cell_type": "markdown",
   "metadata": {
    "cell_id": "5c60cdd3-9885-4ac2-8144-635a481460f4",
    "tags": []
   },
   "source": [
    "Based on your inspection in question 1, guesstimate the degree of the polynomial you believe would best fit the training while still generalizing well. Store this degree in the variable `guessed_deg`. \n",
    "\n",
    "Next, use `PolynomialFeatures()` to generate a design matrices of the guesstimated degree for the train and test data. Store these in `x_poly_train` and `x_poly_test`. **You should not include a bias in your design matrix.**\n",
    "\n",
    "_Points:_ 2"
   ]
  },
  {
   "cell_type": "code",
   "execution_count": 418,
   "metadata": {
    "cell_id": "444d68ce-de93-4717-bad3-16d7c26f11a7",
    "colab": {},
    "colab_type": "code",
    "id": "6-FlLcQCVYEP",
    "tags": []
   },
   "outputs": [],
   "source": [
    "guessed_deg = 2"
   ]
  },
  {
   "cell_type": "code",
   "execution_count": 419,
   "metadata": {},
   "outputs": [],
   "source": [
    "df_train = pd.read_csv('data/bacteria_train.csv')\n",
    "df_test = pd.read_csv('data/bacteria_test.csv')\n",
    "df_train_sorted = df_train.sort_values(by=['Spreading_factor'], ascending=True)\n",
    "df_test_sorted = df_test.sort_values(by=['Spreading_factor'], ascending=True)"
   ]
  },
  {
   "cell_type": "code",
   "execution_count": 420,
   "metadata": {},
   "outputs": [],
   "source": [
    "x_train = df_train_sorted ['Spreading_factor']\n",
    "x_train = np.array(x_train).reshape(-1,1)\n",
    "\n",
    "x_test = df_test_sorted['Spreading_factor']\n",
    "x_test= np.array(x_test).reshape(-1,1)\n",
    "\n",
    "y_train = df_train_sorted ['Perc_population']\n",
    "y_test = df_test_sorted ['Perc_population']"
   ]
  },
  {
   "cell_type": "code",
   "execution_count": 421,
   "metadata": {
    "scrolled": true,
    "tags": []
   },
   "outputs": [],
   "source": [
    "x_poly_train = PolynomialFeatures(degree = guessed_deg, include_bias=False).fit_transform(x_train)"
   ]
  },
  {
   "cell_type": "code",
   "execution_count": 422,
   "metadata": {
    "scrolled": true,
    "tags": []
   },
   "outputs": [],
   "source": [
    "x_poly_test = PolynomialFeatures(degree = guessed_deg, include_bias=False).fit_transform(x_test)"
   ]
  },
  {
   "cell_type": "code",
   "execution_count": 423,
   "metadata": {
    "deletable": false,
    "editable": false
   },
   "outputs": [
    {
     "data": {
      "text/html": [
       "<p><strong><pre style='display: inline;'>q2.1</pre></strong> passed!</p>"
      ],
      "text/plain": [
       "q2.1 results: All test cases passed!"
      ]
     },
     "execution_count": 423,
     "metadata": {},
     "output_type": "execute_result"
    }
   ],
   "source": [
    "grader.check(\"q2.1\")"
   ]
  },
  {
   "cell_type": "markdown",
   "metadata": {},
   "source": [
    "<!-- BEGIN QUESTION -->\n",
    "\n",
    "<div class='exercise'><b>Q2.2</b></div>"
   ]
  },
  {
   "cell_type": "markdown",
   "metadata": {
    "cell_id": "5c60cdd3-9885-4ac2-8144-635a481460f4",
    "tags": []
   },
   "source": [
    "Fit a polynomial regression using scikit-learn's `LinearRegression()` on the training design matrix. \n",
    "\n",
    "To track and compare the performance of each of the models in this notebook, use a list of dictionaries called `results`.\n",
    "\n",
    "Each dictionary in this list will have the keys: 'model' (a string representing the question number where the model was fit), 'train_mse', and 'test_mse'.\n",
    "\n",
    "So, for this question, you will append a dictionary to `results` of the form:\n",
    "```python\n",
    "{'model': '2.2', 'train_mse': 2.6749 'test_mse': 2.734}\n",
    "```\n",
    "Note that your MSE scores will not be the same as those in the example dictionary.\n",
    "\n",
    "_Points:_ 2"
   ]
  },
  {
   "cell_type": "code",
   "execution_count": 424,
   "metadata": {
    "cell_id": "0c26d26f-a37c-4ed5-b0c9-6364abe9afca",
    "colab": {},
    "colab_type": "code",
    "id": "PEUA3tnZVYG_",
    "tags": []
   },
   "outputs": [],
   "source": [
    "# Fit a linear regression model\n",
    "results_dic = {}\n",
    "results = []\n",
    "\n",
    "model_2 = LinearRegression().fit(x_poly_train, y_train)\n",
    "y_train_pred = model_2.predict(x_poly_train)\n",
    "y_test_pred = model_2.predict(x_poly_test)\n",
    "\n",
    "train_mse_2 = mean_squared_error(y_train, y_train_pred)\n",
    "test_mse_2 = mean_squared_error(y_test, y_test_pred)"
   ]
  },
  {
   "cell_type": "code",
   "execution_count": 425,
   "metadata": {},
   "outputs": [],
   "source": [
    "results_dic['model'] = '2.2'\n",
    "results_dic['train_mse'] = float(train_mse_2)\n",
    "results_dic['test_mse'] = float(test_mse_2)\n",
    "results.append(results_dic)"
   ]
  },
  {
   "cell_type": "code",
   "execution_count": 426,
   "metadata": {
    "deletable": false,
    "editable": false
   },
   "outputs": [
    {
     "data": {
      "text/html": [
       "<p><strong><pre style='display: inline;'>q2.2</pre></strong> passed!</p>"
      ],
      "text/plain": [
       "q2.2 results: All test cases passed!"
      ]
     },
     "execution_count": 426,
     "metadata": {},
     "output_type": "execute_result"
    }
   ],
   "source": [
    "grader.check(\"q2.2\")"
   ]
  },
  {
   "cell_type": "markdown",
   "metadata": {},
   "source": [
    "<!-- BEGIN QUESTION -->\n",
    "\n",
    "<!-- BEGIN QUESTION -->\n",
    "\n",
    "<div class='exercise'><b>Q2.3</b></div>"
   ]
  },
  {
   "cell_type": "markdown",
   "metadata": {
    "cell_id": "5c60cdd3-9885-4ac2-8144-635a481460f4",
    "tags": []
   },
   "source": [
    "- Create a plot showing both the train and test data, as well as your model's prediction curve.\n",
    "- Display `results` as a DataFrame.\n",
    "- Explain the rationale for your choice of degree (i.e. your \"guesstimation\") and comment on the fit of your model.\n",
    "  \n",
    "\n",
    "_Points:_ 3"
   ]
  },
  {
   "cell_type": "markdown",
   "metadata": {},
   "source": [
    "- My 'guessed_deg = 2' becuase based on the plot we can see the curvature of model's prediction curve looks like it is presenting the general trend of both testing and training data sets. \n",
    "\n",
    "- The model's prediction curve captures the correlation relationship between perc population and spreading factor. \n",
    "\n",
    "- I also tested on degree 3, the resulted model prediction curve is pretty similar, but a little less smooth compared to the degree 2."
   ]
  },
  {
   "cell_type": "code",
   "execution_count": 428,
   "metadata": {},
   "outputs": [
    {
     "data": {
      "text/html": [
       "<div>\n",
       "<style scoped>\n",
       "    .dataframe tbody tr th:only-of-type {\n",
       "        vertical-align: middle;\n",
       "    }\n",
       "\n",
       "    .dataframe tbody tr th {\n",
       "        vertical-align: top;\n",
       "    }\n",
       "\n",
       "    .dataframe thead th {\n",
       "        text-align: right;\n",
       "    }\n",
       "</style>\n",
       "<table border=\"1\" class=\"dataframe\">\n",
       "  <thead>\n",
       "    <tr style=\"text-align: right;\">\n",
       "      <th></th>\n",
       "      <th>model</th>\n",
       "      <th>train_mse</th>\n",
       "      <th>test_mse</th>\n",
       "    </tr>\n",
       "  </thead>\n",
       "  <tbody>\n",
       "    <tr>\n",
       "      <th>0</th>\n",
       "      <td>2.2</td>\n",
       "      <td>2.661715</td>\n",
       "      <td>2.674863</td>\n",
       "    </tr>\n",
       "  </tbody>\n",
       "</table>\n",
       "</div>"
      ],
      "text/plain": [
       "  model  train_mse  test_mse\n",
       "0   2.2   2.661715  2.674863"
      ]
     },
     "execution_count": 428,
     "metadata": {},
     "output_type": "execute_result"
    }
   ],
   "source": [
    "# results = pd.DataFrame(results)\n",
    "pd.DataFrame(results)"
   ]
  },
  {
   "cell_type": "code",
   "execution_count": 429,
   "metadata": {},
   "outputs": [
    {
     "data": {
      "text/plain": [
       "Text(0.5, 1.0, \"2.3 Train, Test Data, Model's Prediction Curve\")"
      ]
     },
     "execution_count": 429,
     "metadata": {},
     "output_type": "execute_result"
    },
    {
     "data": {
      "image/png": "[encoded data removed]",
      "text/plain": [
       "<Figure size 864x432 with 1 Axes>"
      ]
     },
     "metadata": {
      "needs_background": "light"
     },
     "output_type": "display_data"
    }
   ],
   "source": [
    "fig, ax = plt.subplots(figsize=(12,6))\n",
    "plt.scatter(x_train, y_train, label=\"Training\")\n",
    "plt.plot(x_train, y_train_pred, label=\"Training Predict\")\n",
    "\n",
    "plt.scatter(x_test, y_test, label=\"Testing\")\n",
    "plt.plot(x_test, y_test_pred, label=\"Testing Predict\")\n",
    "\n",
    "plt.legend()\n",
    "plt.xlabel('Spreading Factor')\n",
    "plt.ylabel('Perc Population')\n",
    "plt.title(\"2.3 Train, Test Data, Model's Prediction Curve\")"
   ]
  },
  {
   "cell_type": "markdown",
   "metadata": {},
   "source": [
    "<!-- END QUESTION -->\n",
    "\n",
    "<!-- BEGIN QUESTION -->\n",
    "\n",
    "<!-- BEGIN QUESTION -->\n",
    "\n",
    "<div class='exercise'><b>Q2.4</b></div>"
   ]
  },
  {
   "cell_type": "markdown",
   "metadata": {
    "cell_id": "5c60cdd3-9885-4ac2-8144-635a481460f4",
    "tags": []
   },
   "source": [
    "Now we will compute confidence intervals for the coefficients generated by our model specification. For the same degree polynomial regression fit above in 2.2, compute and plot the 95% confidence interval of the beta (i.e. $\\beta$) values obtained in that regression model. Be certain to meet these primary requirements:\n",
    "- Report the coefficient values of the model fit above in 2.2.\n",
    "- Use bootstrapping to generate your 95% confidence intervals by refitting your model to each bootstrapped sample of your training data. You should use **100 bootstrapped samples**.\n",
    "- For each bootstrap, store the coefficients of the model, and use those stored coefficients to compute the $2.5$ and $97.5$ confidence bounds.\n",
    "- Plot the bootstrapped coefficients as a grid of histograms, one histogram for each $\\beta_i$, illustrating the distribution of bootstrapped coefficients for each $\\beta_i$. Each distribution should indicate the regions of 95% confidence. Use `plt.subplots(...)` to arrange your histograms as a grid of plots.\n",
    "- Comment on your findings.\n",
    "\n",
    "**REMEMBER:** Bootstrapped samples should always be the same size as the original data and sampled with replacement.\n",
    "\n",
    "_Points:_ 7"
   ]
  },
  {
   "cell_type": "markdown",
   "metadata": {},
   "source": [
    "- Based on the graph and chart, we can see when the boot_mean gradually decreases, as well as the 95_low and 95_high. \n",
    "\n",
    "- The boot_mean Spreading_factor_1 is 1.94, and Spreading_factor_2 is 0.70. \n",
    "- The 95_low of Spreading_factor_1 is 1.79 and Spreading_factor_2 is 2.09. \n",
    "- The 95_high of Spreading_factor_1 is 2.09, and Spreading_factor_2 is 0.83. "
   ]
  },
  {
   "cell_type": "code",
   "execution_count": 430,
   "metadata": {},
   "outputs": [
    {
     "data": {
      "text/plain": [
       "((423, 1), (423, 1))"
      ]
     },
     "execution_count": 430,
     "metadata": {},
     "output_type": "execute_result"
    }
   ],
   "source": [
    "x_train = pd.DataFrame(df_train['Spreading_factor'])\n",
    "# x_train = np.array(x_train).reshape(-1,1)\n",
    "y_train = pd.DataFrame(df_train['Perc_population'])\n",
    "# y_train = np.array(x_train).reshape(-1,1)\n",
    "\n",
    "x_train.shape, y_train.shape"
   ]
  },
  {
   "cell_type": "code",
   "execution_count": 85,
   "metadata": {
    "cell_id": "760e6473-0f70-4982-9426-4384f887865c",
    "colab": {},
    "colab_type": "code",
    "id": "loY8FYSSVYPt",
    "tags": []
   },
   "outputs": [],
   "source": [
    "n_boots = 100\n",
    "boot_models = []\n",
    "boot_betas = []\n",
    "\n",
    "fit_intercept = True\n",
    "\n",
    "for i in range(n_boots):\n",
    "    \n",
    "    # Randomly sample indices\n",
    "    boot_i = np.random.choice(x_train.index, \n",
    "                              replace = True, \n",
    "                              size = len(x_train.index))\n",
    "    # print(boot_i)   \n",
    "\n",
    "    # Create bootstrap datasets\n",
    "    X_train_boot = x_train.iloc[boot_i,:]\n",
    "    X_poly_train_boot = PolynomialFeatures(degree = guessed_deg, include_bias=False).fit_transform(X_train_boot)\n",
    "    y_train_boot = y_train.iloc[boot_i]\n",
    "    \n",
    "    # Run the model\n",
    "    boot_linreg = LinearRegression(fit_intercept = fit_intercept).fit(X_poly_train_boot, y_train_boot)\n",
    "    boot_models.append(boot_linreg)\n",
    "    \n",
    "    #print(boot_linreg.intercept_[0], boot_linreg.coef_[0])\n",
    "    \n",
    "    coefs = np.insert(boot_linreg.coef_[0], 0, boot_linreg.intercept_[0], axis=None)\n",
    "    #print(type(coefs), coefs)\n",
    "    #print(type(boot_betas))\n",
    "    boot_betas.append(coefs)"
   ]
  },
  {
   "cell_type": "code",
   "execution_count": 86,
   "metadata": {
    "scrolled": true,
    "tags": []
   },
   "outputs": [
    {
     "data": {
      "text/plain": [
       "array([[ 1.03489000e+00,  1.07099731e+00],\n",
       "       [ 3.53008000e-02,  1.24614648e-03],\n",
       "       [-1.58976000e+00,  2.52733686e+00],\n",
       "       [-5.46036000e-01,  2.98155313e-01],\n",
       "       [ 1.36297000e+00,  1.85768722e+00],\n",
       "       [ 6.18556000e-01,  3.82611525e-01],\n",
       "       [-1.90824000e+00,  3.64137990e+00],\n",
       "       [-5.82489000e-01,  3.39293435e-01],\n",
       "       [-2.90862000e-01,  8.46007030e-02],\n",
       "       [ 7.70125000e-01,  5.93092516e-01],\n",
       "       [ 1.28239000e+00,  1.64452411e+00],\n",
       "       [ 7.70125000e-01,  5.93092516e-01],\n",
       "       [ 1.52030000e+00,  2.31131209e+00],\n",
       "       [ 6.79951000e-01,  4.62333362e-01],\n",
       "       [ 9.35125000e-01,  8.74458766e-01],\n",
       "       [-1.28086000e+00,  1.64060234e+00],\n",
       "       [-3.56094000e-01,  1.26802937e-01],\n",
       "       [-1.33074000e+00,  1.77086895e+00],\n",
       "       [-1.51109000e+00,  2.28339299e+00],\n",
       "       [-4.59699000e-01,  2.11323171e-01],\n",
       "       [ 3.91380000e-02,  1.53178304e-03],\n",
       "       [ 6.31986000e-01,  3.99406304e-01],\n",
       "       [ 1.05216000e+00,  1.10704067e+00],\n",
       "       [-1.23673000e+00,  1.52950109e+00],\n",
       "       [-8.22314000e-01,  6.76200315e-01],\n",
       "       [ 3.26928000e-01,  1.06881917e-01],\n",
       "       [-1.35760000e+00,  1.84307776e+00],\n",
       "       [ 1.81115000e-01,  3.28026432e-02],\n",
       "       [ 5.99370000e-01,  3.59244397e-01],\n",
       "       [-1.20987000e+00,  1.46378542e+00],\n",
       "       [ 1.52030000e+00,  2.31131209e+00],\n",
       "       [-8.66442000e-01,  7.50721739e-01],\n",
       "       [-8.66442000e-01,  7.50721739e-01],\n",
       "       [-1.29621000e+00,  1.68016036e+00],\n",
       "       [ 1.76204000e+00,  3.10478496e+00],\n",
       "       [-2.37141000e-01,  5.62358539e-02],\n",
       "       [-1.69990000e-01,  2.88966001e-02],\n",
       "       [-5.51791000e-01,  3.04473308e-01],\n",
       "       [-7.11035000e-01,  5.05570771e-01],\n",
       "       [ 1.08208000e-01,  1.17089713e-02],\n",
       "       [ 9.14021000e-01,  8.35434388e-01],\n",
       "       [-5.92082000e-01,  3.50561095e-01],\n",
       "       [-1.61470000e+00,  2.60725609e+00],\n",
       "       [ 4.42044000e-01,  1.95402898e-01],\n",
       "       [-3.31152000e-01,  1.09661647e-01],\n",
       "       [ 2.38673000e-01,  5.69648009e-02],\n",
       "       [ 1.81115000e-01,  3.28026432e-02],\n",
       "       [ 3.48033000e-01,  1.21126969e-01],\n",
       "       [ 5.16870000e-01,  2.67154597e-01],\n",
       "       [-1.12545000e+00,  1.26663770e+00],\n",
       "       [-1.19836000e+00,  1.43606669e+00],\n",
       "       [-1.47464000e+00,  2.17456313e+00],\n",
       "       [-9.91151000e-01,  9.82380305e-01],\n",
       "       [-7.83942000e-01,  6.14565059e-01],\n",
       "       [ 6.30068000e-01,  3.96985685e-01],\n",
       "       [-1.19836000e+00,  1.43606669e+00],\n",
       "       [-4.23245000e-01,  1.79136330e-01],\n",
       "       [ 1.71522000e-01,  2.94197965e-02],\n",
       "       [ 1.80334000e-02,  3.25203516e-04],\n",
       "       [-8.36525000e-02,  6.99774076e-03],\n",
       "       [ 4.29752000e-02,  1.84686782e-03],\n",
       "       [ 7.49021000e-01,  5.61032458e-01],\n",
       "       [-5.53710000e-01,  3.06594764e-01],\n",
       "       [ 8.71811000e-01,  7.60054420e-01],\n",
       "       [-1.33650000e+00,  1.78623225e+00],\n",
       "       [ 9.60067000e-01,  9.21728644e-01],\n",
       "       [ 3.07742000e-01,  9.47051386e-02],\n",
       "       [-7.37896000e-01,  5.44490507e-01],\n",
       "       [ 1.01379000e+00,  1.02777016e+00],\n",
       "       [-4.40513000e-01,  1.94051703e-01],\n",
       "       [ 1.48768000e+00,  2.21319178e+00],\n",
       "       [-8.35745000e-01,  6.98469705e-01],\n",
       "       [ 8.41114000e-01,  7.07472761e-01],\n",
       "       [ 8.41114000e-01,  7.07472761e-01],\n",
       "       [ 1.48768000e+00,  2.21319178e+00],\n",
       "       [-8.29989000e-01,  6.88881740e-01],\n",
       "       [ 1.24594000e+00,  1.55236648e+00],\n",
       "       [ 1.76204000e+00,  3.10478496e+00],\n",
       "       [ 3.53008000e-02,  1.24614648e-03],\n",
       "       [ 5.45649000e-01,  2.97732831e-01],\n",
       "       [ 8.41114000e-01,  7.07472761e-01],\n",
       "       [-1.77664000e-01,  3.15644969e-02],\n",
       "       [-1.47464000e+00,  2.17456313e+00],\n",
       "       [-9.51641000e-02,  9.05620593e-03],\n",
       "       [-3.50338000e-01,  1.22736714e-01],\n",
       "       [-1.50150000e+00,  2.25450225e+00],\n",
       "       [-4.23245000e-01,  1.79136330e-01],\n",
       "       [ 1.88789000e-01,  3.56412865e-02],\n",
       "       [ 1.28239000e+00,  1.64452411e+00],\n",
       "       [-1.51301000e+00,  2.28919926e+00],\n",
       "       [-8.36525000e-02,  6.99774076e-03],\n",
       "       [ 2.32917000e-01,  5.42503289e-02],\n",
       "       [ 1.24594000e+00,  1.55236648e+00],\n",
       "       [ 1.45507000e+00,  2.11722870e+00],\n",
       "       [ 1.81115000e-01,  3.28026432e-02],\n",
       "       [-1.14080000e+00,  1.30142464e+00],\n",
       "       [-5.10363000e-02,  2.60470392e-03],\n",
       "       [-1.34226000e+00,  1.80166191e+00],\n",
       "       [-1.29621000e+00,  1.68016036e+00],\n",
       "       [ 2.27161000e-01,  5.16021199e-02],\n",
       "       [ 2.32917000e-01,  5.42503289e-02],\n",
       "       [-1.47464000e+00,  2.17456313e+00],\n",
       "       [ 4.48938000e-02,  2.01545328e-03],\n",
       "       [ 1.00995000e+00,  1.01999900e+00],\n",
       "       [-2.87024000e-01,  8.23827766e-02],\n",
       "       [ 8.58381000e-01,  7.36817941e-01],\n",
       "       [ 7.35591000e-01,  5.41094119e-01],\n",
       "       [-1.35760000e+00,  1.84307776e+00],\n",
       "       [ 1.27664000e+00,  1.62980969e+00],\n",
       "       [ 2.94312000e-01,  8.66195533e-02],\n",
       "       [ 1.32652000e+00,  1.75965531e+00],\n",
       "       [-1.90824000e+00,  3.64137990e+00],\n",
       "       [-8.89465000e-01,  7.91147986e-01],\n",
       "       [ 1.13466000e+00,  1.28745332e+00],\n",
       "       [-1.87563000e+00,  3.51798790e+00],\n",
       "       [-1.78353000e+00,  3.18097926e+00],\n",
       "       [ 1.24018000e+00,  1.53804643e+00],\n",
       "       [ 7.93149000e-01,  6.29085336e-01],\n",
       "       [ 1.34762000e+00,  1.81607966e+00],\n",
       "       [ 5.20707000e-01,  2.71135780e-01],\n",
       "       [ 9.88846000e-01,  9.77816412e-01],\n",
       "       [-3.31152000e-01,  1.09661647e-01],\n",
       "       [-8.35745000e-01,  6.98469705e-01],\n",
       "       [ 1.05216000e+00,  1.10704067e+00],\n",
       "       [-1.60894000e+00,  2.58868792e+00],\n",
       "       [ 1.48576000e+00,  2.20748278e+00],\n",
       "       [ 5.97451000e-01,  3.56947697e-01],\n",
       "       [ 8.73730000e-01,  7.63404113e-01],\n",
       "       [-1.93013000e-01,  3.72540182e-02],\n",
       "       [-8.29989000e-01,  6.88881740e-01],\n",
       "       [ 6.45416000e-01,  4.16561813e-01],\n",
       "       [ 1.32652000e+00,  1.75965531e+00],\n",
       "       [-4.40513000e-01,  1.94051703e-01],\n",
       "       [ 1.90708000e-01,  3.63695413e-02],\n",
       "       [ 9.58148000e-01,  9.18047590e-01],\n",
       "       [-1.68760000e+00,  2.84799376e+00],\n",
       "       [-4.55861000e-01,  2.07809251e-01],\n",
       "       [ 1.02722000e+00,  1.05518093e+00],\n",
       "       [ 1.60010000e-01,  2.56032001e-02],\n",
       "       [ 1.82919000e+00,  3.34593606e+00],\n",
       "       [-1.50150000e+00,  2.25450225e+00],\n",
       "       [-4.99989000e-01,  2.49989000e-01],\n",
       "       [-1.79696000e+00,  3.22906524e+00],\n",
       "       [-2.02606000e-01,  4.10491912e-02],\n",
       "       [ 3.82568000e-01,  1.46358275e-01],\n",
       "       [ 2.32917000e-01,  5.42503289e-02],\n",
       "       [-2.37141000e-01,  5.62358539e-02],\n",
       "       [ 1.78698000e+00,  3.19329752e+00],\n",
       "       [-1.14080000e+00,  1.30142464e+00],\n",
       "       [-1.33650000e+00,  1.78623225e+00],\n",
       "       [-5.92082000e-01,  3.50561095e-01],\n",
       "       [ 9.65823000e-01,  9.32814067e-01],\n",
       "       [ 1.02722000e+00,  1.05518093e+00],\n",
       "       [-1.04871000e+00,  1.09979266e+00],\n",
       "       [-8.36525000e-02,  6.99774076e-03],\n",
       "       [ 6.18556000e-01,  3.82611525e-01],\n",
       "       [-1.04757000e-01,  1.09740290e-02],\n",
       "       [ 3.94079000e-01,  1.55298258e-01],\n",
       "       [-9.64291000e-01,  9.29857133e-01],\n",
       "       [ 1.71522000e-01,  2.94197965e-02],\n",
       "       [ 1.81115000e-01,  3.28026432e-02],\n",
       "       [ 1.90708000e-01,  3.63695413e-02],\n",
       "       [ 1.44547000e+00,  2.08938352e+00],\n",
       "       [-4.99989000e-01,  2.49989000e-01],\n",
       "       [ 2.61696000e-01,  6.84847964e-02],\n",
       "       [ 1.49536000e+00,  2.23610153e+00],\n",
       "       [-1.17534000e+00,  1.38142412e+00],\n",
       "       [-1.60127000e+00,  2.56406561e+00],\n",
       "       [ 6.18556000e-01,  3.82611525e-01],\n",
       "       [-6.03594000e-01,  3.64325717e-01],\n",
       "       [ 1.42245000e+00,  2.02336400e+00],\n",
       "       [ 3.07742000e-01,  9.47051386e-02],\n",
       "       [ 5.84021000e-01,  3.41080528e-01],\n",
       "       [ 5.91695000e-01,  3.50102973e-01],\n",
       "       [-4.55861000e-01,  2.07809251e-01],\n",
       "       [ 1.15193000e+00,  1.32694272e+00],\n",
       "       [-7.34059000e-01,  5.38842615e-01],\n",
       "       [ 6.16637000e-01,  3.80241190e-01],\n",
       "       [ 1.44164000e+00,  2.07832589e+00],\n",
       "       [-7.34059000e-01,  5.38842615e-01],\n",
       "       [-1.76243000e+00,  3.10615950e+00],\n",
       "       [-2.02606000e-01,  4.10491912e-02],\n",
       "       [ 9.60067000e-01,  9.21728644e-01],\n",
       "       [-1.88138000e+00,  3.53959070e+00],\n",
       "       [-3.52257000e-01,  1.24084994e-01],\n",
       "       [-5.82489000e-01,  3.39293435e-01],\n",
       "       [-1.87563000e+00,  3.51798790e+00],\n",
       "       [-1.78353000e+00,  3.18097926e+00],\n",
       "       [-7.24466000e-01,  5.24850985e-01],\n",
       "       [-1.46966000e-01,  2.15990052e-02],\n",
       "       [-9.94989000e-01,  9.90003110e-01],\n",
       "       [ 3.53008000e-02,  1.24614648e-03],\n",
       "       [-8.35745000e-01,  6.98469705e-01],\n",
       "       [-3.76060000e-02,  1.41421124e-03],\n",
       "       [ 4.36289000e-01,  1.90348092e-01],\n",
       "       [-1.14080000e+00,  1.30142464e+00],\n",
       "       [ 1.24018000e+00,  1.53804643e+00],\n",
       "       [-5.82489000e-01,  3.39293435e-01],\n",
       "       [-3.29234000e-01,  1.08395027e-01],\n",
       "       [-1.28086000e+00,  1.64060234e+00],\n",
       "       [ 8.89079000e-01,  7.90461468e-01],\n",
       "       [ 1.81115000e-01,  3.28026432e-02],\n",
       "       [-8.24233000e-01,  6.79360038e-01],\n",
       "       [ 1.78698000e+00,  3.19329752e+00],\n",
       "       [-3.96385000e-01,  1.57121068e-01],\n",
       "       [ 5.49486000e-01,  3.01934864e-01],\n",
       "       [-3.56874000e-02,  1.27359052e-03],\n",
       "       [ 1.02722000e+00,  1.05518093e+00],\n",
       "       [ 1.81115000e-01,  3.28026432e-02],\n",
       "       [ 1.20181000e+00,  1.44434728e+00],\n",
       "       [ 8.27684000e-01,  6.85060804e-01],\n",
       "       [ 1.14425000e+00,  1.30930806e+00],\n",
       "       [ 7.35591000e-01,  5.41094119e-01],\n",
       "       [ 4.68905000e-01,  2.19871899e-01],\n",
       "       [ 5.45649000e-01,  2.97732831e-01],\n",
       "       [-1.67417000e+00,  2.80284519e+00],\n",
       "       [-1.28086000e+00,  1.64060234e+00],\n",
       "       [ 8.71811000e-01,  7.60054420e-01],\n",
       "       [ 1.00803000e+00,  1.01612448e+00],\n",
       "       [ 1.24018000e+00,  1.53804643e+00],\n",
       "       [ 3.82568000e-01,  1.46358275e-01],\n",
       "       [ 1.74478000e+00,  3.04425725e+00],\n",
       "       [ 8.77567000e-01,  7.70123839e-01],\n",
       "       [-1.42092000e+00,  2.01901365e+00],\n",
       "       [ 1.79082000e+00,  3.20703627e+00],\n",
       "       [-2.02606000e-01,  4.10491912e-02],\n",
       "       [ 1.45507000e+00,  2.11722870e+00],\n",
       "       [-8.35745000e-01,  6.98469705e-01],\n",
       "       [-8.36525000e-02,  6.99774076e-03],\n",
       "       [-9.64291000e-01,  9.29857133e-01],\n",
       "       [-4.55861000e-01,  2.07809251e-01],\n",
       "       [ 1.72367000e+00,  2.97103827e+00],\n",
       "       [-3.17722000e-01,  1.00947269e-01],\n",
       "       [ 2.61696000e-01,  6.84847964e-02],\n",
       "       [ 1.28623000e+00,  1.65438761e+00],\n",
       "       [-1.09859000e+00,  1.20689999e+00],\n",
       "       [ 1.13274000e+00,  1.28309991e+00],\n",
       "       [ 2.48266000e-01,  6.16360068e-02],\n",
       "       [-8.47256000e-01,  7.17842730e-01],\n",
       "       [ 1.16728000e+00,  1.36254260e+00],\n",
       "       [-1.51301000e+00,  2.28919926e+00],\n",
       "       [-3.63768000e-01,  1.32327158e-01],\n",
       "       [-8.24233000e-01,  6.79360038e-01],\n",
       "       [ 5.16870000e-01,  2.67154597e-01],\n",
       "       [ 1.28623000e+00,  1.65438761e+00],\n",
       "       [ 7.70125000e-01,  5.93092516e-01],\n",
       "       [ 1.51454000e+00,  2.29383141e+00],\n",
       "       [-1.89176000e-01,  3.57875590e-02],\n",
       "       [ 7.70125000e-01,  5.93092516e-01],\n",
       "       [ 5.32219000e-01,  2.83257064e-01],\n",
       "       [-1.60894000e+00,  2.58868792e+00],\n",
       "       [ 4.29752000e-02,  1.84686782e-03],\n",
       "       [-9.77721000e-01,  9.55938354e-01],\n",
       "       [ 1.31885000e+00,  1.73936532e+00],\n",
       "       [ 3.00068000e-01,  9.00408046e-02],\n",
       "       [-1.18301000e+00,  1.39951266e+00],\n",
       "       [-1.83534000e+00,  3.36847292e+00],\n",
       "       [-1.24633000e+00,  1.55333847e+00],\n",
       "       [-9.10570000e-01,  8.29137725e-01],\n",
       "       [ 1.24018000e+00,  1.53804643e+00],\n",
       "       [ 4.49719000e-01,  2.02247179e-01],\n",
       "       [ 1.47233000e+00,  2.16775563e+00],\n",
       "       [-1.18187000e-01,  1.39681670e-02],\n",
       "       [-1.73173000e+00,  2.99888879e+00],\n",
       "       [ 8.85242000e-01,  7.83653399e-01],\n",
       "       [ 5.97451000e-01,  3.56947697e-01],\n",
       "       [ 5.45649000e-01,  2.97732831e-01],\n",
       "       [ 1.79082000e+00,  3.20703627e+00],\n",
       "       [ 4.68905000e-01,  2.19871899e-01],\n",
       "       [ 7.49021000e-01,  5.61032458e-01],\n",
       "       [ 1.82919000e+00,  3.34593606e+00],\n",
       "       [ 6.45416000e-01,  4.16561813e-01],\n",
       "       [-9.29756000e-01,  8.64446220e-01],\n",
       "       [-8.93303000e-01,  7.97990250e-01],\n",
       "       [ 5.03440000e-01,  2.53451834e-01],\n",
       "       [ 1.87716000e+00,  3.52372967e+00],\n",
       "       [-8.66442000e-01,  7.50721739e-01],\n",
       "       [-1.18301000e+00,  1.39951266e+00],\n",
       "       [ 1.10780000e+00,  1.22722084e+00],\n",
       "       [-1.74516000e+00,  3.04558343e+00],\n",
       "       [-1.21563000e+00,  1.47775630e+00],\n",
       "       [-1.93013000e-01,  3.72540182e-02],\n",
       "       [ 7.81637000e-01,  6.10956400e-01],\n",
       "       [ 1.42743000e-01,  2.03755640e-02],\n",
       "       [ 7.81637000e-01,  6.10956400e-01],\n",
       "       [-3.29234000e-01,  1.08395027e-01],\n",
       "       [-9.10570000e-01,  8.29137725e-01],\n",
       "       [ 1.24594000e+00,  1.55236648e+00],\n",
       "       [ 1.92626000e-01,  3.71047759e-02],\n",
       "       [ 1.45507000e+00,  2.11722870e+00],\n",
       "       [ 1.04449000e+00,  1.09095936e+00],\n",
       "       [-9.70047000e-01,  9.40991182e-01],\n",
       "       [-1.24824000e+00,  1.55810310e+00],\n",
       "       [ 3.91380000e-02,  1.53178304e-03],\n",
       "       [ 1.38983000e+00,  1.93162743e+00],\n",
       "       [-1.04871000e+00,  1.09979266e+00],\n",
       "       [-8.35745000e-01,  6.98469705e-01],\n",
       "       [-1.19836000e+00,  1.43606669e+00],\n",
       "       [-1.78353000e+00,  3.18097926e+00],\n",
       "       [ 2.38673000e-01,  5.69648009e-02],\n",
       "       [-3.73361000e-01,  1.39398436e-01],\n",
       "       [-4.99989000e-01,  2.49989000e-01],\n",
       "       [ 9.17858000e-01,  8.42463308e-01],\n",
       "       [-3.52257000e-01,  1.24084994e-01],\n",
       "       [ 7.35591000e-01,  5.41094119e-01],\n",
       "       [-1.23290000e+00,  1.52004241e+00],\n",
       "       [ 1.24210000e+00,  1.54281241e+00],\n",
       "       [-1.34226000e+00,  1.80166191e+00],\n",
       "       [ 9.90765000e-01,  9.81615285e-01],\n",
       "       [ 1.92626000e-01,  3.71047759e-02],\n",
       "       [ 6.37742000e-01,  4.06714859e-01],\n",
       "       [-9.94989000e-01,  9.90003110e-01],\n",
       "       [-8.97140000e-01,  8.04860180e-01],\n",
       "       [-1.12545000e+00,  1.26663770e+00],\n",
       "       [-1.17534000e+00,  1.38142412e+00],\n",
       "       [-6.80338000e-01,  4.62859794e-01],\n",
       "       [ 4.90010000e-01,  2.40109800e-01],\n",
       "       [-1.23673000e+00,  1.52950109e+00],\n",
       "       [-1.74516000e+00,  3.04558343e+00],\n",
       "       [ 5.97451000e-01,  3.56947697e-01],\n",
       "       [-4.23245000e-01,  1.79136330e-01],\n",
       "       [ 3.53008000e-02,  1.24614648e-03],\n",
       "       [-1.68760000e+00,  2.84799376e+00],\n",
       "       [ 8.41114000e-01,  7.07472761e-01],\n",
       "       [-1.24824000e+00,  1.55810310e+00],\n",
       "       [ 4.36289000e-01,  1.90348092e-01],\n",
       "       [-1.17534000e+00,  1.38142412e+00],\n",
       "       [ 1.36297000e+00,  1.85768722e+00],\n",
       "       [ 1.19719000e-01,  1.43326390e-02],\n",
       "       [ 4.68905000e-01,  2.19871899e-01],\n",
       "       [-3.46501000e-01,  1.20062943e-01],\n",
       "       [ 8.41114000e-01,  7.07472761e-01],\n",
       "       [-3.76060000e-02,  1.41421124e-03],\n",
       "       [-1.23290000e+00,  1.52004241e+00],\n",
       "       [ 5.45649000e-01,  2.97732831e-01],\n",
       "       [ 5.91695000e-01,  3.50102973e-01],\n",
       "       [-9.10570000e-01,  8.29137725e-01],\n",
       "       [-1.12545000e+00,  1.26663770e+00],\n",
       "       [-9.83477000e-01,  9.67227010e-01],\n",
       "       [ 1.48576000e+00,  2.20748278e+00],\n",
       "       [ 2.40591000e-01,  5.78840293e-02],\n",
       "       [-5.30687000e-01,  2.81628692e-01],\n",
       "       [ 1.14617000e+00,  1.31370567e+00],\n",
       "       [ 7.70125000e-01,  5.93092516e-01],\n",
       "       [ 1.58553000e+00,  2.51390538e+00],\n",
       "       [-2.54408000e-01,  6.47234305e-02],\n",
       "       [ 1.14425000e+00,  1.30930806e+00],\n",
       "       [ 1.06289000e-01,  1.12973515e-02],\n",
       "       [-3.76060000e-02,  1.41421124e-03],\n",
       "       [ 1.16919000e+00,  1.36700526e+00],\n",
       "       [-1.67801000e+00,  2.81571756e+00],\n",
       "       [-1.19836000e+00,  1.43606669e+00],\n",
       "       [ 1.02722000e+00,  1.05518093e+00],\n",
       "       [ 1.26512000e+00,  1.60052861e+00],\n",
       "       [ 1.23826000e+00,  1.53328783e+00],\n",
       "       [ 2.61696000e-01,  6.84847964e-02],\n",
       "       [ 1.36297000e+00,  1.85768722e+00],\n",
       "       [ 6.45416000e-01,  4.16561813e-01],\n",
       "       [ 3.91380000e-02,  1.53178304e-03],\n",
       "       [-1.19836000e+00,  1.43606669e+00],\n",
       "       [ 8.98672000e-01,  8.07611364e-01],\n",
       "       [ 5.20707000e-01,  2.71135780e-01],\n",
       "       [-2.87024000e-01,  8.23827766e-02],\n",
       "       [ 8.85242000e-01,  7.83653399e-01],\n",
       "       [-9.18244000e-01,  8.43172044e-01],\n",
       "       [ 3.57626000e-01,  1.27896356e-01],\n",
       "       [-1.35760000e+00,  1.84307776e+00],\n",
       "       [ 5.03440000e-01,  2.53451834e-01],\n",
       "       [-6.07431000e-01,  3.68972420e-01],\n",
       "       [ 8.85242000e-01,  7.83653399e-01],\n",
       "       [ 3.91380000e-02,  1.53178304e-03],\n",
       "       [ 3.48033000e-01,  1.21126969e-01],\n",
       "       [ 7.70125000e-01,  5.93092516e-01],\n",
       "       [ 5.32219000e-01,  2.83257064e-01],\n",
       "       [ 1.81115000e-01,  3.28026432e-02],\n",
       "       [ 1.24018000e+00,  1.53804643e+00],\n",
       "       [ 5.49486000e-01,  3.01934864e-01],\n",
       "       [ 2.38673000e-01,  5.69648009e-02],\n",
       "       [-9.35512000e-01,  8.75182702e-01],\n",
       "       [-1.67801000e+00,  2.81571756e+00],\n",
       "       [ 8.71811000e-01,  7.60054420e-01],\n",
       "       [-1.29429000e+00,  1.67518660e+00],\n",
       "       [ 5.49486000e-01,  3.01934864e-01],\n",
       "       [ 8.87160000e-01,  7.87052866e-01],\n",
       "       [-6.80338000e-01,  4.62859794e-01],\n",
       "       [-3.73361000e-01,  1.39398436e-01],\n",
       "       [-3.29234000e-01,  1.08395027e-01],\n",
       "       [-3.76060000e-02,  1.41421124e-03],\n",
       "       [ 1.71522000e-01,  2.94197965e-02],\n",
       "       [ 8.27684000e-01,  6.85060804e-01],\n",
       "       [ 1.60010000e-01,  2.56032001e-02],\n",
       "       [-5.92082000e-01,  3.50561095e-01],\n",
       "       [ 1.04371000e-01,  1.08933056e-02],\n",
       "       [ 6.45416000e-01,  4.16561813e-01],\n",
       "       [ 8.98672000e-01,  8.07611364e-01],\n",
       "       [ 8.73730000e-01,  7.63404113e-01],\n",
       "       [-3.56874000e-02,  1.27359052e-03],\n",
       "       [-5.46036000e-01,  2.98155313e-01],\n",
       "       [ 4.68905000e-01,  2.19871899e-01],\n",
       "       [-1.46966000e-01,  2.15990052e-02],\n",
       "       [-1.16191000e+00,  1.35003485e+00],\n",
       "       [-6.38129000e-01,  4.07208621e-01],\n",
       "       [ 1.69603000e-01,  2.87651776e-02],\n",
       "       [-5.67140000e-01,  3.21647780e-01],\n",
       "       [ 8.41114000e-01,  7.07472761e-01],\n",
       "       [ 6.37742000e-01,  4.06714859e-01],\n",
       "       [ 9.73497000e-01,  9.47696409e-01],\n",
       "       [ 7.75881000e-01,  6.01991326e-01],\n",
       "       [-9.64291000e-01,  9.29857133e-01],\n",
       "       [-1.18301000e+00,  1.39951266e+00],\n",
       "       [ 2.00301000e-01,  4.01204906e-02],\n",
       "       [-1.71255000e+00,  2.93282750e+00],\n",
       "       [ 1.13466000e+00,  1.28745332e+00],\n",
       "       [-6.38129000e-01,  4.07208621e-01],\n",
       "       [ 8.89079000e-01,  7.90461468e-01],\n",
       "       [-1.53603000e+00,  2.35938816e+00],\n",
       "       [-6.76501000e-01,  4.57653603e-01],\n",
       "       [ 1.04449000e+00,  1.09095936e+00],\n",
       "       [ 9.21695000e-01,  8.49521673e-01],\n",
       "       [ 4.53556000e-01,  2.05713045e-01],\n",
       "       [-5.53710000e-01,  3.06594764e-01],\n",
       "       [-6.80338000e-01,  4.62859794e-01],\n",
       "       [ 4.48938000e-02,  2.01545328e-03]])"
      ]
     },
     "execution_count": 86,
     "metadata": {},
     "output_type": "execute_result"
    }
   ],
   "source": [
    "X_poly_train_boot"
   ]
  },
  {
   "cell_type": "code",
   "execution_count": 87,
   "metadata": {},
   "outputs": [
    {
     "data": {
      "text/plain": [
       "['x0', 'Spreading_factor_1', 'Spreading_factor_2']"
      ]
     },
     "execution_count": 87,
     "metadata": {},
     "output_type": "execute_result"
    }
   ],
   "source": [
    "feature_names = ['x0','Spreading_factor_1', 'Spreading_factor_2']\n",
    "feature_names"
   ]
  },
  {
   "cell_type": "code",
   "execution_count": 88,
   "metadata": {
    "cell_id": "50a39167-eb1c-49de-86fa-a16f2e927218",
    "colab": {
     "base_uri": "https://localhost:8080/",
     "height": 993
    },
    "colab_type": "code",
    "id": "UtElE-aRVYSf",
    "outputId": "64cb5557-5516-4ef2-c84b-66af7d570afb",
    "tags": []
   },
   "outputs": [
    {
     "name": "stdout",
     "output_type": "stream",
     "text": [
      "100\n"
     ]
    },
    {
     "data": {
      "text/html": [
       "<div>\n",
       "<style scoped>\n",
       "    .dataframe tbody tr th:only-of-type {\n",
       "        vertical-align: middle;\n",
       "    }\n",
       "\n",
       "    .dataframe tbody tr th {\n",
       "        vertical-align: top;\n",
       "    }\n",
       "\n",
       "    .dataframe thead th {\n",
       "        text-align: right;\n",
       "    }\n",
       "</style>\n",
       "<table border=\"1\" class=\"dataframe\">\n",
       "  <thead>\n",
       "    <tr style=\"text-align: right;\">\n",
       "      <th></th>\n",
       "      <th>x0</th>\n",
       "      <th>Spreading_factor_1</th>\n",
       "      <th>Spreading_factor_2</th>\n",
       "    </tr>\n",
       "  </thead>\n",
       "  <tbody>\n",
       "    <tr>\n",
       "      <th>0</th>\n",
       "      <td>1.593100</td>\n",
       "      <td>2.057317</td>\n",
       "      <td>0.664497</td>\n",
       "    </tr>\n",
       "    <tr>\n",
       "      <th>1</th>\n",
       "      <td>1.624089</td>\n",
       "      <td>1.973381</td>\n",
       "      <td>0.702542</td>\n",
       "    </tr>\n",
       "    <tr>\n",
       "      <th>2</th>\n",
       "      <td>1.678226</td>\n",
       "      <td>1.934540</td>\n",
       "      <td>0.635047</td>\n",
       "    </tr>\n",
       "    <tr>\n",
       "      <th>3</th>\n",
       "      <td>1.552959</td>\n",
       "      <td>1.977072</td>\n",
       "      <td>0.654758</td>\n",
       "    </tr>\n",
       "    <tr>\n",
       "      <th>4</th>\n",
       "      <td>1.480966</td>\n",
       "      <td>1.910624</td>\n",
       "      <td>0.699239</td>\n",
       "    </tr>\n",
       "  </tbody>\n",
       "</table>\n",
       "</div>"
      ],
      "text/plain": [
       "         x0  Spreading_factor_1  Spreading_factor_2\n",
       "0  1.593100            2.057317            0.664497\n",
       "1  1.624089            1.973381            0.702542\n",
       "2  1.678226            1.934540            0.635047\n",
       "3  1.552959            1.977072            0.654758\n",
       "4  1.480966            1.910624            0.699239"
      ]
     },
     "execution_count": 88,
     "metadata": {},
     "output_type": "execute_result"
    }
   ],
   "source": [
    "print(len(boot_betas))\n",
    "boot_betas_df = pd.DataFrame(boot_betas, columns=feature_names) \n",
    "boot_betas_df.head()"
   ]
  },
  {
   "cell_type": "code",
   "execution_count": 89,
   "metadata": {},
   "outputs": [
    {
     "name": "stdout",
     "output_type": "stream",
     "text": [
      "x0, 1.56, 0.11, [1.35, 1.79]\n",
      "Spreading_factor_1, 1.94, 0.08, [1.79, 2.09]\n",
      "Spreading_factor_2, 0.7, 0.07, [0.58, 0.83]\n",
      "{'x0': 1.56, 'Spreading_factor_1': 1.94, 'Spreading_factor_2': 0.7}\n"
     ]
    },
    {
     "data": {
      "text/html": [
       "<div>\n",
       "<style scoped>\n",
       "    .dataframe tbody tr th:only-of-type {\n",
       "        vertical-align: middle;\n",
       "    }\n",
       "\n",
       "    .dataframe tbody tr th {\n",
       "        vertical-align: top;\n",
       "    }\n",
       "\n",
       "    .dataframe thead th {\n",
       "        text-align: right;\n",
       "    }\n",
       "</style>\n",
       "<table border=\"1\" class=\"dataframe\">\n",
       "  <thead>\n",
       "    <tr style=\"text-align: right;\">\n",
       "      <th></th>\n",
       "      <th>feature</th>\n",
       "      <th>boot_mean</th>\n",
       "      <th>boot_std</th>\n",
       "      <th>95_low</th>\n",
       "      <th>95_high</th>\n",
       "    </tr>\n",
       "  </thead>\n",
       "  <tbody>\n",
       "    <tr>\n",
       "      <th>0</th>\n",
       "      <td>x0</td>\n",
       "      <td>1.56</td>\n",
       "      <td>0.11</td>\n",
       "      <td>1.35</td>\n",
       "      <td>1.79</td>\n",
       "    </tr>\n",
       "    <tr>\n",
       "      <th>1</th>\n",
       "      <td>Spreading_factor_1</td>\n",
       "      <td>1.94</td>\n",
       "      <td>0.08</td>\n",
       "      <td>1.79</td>\n",
       "      <td>2.09</td>\n",
       "    </tr>\n",
       "    <tr>\n",
       "      <th>2</th>\n",
       "      <td>Spreading_factor_2</td>\n",
       "      <td>0.70</td>\n",
       "      <td>0.07</td>\n",
       "      <td>0.58</td>\n",
       "      <td>0.83</td>\n",
       "    </tr>\n",
       "  </tbody>\n",
       "</table>\n",
       "</div>"
      ],
      "text/plain": [
       "              feature  boot_mean  boot_std  95_low  95_high\n",
       "0                  x0       1.56      0.11    1.35     1.79\n",
       "1  Spreading_factor_1       1.94      0.08    1.79     2.09\n",
       "2  Spreading_factor_2       0.70      0.07    0.58     0.83"
      ]
     },
     "execution_count": 89,
     "metadata": {},
     "output_type": "execute_result"
    }
   ],
   "source": [
    "stats_list = []\n",
    "\n",
    "for i in range(len(feature_names)):\n",
    "    betavals = boot_betas_df.iloc[:, i]\n",
    "    betavals.values.sort()\n",
    "    \n",
    "    x1 = np.round(np.percentile(betavals, 2.5), 2)\n",
    "    x2 = np.round(np.percentile(betavals, 97.5), 2)\n",
    "    mean = np.round(np.mean(betavals),2)\n",
    "    std = np.round(np.std(betavals),2)\n",
    "    print(f'{feature_names[i]}, {mean}, {std}, [{x1}, {x2}]')\n",
    "    \n",
    "    # Save in list\n",
    "    stats_list.append([feature_names[i], mean, std, x1, x2])\n",
    "\n",
    "# Create dataframe to store results\n",
    "boot_beta_df = pd.DataFrame(stats_list, columns=['feature', 'boot_mean', 'boot_std', '95_low', '95_high'])\n",
    "coef_dict = dict(zip(boot_beta_df.feature, np.abs(boot_beta_df.boot_mean)))\n",
    "print(coef_dict)\n",
    "boot_beta_df"
   ]
  },
  {
   "cell_type": "code",
   "execution_count": 90,
   "metadata": {},
   "outputs": [
    {
     "data": {
      "image/png": "[encoded data removed]",
      "text/plain": [
       "<Figure size 864x288 with 3 Axes>"
      ]
     },
     "metadata": {
      "needs_background": "light"
     },
     "output_type": "display_data"
    }
   ],
   "source": [
    "hist_colors = [\"tab:blue\", \"teal\", \"red\", \"green\"]\n",
    "fig, ax = plt.subplots(1,3, figsize = (12,4))\n",
    "ax = ax.ravel()\n",
    "sns.set(style=\"white\", color_codes=True)\n",
    "\n",
    "for i in range(3):\n",
    "    betavals = boot_betas_df.iloc[ : , i]\n",
    "    betavals.values.sort()\n",
    "    \n",
    "    x1 = np.percentile(betavals, 5)\n",
    "    x2 = np.percentile(betavals, 95)\n",
    "    \n",
    "    x = np.linspace( x1, x2, 500)\n",
    "    counts, bins = np.histogram( betavals )\n",
    "    y = counts.max() \n",
    "    plt.sca( ax[i] )\n",
    "    plt.fill_between(x, y+100, color = 'red',alpha=0.3)\n",
    "    plt.hist(betavals, \n",
    "             bins = bins, \n",
    "             color=hist_colors[i],\n",
    "             alpha=0.5,\n",
    "             edgecolor='black', \n",
    "             linewidth=1)\n",
    "    plt.ylim(0,y+ 4)\n",
    "    #plt.ylabel(f'Distribution', fontsize=12)\n",
    "    plt.xlabel(f'{feature_names[i]} (standardized)', fontsize=12)\n",
    "    plt.axvline(x = np.mean(betavals), color='w', linewidth = 2, linestyle = \"--\")\n",
    "\n",
    "fig.suptitle(f'95 % Confidence Intervals for our Linear Regression Model', fontsize = 15)\n",
    "sns.despine(offset=10, trim=True);\n",
    "plt.tight_layout()"
   ]
  },
  {
   "cell_type": "markdown",
   "metadata": {
    "cell_id": "5c60cdd3-9885-4ac2-8144-635a481460f4",
    "tags": []
   },
   "source": [
    "<!-- END QUESTION -->\n",
    "\n",
    "<a id=\"part3\"></a>\n",
    "\n",
    "## <div class='exercise'>Question 3: Single validation set [12 pts]</div> \n",
    "\n",
    "In this section you'll find the best degree polynomial relationship using a single validation set.\n",
    "\n",
    "[Return to contents](#contents)"
   ]
  },
  {
   "cell_type": "markdown",
   "metadata": {},
   "source": [
    "<!-- BEGIN QUESTION -->\n",
    "\n",
    "<div class='exercise'><b>Q3.1</b></div>"
   ]
  },
  {
   "cell_type": "markdown",
   "metadata": {
    "cell_id": "5c60cdd3-9885-4ac2-8144-635a481460f4",
    "tags": []
   },
   "source": [
    "Split your original training data such that you separate out 20% into a single validation split. Use `random_state=1` and save the resulting splits as `x_train80`, `x_val`, `y_train80`, `y_val`. (This will prevent the overwriting of the original train data variables).\n",
    "\n",
    "_Points:_ 1"
   ]
  },
  {
   "cell_type": "code",
   "execution_count": 122,
   "metadata": {},
   "outputs": [
    {
     "data": {
      "text/plain": [
       "((423, 1), (423, 1))"
      ]
     },
     "execution_count": 122,
     "metadata": {},
     "output_type": "execute_result"
    }
   ],
   "source": [
    "x_train = pd.DataFrame(df_train['Spreading_factor'])\n",
    "# x_train = np.array(x_train).reshape(-1,1)\n",
    "\n",
    "y_train = pd.DataFrame(df_train['Perc_population'])\n",
    "# y_train = np.array(x_train).reshape(-1,1)\n",
    "\n",
    "x_train.shape, y_train.shape"
   ]
  },
  {
   "cell_type": "code",
   "execution_count": 123,
   "metadata": {
    "cell_id": "552b9463-f979-4f09-8a72-8f4bd7126289",
    "colab": {},
    "colab_type": "code",
    "id": "Hg85gaKsbZiZ",
    "tags": []
   },
   "outputs": [],
   "source": [
    "x_train80, x_val, y_train80, y_val = train_test_split(x_train, \n",
    "                                                  y_train, \n",
    "                                                  train_size=0.8, \n",
    "                                                  random_state=1)\n"
   ]
  },
  {
   "cell_type": "code",
   "execution_count": 124,
   "metadata": {},
   "outputs": [
    {
     "data": {
      "text/plain": [
       "((338, 1), (85, 1), (338, 1), (85, 1))"
      ]
     },
     "execution_count": 124,
     "metadata": {},
     "output_type": "execute_result"
    }
   ],
   "source": [
    "x_train80.shape, x_val.shape, y_train80.shape, y_val.shape"
   ]
  },
  {
   "cell_type": "code",
   "execution_count": 125,
   "metadata": {
    "deletable": false,
    "editable": false
   },
   "outputs": [
    {
     "data": {
      "text/html": [
       "<p><strong><pre style='display: inline;'>q3.1</pre></strong> passed!</p>"
      ],
      "text/plain": [
       "q3.1 results: All test cases passed!"
      ]
     },
     "execution_count": 125,
     "metadata": {},
     "output_type": "execute_result"
    }
   ],
   "source": [
    "grader.check(\"q3.1\")"
   ]
  },
  {
   "cell_type": "markdown",
   "metadata": {},
   "source": [
    "<!-- BEGIN QUESTION -->\n",
    "\n",
    "<div class='exercise'><b>Q3.2</b></div>"
   ]
  },
  {
   "cell_type": "markdown",
   "metadata": {
    "cell_id": "5c60cdd3-9885-4ac2-8144-635a481460f4",
    "tags": []
   },
   "source": [
    "- Fit polynomial regression models for **degrees 1 to 30 (inclusive)** on the 80% training set (one model for each degree polynomial regression).\n",
    "- Store the train and validation MSE values for each model in lists called `train_mses` and `val_mses`.\n",
    "\n",
    "_Points:_ 2"
   ]
  },
  {
   "cell_type": "code",
   "execution_count": 126,
   "metadata": {
    "cell_id": "c850d414-3a0a-4cf6-b1c3-38ce7bf1977e",
    "colab": {},
    "colab_type": "code",
    "id": "ZyToQtJXbZfu",
    "tags": []
   },
   "outputs": [],
   "source": [
    "maxdeg = 31\n",
    "train_mses, val_mses = [],[]\n",
    "\n",
    "for d in range(1, maxdeg):\n",
    "    x_poly_train = PolynomialFeatures(degree = d).fit_transform(x_train80)\n",
    "    x_poly_val = PolynomialFeatures(degree = d).fit_transform(x_val)\n",
    "    lreg = LinearRegression(fit_intercept=False)\n",
    "    lreg.fit(x_poly_train, y_train80)\n",
    "    y_train_pred = lreg.predict(x_poly_train)\n",
    "    y_val_pred = lreg.predict(x_poly_val)\n",
    "    train_mses.append(mean_squared_error(y_train80, y_train_pred))\n",
    "    val_mses.append(mean_squared_error(y_val, y_val_pred))"
   ]
  },
  {
   "cell_type": "code",
   "execution_count": 127,
   "metadata": {
    "deletable": false,
    "editable": false
   },
   "outputs": [
    {
     "data": {
      "text/html": [
       "<p><strong><pre style='display: inline;'>q3.2</pre></strong> passed!</p>"
      ],
      "text/plain": [
       "q3.2 results: All test cases passed!"
      ]
     },
     "execution_count": 127,
     "metadata": {},
     "output_type": "execute_result"
    }
   ],
   "source": [
    "grader.check(\"q3.2\")"
   ]
  },
  {
   "cell_type": "markdown",
   "metadata": {},
   "source": [
    "<!-- BEGIN QUESTION -->\n",
    "\n",
    "<!-- BEGIN QUESTION -->\n",
    "\n",
    "<div class='exercise'><b>Q3.3</b></div>"
   ]
  },
  {
   "cell_type": "markdown",
   "metadata": {
    "cell_id": "5c60cdd3-9885-4ac2-8144-635a481460f4",
    "tags": []
   },
   "source": [
    "- Generate a single plot illustrating the train and validation $MSE$ values for each fitted degree polynomial regression model.\n",
    "- Identify and report the degree for which the validation error is lowest.\n",
    "\n",
    "**Note:** Plotting the MSE on a log scale may be helpful.\n",
    "\n",
    "_Points:_ 4"
   ]
  },
  {
   "cell_type": "code",
   "execution_count": 128,
   "metadata": {},
   "outputs": [
    {
     "name": "stdout",
     "output_type": "stream",
     "text": [
      "The best degree of the model is 15\n"
     ]
    }
   ],
   "source": [
    "min_mse = min(val_mses)\n",
    "best_degree = val_mses.index(min_mse) + 1\n",
    "\n",
    "# Print the degree of the best model computed above\n",
    "print(\"The best degree of the model is\",best_degree)"
   ]
  },
  {
   "cell_type": "code",
   "execution_count": 129,
   "metadata": {
    "tags": []
   },
   "outputs": [
    {
     "data": {
      "image/png": "[encoded data removed]",
      "text/plain": [
       "<Figure size 864x432 with 1 Axes>"
      ]
     },
     "metadata": {
      "needs_background": "light"
     },
     "output_type": "display_data"
    }
   ],
   "source": [
    "fig, ax = plt.subplots(figsize=(12,6))\n",
    "ax.plot(range(1, maxdeg),train_mses , label=\"Training Error\")\n",
    "ax.plot(range(1, maxdeg),val_mses, label = \"Validation Error\")\n",
    "ax.set_xlabel('Degree of Polynomial')\n",
    "ax.set_ylabel('Mean Squared Error')\n",
    "ax.legend(loc = 'best')\n",
    "ax.set_yscale('log')\n",
    "plt.axvline(x = 15)\n",
    "plt.title(\"3.3 Train and validation MSE value for Polynomial Regression Model\")\n",
    "plt.show();"
   ]
  },
  {
   "cell_type": "markdown",
   "metadata": {},
   "source": [
    "<!-- END QUESTION -->\n",
    "\n",
    "<!-- BEGIN QUESTION -->\n",
    "\n",
    "<div class='exercise'><b>Q3.4</b></div>"
   ]
  },
  {
   "cell_type": "markdown",
   "metadata": {
    "cell_id": "5c60cdd3-9885-4ac2-8144-635a481460f4",
    "tags": []
   },
   "source": [
    "Now, with the best degree selected, train the polynomial regression on the **complete training set** (including the observations that you had previously removed to make the validation set). \n",
    "\n",
    "Append a new dictionary to your `results` list for this model.\n",
    "\n",
    "_Points:_ 3"
   ]
  },
  {
   "cell_type": "code",
   "execution_count": 431,
   "metadata": {},
   "outputs": [],
   "source": [
    "df_train = pd.read_csv('data/bacteria_train.csv')\n",
    "df_test = pd.read_csv('data/bacteria_test.csv')\n",
    "\n",
    "df_train_sorted = df_train.sort_values(by=['Spreading_factor'], ascending=True)\n",
    "df_test_sorted = df_test.sort_values(by=['Spreading_factor'], ascending=True)"
   ]
  },
  {
   "cell_type": "code",
   "execution_count": 432,
   "metadata": {},
   "outputs": [
    {
     "data": {
      "text/html": [
       "<div>\n",
       "<style scoped>\n",
       "    .dataframe tbody tr th:only-of-type {\n",
       "        vertical-align: middle;\n",
       "    }\n",
       "\n",
       "    .dataframe tbody tr th {\n",
       "        vertical-align: top;\n",
       "    }\n",
       "\n",
       "    .dataframe thead th {\n",
       "        text-align: right;\n",
       "    }\n",
       "</style>\n",
       "<table border=\"1\" class=\"dataframe\">\n",
       "  <thead>\n",
       "    <tr style=\"text-align: right;\">\n",
       "      <th></th>\n",
       "      <th>Perc_population</th>\n",
       "      <th>Spreading_factor</th>\n",
       "    </tr>\n",
       "  </thead>\n",
       "  <tbody>\n",
       "    <tr>\n",
       "      <th>0</th>\n",
       "      <td>1.535</td>\n",
       "      <td>0.190708</td>\n",
       "    </tr>\n",
       "    <tr>\n",
       "      <th>1</th>\n",
       "      <td>5.555</td>\n",
       "      <td>0.326928</td>\n",
       "    </tr>\n",
       "    <tr>\n",
       "      <th>2</th>\n",
       "      <td>-0.277</td>\n",
       "      <td>-0.459699</td>\n",
       "    </tr>\n",
       "    <tr>\n",
       "      <th>3</th>\n",
       "      <td>1.724</td>\n",
       "      <td>-0.193013</td>\n",
       "    </tr>\n",
       "    <tr>\n",
       "      <th>4</th>\n",
       "      <td>-0.550</td>\n",
       "      <td>-0.835745</td>\n",
       "    </tr>\n",
       "    <tr>\n",
       "      <th>...</th>\n",
       "      <td>...</td>\n",
       "      <td>...</td>\n",
       "    </tr>\n",
       "    <tr>\n",
       "      <th>418</th>\n",
       "      <td>-0.461</td>\n",
       "      <td>-1.536030</td>\n",
       "    </tr>\n",
       "    <tr>\n",
       "      <th>419</th>\n",
       "      <td>2.179</td>\n",
       "      <td>1.445470</td>\n",
       "    </tr>\n",
       "    <tr>\n",
       "      <th>420</th>\n",
       "      <td>6.328</td>\n",
       "      <td>1.107800</td>\n",
       "    </tr>\n",
       "    <tr>\n",
       "      <th>421</th>\n",
       "      <td>3.854</td>\n",
       "      <td>0.841114</td>\n",
       "    </tr>\n",
       "    <tr>\n",
       "      <th>422</th>\n",
       "      <td>0.987</td>\n",
       "      <td>-1.875630</td>\n",
       "    </tr>\n",
       "  </tbody>\n",
       "</table>\n",
       "<p>423 rows × 2 columns</p>\n",
       "</div>"
      ],
      "text/plain": [
       "     Perc_population  Spreading_factor\n",
       "0              1.535          0.190708\n",
       "1              5.555          0.326928\n",
       "2             -0.277         -0.459699\n",
       "3              1.724         -0.193013\n",
       "4             -0.550         -0.835745\n",
       "..               ...               ...\n",
       "418           -0.461         -1.536030\n",
       "419            2.179          1.445470\n",
       "420            6.328          1.107800\n",
       "421            3.854          0.841114\n",
       "422            0.987         -1.875630\n",
       "\n",
       "[423 rows x 2 columns]"
      ]
     },
     "execution_count": 432,
     "metadata": {},
     "output_type": "execute_result"
    }
   ],
   "source": [
    "df_train"
   ]
  },
  {
   "cell_type": "code",
   "execution_count": 433,
   "metadata": {},
   "outputs": [
    {
     "data": {
      "text/plain": [
       "((423, 1), (108, 1), (423, 1), (108, 1))"
      ]
     },
     "execution_count": 433,
     "metadata": {},
     "output_type": "execute_result"
    }
   ],
   "source": [
    "x_train = df_train_sorted['Spreading_factor']\n",
    "x_test = df_test_sorted['Spreading_factor']\n",
    "\n",
    "y_test = df_test_sorted['Perc_population']\n",
    "y_train = df_train_sorted['Perc_population']\n",
    "\n",
    "x_train = np.array(x_train).reshape(-1,1)\n",
    "x_test = np.array(x_test).reshape(-1,1)\n",
    "y_train = np.array(y_train).reshape(-1,1)\n",
    "y_test = np.array(y_test).reshape(-1,1)\n",
    "\n",
    "x_train.shape, x_test.shape, y_train.shape, y_test.shape"
   ]
  },
  {
   "cell_type": "code",
   "execution_count": 434,
   "metadata": {
    "tags": []
   },
   "outputs": [],
   "source": [
    "x_poly_train = PolynomialFeatures(degree = best_degree).fit_transform(x_train)\n",
    "x_poly_val = PolynomialFeatures(degree = best_degree).fit_transform(x_test)\n",
    "model_3 = LinearRegression()\n",
    "model_3.fit(x_poly_train, y_train)\n",
    "y_train_pred = model_3.predict(x_poly_train)\n",
    "y_test_pred = model_3.predict(x_poly_val)\n",
    "train_mse_3 = (mean_squared_error(y_train, y_train_pred))\n",
    "test_mse_3 = (mean_squared_error(y_test, y_test_pred))"
   ]
  },
  {
   "cell_type": "code",
   "execution_count": 435,
   "metadata": {},
   "outputs": [],
   "source": [
    "results_dic_3 = {}"
   ]
  },
  {
   "cell_type": "code",
   "execution_count": 436,
   "metadata": {},
   "outputs": [],
   "source": [
    "results_dic_3['model'] = '3.4'\n",
    "results_dic_3['train_mse'] = float(train_mse_3)\n",
    "results_dic_3['test_mse'] = float(test_mse_3)\n",
    "results.append(results_dic_3)"
   ]
  },
  {
   "cell_type": "code",
   "execution_count": 439,
   "metadata": {},
   "outputs": [
    {
     "data": {
      "text/html": [
       "<div>\n",
       "<style scoped>\n",
       "    .dataframe tbody tr th:only-of-type {\n",
       "        vertical-align: middle;\n",
       "    }\n",
       "\n",
       "    .dataframe tbody tr th {\n",
       "        vertical-align: top;\n",
       "    }\n",
       "\n",
       "    .dataframe thead th {\n",
       "        text-align: right;\n",
       "    }\n",
       "</style>\n",
       "<table border=\"1\" class=\"dataframe\">\n",
       "  <thead>\n",
       "    <tr style=\"text-align: right;\">\n",
       "      <th></th>\n",
       "      <th>model</th>\n",
       "      <th>train_mse</th>\n",
       "      <th>test_mse</th>\n",
       "    </tr>\n",
       "  </thead>\n",
       "  <tbody>\n",
       "    <tr>\n",
       "      <th>0</th>\n",
       "      <td>2.2</td>\n",
       "      <td>2.661715</td>\n",
       "      <td>2.674863</td>\n",
       "    </tr>\n",
       "    <tr>\n",
       "      <th>1</th>\n",
       "      <td>3.4</td>\n",
       "      <td>2.512517</td>\n",
       "      <td>2.613011</td>\n",
       "    </tr>\n",
       "  </tbody>\n",
       "</table>\n",
       "</div>"
      ],
      "text/plain": [
       "  model  train_mse  test_mse\n",
       "0   2.2   2.661715  2.674863\n",
       "1   3.4   2.512517  2.613011"
      ]
     },
     "execution_count": 439,
     "metadata": {},
     "output_type": "execute_result"
    }
   ],
   "source": [
    "pd.DataFrame(results)"
   ]
  },
  {
   "cell_type": "code",
   "execution_count": 438,
   "metadata": {
    "deletable": false,
    "editable": false
   },
   "outputs": [
    {
     "data": {
      "text/html": [
       "<p><strong><pre style='display: inline;'>q3.4</pre></strong> passed!</p>"
      ],
      "text/plain": [
       "q3.4 results: All test cases passed!"
      ]
     },
     "execution_count": 438,
     "metadata": {},
     "output_type": "execute_result"
    }
   ],
   "source": [
    "grader.check(\"q3.4\")"
   ]
  },
  {
   "cell_type": "markdown",
   "metadata": {},
   "source": [
    "<!-- BEGIN QUESTION -->\n",
    "\n",
    "<div class='exercise'><b>Q3.5</b></div>"
   ]
  },
  {
   "cell_type": "markdown",
   "metadata": {
    "cell_id": "5c60cdd3-9885-4ac2-8144-635a481460f4",
    "tags": []
   },
   "source": [
    "Generate a plot of the data and your regression curve (similar to [Question 2.3](#part2)). Comment on how your model fits the data and compare it to the fit of your \"guesstimated\" model from [Question 2](#part2solutions).\n",
    "\n",
    "_Points:_ 2"
   ]
  },
  {
   "cell_type": "markdown",
   "metadata": {},
   "source": [
    "- Based on the plot of the data and the regression curve, we can see the model fits the data nicely. \n",
    "- Comparing to the guesstimated model from question 2, the curvature is a lot more complex. \n",
    "- Based on the dataframe of results, we can see in this model both train_mse and test_mse decreases. In other words, the fitting of this model is better than the \"guesstimated\" model. "
   ]
  },
  {
   "cell_type": "code",
   "execution_count": 135,
   "metadata": {
    "tags": []
   },
   "outputs": [
    {
     "data": {
      "image/png": "[encoded data removed]",
      "text/plain": [
       "<Figure size 864x432 with 1 Axes>"
      ]
     },
     "metadata": {
      "needs_background": "light"
     },
     "output_type": "display_data"
    }
   ],
   "source": [
    "fig, ax = plt.subplots(figsize=(12,6))\n",
    "plt.scatter(x_train, y_train, label=\"Training\")\n",
    "plt.plot(x_train, y_train_pred, label=\"Training Predict\")\n",
    "\n",
    "plt.scatter(x_test, y_test, label=\"Testing\")\n",
    "plt.plot(x_test, y_test_pred, label=\"Testing Predict\")\n",
    "plt.legend()\n",
    "plt.xlabel('Spreading Factor')\n",
    "plt.ylabel('Perc Population')\n",
    "plt.title(\"3.5 Train, Test Data, Regression Curve\")\n",
    "plt.show();"
   ]
  },
  {
   "cell_type": "markdown",
   "metadata": {
    "cell_id": "5c60cdd3-9885-4ac2-8144-635a481460f4",
    "tags": []
   },
   "source": [
    "<a id=\"part4\"></a>\n",
    "\n",
    "## <div class='exercise'>Question 4: Finding the best model by k-fold cross validation [14 pts]</div> \n",
    "\n",
    "[Return to contents](#contents)"
   ]
  },
  {
   "cell_type": "markdown",
   "metadata": {},
   "source": [
    "<!-- BEGIN QUESTION -->\n",
    "\n",
    "<div class='exercise'><b>Q4.1</b></div>"
   ]
  },
  {
   "cell_type": "markdown",
   "metadata": {
    "cell_id": "5c60cdd3-9885-4ac2-8144-635a481460f4",
    "tags": []
   },
   "source": [
    "In this part we find the best degree polynomial regression by running the model on a range of degree values and using k-fold cross validation. Note that `cross_validation` should be passed *all* training examples (*not* the 80% split from the previous question).\n",
    "\n",
    "- Use scikit-learn's `cross_validate(...)` to perform cross validation with $k=10$ for each polynomial regression from **degree 1 to 30 (inclusive)**.\n",
    "- For each degree:\n",
    "    - store the mean train MSE across all $k$ folds in the list `train_mses_mean`\n",
    "    - store the mean validation MSE across all $k$ folds in the list `val_mses_mean`\n",
    "    - store the standard deviation  of the validation MSE across all $k$ folds in the list `val_mses_std`\n",
    "    \n",
    "\n",
    "_Points:_ 4"
   ]
  },
  {
   "cell_type": "code",
   "execution_count": 440,
   "metadata": {},
   "outputs": [],
   "source": [
    "df_train = pd.read_csv('data/bacteria_train.csv')\n",
    "df_test = pd.read_csv('data/bacteria_test.csv')\n",
    "\n",
    "df_x_train = df_train['Spreading_factor']\n",
    "y_train = df_train['Perc_population']\n",
    "x_train = np.array(df_x_train).reshape(-1,1)"
   ]
  },
  {
   "cell_type": "code",
   "execution_count": 441,
   "metadata": {},
   "outputs": [],
   "source": [
    "maxdeg = 31\n",
    "train_mses_mean, val_mses_mean, val_mses_std = [],[],[]\n",
    "\n",
    "for d in range(1, maxdeg):\n",
    "    \n",
    "    x_poly_train = PolynomialFeatures(d,include_bias=False).fit_transform(x_train)\n",
    "    lreg = LinearRegression(fit_intercept=True)\n",
    "    \n",
    "    lreg.fit(x_poly_train, y_train)\n",
    "    y_train_pred = lreg.predict(x_poly_train)\n",
    "    \n",
    "    mse_score = cross_validate(lreg, x_poly_train, y_train, cv=10, scoring=\"neg_mean_squared_error\", return_train_score=True )    \n",
    "    train_mses_mean.append(-1*np.mean(mse_score['train_score']))\n",
    "    val_mses_mean.append(-1*np.mean(mse_score['test_score']))\n",
    "    val_mses_std.append(np.std(mse_score['test_score']))\n",
    "    "
   ]
  },
  {
   "cell_type": "code",
   "execution_count": 79,
   "metadata": {
    "deletable": false,
    "editable": false
   },
   "outputs": [
    {
     "data": {
      "text/html": [
       "<p><strong><pre style='display: inline;'>q4.1</pre></strong> passed!</p>"
      ],
      "text/plain": [
       "q4.1 results: All test cases passed!"
      ]
     },
     "execution_count": 79,
     "metadata": {},
     "output_type": "execute_result"
    }
   ],
   "source": [
    "grader.check(\"q4.1\")"
   ]
  },
  {
   "cell_type": "markdown",
   "metadata": {},
   "source": [
    "<!-- BEGIN QUESTION -->\n",
    "\n",
    "<!-- BEGIN QUESTION -->\n",
    "\n",
    "<div class='exercise'><b>Q4.2</b></div>"
   ]
  },
  {
   "cell_type": "markdown",
   "metadata": {
    "cell_id": "5c60cdd3-9885-4ac2-8144-635a481460f4",
    "tags": []
   },
   "source": [
    "- Generate a single plot showing the mean train and validation $MSE$ values (see note below) for each degree polynomial regression, including the +/- 1 standard deviation bounds for the validation $MSE$ values.\n",
    "- Comment on trends and findings illustrated by your plot.\n",
    "- Print the degree of the best model, identified based on the lowest mean validation $MSE$, along with the corresponding mean train and validation $MSE$ values.\n",
    "\n",
    "**NOTE:** When we refer to train and validation $MSE$ values here in Question 4.2 and in future problems where we are performing cross validation, we are referring specifically to the cross-validation generated train and validation $MSE$ values. Just please remember, when accessing your validation $MSE$ values while performing cross validation with scikit-learn's `cross_validate(...)`, scikit-learn rather confusingly refers to its validation scores as `test_score` in the dictionary that it returns, even though those values are actually validation scores. Please see the `cross_validate(...)` [documentation](https://scikit-learn.org/stable/modules/generated/sklearn.model_selection.cross_validate.html) for more info on this function.\n",
    "\n",
    "_Points:_ 4"
   ]
  },
  {
   "cell_type": "markdown",
   "metadata": {},
   "source": [
    "- Based on the plot, we can see the curves are slightly decreasing from left hand side, gradually become more stable in the middle range. In other words, as the degree increases the mean validation MSE value decrease. \n",
    "\n",
    "- However, as the degree increase even further at the range 25 to 30, the Mean validation MSE value become very unstable, increaseses, decreases, and increases. However, the changes in mean training MSE is very mild, it gradually decreases as the degree increase. In other words, as the degree increase, the model become more and more fitted to the training data, however become less and less fitted to the validation data set. Therefore the variance of the model increases. "
   ]
  },
  {
   "cell_type": "code",
   "execution_count": 80,
   "metadata": {},
   "outputs": [
    {
     "name": "stdout",
     "output_type": "stream",
     "text": [
      "Degree of the best model is :  8\n"
     ]
    }
   ],
   "source": [
    "min_cross_val_mse = min(val_mses_mean)\n",
    "best_cross_val_degree = val_mses_mean.index(min_cross_val_mse) + 1\n",
    "best_cross_val_degree \n",
    "print(\"Degree of the best model is : \", best_cross_val_degree )"
   ]
  },
  {
   "cell_type": "code",
   "execution_count": 81,
   "metadata": {},
   "outputs": [
    {
     "data": {
      "text/plain": [
       "[3.1210545089333666,\n",
       " 2.6973468049700733,\n",
       " 2.6992539687539296,\n",
       " 2.622366788331956,\n",
       " 2.6299637455757994,\n",
       " 2.629076074712999,\n",
       " 2.6341790628089394,\n",
       " 2.5990753511998643,\n",
       " 2.6117089871162613,\n",
       " 2.620537025040357,\n",
       " 2.630548351341367,\n",
       " 2.6234700955871118,\n",
       " 2.6369188070929725,\n",
       " 2.6309130482173995,\n",
       " 2.635904562306289,\n",
       " 2.6445129481798784,\n",
       " 2.655114581534499,\n",
       " 2.6734433444397596,\n",
       " 2.6646023446431437,\n",
       " 2.720885925302258,\n",
       " 2.7465018329318545,\n",
       " 2.7668442498791292,\n",
       " 2.974362341345608,\n",
       " 3.342431117784879,\n",
       " 5.465288786434517,\n",
       " 6.282305163669983,\n",
       " 5.245546023427802,\n",
       " 2.779897493282096,\n",
       " 12.477629925364946,\n",
       " 12.97151448049477]"
      ]
     },
     "execution_count": 81,
     "metadata": {},
     "output_type": "execute_result"
    }
   ],
   "source": [
    "val_mses_mean"
   ]
  },
  {
   "cell_type": "code",
   "execution_count": 82,
   "metadata": {},
   "outputs": [],
   "source": [
    "upperbound=[]\n",
    "lowerbound=[]\n",
    "for a, b in zip(val_mses_mean, val_mses_std):\n",
    "    upperbound.append(a+b)\n",
    "    lowerbound.append(a-b)"
   ]
  },
  {
   "cell_type": "code",
   "execution_count": 136,
   "metadata": {},
   "outputs": [
    {
     "data": {
      "image/png": "[encoded data removed]",
      "text/plain": [
       "<Figure size 864x432 with 1 Axes>"
      ]
     },
     "metadata": {
      "needs_background": "light"
     },
     "output_type": "display_data"
    }
   ],
   "source": [
    "fig, ax = plt.subplots(1,1, figsize=(12,6))\n",
    "\n",
    "ax.plot(range(1,maxdeg), train_mses_mean, label = 'Mean Training MSE', linewidth=3, color='red', alpha=0.4)\n",
    "ax.plot(range(1,maxdeg), val_mses_mean, label = 'Mean Validation MSE', linewidth=3, color='blue', alpha=0.4)\n",
    "\n",
    "ax.plot(range(1,maxdeg),upperbound , label=\"upperbound val\")\n",
    "ax.plot(range(1,maxdeg),lowerbound, label=\"lowerbound val\")\n",
    "ax.axvline(x = best_cross_val_degree)\n",
    "\n",
    "# plt.axvline(best_n)\n",
    "# plt.axhline(0.95)\n",
    "\n",
    "ax.set_xlabel('Degree', fontsize=12)\n",
    "ax.set_ylabel('Mean MSE', fontsize=12)\n",
    "ax.set_title(\"4.2 Mean Train and Validation MSE & Degree Polynomial Regression\")\n",
    "ax.legend()\n",
    "ax.set_yscale('log')\n",
    "plt.show()"
   ]
  },
  {
   "cell_type": "markdown",
   "metadata": {},
   "source": [
    "<!-- END QUESTION -->\n",
    "\n",
    "<!-- BEGIN QUESTION -->\n",
    "\n",
    "<div class='exercise'><b>Q4.3</b></div>"
   ]
  },
  {
   "cell_type": "markdown",
   "metadata": {
    "cell_id": "5c60cdd3-9885-4ac2-8144-635a481460f4",
    "tags": []
   },
   "source": [
    "Fit the best model based on the entire training data and report the $MSE$.\n",
    "\n",
    "\n",
    "- For the best degree polynomial regression identified in Question 4.2 above, train on the complete training data and predict on the test data.\n",
    "- Append a new dictionary for this model to the `results` list. \n",
    "\n",
    "_Points:_ 4"
   ]
  },
  {
   "cell_type": "code",
   "execution_count": 442,
   "metadata": {
    "cell_id": "9955c745-fa73-4fee-b2eb-e65815594c08",
    "colab": {
     "base_uri": "https://localhost:8080/",
     "height": 34
    },
    "colab_type": "code",
    "id": "t-4YaKjuse4r",
    "outputId": "4e5ae69a-5724-4e4f-d8e4-3f6600820b05",
    "tags": []
   },
   "outputs": [
    {
     "data": {
      "text/plain": [
       "8"
      ]
     },
     "execution_count": 442,
     "metadata": {},
     "output_type": "execute_result"
    }
   ],
   "source": [
    "min_cross_val_mse = min(val_mses_mean)\n",
    "best_cross_val_degree = val_mses_mean.index(min_cross_val_mse) + 1\n",
    "best_cross_val_degree "
   ]
  },
  {
   "cell_type": "code",
   "execution_count": 443,
   "metadata": {},
   "outputs": [],
   "source": [
    "best_train_mses = train_mses_mean[7]\n",
    "best_val_mses_mean = val_mses_mean[7]"
   ]
  },
  {
   "cell_type": "code",
   "execution_count": 444,
   "metadata": {},
   "outputs": [],
   "source": [
    "x_train = df_train_sorted['Spreading_factor']\n",
    "y_train = df_train_sorted['Perc_population']\n",
    "x_test = df_test_sorted['Spreading_factor']\n",
    "y_test = df_test_sorted['Perc_population']\n",
    "x_train_reshaped = np.array(x_train).reshape(-1,1)\n",
    "x_test_reshaped = np.array(x_test).reshape(-1,1)"
   ]
  },
  {
   "cell_type": "code",
   "execution_count": 445,
   "metadata": {},
   "outputs": [],
   "source": [
    "x_poly_train = PolynomialFeatures(degree=best_cross_val_degree, include_bias=False).fit_transform(x_train_reshaped)\n",
    "x_poly_test = PolynomialFeatures(degree=best_cross_val_degree, include_bias=False).fit_transform(x_test_reshaped)\n",
    "model_4 = LinearRegression()\n",
    "model_4.fit(x_poly_train, y_train)\n",
    "y_train_pred = model_4.predict(x_poly_train)\n",
    "y_test_pred = model_4.predict(x_poly_test)\n",
    "\n",
    "train_mse_4 = mean_squared_error(y_train, y_train_pred)\n",
    "test_mse_4 = mean_squared_error(y_test, y_test_pred)"
   ]
  },
  {
   "cell_type": "code",
   "execution_count": 446,
   "metadata": {},
   "outputs": [],
   "source": [
    "results_dic_4 = {}"
   ]
  },
  {
   "cell_type": "code",
   "execution_count": 447,
   "metadata": {},
   "outputs": [],
   "source": [
    "results_dic_4['model'] = '4.3'\n",
    "results_dic_4['train_mse'] = float(train_mse_4)\n",
    "results_dic_4['test_mse'] = float(test_mse_4)\n",
    "results.append(results_dic_4)"
   ]
  },
  {
   "cell_type": "code",
   "execution_count": 448,
   "metadata": {},
   "outputs": [
    {
     "data": {
      "text/plain": [
       "[{'model': '2.2',\n",
       "  'train_mse': 2.661715130324049,\n",
       "  'test_mse': 2.6748625754403093},\n",
       " {'model': '3.4',\n",
       "  'train_mse': 2.5125174574727875,\n",
       "  'test_mse': 2.613010637353009},\n",
       " {'model': '4.3',\n",
       "  'train_mse': 2.5125174574727875,\n",
       "  'test_mse': 2.613010637353015}]"
      ]
     },
     "execution_count": 448,
     "metadata": {},
     "output_type": "execute_result"
    }
   ],
   "source": [
    "results"
   ]
  },
  {
   "cell_type": "code",
   "execution_count": 93,
   "metadata": {
    "deletable": false,
    "editable": false
   },
   "outputs": [
    {
     "data": {
      "text/html": [
       "<p><strong><pre style='display: inline;'>q4.3</pre></strong> passed!</p>"
      ],
      "text/plain": [
       "q4.3 results: All test cases passed!"
      ]
     },
     "execution_count": 93,
     "metadata": {},
     "output_type": "execute_result"
    }
   ],
   "source": [
    "grader.check(\"q4.3\")"
   ]
  },
  {
   "cell_type": "markdown",
   "metadata": {},
   "source": [
    "<!-- BEGIN QUESTION -->\n",
    "\n",
    "<!-- BEGIN QUESTION -->\n",
    "\n",
    "<div class='exercise'><b>Q4.4</b></div>"
   ]
  },
  {
   "cell_type": "markdown",
   "metadata": {
    "cell_id": "5c60cdd3-9885-4ac2-8144-635a481460f4",
    "tags": []
   },
   "source": [
    "- Generate a plot of the data and your regression curve (similar to [Question 2.3](#part2)).\n",
    "- Display the coefficients of your model.\n",
    "- Display `results` as a DataFrame (there should now be 3 entries).\n",
    "- Comment on how your model fits the data and how your model compares relative to the prior best-fit model you generated using just a single validation set in [Question 3](#part3solutions).\n",
    "\n",
    "_Points:_ 2"
   ]
  },
  {
   "cell_type": "markdown",
   "metadata": {},
   "source": [
    "- The curves of this model is smoother comapred to the Q3 model. \n",
    "- Based on the graph and chart, we can see the cross_validation best degree fits the test data better than the Q3 model. \n",
    "- For instance, if we look at the right hand side of the prediction line, we can find the two curves of training and testing prediction are more overlapped, have less differences compared to the Q3 model."
   ]
  },
  {
   "cell_type": "code",
   "execution_count": 449,
   "metadata": {},
   "outputs": [
    {
     "data": {
      "text/html": [
       "<div>\n",
       "<style scoped>\n",
       "    .dataframe tbody tr th:only-of-type {\n",
       "        vertical-align: middle;\n",
       "    }\n",
       "\n",
       "    .dataframe tbody tr th {\n",
       "        vertical-align: top;\n",
       "    }\n",
       "\n",
       "    .dataframe thead th {\n",
       "        text-align: right;\n",
       "    }\n",
       "</style>\n",
       "<table border=\"1\" class=\"dataframe\">\n",
       "  <thead>\n",
       "    <tr style=\"text-align: right;\">\n",
       "      <th></th>\n",
       "      <th>model</th>\n",
       "      <th>train_mse</th>\n",
       "      <th>test_mse</th>\n",
       "    </tr>\n",
       "  </thead>\n",
       "  <tbody>\n",
       "    <tr>\n",
       "      <th>0</th>\n",
       "      <td>2.2</td>\n",
       "      <td>2.661715</td>\n",
       "      <td>2.674863</td>\n",
       "    </tr>\n",
       "    <tr>\n",
       "      <th>1</th>\n",
       "      <td>3.4</td>\n",
       "      <td>2.512517</td>\n",
       "      <td>2.613011</td>\n",
       "    </tr>\n",
       "    <tr>\n",
       "      <th>2</th>\n",
       "      <td>4.3</td>\n",
       "      <td>2.512517</td>\n",
       "      <td>2.613011</td>\n",
       "    </tr>\n",
       "  </tbody>\n",
       "</table>\n",
       "</div>"
      ],
      "text/plain": [
       "  model  train_mse  test_mse\n",
       "0   2.2   2.661715  2.674863\n",
       "1   3.4   2.512517  2.613011\n",
       "2   4.3   2.512517  2.613011"
      ]
     },
     "execution_count": 449,
     "metadata": {},
     "output_type": "execute_result"
    }
   ],
   "source": [
    "pd.DataFrame(results)"
   ]
  },
  {
   "cell_type": "code",
   "execution_count": 144,
   "metadata": {},
   "outputs": [
    {
     "data": {
      "text/html": [
       "<div>\n",
       "<style scoped>\n",
       "    .dataframe tbody tr th:only-of-type {\n",
       "        vertical-align: middle;\n",
       "    }\n",
       "\n",
       "    .dataframe tbody tr th {\n",
       "        vertical-align: top;\n",
       "    }\n",
       "\n",
       "    .dataframe thead th {\n",
       "        text-align: right;\n",
       "    }\n",
       "</style>\n",
       "<table border=\"1\" class=\"dataframe\">\n",
       "  <thead>\n",
       "    <tr style=\"text-align: right;\">\n",
       "      <th></th>\n",
       "      <th>Perc_population</th>\n",
       "      <th>Spreading_factor</th>\n",
       "    </tr>\n",
       "  </thead>\n",
       "  <tbody>\n",
       "    <tr>\n",
       "      <th>276</th>\n",
       "      <td>-0.161</td>\n",
       "      <td>-1.90824</td>\n",
       "    </tr>\n",
       "    <tr>\n",
       "      <th>402</th>\n",
       "      <td>-0.280</td>\n",
       "      <td>-1.88138</td>\n",
       "    </tr>\n",
       "    <tr>\n",
       "      <th>422</th>\n",
       "      <td>0.987</td>\n",
       "      <td>-1.87563</td>\n",
       "    </tr>\n",
       "    <tr>\n",
       "      <th>78</th>\n",
       "      <td>1.046</td>\n",
       "      <td>-1.86220</td>\n",
       "    </tr>\n",
       "    <tr>\n",
       "      <th>230</th>\n",
       "      <td>1.457</td>\n",
       "      <td>-1.85260</td>\n",
       "    </tr>\n",
       "  </tbody>\n",
       "</table>\n",
       "</div>"
      ],
      "text/plain": [
       "     Perc_population  Spreading_factor\n",
       "276           -0.161          -1.90824\n",
       "402           -0.280          -1.88138\n",
       "422            0.987          -1.87563\n",
       "78             1.046          -1.86220\n",
       "230            1.457          -1.85260"
      ]
     },
     "execution_count": 144,
     "metadata": {},
     "output_type": "execute_result"
    }
   ],
   "source": [
    "df_train_sorted=df_train.sort_values(by=['Spreading_factor'])\n",
    "df_test=pd.read_csv('data/bacteria_test.csv')\n",
    "\n",
    "df_test_sorted=df_test.sort_values(by=['Spreading_factor'])\n",
    "df_train_sorted.head()"
   ]
  },
  {
   "cell_type": "code",
   "execution_count": 145,
   "metadata": {},
   "outputs": [],
   "source": [
    "x_train = df_train_sorted['Spreading_factor']\n",
    "y_train = df_train_sorted['Perc_population']\n",
    "x_test = df_test_sorted['Spreading_factor']\n",
    "y_test = df_test_sorted['Perc_population']\n",
    "x_train_reshaped = np.array(x_train).reshape(-1,1)\n",
    "x_test_reshaped = np.array(x_test).reshape(-1,1)\n",
    "\n",
    "x_poly_train = PolynomialFeatures(degree=best_cross_val_degree , include_bias=False).fit_transform(x_train_reshaped)\n",
    "x_poly_test = PolynomialFeatures(degree=best_cross_val_degree , include_bias=False).fit_transform(x_test_reshaped)\n",
    "# x_train_reshaped"
   ]
  },
  {
   "cell_type": "code",
   "execution_count": 146,
   "metadata": {
    "tags": []
   },
   "outputs": [
    {
     "data": {
      "image/png": "[encoded data removed]",
      "text/plain": [
       "<Figure size 864x432 with 1 Axes>"
      ]
     },
     "metadata": {
      "needs_background": "light"
     },
     "output_type": "display_data"
    }
   ],
   "source": [
    "fig, ax = plt.subplots(figsize=(12,6))\n",
    "plt.scatter(x_train, y_train, label=\"Training\")\n",
    "plt.plot(x_train, y_train_pred, label=\"Training Predict\")\n",
    "\n",
    "plt.scatter(x_test, y_test, label=\"Testing\")\n",
    "plt.plot(x_test, y_test_pred, label=\"Testing Predict\")\n",
    "plt.legend()\n",
    "plt.xlabel('Spreading Factor')\n",
    "plt.ylabel('Perc Population')\n",
    "plt.title(\"4.4 Train, Test Data, Regression Curve\")\n",
    "plt.show();"
   ]
  },
  {
   "cell_type": "markdown",
   "metadata": {
    "cell_id": "5c60cdd3-9885-4ac2-8144-635a481460f4",
    "tags": []
   },
   "source": [
    "<!-- END QUESTION -->\n",
    "\n",
    "<a id=\"part5\"></a>\n",
    "\n",
    "## <div class='exercise'>Question 5: Finding the most consistent model using k-fold cross validation with bootstraps [16 pts]</div> \n",
    "\n",
    "[Return to contents](#contents)"
   ]
  },
  {
   "cell_type": "markdown",
   "metadata": {},
   "source": [
    "<!-- BEGIN QUESTION -->\n",
    "\n",
    "<div class='exercise'><b>Q5.1</b></div>"
   ]
  },
  {
   "cell_type": "markdown",
   "metadata": {
    "cell_id": "5c60cdd3-9885-4ac2-8144-635a481460f4",
    "tags": []
   },
   "source": [
    "In the previous part, we used $k$-fold cross validation to find the best model. But how confident are you of your estimated best degree? We have already used bootstraps in [Question 2.4](#part2) to estimate the confidence intervals of our $\\beta_i$ values. In this segment, we will use bootstrapping to test the robustness of our estimation.\n",
    "\n",
    "- Similar to Question 2.4, **use 100 bootstraps** of your data.\n",
    "- For each bootstrap:\n",
    "  - Use scikit-learn's `cross_validate(...)` to perform cross validation with $k=10$ *for each polynomial regression* of **degrees 1 to 30 (inclusive)**.\n",
    "  - Select the best degree polynomial based on the lowest mean cross-validation MSE and store this degree in a list called `best_degrees`.\n",
    "- After completing your bootstraps, `best_degrees` should have 100 elements, one degree for each completed bootstrap.\n",
    "\n",
    "**NOTE:** Once complete, your code for this problem will likely take several minutes to execute. This is to be expected.\n",
    "\n",
    "_Points:_ 4"
   ]
  },
  {
   "cell_type": "code",
   "execution_count": 270,
   "metadata": {},
   "outputs": [],
   "source": [
    "x_train = pd.DataFrame(df_train['Spreading_factor'])\n",
    "y_train = pd.DataFrame(df_train['Perc_population'])"
   ]
  },
  {
   "cell_type": "code",
   "execution_count": 271,
   "metadata": {
    "cell_id": "f64508d4-de67-4e02-979c-57b6cc3da85c",
    "tags": []
   },
   "outputs": [],
   "source": [
    "n_boots = 100\n",
    "boot_models = []\n",
    "boot_betas = []\n",
    "maxdeg = 31\n",
    "best_degrees = []\n",
    "\n",
    "fit_intercept = True\n",
    "\n",
    "for i in range(n_boots):\n",
    "    train_mses_mean, val_mses_mean, val_mses_std = [],[],[]\n",
    "    # Randomly sample indices\n",
    "    boot_i = np.random.choice(x_train.index, \n",
    "                              replace = True, \n",
    "                              size = len(x_train.index))\n",
    "    \n",
    "    # Create bootstrap datasets\n",
    "    X_train_boot = x_train.iloc[boot_i,:]\n",
    "    y_train_boot = y_train.iloc[boot_i]\n",
    "    \n",
    "    for d in range(1, maxdeg):\n",
    "        X_poly_train_boot = PolynomialFeatures(degree = d, include_bias=False).fit_transform(X_train_boot)  \n",
    "        boot_linreg = LinearRegression(fit_intercept = fit_intercept).fit(X_poly_train_boot, y_train_boot)\n",
    "        boot_models.append(boot_linreg)\n",
    "        coefs = np.insert(boot_linreg.coef_[0], 0, boot_linreg.intercept_[0], axis=None)\n",
    "        boot_betas.append(coefs)\n",
    "        mse_score = cross_validate(boot_linreg, X_poly_train_boot, y_train_boot, cv=10, scoring=\"neg_mean_squared_error\", return_train_score=True )    \n",
    "        \n",
    "        train_mses_mean.append(-1*np.mean(mse_score['train_score']))\n",
    "        val_mses_mean.append(-1*np.mean(mse_score['test_score']))\n",
    "        val_mses_std.append(np.std(mse_score['test_score']))\n",
    "        \n",
    "    best_degree = np.argmin(val_mses_mean)+1\n",
    "    best_degrees.append(int(best_degree))\n"
   ]
  },
  {
   "cell_type": "code",
   "execution_count": 272,
   "metadata": {},
   "outputs": [
    {
     "data": {
      "text/plain": [
       "100"
      ]
     },
     "execution_count": 272,
     "metadata": {},
     "output_type": "execute_result"
    }
   ],
   "source": [
    "len(best_degrees)"
   ]
  },
  {
   "cell_type": "code",
   "execution_count": 273,
   "metadata": {
    "scrolled": true,
    "tags": []
   },
   "outputs": [
    {
     "data": {
      "text/plain": [
       "[8,\n",
       " 18,\n",
       " 8,\n",
       " 9,\n",
       " 17,\n",
       " 8,\n",
       " 8,\n",
       " 13,\n",
       " 8,\n",
       " 13,\n",
       " 15,\n",
       " 16,\n",
       " 8,\n",
       " 15,\n",
       " 13,\n",
       " 8,\n",
       " 8,\n",
       " 10,\n",
       " 8,\n",
       " 7,\n",
       " 8,\n",
       " 8,\n",
       " 12,\n",
       " 4,\n",
       " 8,\n",
       " 9,\n",
       " 8,\n",
       " 18,\n",
       " 8,\n",
       " 8,\n",
       " 8,\n",
       " 8,\n",
       " 8,\n",
       " 14,\n",
       " 19,\n",
       " 10,\n",
       " 13,\n",
       " 13,\n",
       " 8,\n",
       " 8,\n",
       " 19,\n",
       " 8,\n",
       " 11,\n",
       " 30,\n",
       " 8,\n",
       " 8,\n",
       " 8,\n",
       " 18,\n",
       " 8,\n",
       " 4,\n",
       " 16,\n",
       " 8,\n",
       " 8,\n",
       " 8,\n",
       " 10,\n",
       " 16,\n",
       " 8,\n",
       " 23,\n",
       " 15,\n",
       " 8,\n",
       " 13,\n",
       " 8,\n",
       " 8,\n",
       " 8,\n",
       " 12,\n",
       " 20,\n",
       " 8,\n",
       " 8,\n",
       " 8,\n",
       " 17,\n",
       " 14,\n",
       " 8,\n",
       " 10,\n",
       " 7,\n",
       " 17,\n",
       " 8,\n",
       " 8,\n",
       " 8,\n",
       " 9,\n",
       " 14,\n",
       " 8,\n",
       " 8,\n",
       " 16,\n",
       " 8,\n",
       " 4,\n",
       " 8,\n",
       " 17,\n",
       " 6,\n",
       " 7,\n",
       " 14,\n",
       " 16,\n",
       " 8,\n",
       " 8,\n",
       " 8,\n",
       " 8,\n",
       " 18,\n",
       " 8,\n",
       " 8,\n",
       " 8,\n",
       " 15]"
      ]
     },
     "execution_count": 273,
     "metadata": {},
     "output_type": "execute_result"
    }
   ],
   "source": [
    "best_degrees"
   ]
  },
  {
   "cell_type": "code",
   "execution_count": 274,
   "metadata": {
    "deletable": false,
    "editable": false
   },
   "outputs": [
    {
     "data": {
      "text/html": [
       "<p><strong><pre style='display: inline;'>q5.1</pre></strong> passed!</p>"
      ],
      "text/plain": [
       "q5.1 results: All test cases passed!"
      ]
     },
     "execution_count": 274,
     "metadata": {},
     "output_type": "execute_result"
    }
   ],
   "source": [
    "grader.check(\"q5.1\")"
   ]
  },
  {
   "cell_type": "markdown",
   "metadata": {},
   "source": [
    "<!-- BEGIN QUESTION -->\n",
    "\n",
    "<!-- BEGIN QUESTION -->\n",
    "\n",
    "<div class='exercise'><b>Q5.2</b></div>"
   ]
  },
  {
   "cell_type": "markdown",
   "metadata": {
    "cell_id": "5c60cdd3-9885-4ac2-8144-635a481460f4",
    "tags": []
   },
   "source": [
    "Generate a well-labeled bar plot, with the polynomial degree on the $x$-axis and the number of times that degree was deemed best on the $y$-axis, using the `best_degrees` saved during your bootstraps.\n",
    "\n",
    "_Points:_ 4"
   ]
  },
  {
   "cell_type": "code",
   "execution_count": 275,
   "metadata": {},
   "outputs": [
    {
     "data": {
      "text/plain": [
       "30"
      ]
     },
     "execution_count": 275,
     "metadata": {},
     "output_type": "execute_result"
    }
   ],
   "source": [
    "max(best_degrees)"
   ]
  },
  {
   "cell_type": "code",
   "execution_count": 276,
   "metadata": {},
   "outputs": [
    {
     "data": {
      "text/plain": [
       "4"
      ]
     },
     "execution_count": 276,
     "metadata": {},
     "output_type": "execute_result"
    }
   ],
   "source": [
    "min(best_degrees)"
   ]
  },
  {
   "cell_type": "code",
   "execution_count": 277,
   "metadata": {
    "cell_id": "7925de61-e041-437e-ba6b-b1c3e1b2fb0c",
    "tags": []
   },
   "outputs": [
    {
     "data": {
      "text/plain": [
       "[3, 0, 1, 3, 51, 3, 4, 1, 2, 6, 4, 4, 5, 4, 4, 2, 1, 0, 0, 1, 0, 0, 0, 0, 0]"
      ]
     },
     "execution_count": 277,
     "metadata": {},
     "output_type": "execute_result"
    }
   ],
   "source": [
    "counts=[]\n",
    "for i in range(4, 29):\n",
    "    count = best_degrees.count(i)\n",
    "    counts.append(count)\n",
    "counts"
   ]
  },
  {
   "cell_type": "code",
   "execution_count": 279,
   "metadata": {},
   "outputs": [
    {
     "data": {
      "text/plain": [
       "Text(0.5, 1.0, 'best degree counts')"
      ]
     },
     "execution_count": 279,
     "metadata": {},
     "output_type": "execute_result"
    },
    {
     "data": {
      "image/png": "[encoded data removed]",
      "text/plain": [
       "<Figure size 432x288 with 1 Axes>"
      ]
     },
     "metadata": {},
     "output_type": "display_data"
    }
   ],
   "source": [
    "plt.bar(range(4, 29), counts, label='Training')\n",
    "\n",
    "plt.xlabel('degree')\n",
    "plt.ylabel('counts')\n",
    "plt.legend()\n",
    "plt.title('best degree counts')"
   ]
  },
  {
   "cell_type": "markdown",
   "metadata": {},
   "source": [
    "<!-- END QUESTION -->\n",
    "\n",
    "<!-- BEGIN QUESTION -->\n",
    "\n",
    "<!-- BEGIN QUESTION -->\n",
    "\n",
    "<div class='exercise'><b>Q5.3</b></div>"
   ]
  },
  {
   "cell_type": "markdown",
   "metadata": {
    "cell_id": "5c60cdd3-9885-4ac2-8144-635a481460f4",
    "tags": []
   },
   "source": [
    "What are your observations from the plot above? \n",
    "\n",
    "- Why do you see so much variation in the \"best degree\" over the bootstraps?\n",
    "- Which degree polynomial regression will you choose as your overall best degree based on your bootstrapped results, and why? \n",
    "\n",
    "_Points:_ 3"
   ]
  },
  {
   "cell_type": "markdown",
   "metadata": {},
   "source": [
    "- Because bootstrap is randomly generating datasets for x_train and y_train, therefore there are many variations in the \"best degrees\"\n",
    "- Based on the counts list, we can see degree 8 has shown up the most times, therefore it is the best degree based on the bootstrapped results. "
   ]
  },
  {
   "cell_type": "markdown",
   "metadata": {},
   "source": [
    "<!-- END QUESTION -->\n",
    "\n",
    "<!-- BEGIN QUESTION -->\n",
    "\n",
    "<div class='exercise'><b>Q5.4</b></div>"
   ]
  },
  {
   "cell_type": "markdown",
   "metadata": {
    "cell_id": "5c60cdd3-9885-4ac2-8144-635a481460f4",
    "tags": []
   },
   "source": [
    "Now, with the overall best degree identified with your bootstrapping results above, train the polynomial regression model on the **complete training set**. Append a new dictionary for this model to your `results` list. \n",
    "\n",
    "_Points:_ 3"
   ]
  },
  {
   "cell_type": "code",
   "execution_count": 451,
   "metadata": {},
   "outputs": [],
   "source": [
    "best_degree_5 = 8"
   ]
  },
  {
   "cell_type": "code",
   "execution_count": 452,
   "metadata": {},
   "outputs": [
    {
     "data": {
      "text/plain": [
       "((423, 1), (108, 1), (423,), (108,))"
      ]
     },
     "execution_count": 452,
     "metadata": {},
     "output_type": "execute_result"
    }
   ],
   "source": [
    "x_train = df_train_sorted['Spreading_factor']\n",
    "x_test = df_test_sorted['Spreading_factor']\n",
    "\n",
    "y_test = df_test_sorted['Perc_population']\n",
    "y_train = df_train_sorted['Perc_population']\n",
    "\n",
    "x_train = np.array(x_train).reshape(-1,1)\n",
    "x_test = np.array(x_test).reshape(-1,1)\n",
    "# y_train = np.array(y_train).reshape(-1,1)\n",
    "# y_test = np.array(y_test).reshape(-1,1)\n",
    "\n",
    "x_train.shape, x_test.shape, y_train.shape, y_test.shape"
   ]
  },
  {
   "cell_type": "code",
   "execution_count": 453,
   "metadata": {},
   "outputs": [],
   "source": [
    "x_poly_train = PolynomialFeatures(degree = best_degree_5).fit_transform(x_train)\n",
    "x_poly_val = PolynomialFeatures(degree = best_degree_5).fit_transform(x_test)\n",
    "model_5 = LinearRegression()\n",
    "model_5.fit(x_poly_train, y_train)\n",
    "y_train_pred = model_5.predict(x_poly_train)\n",
    "y_test_pred = model_5.predict(x_poly_val)\n",
    "train_mse_5 = (mean_squared_error(y_train, y_train_pred))\n",
    "test_mse_5 = (mean_squared_error(y_test, y_test_pred))"
   ]
  },
  {
   "cell_type": "code",
   "execution_count": 454,
   "metadata": {},
   "outputs": [],
   "source": [
    "results_dic_5 = {}"
   ]
  },
  {
   "cell_type": "code",
   "execution_count": 455,
   "metadata": {},
   "outputs": [],
   "source": [
    "results_dic_5['model'] = '5.4'\n",
    "results_dic_5['train_mse'] = float(train_mse_5)\n",
    "results_dic_5['test_mse'] = float(test_mse_5)\n",
    "results.append(results_dic_5)"
   ]
  },
  {
   "cell_type": "code",
   "execution_count": 456,
   "metadata": {},
   "outputs": [
    {
     "data": {
      "text/plain": [
       "[{'model': '2.2',\n",
       "  'train_mse': 2.661715130324049,\n",
       "  'test_mse': 2.6748625754403093},\n",
       " {'model': '3.4',\n",
       "  'train_mse': 2.5125174574727875,\n",
       "  'test_mse': 2.613010637353009},\n",
       " {'model': '4.3',\n",
       "  'train_mse': 2.5125174574727875,\n",
       "  'test_mse': 2.613010637353015},\n",
       " {'model': '5.4',\n",
       "  'train_mse': 2.5125174574727875,\n",
       "  'test_mse': 2.613010637353009}]"
      ]
     },
     "execution_count": 456,
     "metadata": {},
     "output_type": "execute_result"
    }
   ],
   "source": [
    "results"
   ]
  },
  {
   "cell_type": "code",
   "execution_count": 457,
   "metadata": {
    "deletable": false,
    "editable": false
   },
   "outputs": [
    {
     "data": {
      "text/html": [
       "<p><strong><pre style='display: inline;'>q5.4</pre></strong> passed!</p>"
      ],
      "text/plain": [
       "q5.4 results: All test cases passed!"
      ]
     },
     "execution_count": 457,
     "metadata": {},
     "output_type": "execute_result"
    }
   ],
   "source": [
    "grader.check(\"q5.4\")"
   ]
  },
  {
   "cell_type": "markdown",
   "metadata": {},
   "source": [
    "<!-- BEGIN QUESTION -->\n",
    "\n",
    "<!-- BEGIN QUESTION -->\n",
    "\n",
    "<div class='exercise'><b>Q5.5</b></div>"
   ]
  },
  {
   "cell_type": "markdown",
   "metadata": {
    "cell_id": "5c60cdd3-9885-4ac2-8144-635a481460f4",
    "tags": []
   },
   "source": [
    "- Generate a plot of the data and your regression curve.\n",
    "- Display `results` as a DataFrame.\n",
    "- Comment on how your model fits the data and compare it to the fit of your cross-validated model from [Question 4](#part4solutions).\n",
    "\n",
    "_Points:_ 2"
   ]
  },
  {
   "cell_type": "markdown",
   "metadata": {},
   "source": [
    "- Based on the plot, we can see the model fits the data pretty well. For instance, if you look at the regression curve on the right hand side, the two curve overlaps with each other. The differences is very small. \n",
    "\n",
    "- Comparing to the cross-validated model from question 4, the model fits pretty similarly. "
   ]
  },
  {
   "cell_type": "code",
   "execution_count": 469,
   "metadata": {
    "tags": []
   },
   "outputs": [
    {
     "data": {
      "text/html": [
       "<div>\n",
       "<style scoped>\n",
       "    .dataframe tbody tr th:only-of-type {\n",
       "        vertical-align: middle;\n",
       "    }\n",
       "\n",
       "    .dataframe tbody tr th {\n",
       "        vertical-align: top;\n",
       "    }\n",
       "\n",
       "    .dataframe thead th {\n",
       "        text-align: right;\n",
       "    }\n",
       "</style>\n",
       "<table border=\"1\" class=\"dataframe\">\n",
       "  <thead>\n",
       "    <tr style=\"text-align: right;\">\n",
       "      <th></th>\n",
       "      <th>model</th>\n",
       "      <th>train_mse</th>\n",
       "      <th>test_mse</th>\n",
       "    </tr>\n",
       "  </thead>\n",
       "  <tbody>\n",
       "    <tr>\n",
       "      <th>0</th>\n",
       "      <td>2.2</td>\n",
       "      <td>2.661715</td>\n",
       "      <td>2.674863</td>\n",
       "    </tr>\n",
       "    <tr>\n",
       "      <th>1</th>\n",
       "      <td>3.4</td>\n",
       "      <td>2.512517</td>\n",
       "      <td>2.613011</td>\n",
       "    </tr>\n",
       "    <tr>\n",
       "      <th>2</th>\n",
       "      <td>4.3</td>\n",
       "      <td>2.512517</td>\n",
       "      <td>2.613011</td>\n",
       "    </tr>\n",
       "    <tr>\n",
       "      <th>3</th>\n",
       "      <td>5.4</td>\n",
       "      <td>2.512517</td>\n",
       "      <td>2.613011</td>\n",
       "    </tr>\n",
       "  </tbody>\n",
       "</table>\n",
       "</div>"
      ],
      "text/plain": [
       "  model  train_mse  test_mse\n",
       "0   2.2   2.661715  2.674863\n",
       "1   3.4   2.512517  2.613011\n",
       "2   4.3   2.512517  2.613011\n",
       "3   5.4   2.512517  2.613011"
      ]
     },
     "execution_count": 469,
     "metadata": {},
     "output_type": "execute_result"
    }
   ],
   "source": [
    "pd.DataFrame(results)"
   ]
  },
  {
   "cell_type": "code",
   "execution_count": 370,
   "metadata": {},
   "outputs": [],
   "source": [
    "x_train = df_train_sorted['Spreading_factor']\n",
    "y_train = df_train_sorted['Perc_population']\n",
    "x_test = df_test_sorted['Spreading_factor']\n",
    "y_test = df_test_sorted['Perc_population']\n",
    "x_train_reshaped = np.array(x_train).reshape(-1,1)\n",
    "x_test_reshaped = np.array(x_test).reshape(-1,1)\n",
    "\n",
    "x_poly_train = PolynomialFeatures(degree=best_degree_5, include_bias=False).fit_transform(x_train_reshaped)\n",
    "x_poly_test = PolynomialFeatures(degree=best_degree_5, include_bias=False).fit_transform(x_test_reshaped)\n",
    "# x_train_reshaped"
   ]
  },
  {
   "cell_type": "code",
   "execution_count": 371,
   "metadata": {},
   "outputs": [
    {
     "data": {
      "image/png": "[encoded data removed]",
      "text/plain": [
       "<Figure size 864x432 with 1 Axes>"
      ]
     },
     "metadata": {
      "needs_background": "light"
     },
     "output_type": "display_data"
    }
   ],
   "source": [
    "fig, ax = plt.subplots(figsize=(12,6))\n",
    "plt.scatter(x_train, y_train, label=\"Training\")\n",
    "plt.plot(x_train, y_train_pred, label=\"Training Predict\")\n",
    "\n",
    "plt.scatter(x_test, y_test, label=\"Testing\")\n",
    "plt.plot(x_test, y_test_pred, label=\"Testing Predict\")\n",
    "plt.legend()\n",
    "plt.xlabel('Spreading Factor')\n",
    "plt.ylabel('Perc Population')\n",
    "plt.title(\"5.5 Train, Test Data, Regression Curve\")\n",
    "plt.show();"
   ]
  },
  {
   "cell_type": "code",
   "execution_count": 111,
   "metadata": {
    "deletable": false,
    "editable": false
   },
   "outputs": [
    {
     "data": {
      "text/html": [
       "<p><strong><pre style='display: inline;'>q5.4</pre></strong> passed!</p>"
      ],
      "text/plain": [
       "q5.4 results: All test cases passed!"
      ]
     },
     "execution_count": 111,
     "metadata": {},
     "output_type": "execute_result"
    }
   ],
   "source": [
    "grader.check(\"q5.4\")"
   ]
  },
  {
   "cell_type": "markdown",
   "metadata": {
    "cell_id": "8a32aef5-65a6-426d-a7ca-1f6fd63b3b16",
    "tags": []
   },
   "source": [
    "<!-- END QUESTION -->\n",
    "\n",
    "<a id=\"part6\"></a>\n",
    "\n",
    "## <div class='exercise'>Question 6: Improving model consistency with LASSO regularization [33 pts]</div> \n",
    "\n",
    "[Return to contents](#contents)\n",
    "\n",
    "In the previous sections, we compared many polynomial models to find the best degree. For each model of degree $n$, we considered all polynomial coefficients *up to and including* **degree $n$** using `PolynomialFeatures(...)`. In this section we will consider polynomial features of $n=30$, and a **best model** that could be chosen from any possible combination of our 30 degrees.\n",
    "\n",
    "For instance, we could choose a best model with an arbitrary set of polynomial degrees up degree 30, such as $x^i \\in [x^1, x^5, x^{19}, x^{24}]$, rather than the standard approach of using *all* consecutive degrees up to our maximum degree $n=30$ as in $x^i \\in [x^1, ... , x^{30}]$.\n",
    "\n",
    "However, the total number of such possible models for $n=30$ is $2^{30}\\approx10^9$, and searching through all of them would be laborious and computationally inefficient. Instead, we can use $LASSO$ (i.e. $L1$) regularization, which \"switches off\" highly unstable degree coefficients by shrinking them to zero (or very close to zero), thus giving us an efficient solution to this particular combinatorial challenge."
   ]
  },
  {
   "cell_type": "markdown",
   "metadata": {},
   "source": [
    "<!-- BEGIN QUESTION -->\n",
    "\n",
    "<div class='exercise'><b>Q6.1</b></div>"
   ]
  },
  {
   "cell_type": "markdown",
   "metadata": {
    "cell_id": "8a32aef5-65a6-426d-a7ca-1f6fd63b3b16"
   },
   "source": [
    "**Find the best hyper-parameter alpha, $\\alpha$**\n",
    "\n",
    "Use the `LassoCV` estimator to find the best regularization parameter from $\\alpha \\in [10^{-5}, 10^{-4}, 10^{-3}, 10^{-2}, 10^{-1}]$\n",
    "- Store the mean cross-validation MSEs across each fold in `lassoCV_val_mses_mean`\n",
    "- Save the best $\\alpha$ based on the mean cross-validation MSE in `best_alpha`\n",
    "\n",
    "You should read the documentation for [LassoCV](https://scikit-learn.org/stable/modules/generated/sklearn.linear_model.LassoCV.html). Some important information about this estimator:\n",
    "- After calling `fit`, the model is now the one fit on the entire training data using the best alpha based on the mean CV MSE.\n",
    "- the `mse_path_` attribute contains the validation scores on each fold for each candidate alpha.\n",
    "- the `alpha_` attribute contains the best regularization parameter found through cross-validation\n",
    "\n",
    "**Tips:** You should try adjusting `LassoCV`'s `max_iter` argument to prevent convergence warnings. If you are unable to prevent them with a large number of iterations (~100,000) then you can silence them with:\n",
    "```{python}\n",
    "from warnings import simplefilter\n",
    "from sklearn.exceptions import ConvergenceWarning\n",
    "simplefilter(\"ignore\", category=ConvergenceWarning)\n",
    "```\n",
    "Do not worry about normalizing your $x$ values for any parts of Question 6. It will not meaningfully affect our final results here.\n",
    "\n",
    "_Points:_ 5"
   ]
  },
  {
   "cell_type": "code",
   "execution_count": 459,
   "metadata": {},
   "outputs": [],
   "source": [
    "x_train = df_train['Spreading_factor']\n",
    "y_train = df_train['Perc_population']\n",
    "x_test = df_test_sorted['Spreading_factor']\n",
    "y_test = df_test_sorted['Perc_population']\n",
    "x_train_reshaped = np.array(x_train).reshape(-1,1)\n",
    "x_test_reshaped = np.array(x_test).reshape(-1,1)"
   ]
  },
  {
   "cell_type": "code",
   "execution_count": 460,
   "metadata": {},
   "outputs": [],
   "source": [
    "degree = 30\n",
    "\n",
    "x_poly_train = PolynomialFeatures(degree).fit_transform(x_train_reshaped)\n",
    "# x_poly_val= PolynomialFeatures(degree).fit_transform(x_test_reshaped)\n",
    "# x_poly_train.reshape(-1,1)"
   ]
  },
  {
   "cell_type": "code",
   "execution_count": 232,
   "metadata": {},
   "outputs": [],
   "source": [
    "from warnings import simplefilter\n",
    "from sklearn.exceptions import ConvergenceWarning\n",
    "simplefilter(\"ignore\", category=ConvergenceWarning)\n",
    "\n",
    "k = 10\n",
    "alphas = [1e-5,1e-4, 1e-3, 1e-2, 1e-1]\n",
    "\n",
    "fitted_lasso = LassoCV(alphas=alphas, cv=k, max_iter=100000).fit(x_poly_train, y_train)\n",
    "\n",
    "best_alpha = fitted_lasso.alpha_\n",
    "lassoCV_val_mses_mean = fitted_lasso.mse_path_"
   ]
  },
  {
   "cell_type": "code",
   "execution_count": 233,
   "metadata": {},
   "outputs": [
    {
     "data": {
      "text/plain": [
       "0.01"
      ]
     },
     "execution_count": 233,
     "metadata": {},
     "output_type": "execute_result"
    }
   ],
   "source": [
    "best_alpha"
   ]
  },
  {
   "cell_type": "code",
   "execution_count": 234,
   "metadata": {},
   "outputs": [
    {
     "data": {
      "text/plain": [
       "LassoCV(alphas=[1e-05, 0.0001, 0.001, 0.01, 0.1], cv=10, max_iter=100000)"
      ]
     },
     "execution_count": 234,
     "metadata": {},
     "output_type": "execute_result"
    }
   ],
   "source": [
    "fitted_lasso"
   ]
  },
  {
   "cell_type": "code",
   "execution_count": 235,
   "metadata": {},
   "outputs": [
    {
     "data": {
      "text/plain": [
       "array([[2.98617562, 2.59726128, 1.56024768, 2.97620582, 2.15135978,\n",
       "        2.34620004, 4.34404976, 2.3642201 , 2.80195337, 2.325822  ],\n",
       "       [2.90229631, 2.63597841, 1.40215541, 2.89115585, 2.07078587,\n",
       "        2.3530961 , 4.54474504, 2.18875162, 2.64190458, 2.2463396 ],\n",
       "       [2.88643138, 2.62378076, 1.44560908, 2.8795963 , 2.09679504,\n",
       "        2.3518161 , 4.56039043, 2.15647072, 2.78013198, 2.22442053],\n",
       "       [2.88999253, 2.61696793, 1.4604345 , 2.87974873, 2.10496592,\n",
       "        2.35003955, 4.55145265, 2.15862541, 2.83497701, 2.23819169],\n",
       "       [2.8928478 , 2.61727321, 1.46573366, 2.88171929, 2.1102916 ,\n",
       "        2.35136456, 4.54826572, 2.16196213, 2.8458312 , 2.24901473]])"
      ]
     },
     "execution_count": 258,
     "metadata": {},
     "output_type": "execute_result"
    }
   ],
   "source": [
    "lassoCV_val_mses_mean"
   ]
  },
  {
   "cell_type": "code",
   "execution_count": 216,
   "metadata": {
    "deletable": false,
    "editable": false
   },
   "outputs": [
    {
     "data": {
      "text/html": [
       "<p><strong><pre style='display: inline;'>q6.1</pre></strong> passed!</p>"
      ],
      "text/plain": [
       "q6.1 results: All test cases passed!"
      ]
     },
     "execution_count": 216,
     "metadata": {},
     "output_type": "execute_result"
    }
   ],
   "source": [
    "grader.check(\"q6.1\")"
   ]
  },
  {
   "cell_type": "markdown",
   "metadata": {},
   "source": [
    "<!-- BEGIN QUESTION -->\n",
    "\n",
    "<!-- BEGIN QUESTION -->\n",
    "\n",
    "<div class='exercise'><b>Q6.2</b></div>"
   ]
  },
  {
   "cell_type": "markdown",
   "metadata": {
    "cell_id": "8a32aef5-65a6-426d-a7ca-1f6fd63b3b16"
   },
   "source": [
    "Generate two plots:\n",
    "- One showing the mean validation $MSE$ values for each regularization parameter $\\alpha$, identifying the best $\\alpha$.\n",
    "- Another showing the values for each of the model's coefficients. \n",
    "\n",
    "_Points:_ 5"
   ]
  },
  {
   "cell_type": "code",
   "execution_count": 312,
   "metadata": {},
   "outputs": [
    {
     "data": {
      "text/plain": [
       "array([[2.98617562, 2.59726128, 1.56024768, 2.97620582, 2.15135978,\n",
       "        2.34620004, 4.34404976, 2.3642201 , 2.80195337, 2.325822  ],\n",
       "       [2.90229631, 2.63597841, 1.40215541, 2.89115585, 2.07078587,\n",
       "        2.3530961 , 4.54474504, 2.18875162, 2.64190458, 2.2463396 ],\n",
       "       [2.88643138, 2.62378076, 1.44560908, 2.8795963 , 2.09679504,\n",
       "        2.3518161 , 4.56039043, 2.15647072, 2.78013198, 2.22442053],\n",
       "       [2.88999253, 2.61696793, 1.4604345 , 2.87974873, 2.10496592,\n",
       "        2.35003955, 4.55145265, 2.15862541, 2.83497701, 2.23819169],\n",
       "       [2.8928478 , 2.61727321, 1.46573366, 2.88171929, 2.1102916 ,\n",
       "        2.35136456, 4.54826572, 2.16196213, 2.8458312 , 2.24901473]])"
      ]
     },
     "execution_count": 312,
     "metadata": {},
     "output_type": "execute_result"
    }
   ],
   "source": [
    "lassoCV_val_mses_mean"
   ]
  },
  {
   "cell_type": "code",
   "execution_count": 284,
   "metadata": {},
   "outputs": [
    {
     "data": {
      "text/plain": [
       "[2.6453495450967823,\n",
       " 2.5877208789102766,\n",
       " 2.60054423232842,\n",
       " 2.6085395932667454,\n",
       " 2.6124303892275327]"
      ]
     },
     "execution_count": 284,
     "metadata": {},
     "output_type": "execute_result"
    }
   ],
   "source": [
    "MSE_mean = []\n",
    "for i in range (5):\n",
    "    MSE_mean.append(np.mean(lassoCV_val_mses_mean[i]))\n",
    "MSE_mean"
   ]
  },
  {
   "cell_type": "code",
   "execution_count": 322,
   "metadata": {
    "tags": []
   },
   "outputs": [
    {
     "data": {
      "image/png": "[encoded data removed]",
      "text/plain": [
       "<Figure size 864x432 with 1 Axes>"
      ]
     },
     "metadata": {
      "needs_background": "light"
     },
     "output_type": "display_data"
    }
   ],
   "source": [
    "fig, ax = plt.subplots(1,1, figsize=(12,6))\n",
    "ax.plot(range(0,5),MSE_mean , label=\"Training Error\")\n",
    "i=alphas.index(best_alpha)\n",
    "plt.xticks([0,1,2,3,4,],alphas)\n",
    "plt.xlabel('Alphas')\n",
    "plt.ylabel('Mean validation')\n",
    "ax.axvline(x=i, label=\"Best Alpha\", color=\"red\")\n",
    "plt.legend()\n",
    "plt.title(\"6.2 Mean validation MSE values for each regularization parameter alpha\")\n",
    "plt.show();"
   ]
  },
  {
   "cell_type": "code",
   "execution_count": 302,
   "metadata": {},
   "outputs": [
    {
     "data": {
      "text/plain": [
       "array([ 0.00000000e+00,  2.03013971e+00,  0.00000000e+00, -0.00000000e+00,\n",
       "        8.29012588e-01, -2.52760330e-02,  0.00000000e+00, -0.00000000e+00,\n",
       "        0.00000000e+00, -0.00000000e+00, -0.00000000e+00, -0.00000000e+00,\n",
       "       -2.66885556e-02, -4.65210295e-04,  1.72453623e-05, -4.65787413e-04,\n",
       "        1.07385213e-03,  1.36717817e-04,  2.34206508e-04,  4.25161428e-05,\n",
       "        4.06762323e-05,  2.90207516e-06,  4.99124796e-06, -1.14666853e-06,\n",
       "        1.14764235e-07, -5.31444424e-07, -2.50324029e-07, -9.75194576e-08,\n",
       "       -1.45674215e-07,  1.36076222e-08, -6.43412916e-08])"
      ]
     },
     "execution_count": 302,
     "metadata": {},
     "output_type": "execute_result"
    }
   ],
   "source": [
    "fitted_lasso.coef_"
   ]
  },
  {
   "cell_type": "code",
   "execution_count": 307,
   "metadata": {},
   "outputs": [
    {
     "data": {
      "text/plain": [
       "(31,)"
      ]
     },
     "execution_count": 307,
     "metadata": {},
     "output_type": "execute_result"
    }
   ],
   "source": [
    "fitted_lasso.coef_.shape"
   ]
  },
  {
   "cell_type": "code",
   "execution_count": null,
   "metadata": {},
   "outputs": [
    {
     "data": {
      "text/plain": [
       "LassoCV(alphas=[1e-05, 0.0001, 0.001, 0.01, 0.1], cv=10, max_iter=100000)"
      ]
     },
     "execution_count": 303,
     "metadata": {},
     "output_type": "execute_result"
    }
   ],
   "source": [
    "fitted_lasso"
   ]
  },
  {
   "cell_type": "code",
   "execution_count": 468,
   "metadata": {},
   "outputs": [
    {
     "data": {
      "image/png": "[encoded data removed]",
      "text/plain": [
       "<Figure size 864x432 with 1 Axes>"
      ]
     },
     "metadata": {
      "needs_background": "light"
     },
     "output_type": "display_data"
    }
   ],
   "source": [
    "fig, ax = plt.subplots(figsize=(12,6))\n",
    "ax.bar(range(31), fitted_lasso.coef_, alpha=0.7)\n",
    "plt.xticks(range(31))\n",
    "\n",
    "# for bars in ax.containers:\n",
    "#     ax.bar_label(bars, fontsize=5)\n",
    "\n",
    "plt.xlabel('Degrees')\n",
    "plt.ylabel('Coefficients')\n",
    "plt.title(\"6.2 Values for each of the model's coefficients\")\n",
    "plt.show();"
   ]
  },
  {
   "cell_type": "markdown",
   "metadata": {},
   "source": [
    "<!-- END QUESTION -->\n",
    "\n",
    "<!-- BEGIN QUESTION -->\n",
    "\n",
    "<!-- BEGIN QUESTION -->\n",
    "\n",
    "<div class='exercise'><b>Q6.3</b></div>"
   ]
  },
  {
   "cell_type": "markdown",
   "metadata": {
    "cell_id": "8a32aef5-65a6-426d-a7ca-1f6fd63b3b16"
   },
   "source": [
    "**Find the most significant degrees**\n",
    "\n",
    "**NOTE: The code for this question has been provided. It can take several minutes to run. Just be sure to answer the interpretation part of the question.**\n",
    "\n",
    "From the previous section, you will now have the `best_alpha` hyperparameter. Now, we will use this best $\\alpha$ value to find the \"most significant\" set of polynomial degrees by using bootstraps.\n",
    "\n",
    "What we mean by this is, for each bootstrap of the data, you will get some set of degrees that are **significant**, as will be indicated by the value of their coefficients. Typically, while using $LASSO$ regularization, we would consider $\\mid\\beta_i\\mid \\gt 0$ as an indication of a particular coefficient's significance. However, for this particular exercise, we are going to use $\\mid\\beta_i\\mid \\gt 0.1$ as our criteria for significance (we have found this $0.1$ threshold to work well when designing this particular problem).\n",
    "\n",
    "Based on this criteria, you will identify which degree coefficients are significant over many bootstrapped iterations with $n=30$ polynomial features and your chosen best $\\alpha$ from Question 6.1.\n",
    "\n",
    "- Use polynomial features with **degree 30**.\n",
    "- Use a dictionary called `significant_degrees` to store a cumulative count for each degree identified as significant during your bootstraps.\n",
    "- Run at least 100 bootstraps of your data.\n",
    "- For each bootstrap:\n",
    "  - Train a `Lasso(...)` model with the `best_alpha` identified in Question 6.1.\n",
    "  - Identify the significant polynomial degree coefficients using $\\mid\\beta_i\\mid \\gt 0.1 $ as our threshold for significance.\n",
    "  - For each significant coefficient, update the count of that degree in your `significant_degrees` dictionary.\n",
    "- Generate a bar plot showing the count for each degree, showing how many times it was identified as significant over your bootstraps.\n",
    "- Based on this plot, there should likely be a clear maximum degree, above which, few if any iterations have been identified as significant. Interpret your bar plot, choose a maximum degree polynomial based upon it, and explain your rationale for choosing that degree.\n",
    "\n",
    "_Points:_ 5"
   ]
  },
  {
   "cell_type": "markdown",
   "metadata": {},
   "source": [
    "- Based on the bar plot, we can see number of times each degree was identified as significant are below degree 11. Since at the 11th degree, there are only a few times. \n",
    "- Therefore the maximum degree polynomial based on the plot is 10. "
   ]
  },
  {
   "cell_type": "code",
   "execution_count": 329,
   "metadata": {
    "cell_id": "1e847ea0-95b4-47fa-8c71-09636de2c913",
    "tags": []
   },
   "outputs": [],
   "source": [
    "# Set bootstrapping parameters\n",
    "numboot = 100\n",
    "\n",
    "max_degree = 30\n",
    "include_bias = False\n",
    "fit_intercept = True\n",
    "max_iter = 100000\n",
    "\n",
    "# Create empty dictionary for storing results\n",
    "significant_degrees = {}\n",
    "\n",
    "# Perform bootstraps\n",
    "df_train = pd.read_csv('data/bacteria_train.csv')\n",
    "for i in range(numboot):\n",
    "    df_boot = df_train.sample(frac=1, replace=True)\n",
    "    x_train_boot = df_boot[[\"Spreading_factor\"]]\n",
    "    x_poly_train = PolynomialFeatures(\n",
    "        max_degree, include_bias=include_bias\n",
    "    ).fit_transform(x_train_boot)\n",
    "    y_train_boot = df_boot.Perc_population\n",
    "\n",
    "    lasso = Lasso(\n",
    "        fit_intercept=fit_intercept,\n",
    "        max_iter=max_iter,\n",
    "        alpha=best_alpha,\n",
    "    )\n",
    "    lasso.fit(x_poly_train, y_train_boot)\n",
    "    \n",
    "    if fit_intercept==True:\n",
    "        coefficients = [lasso.intercept_, *lasso.coef_]\n",
    "    else:\n",
    "        coefficients = lasso.coef_\n",
    "\n",
    "    for i in np.where(np.abs(coefficients)>0.1)[0]:\n",
    "        if i not in significant_degrees.keys():\n",
    "            significant_degrees[i]=1\n",
    "        else:\n",
    "            significant_degrees[i]+=1"
   ]
  },
  {
   "cell_type": "code",
   "execution_count": 330,
   "metadata": {
    "cell_id": "4b9d11b1-bc81-4937-8924-eda535bbe287",
    "tags": []
   },
   "outputs": [
    {
     "data": {
      "image/png": "[encoded data removed]",
      "text/plain": [
       "<Figure size 720x360 with 1 Axes>"
      ]
     },
     "metadata": {
      "needs_background": "light"
     },
     "output_type": "display_data"
    }
   ],
   "source": [
    "fig, ax = plt.subplots(figsize=(10,5))\n",
    "\n",
    "lists = sorted(significant_degrees.items())\n",
    "\n",
    "x, y = zip(*lists)\n",
    "\n",
    "ax.bar(x, y, alpha=0.7)\n",
    "ax.set_xlabel(\"Degree\", fontsize=12)\n",
    "ax.set_ylabel(\"Frequency (counts)\", fontsize=12)\n",
    "ax.set_xticks(range(max_degree+1))\n",
    "ax.set_title(\n",
    "    \"Number of times each degree coefficient was identified as significant at\\n\"\n",
    "    f\"$\\mid\\\\beta_i\\mid > 0.1$ over {numboot} bootstrapped $LASSO$ models \"\n",
    "    f\"with $\\\\alpha={best_alpha}$\",\n",
    "    fontsize=14,\n",
    ")\n",
    "plt.grid(\":\", alpha=0.4)"
   ]
  },
  {
   "cell_type": "markdown",
   "metadata": {},
   "source": [
    "<!-- END QUESTION -->\n",
    "\n",
    "<!-- BEGIN QUESTION -->\n",
    "\n",
    "<!-- BEGIN QUESTION -->\n",
    "\n",
    "<div class='exercise'><b>Q6.4</b></div>"
   ]
  },
  {
   "cell_type": "markdown",
   "metadata": {
    "cell_id": "8a32aef5-65a6-426d-a7ca-1f6fd63b3b16"
   },
   "source": [
    "From our Question 6.3 results, we can see that only some degrees are consistently significant over many bootstraps.\n",
    "\n",
    "- Use polynomial features based on the maximum degree you identified using your results from Question 6.3 (for the sake of simplicity, use all degrees up to that maximum degree as is typically done in polynomial regression).\n",
    "- Train your **LASSO** regularized model using your `best_alpha` hyper-parameter on the entire training set.\n",
    "- Append a new dictionary for this model to your `results` list.\n",
    "\n",
    "_Points:_ 6"
   ]
  },
  {
   "cell_type": "code",
   "execution_count": 242,
   "metadata": {
    "tags": []
   },
   "outputs": [
    {
     "data": {
      "text/plain": [
       "0.01"
      ]
     },
     "execution_count": 242,
     "metadata": {},
     "output_type": "execute_result"
    }
   ],
   "source": [
    "best_alpha "
   ]
  },
  {
   "cell_type": "code",
   "execution_count": 376,
   "metadata": {},
   "outputs": [],
   "source": [
    "df_train = pd.read_csv('data/bacteria_train.csv')\n",
    "df_test = pd.read_csv('data/bacteria_test.csv')\n",
    "x_train = df_train[[\"Spreading_factor\"]]\n",
    "x_test = df_test[[\"Spreading_factor\"]]\n",
    "y_test =df_test['Perc_population']\n",
    "y_train = df_train['Perc_population']\n",
    "x_train = np.array(x_train).reshape(-1,1)\n",
    "x_test = np.array(x_test).reshape(-1,1)"
   ]
  },
  {
   "cell_type": "code",
   "execution_count": 386,
   "metadata": {},
   "outputs": [],
   "source": [
    "best_degree = 10\n",
    "include_bias = False\n",
    "fit_intercept = True\n",
    "max_iter = 100000\n",
    "\n",
    "train_mses =[]\n",
    "test_mses = []\n",
    "lasso_coef = []\n",
    "\n",
    "\n",
    "for d in range(1,best_degree+1):\n",
    "\n",
    "    x_poly_train = PolynomialFeatures(d, include_bias=include_bias).fit_transform(x_train)\n",
    "    x_poly_test = PolynomialFeatures(d, include_bias=include_bias).fit_transform(x_test)\n",
    "\n",
    "    lasso = Lasso(fit_intercept=fit_intercept, max_iter=max_iter, alpha=best_alpha)\n",
    "    lasso.fit(x_poly_train, y_train)\n",
    "    \n",
    "    lasso_coef.append(lasso.coef_)\n",
    "\n",
    "    if fit_intercept==True:\n",
    "        coefficients = [lasso.intercept_, *lasso.coef_]\n",
    "    else:\n",
    "        coefficients = lasso.coef_\n",
    "\n",
    "    y_train_pred = lasso.predict(x_poly_train)\n",
    "    y_test_pred = lasso.predict(x_poly_test)\n",
    "\n",
    "    train_mse = mean_squared_error(y_train, y_train_pred)\n",
    "    test_mse = mean_squared_error(y_test, y_test_pred)\n",
    "    train_mses.append(train_mse)\n",
    "    test_mses.append(test_mse)"
   ]
  },
  {
   "cell_type": "code",
   "execution_count": 387,
   "metadata": {},
   "outputs": [
    {
     "data": {
      "text/plain": [
       "8"
      ]
     },
     "execution_count": 387,
     "metadata": {},
     "output_type": "execute_result"
    }
   ],
   "source": [
    "best_degree_6 = np.argmin(test_mses) + 1\n",
    "best_degree_6"
   ]
  },
  {
   "cell_type": "code",
   "execution_count": 390,
   "metadata": {},
   "outputs": [
    {
     "data": {
      "text/plain": [
       "[3.0998363410461853,\n",
       " 2.661965438917944,\n",
       " 2.65456530634155,\n",
       " 2.5741792442522793,\n",
       " 2.573783599904434,\n",
       " 2.560583851075095,\n",
       " 2.559681780260012,\n",
       " 2.5500752366969666,\n",
       " 2.551062496688519,\n",
       " 2.523310932126468]"
      ]
     },
     "execution_count": 390,
     "metadata": {},
     "output_type": "execute_result"
    }
   ],
   "source": [
    "train_mses[best_degree_6]"
   ]
  },
  {
   "cell_type": "code",
   "execution_count": 394,
   "metadata": {},
   "outputs": [],
   "source": [
    "dict6={}\n",
    "dict6['model']='6.4'\n",
    "dict6['train_mse']=train_mses[7]\n",
    "dict6['test_mse']=min(test_mses)"
   ]
  },
  {
   "cell_type": "code",
   "execution_count": 395,
   "metadata": {},
   "outputs": [],
   "source": [
    "results.append(dict6)"
   ]
  },
  {
   "cell_type": "code",
   "execution_count": 396,
   "metadata": {},
   "outputs": [
    {
     "data": {
      "text/plain": [
       "[{'model': '2.2',\n",
       "  'train_mse': 2.661715130324049,\n",
       "  'test_mse': 2.6748625754403093},\n",
       " {'model': '3.4',\n",
       "  'train_mse': 2.4909456088704403,\n",
       "  'test_mse': 2.736482506408877},\n",
       " {'model': '4.3',\n",
       "  'train_mse': 2.5125174574727875,\n",
       "  'test_mse': 2.613010637353015},\n",
       " {'model': '5.4',\n",
       "  'train_mse': 2.5125174574727875,\n",
       "  'test_mse': 2.613010637353009},\n",
       " {'model': '6.4',\n",
       "  'train_mse': 2.5500752366969666,\n",
       "  'test_mse': 2.590150705206933}]"
      ]
     },
     "execution_count": 396,
     "metadata": {},
     "output_type": "execute_result"
    }
   ],
   "source": [
    "results"
   ]
  },
  {
   "cell_type": "code",
   "execution_count": null,
   "metadata": {
    "deletable": false,
    "editable": false
   },
   "outputs": [],
   "source": [
    "grader.check(\"q6.4\")"
   ]
  },
  {
   "cell_type": "markdown",
   "metadata": {},
   "source": [
    "<!-- END QUESTION -->\n",
    "\n",
    "<!-- BEGIN QUESTION -->\n",
    "\n",
    "<!-- BEGIN QUESTION -->\n",
    "\n",
    "<div class='exercise'><b>Q6.5</b></div>"
   ]
  },
  {
   "cell_type": "markdown",
   "metadata": {
    "cell_id": "8a32aef5-65a6-426d-a7ca-1f6fd63b3b16"
   },
   "source": [
    "- Generate a plot of the data and your regression curve.\n",
    "- Report the polynomial degrees and corresponding coefficients for this fully trained model that have an absolute value greater than 0.1 (i.e. $\\mid\\beta_i\\mid \\gt 0.1 $)\n",
    "- Display `results` as a DataFrame.\n",
    "\n",
    "_Points:_ 6"
   ]
  },
  {
   "cell_type": "code",
   "execution_count": 402,
   "metadata": {
    "tags": []
   },
   "outputs": [
    {
     "data": {
      "text/html": [
       "<div>\n",
       "<style scoped>\n",
       "    .dataframe tbody tr th:only-of-type {\n",
       "        vertical-align: middle;\n",
       "    }\n",
       "\n",
       "    .dataframe tbody tr th {\n",
       "        vertical-align: top;\n",
       "    }\n",
       "\n",
       "    .dataframe thead th {\n",
       "        text-align: right;\n",
       "    }\n",
       "</style>\n",
       "<table border=\"1\" class=\"dataframe\">\n",
       "  <thead>\n",
       "    <tr style=\"text-align: right;\">\n",
       "      <th></th>\n",
       "      <th>model</th>\n",
       "      <th>train_mse</th>\n",
       "      <th>test_mse</th>\n",
       "    </tr>\n",
       "  </thead>\n",
       "  <tbody>\n",
       "    <tr>\n",
       "      <th>0</th>\n",
       "      <td>2.2</td>\n",
       "      <td>2.661715</td>\n",
       "      <td>2.674863</td>\n",
       "    </tr>\n",
       "    <tr>\n",
       "      <th>1</th>\n",
       "      <td>3.4</td>\n",
       "      <td>2.490946</td>\n",
       "      <td>2.736483</td>\n",
       "    </tr>\n",
       "    <tr>\n",
       "      <th>2</th>\n",
       "      <td>4.3</td>\n",
       "      <td>2.512517</td>\n",
       "      <td>2.613011</td>\n",
       "    </tr>\n",
       "    <tr>\n",
       "      <th>3</th>\n",
       "      <td>5.4</td>\n",
       "      <td>2.512517</td>\n",
       "      <td>2.613011</td>\n",
       "    </tr>\n",
       "    <tr>\n",
       "      <th>4</th>\n",
       "      <td>6.4</td>\n",
       "      <td>2.550075</td>\n",
       "      <td>2.590151</td>\n",
       "    </tr>\n",
       "  </tbody>\n",
       "</table>\n",
       "</div>"
      ],
      "text/plain": [
       "  model  train_mse  test_mse\n",
       "0   2.2   2.661715  2.674863\n",
       "1   3.4   2.490946  2.736483\n",
       "2   4.3   2.512517  2.613011\n",
       "3   5.4   2.512517  2.613011\n",
       "4   6.4   2.550075  2.590151"
      ]
     },
     "execution_count": 402,
     "metadata": {},
     "output_type": "execute_result"
    }
   ],
   "source": [
    "pd.DataFrame(results)"
   ]
  },
  {
   "cell_type": "code",
   "execution_count": 397,
   "metadata": {},
   "outputs": [],
   "source": [
    "df_train = pd.read_csv('data/bacteria_train.csv')\n",
    "df_test = pd.read_csv('data/bacteria_test.csv')\n",
    "df_test_sorted = df_test.sort_values(by=['Spreading_factor'])\n",
    "df_train_sorted = df_train.sort_values(by=['Spreading_factor'])\n",
    "x_train = df_train_sorted ['Spreading_factor']\n",
    "x_test = df_test_sorted['Spreading_factor']\n",
    "y_train = df_train_sorted ['Perc_population']\n",
    "y_test = df_test_sorted ['Perc_population']\n",
    "x_train = np.array(x_train).reshape(-1,1)\n",
    "x_test = np.array(x_test).reshape(-1,1)"
   ]
  },
  {
   "cell_type": "code",
   "execution_count": 398,
   "metadata": {},
   "outputs": [],
   "source": [
    "best_degree = best_degree_6\n",
    "include_bias = False\n",
    "fit_intercept = True\n",
    "max_iter = 100000\n",
    "\n",
    "x_poly_train = PolynomialFeatures(best_degree, include_bias=include_bias).fit_transform(x_train)\n",
    "x_poly_test = PolynomialFeatures(best_degree, include_bias=include_bias).fit_transform(x_test)\n",
    "\n",
    "\n",
    "lasso = Lasso(fit_intercept=fit_intercept, max_iter=max_iter, alpha=best_alpha)\n",
    "lasso.fit(x_poly_train, y_train)\n",
    "\n",
    "if fit_intercept==True:\n",
    "    coefficients = [lasso.intercept_, *lasso.coef_]\n",
    "else:\n",
    "    coefficients = lasso.coef_\n",
    "\n",
    "y_train_pred = lasso.predict(x_poly_train)\n",
    "y_test_pred = lasso.predict(x_poly_test)\n",
    "\n",
    "train_mse = mean_squared_error(y_train, y_train_pred)\n",
    "test_mse = mean_squared_error(y_test, y_test_pred)"
   ]
  },
  {
   "cell_type": "code",
   "execution_count": 399,
   "metadata": {},
   "outputs": [
    {
     "data": {
      "image/png": "[encoded data removed]",
      "text/plain": [
       "<Figure size 864x432 with 1 Axes>"
      ]
     },
     "metadata": {
      "needs_background": "light"
     },
     "output_type": "display_data"
    }
   ],
   "source": [
    "fig, ax = plt.subplots(figsize=(12,6))\n",
    "plt.scatter(x_train, y_train, label=\"Training\")\n",
    "plt.plot(x_train, y_train_pred, label=\"Training Predict\")\n",
    "\n",
    "plt.scatter(x_test, y_test, label=\"Testing\")\n",
    "plt.plot(x_test, y_test_pred, label=\"Testing Predict\")\n",
    "plt.legend()\n",
    "plt.xlabel('Spreading Factor')\n",
    "plt.ylabel('Perc Population')\n",
    "plt.title(\"6.4 Train, Test Data, Regression Curve, LASSO\")\n",
    "plt.show();"
   ]
  },
  {
   "cell_type": "code",
   "execution_count": 401,
   "metadata": {},
   "outputs": [
    {
     "data": {
      "text/plain": [
       "[array([1.82730463]),\n",
       " array([1.92595084, 0.69336651]),\n",
       " array([ 2.05000505,  0.68523334, -0.06603262]),\n",
       " array([ 2.09052919,  1.43749156, -0.10482102, -0.26387234]),\n",
       " array([ 2.02746082,  1.44468896, -0.        , -0.26844464, -0.03044216]),\n",
       " array([ 2.04634796,  0.85273648,  0.        ,  0.2852452 , -0.03509923,\n",
       "        -0.12120783]),\n",
       " array([ 2.01395106e+00,  8.40690178e-01,  0.00000000e+00,  2.98160876e-01,\n",
       "         3.13459889e-04, -1.24635933e-01, -1.06241000e-02]),\n",
       " array([ 2.01341651,  0.54533435,  0.        ,  0.76533371,  0.        ,\n",
       "        -0.35658448, -0.01050852,  0.03525171]),\n",
       " array([ 1.97549723,  0.5914269 , -0.        ,  0.68443172, -0.        ,\n",
       "        -0.31213098,  0.00931847,  0.02784689, -0.00581426]),\n",
       " array([ 1.99120342e+00,  0.00000000e+00, -0.00000000e+00,  1.13696202e+00,\n",
       "        -1.40590203e-03,  0.00000000e+00, -0.00000000e+00, -2.72060330e-01,\n",
       "        -2.96030817e-03,  5.40901585e-02])]"
      ]
     },
     "execution_count": 401,
     "metadata": {},
     "output_type": "execute_result"
    }
   ],
   "source": [
    "lasso_coef"
   ]
  },
  {
   "cell_type": "code",
   "execution_count": 405,
   "metadata": {},
   "outputs": [
    {
     "data": {
      "text/plain": [
       "0"
      ]
     },
     "execution_count": 405,
     "metadata": {},
     "output_type": "execute_result"
    }
   ],
   "source": [
    "np.argmax(lasso.coef_)"
   ]
  },
  {
   "cell_type": "markdown",
   "metadata": {},
   "source": [
    "<!-- END QUESTION -->\n",
    "\n",
    "<!-- BEGIN QUESTION -->\n",
    "\n",
    "<!-- BEGIN QUESTION -->\n",
    "\n",
    "<div class='exercise'><b>Q6.6</b></div>"
   ]
  },
  {
   "cell_type": "markdown",
   "metadata": {
    "cell_id": "8a32aef5-65a6-426d-a7ca-1f6fd63b3b16"
   },
   "source": [
    "**What are your observations?**\n",
    "\n",
    "- Compare your `best_degree` from [Question 5](#part5solutions) with your chosen degree in 6.4 above and comment on the difference.\n",
    "- Compare your test $MSE$ in this question with the result from question 5. Which one is smaller, and by how much?\n",
    "- Which degree coefficients in your best fit model from 6.4 are significant? If not all coefficients are significant, why?\n",
    "- Would you expect your current model from 6.4 to be more \"reliable\" or robust than the models in Question 5 and prior? On what basis would you make a claim of its robustness?\n",
    "\n",
    "\n",
    "_Points:_ 6"
   ]
  },
  {
   "cell_type": "code",
   "execution_count": 403,
   "metadata": {},
   "outputs": [
    {
     "data": {
      "text/html": [
       "<div>\n",
       "<style scoped>\n",
       "    .dataframe tbody tr th:only-of-type {\n",
       "        vertical-align: middle;\n",
       "    }\n",
       "\n",
       "    .dataframe tbody tr th {\n",
       "        vertical-align: top;\n",
       "    }\n",
       "\n",
       "    .dataframe thead th {\n",
       "        text-align: right;\n",
       "    }\n",
       "</style>\n",
       "<table border=\"1\" class=\"dataframe\">\n",
       "  <thead>\n",
       "    <tr style=\"text-align: right;\">\n",
       "      <th></th>\n",
       "      <th>model</th>\n",
       "      <th>train_mse</th>\n",
       "      <th>test_mse</th>\n",
       "    </tr>\n",
       "  </thead>\n",
       "  <tbody>\n",
       "    <tr>\n",
       "      <th>0</th>\n",
       "      <td>2.2</td>\n",
       "      <td>2.661715</td>\n",
       "      <td>2.674863</td>\n",
       "    </tr>\n",
       "    <tr>\n",
       "      <th>1</th>\n",
       "      <td>3.4</td>\n",
       "      <td>2.490946</td>\n",
       "      <td>2.736483</td>\n",
       "    </tr>\n",
       "    <tr>\n",
       "      <th>2</th>\n",
       "      <td>4.3</td>\n",
       "      <td>2.512517</td>\n",
       "      <td>2.613011</td>\n",
       "    </tr>\n",
       "    <tr>\n",
       "      <th>3</th>\n",
       "      <td>5.4</td>\n",
       "      <td>2.512517</td>\n",
       "      <td>2.613011</td>\n",
       "    </tr>\n",
       "    <tr>\n",
       "      <th>4</th>\n",
       "      <td>6.4</td>\n",
       "      <td>2.550075</td>\n",
       "      <td>2.590151</td>\n",
       "    </tr>\n",
       "  </tbody>\n",
       "</table>\n",
       "</div>"
      ],
      "text/plain": [
       "  model  train_mse  test_mse\n",
       "0   2.2   2.661715  2.674863\n",
       "1   3.4   2.490946  2.736483\n",
       "2   4.3   2.512517  2.613011\n",
       "3   5.4   2.512517  2.613011\n",
       "4   6.4   2.550075  2.590151"
      ]
     },
     "execution_count": 403,
     "metadata": {},
     "output_type": "execute_result"
    }
   ],
   "source": [
    "pd.DataFrame(results)"
   ]
  },
  {
   "cell_type": "code",
   "execution_count": 406,
   "metadata": {},
   "outputs": [
    {
     "data": {
      "text/plain": [
       "array([ 2.01341651,  0.54533435,  0.        ,  0.76533371,  0.        ,\n",
       "       -0.35658448, -0.01050852,  0.03525171])"
      ]
     },
     "execution_count": 406,
     "metadata": {},
     "output_type": "execute_result"
    }
   ],
   "source": [
    "np.argmax(lasso.coef_)\n",
    "lasso.coef_"
   ]
  },
  {
   "cell_type": "markdown",
   "metadata": {},
   "source": [
    "- Comparing to the plot from 5.4, although the degrees are the same (best degree is 8), the shape of the plots look different. That is because for 6.4 we used the LASSO approach.\n",
    "- Based on the results, we can see the test_mse of 6.4 is around 2.59, and the train_mse of 5.4 is around 2.61, which is a 0.2 decrease. \n",
    "- Based on the exported values of coefficients we can see the first, second, and fourth values are significant. Some of the coefficients are zero, and some are below zero. That is because we are using LASSO for this section\n",
    "- The current model is more robust becuase for this section we are using LASSO which eliminate lots of unnecessary information from the model"
   ]
  },
  {
   "cell_type": "markdown",
   "metadata": {
    "cell_id": "fe903f84-5847-4e97-95c5-4424e57a375c",
    "tags": []
   },
   "source": [
    "<!-- END QUESTION -->\n",
    "\n",
    "<a id=\"part7\"></a>\n",
    "\n",
    "## <div class='exercise'>Question 7: Analyze your best test MSEs for each sub section of the homework [6 pts]</div> \n",
    "\n",
    "[Return to contents](#contents)"
   ]
  },
  {
   "cell_type": "markdown",
   "metadata": {},
   "source": [
    "<!-- BEGIN QUESTION -->\n",
    "\n",
    "<!-- BEGIN QUESTION -->\n",
    "\n",
    "<div class='exercise'><b>Q7.1</b></div>"
   ]
  },
  {
   "cell_type": "markdown",
   "metadata": {
    "cell_id": "fe903f84-5847-4e97-95c5-4424e57a375c",
    "tags": []
   },
   "source": [
    "Using the `results` list, generate a bar plot illustrating the test $MSE$ values for each of the models. Display `results` as a Dataframe as well.\n",
    "\n",
    "_Points:_ 3"
   ]
  },
  {
   "cell_type": "code",
   "execution_count": 410,
   "metadata": {
    "cell_id": "6a95aee4-794c-4c64-814f-2c6409017f10",
    "tags": []
   },
   "outputs": [
    {
     "data": {
      "text/html": [
       "<div>\n",
       "<style scoped>\n",
       "    .dataframe tbody tr th:only-of-type {\n",
       "        vertical-align: middle;\n",
       "    }\n",
       "\n",
       "    .dataframe tbody tr th {\n",
       "        vertical-align: top;\n",
       "    }\n",
       "\n",
       "    .dataframe thead th {\n",
       "        text-align: right;\n",
       "    }\n",
       "</style>\n",
       "<table border=\"1\" class=\"dataframe\">\n",
       "  <thead>\n",
       "    <tr style=\"text-align: right;\">\n",
       "      <th></th>\n",
       "      <th>model</th>\n",
       "      <th>train_mse</th>\n",
       "      <th>test_mse</th>\n",
       "    </tr>\n",
       "  </thead>\n",
       "  <tbody>\n",
       "    <tr>\n",
       "      <th>0</th>\n",
       "      <td>2.2</td>\n",
       "      <td>2.661715</td>\n",
       "      <td>2.674863</td>\n",
       "    </tr>\n",
       "    <tr>\n",
       "      <th>1</th>\n",
       "      <td>3.4</td>\n",
       "      <td>2.490946</td>\n",
       "      <td>2.736483</td>\n",
       "    </tr>\n",
       "    <tr>\n",
       "      <th>2</th>\n",
       "      <td>4.3</td>\n",
       "      <td>2.512517</td>\n",
       "      <td>2.613011</td>\n",
       "    </tr>\n",
       "    <tr>\n",
       "      <th>3</th>\n",
       "      <td>5.4</td>\n",
       "      <td>2.512517</td>\n",
       "      <td>2.613011</td>\n",
       "    </tr>\n",
       "    <tr>\n",
       "      <th>4</th>\n",
       "      <td>6.4</td>\n",
       "      <td>2.550075</td>\n",
       "      <td>2.590151</td>\n",
       "    </tr>\n",
       "  </tbody>\n",
       "</table>\n",
       "</div>"
      ],
      "text/plain": [
       "  model  train_mse  test_mse\n",
       "0   2.2   2.661715  2.674863\n",
       "1   3.4   2.490946  2.736483\n",
       "2   4.3   2.512517  2.613011\n",
       "3   5.4   2.512517  2.613011\n",
       "4   6.4   2.550075  2.590151"
      ]
     },
     "execution_count": 410,
     "metadata": {},
     "output_type": "execute_result"
    }
   ],
   "source": [
    "results_df = pd.DataFrame(results)\n",
    "results_df"
   ]
  },
  {
   "cell_type": "code",
   "execution_count": 413,
   "metadata": {},
   "outputs": [
    {
     "data": {
      "image/png": "[encoded data removed]",
      "text/plain": [
       "<Figure size 720x360 with 1 Axes>"
      ]
     },
     "metadata": {
      "needs_background": "light"
     },
     "output_type": "display_data"
    }
   ],
   "source": [
    "fig, ax = plt.subplots(figsize=(10,5))\n",
    "ax.bar(results_df['model'], results_df['test_mse'], alpha=0.7)\n",
    "ax.set_xlabel(\"Model\", fontsize=12)\n",
    "ax.set_ylabel(\"Test MSE\", fontsize=12)\n",
    "ax.set_title(\"Results\")\n",
    "plt.grid(\":\", alpha=0.4)\n",
    "for bars in ax.containers:\n",
    "    ax.bar_label(bars)"
   ]
  },
  {
   "cell_type": "markdown",
   "metadata": {},
   "source": [
    "<!-- END QUESTION -->\n",
    "\n",
    "<!-- BEGIN QUESTION -->\n",
    "\n",
    "<!-- BEGIN QUESTION -->\n",
    "\n",
    "<div class='exercise'><b>Q7.2</b></div>"
   ]
  },
  {
   "cell_type": "markdown",
   "metadata": {
    "cell_id": "fe903f84-5847-4e97-95c5-4424e57a375c",
    "tags": []
   },
   "source": [
    "Which model do you think is best, and why? What are some of that model's drawbacks compared to the other models? \n",
    "\n",
    "_Points:_ 3"
   ]
  },
  {
   "cell_type": "markdown",
   "metadata": {},
   "source": [
    "Based on the plot from the bar chart, we can see model 6.4 has the lowest Test MSE compared to all the other model. \n",
    "Based on the dataframe of results, on the other hand, we can see, model 3.4 has the lowest train mse yet the highest test mse. \n",
    "\n",
    "- model 2: guesstimated degree (2), is biased\n",
    "- model 3: validation, has the chance of overfitting\n",
    "- model 4: k fold cross validation, , has the chance of overfitting\n",
    "- Model 5: cross validation and bootstrap, has the chance of overfitting\n",
    "- model 6: LASSO reuglarization to improve consistency, more consistency"
   ]
  },
  {
   "cell_type": "markdown",
   "metadata": {},
   "source": [
    "<!-- END QUESTION -->\n",
    "\n",
    "**This concludes HW3. Thank you!**\n",
    "\n",
    "[Return to contents](#contents)"
   ]
  }
 ],
 "metadata": {
  "colab": {
   "collapsed_sections": [],
   "name": "Homework2.ipynb",
   "provenance": []
  },
  "deepnote_execution_queue": [
   {
    "cellId": "7925de61-e041-437e-ba6b-b1c3e1b2fb0c",
    "msgId": "81bcbf6f-fa59-42e6-9480-bc996bae8f99",
    "sessionId": "e7116124-0a70-4245-961a-e0041ff25d29"
   },
   {
    "cellId": "32ac05dc-6db8-4c64-8028-4a6e4c16ec1c",
    "msgId": "17b61e3a-31e9-45e0-b1c8-cba828b9a48d",
    "sessionId": "e7116124-0a70-4245-961a-e0041ff25d29"
   },
   {
    "cellId": "9e4ea6c6-2cb0-4aa1-b5bf-67be3a47ac87",
    "msgId": "66b23ef4-2198-4543-a34e-3b998d83f1c7",
    "sessionId": "e7116124-0a70-4245-961a-e0041ff25d29"
   },
   {
    "cellId": "0cdef907-9d0f-4057-a70b-71022017e321",
    "msgId": "125b9c17-7ffa-4214-9ca2-27e9e34df7c7",
    "sessionId": "e7116124-0a70-4245-961a-e0041ff25d29"
   },
   {
    "cellId": "2eefd92c-1d9f-49fe-a7f7-d7f0f4f59e95",
    "msgId": "81a1b165-ee3a-4ab0-afff-99f4dfa74eef",
    "sessionId": "e7116124-0a70-4245-961a-e0041ff25d29"
   },
   {
    "cellId": "40b93f58-240f-49bc-ab9c-a919d74b8e61",
    "msgId": "4b00a64e-a71b-4cf9-a228-cbabdbee0414",
    "sessionId": "e7116124-0a70-4245-961a-e0041ff25d29"
   },
   {
    "cellId": "2f3d3efa-8220-44b2-afbf-9600c2fea073",
    "msgId": "5bdcc501-f577-4908-9e85-aa52b44f652f",
    "sessionId": "e7116124-0a70-4245-961a-e0041ff25d29"
   },
   {
    "cellId": "2f3d3efa-8220-44b2-afbf-9600c2fea073",
    "msgId": "96fa923e-991c-409f-954b-1a9d036a7f0a",
    "sessionId": "e7116124-0a70-4245-961a-e0041ff25d29"
   },
   {
    "cellId": "cc0c9423-6587-41fb-88c4-5e7db61d7791",
    "msgId": "c4775dd8-e4e3-4505-865a-d2b54022e97c",
    "sessionId": "e7116124-0a70-4245-961a-e0041ff25d29"
   },
   {
    "cellId": "4f9d6f96-a6b7-4951-a98a-f29e0351a113",
    "msgId": "2721b704-5efa-4783-a128-ea0b813e202f",
    "sessionId": "e7116124-0a70-4245-961a-e0041ff25d29"
   },
   {
    "cellId": "4f9d6f96-a6b7-4951-a98a-f29e0351a113",
    "msgId": "14cd3ada-ede8-4693-b8ce-b1254e5357cb",
    "sessionId": "e7116124-0a70-4245-961a-e0041ff25d29"
   },
   {
    "cellId": "1e847ea0-95b4-47fa-8c71-09636de2c913",
    "msgId": "a53842aa-e7d2-4787-a474-04717a13bf12",
    "sessionId": "e7116124-0a70-4245-961a-e0041ff25d29"
   },
   {
    "cellId": "4b9d11b1-bc81-4937-8924-eda535bbe287",
    "msgId": "f9fa1ff3-ed3e-4876-8bb3-239ee4ec0279",
    "sessionId": "e7116124-0a70-4245-961a-e0041ff25d29"
   },
   {
    "cellId": "8e836c0a-f87f-43f5-9448-838d0028b904",
    "msgId": "f7641d44-aaf7-4676-bbd4-439a47d4db1f",
    "sessionId": "e7116124-0a70-4245-961a-e0041ff25d29"
   },
   {
    "cellId": "c72943b7-5e58-4fe3-9225-fa0beeff3654",
    "msgId": "1878748e-321b-484f-bee1-344ec8caf68e",
    "sessionId": "e7116124-0a70-4245-961a-e0041ff25d29"
   },
   {
    "cellId": "c4bd7d98-380a-4853-8114-51d41f0cfd95",
    "msgId": "af49c97c-7c7c-4b0c-9543-5c38d238fffb",
    "sessionId": "e7116124-0a70-4245-961a-e0041ff25d29"
   },
   {
    "cellId": "c4bd7d98-380a-4853-8114-51d41f0cfd95",
    "msgId": "691b283d-e47a-4686-9e73-4f457365a32a",
    "sessionId": "e7116124-0a70-4245-961a-e0041ff25d29"
   }
  ],
  "deepnote_notebook_id": "80dec77d-caa5-42a3-a211-a1492a1ab3e6",
  "kernelspec": {
   "display_name": "Python 3 (ipykernel)",
   "language": "python",
   "name": "python3"
  },
  "language_info": {
   "codemirror_mode": {
    "name": "ipython",
    "version": 3
   },
   "file_extension": ".py",
   "mimetype": "text/x-python",
   "name": "python",
   "nbconvert_exporter": "python",
   "pygments_lexer": "ipython3",
   "version": "3.9.12"
  },
  "otter": {
   "OK_FORMAT": true,
   "tests": {
    "q2.1": {
     "name": "q2.1",
     "points": 2,
     "suites": [
      {
       "cases": [
        {
         "code": ">>> assert type(guessed_deg) == int, \"guessed_deg should be an integer\"\n>>> assert type(x_poly_train) == np.ndarray, \"x_poly_train should be a numpy array\"\n>>> assert type(x_poly_test) == np.ndarray, \"x_poly_test should be a numpy array\"\n>>> assert x_poly_train.shape[1] == guessed_deg,\\\n...     \"Your train design matrix should have the same number of columns as guessed_deg\"\n>>> assert x_poly_test.shape[1] == guessed_deg,\\\n...     \"Your test design matrix should have the same number of columns as guessed_deg\"\n",
         "hidden": false,
         "locked": false
        }
       ],
       "scored": true,
       "setup": "",
       "teardown": "",
       "type": "doctest"
      }
     ]
    },
    "q2.2": {
     "name": "q2.2",
     "points": 2,
     "suites": [
      {
       "cases": [
        {
         "code": ">>> assert type(results) == list, \"results should be a list of dictionaries\"\n>>> assert all([type(x) == dict for x in results]), \"results should be a list of dictionaries\"\n>>> assert all([k in ['model', 'train_mse', 'test_mse'] for k in results[0].keys()]),\\\n...             \"The dictionary in your results list should have the keys: 'model', 'train_mse', 'test_mse'.\"\n>>> assert isinstance(results[0]['train_mse'], float),  \"'train_mse' should be a float\"\n>>> assert isinstance(results[0]['test_mse'], float),  \"'test_mse' should be a float\"\n>>> assert results[0]['model'] == '2.2',  \"'The model name in your first result dictionary should be '2.2' (a string)\"\n",
         "hidden": false,
         "locked": false
        }
       ],
       "scored": true,
       "setup": "",
       "teardown": "",
       "type": "doctest"
      }
     ]
    },
    "q3.1": {
     "name": "q3.1",
     "points": 1,
     "suites": [
      {
       "cases": [
        {
         "code": ">>> assert x_train80.shape == (338,1),\\\n...     \"Your new x_train80 should be 80% the size of the original x_train and should be 2-dimensional.\"+\\\n...     \" (reshape might help)\"\n>>> assert y_train80.size == 338, \"Your new y_train80 should be 80% the size of the original y_train.\"\n>>> assert x_val.shape == (85,1), \"x_val should be 20% the size of the original x_train and should be 2-dimensional.\"+\\\n...     \" (reshape might help)\"\n>>> assert y_val.size == 85, \"Your new y_val should be 20% the size of the original training set.\"\n",
         "hidden": false,
         "locked": false
        }
       ],
       "scored": true,
       "setup": "",
       "teardown": "",
       "type": "doctest"
      }
     ]
    },
    "q3.2": {
     "name": "q3.2",
     "points": 2,
     "suites": [
      {
       "cases": [
        {
         "code": ">>> assert (type(train_mses) == list) and len(train_mses) == 30, \"`train_mses` should be a list with 30 elements\"\n>>> assert (type(val_mses) == list) and len(val_mses) == 30, \"`val_mses` should be a list with 30 elements\"\n>>> assert all([isinstance(x, float) for x in train_mses]), \"All train MSE values should be floats.\"\n>>> assert all([isinstance(x, float) for x in val_mses]), \"All validation MSE values should be floats.\"\n",
         "hidden": false,
         "locked": false
        }
       ],
       "scored": true,
       "setup": "",
       "teardown": "",
       "type": "doctest"
      }
     ]
    },
    "q3.4": {
     "name": "q3.4",
     "points": 3,
     "suites": [
      {
       "cases": [
        {
         "code": ">>> assert all([k in ['model', 'train_mse', 'test_mse'] for k in results[1].keys()]),\\\n...             \"The 2nd dictionary in your results list should have the keys: 'model', 'train_mse', 'test_mse'.\"\n>>> assert isinstance(results[1]['train_mse'], float),  \"'train_mse' should be a float\"\n>>> assert isinstance(results[1]['test_mse'], float),  \"'test_mse' should be a float\"\n>>> assert results[1]['model'] == '3.4',  \"'The model name in your 2nd result dictionary should be '3.4' (a string)\"\n",
         "hidden": false,
         "locked": false
        }
       ],
       "scored": true,
       "setup": "",
       "teardown": "",
       "type": "doctest"
      }
     ]
    },
    "q4.1": {
     "name": "q4.1",
     "points": 4,
     "suites": [
      {
       "cases": [
        {
         "code": ">>> assert (type(train_mses_mean) == list) and (len(train_mses_mean) == 30),\\\n...     \"train_mses_mean should be a list with 30 elements (one for each degree fit)\"\n>>> assert all([isinstance(x, float) for x in train_mses_mean]), \"All elements of train_mses_mean should be floats.\"\n>>> assert (type(val_mses_mean) == list) and len(val_mses_mean) == 30,\\\n...     \"val_mses_mean should be a list with 30 elements (one for each degree fit)\"\n>>> assert all([isinstance(x, float) for x in val_mses_mean]), \"All elements of val_mses_mean should be floats.\"\n>>> assert (type(val_mses_std) == list) and len(val_mses_std) == 30,\\\n...     \"val_mses_std should be a list with 30 elements (one for each degree fit)\"\n>>> assert all([isinstance(x, float) for x in val_mses_std]), \"All elements of val_mses_std should be floats.\"\n",
         "hidden": false,
         "locked": false
        }
       ],
       "scored": true,
       "setup": "",
       "teardown": "",
       "type": "doctest"
      }
     ]
    },
    "q4.3": {
     "name": "q4.3",
     "points": 4,
     "suites": [
      {
       "cases": [
        {
         "code": ">>> assert all([k in ['model', 'train_mse', 'test_mse'] for k in results[2].keys()]),\\\n...             \"The 3rd dictionary in your results list should have the keys: 'model', 'train_mse', 'test_mse'.\"\n>>> assert isinstance(results[2]['train_mse'], float),  \"'train_mse' should be a float\"\n>>> assert isinstance(results[2]['test_mse'], float),  \"'test_mse' should be a float\"\n>>> assert results[2]['model'] == '4.3',  \"'The model name in your 3rd result dictionary should be '4.3' (a string)\"\n",
         "hidden": false,
         "locked": false
        }
       ],
       "scored": true,
       "setup": "",
       "teardown": "",
       "type": "doctest"
      }
     ]
    },
    "q5.1": {
     "name": "q5.1",
     "points": 4,
     "suites": [
      {
       "cases": [
        {
         "code": ">>> assert (type(best_degrees) == list) and (len(best_degrees) == 100),\\\n...     \"best_degrees should be a list with 100 elements (one for each bootstrap).\"\n>>> assert all([isinstance(x, int) for x in best_degrees]),\\\n...     \"All elements of best_degrees should be integers.\"\n",
         "hidden": false,
         "locked": false
        }
       ],
       "scored": true,
       "setup": "",
       "teardown": "",
       "type": "doctest"
      }
     ]
    },
    "q5.4": {
     "name": "q5.4",
     "points": 3,
     "suites": [
      {
       "cases": [
        {
         "code": ">>> assert all([k in ['model', 'train_mse', 'test_mse'] for k in results[3].keys()]),\\\n...             \"The 4th dictionary in your results list should have the keys: 'model', 'train_mse', 'test_mse'.\"\n>>> assert isinstance(results[3]['train_mse'], float),  \"'train_mse' should be a float\"\n>>> assert isinstance(results[3]['test_mse'], float),  \"'test_mse' should be a float\"\n>>> assert results[3]['model'] == '5.4',  \"'The model name in your 4th result dictionary should be '5.4' (a string)\"\n",
         "hidden": false,
         "locked": false
        }
       ],
       "scored": true,
       "setup": "",
       "teardown": "",
       "type": "doctest"
      }
     ]
    },
    "q6.1": {
     "name": "q6.1",
     "points": 5,
     "suites": [
      {
       "cases": [
        {
         "code": ">>> assert len(lassoCV_val_mses_mean) == 5, \"You should have 5 mean val MSEs (one for each candidate alpha\" \n>>> assert isinstance(best_alpha, float), \"best_alpha should be a float\"\n",
         "hidden": false,
         "locked": false
        }
       ],
       "scored": true,
       "setup": "",
       "teardown": "",
       "type": "doctest"
      }
     ]
    },
    "q6.4": {
     "name": "q6.4",
     "points": 6,
     "suites": [
      {
       "cases": [
        {
         "code": ">>> assert all([k in ['model', 'train_mse', 'test_mse'] for k in results[4].keys()]),\\\n...             \"The 5th dictionary in your results list should have the keys: 'model', 'train_mse', 'test_mse'.\"\n>>> assert isinstance(results[4]['train_mse'], float),  \"'train_mse' should be a float\"\n>>> assert isinstance(results[4]['test_mse'], float),  \"'test_mse' should be a float\"\n>>> assert results[4]['model'] == '6.4',  \"'The model name in your 5th result dictionary should be '6.4' (a string)\"\n",
         "hidden": false,
         "locked": false
        }
       ],
       "scored": true,
       "setup": "",
       "teardown": "",
       "type": "doctest"
      }
     ]
    }
   }
  }
 },
 "nbformat": 4,
 "nbformat_minor": 4
}
